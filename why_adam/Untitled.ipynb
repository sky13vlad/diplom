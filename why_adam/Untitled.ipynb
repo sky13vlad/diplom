{
 "cells": [
  {
   "cell_type": "code",
   "execution_count": 217,
   "metadata": {
    "collapsed": false
   },
   "outputs": [],
   "source": [
    "import numpy as np\n",
    "import matplotlib.pyplot as plt\n",
    "import lasagne\n",
    "import imp\n",
    "import shallow_mnist\n",
    "from collections import OrderedDict\n",
    "import theano\n",
    "import theano.tensor as T\n",
    "from lasagne import utils"
   ]
  },
  {
   "cell_type": "code",
   "execution_count": 43,
   "metadata": {
    "collapsed": false
   },
   "outputs": [],
   "source": [
    "def make_seed():\n",
    "    np.random.seed(42)\n",
    "    lasagne.random.set_rng(np.random)"
   ]
  },
  {
   "cell_type": "markdown",
   "metadata": {},
   "source": [
    "### Adam update"
   ]
  },
  {
   "cell_type": "code",
   "execution_count": 243,
   "metadata": {
    "collapsed": false,
    "scrolled": true
   },
   "outputs": [
    {
     "name": "stdout",
     "output_type": "stream",
     "text": [
      "2\n",
      "CPU times: user 6min 26s, sys: 5min 37s, total: 12min 4s\n",
      "Wall time: 1min 34s\n"
     ]
    }
   ],
   "source": [
    "%%time\n",
    "imp.reload(shallow_mnist)\n",
    "make_seed()\n",
    "test_adam_999 = shallow_mnist.run_method(shallow_mnist.adam_update2, num_epochs=50, echo=False, BN=False, alpha=1e-3, \n",
    "                                         beta2=0.999)"
   ]
  },
  {
   "cell_type": "code",
   "execution_count": 244,
   "metadata": {
    "collapsed": false
   },
   "outputs": [
    {
     "name": "stdout",
     "output_type": "stream",
     "text": [
      "2\n",
      "CPU times: user 11min 7s, sys: 17min 58s, total: 29min 5s\n",
      "Wall time: 3min 48s\n"
     ]
    }
   ],
   "source": [
    "%%time\n",
    "imp.reload(shallow_mnist)\n",
    "make_seed()\n",
    "test_bn_adam_999 = shallow_mnist.run_method(shallow_mnist.adam_update2, num_epochs=50, echo=False, BN=True, alpha=1e-3, \n",
    "                                            beta2=0.999)"
   ]
  },
  {
   "cell_type": "code",
   "execution_count": null,
   "metadata": {
    "collapsed": true
   },
   "outputs": [],
   "source": []
  },
  {
   "cell_type": "code",
   "execution_count": 245,
   "metadata": {
    "collapsed": false
   },
   "outputs": [
    {
     "name": "stdout",
     "output_type": "stream",
     "text": [
      "2\n",
      "CPU times: user 7min 19s, sys: 6min, total: 13min 20s\n",
      "Wall time: 1min 43s\n"
     ]
    }
   ],
   "source": [
    "%%time\n",
    "imp.reload(shallow_mnist)\n",
    "make_seed()\n",
    "test_adam_99 = shallow_mnist.run_method(shallow_mnist.adam_update2, num_epochs=50, echo=False, BN=False, alpha=1e-3, \n",
    "                                         beta2=0.99)"
   ]
  },
  {
   "cell_type": "code",
   "execution_count": 246,
   "metadata": {
    "collapsed": false
   },
   "outputs": [
    {
     "name": "stdout",
     "output_type": "stream",
     "text": [
      "2\n",
      "CPU times: user 11min 6s, sys: 17min 25s, total: 28min 31s\n",
      "Wall time: 3min 41s\n"
     ]
    }
   ],
   "source": [
    "%%time\n",
    "imp.reload(shallow_mnist)\n",
    "make_seed()\n",
    "test_bn_adam_99 = shallow_mnist.run_method(shallow_mnist.adam_update2, num_epochs=50, echo=False, BN=True, alpha=1e-3, \n",
    "                                            beta2=0.99)"
   ]
  },
  {
   "cell_type": "code",
   "execution_count": null,
   "metadata": {
    "collapsed": true
   },
   "outputs": [],
   "source": []
  },
  {
   "cell_type": "code",
   "execution_count": 247,
   "metadata": {
    "collapsed": false
   },
   "outputs": [
    {
     "name": "stdout",
     "output_type": "stream",
     "text": [
      "2\n",
      "CPU times: user 7min 21s, sys: 6min, total: 13min 21s\n",
      "Wall time: 1min 43s\n"
     ]
    }
   ],
   "source": [
    "%%time\n",
    "imp.reload(shallow_mnist)\n",
    "make_seed()\n",
    "test_adam_9 = shallow_mnist.run_method(shallow_mnist.adam_update2, num_epochs=50, echo=False, BN=False, alpha=1e-3, \n",
    "                                         beta2=0.9)"
   ]
  },
  {
   "cell_type": "code",
   "execution_count": 248,
   "metadata": {
    "collapsed": false
   },
   "outputs": [
    {
     "name": "stdout",
     "output_type": "stream",
     "text": [
      "2\n",
      "CPU times: user 11min 3s, sys: 18min 31s, total: 29min 35s\n",
      "Wall time: 3min 55s\n"
     ]
    }
   ],
   "source": [
    "%%time\n",
    "imp.reload(shallow_mnist)\n",
    "make_seed()\n",
    "test_bn_adam_9 = shallow_mnist.run_method(shallow_mnist.adam_update2, num_epochs=50, echo=False, BN=True, alpha=1e-3, \n",
    "                                            beta2=0.9)"
   ]
  },
  {
   "cell_type": "code",
   "execution_count": null,
   "metadata": {
    "collapsed": true
   },
   "outputs": [],
   "source": []
  },
  {
   "cell_type": "code",
   "execution_count": 162,
   "metadata": {
    "collapsed": false
   },
   "outputs": [
    {
     "name": "stdout",
     "output_type": "stream",
     "text": [
      "2\n",
      "CPU times: user 7min 18s, sys: 6min 1s, total: 13min 20s\n",
      "Wall time: 1min 43s\n"
     ]
    }
   ],
   "source": [
    "%%time\n",
    "imp.reload(shallow_mnist)\n",
    "make_seed()\n",
    "test_rmsprop = shallow_mnist.run_method(rmsprop_update, num_epochs=50, echo=False, BN=False, alpha=1e-3)"
   ]
  },
  {
   "cell_type": "code",
   "execution_count": 163,
   "metadata": {
    "collapsed": false
   },
   "outputs": [
    {
     "name": "stdout",
     "output_type": "stream",
     "text": [
      "2\n",
      "CPU times: user 11min 5s, sys: 17min 21s, total: 28min 26s\n",
      "Wall time: 3min 42s\n"
     ]
    }
   ],
   "source": [
    "%%time\n",
    "imp.reload(shallow_mnist)\n",
    "make_seed()\n",
    "test_bn_rmsprop = shallow_mnist.run_method(rmsprop_update, num_epochs=50, echo=False, BN=True, alpha=1e-3)"
   ]
  },
  {
   "cell_type": "code",
   "execution_count": null,
   "metadata": {
    "collapsed": true
   },
   "outputs": [],
   "source": []
  },
  {
   "cell_type": "code",
   "execution_count": 251,
   "metadata": {
    "collapsed": true
   },
   "outputs": [],
   "source": [
    "plt.plot(test_adam_9['val_acc'], 'b')\n",
    "plt.plot(test_bn_adam_9['val_acc'], 'r')\n",
    "plt.plot(test_adam_9['train_acc'], 'b--')\n",
    "plt.plot(test_bn_adam_9['train_acc'], 'r--')\n",
    "plt.ylim(ymax=100.5)\n",
    "plt.xlim(xmax=49)\n",
    "plt.legend(['Adam validation', 'BN Adam validation', 'Adam train', 'BN Adam train'], loc=0, fontsize=12)\n",
    "plt.title('Adam, beta2=0.9, sqrt(x + 1e-6)')\n",
    "plt.show()"
   ]
  },
  {
   "cell_type": "code",
   "execution_count": 180,
   "metadata": {
    "collapsed": true
   },
   "outputs": [],
   "source": [
    "plt.plot(test_adam0_1['val_acc'], 'b')\n",
    "plt.plot(test_adam0_2['val_acc'], 'g')\n",
    "plt.plot(test_adam0_3['val_acc'], 'k')\n",
    "plt.plot(test_adam0_4['val_acc'], 'r')\n",
    "plt.legend(['sqrt(x) + 1e-8', 'sqrt(x) + 1e-6', 'sqrt(x + 1e-8)', 'sqrt(x + 1e-6)'], loc=0, fontsize=12)\n",
    "plt.xlabel('epochs')\n",
    "plt.ylabel('accuracy')\n",
    "plt.title('Adam, beta1=0.9, alpha=1e-3')\n",
    "plt.xlim(xmax=49)\n",
    "plt.show()"
   ]
  },
  {
   "cell_type": "markdown",
   "metadata": {},
   "source": [
    "### ================================================================================="
   ]
  },
  {
   "cell_type": "code",
   "execution_count": null,
   "metadata": {
    "collapsed": true
   },
   "outputs": [],
   "source": []
  },
  {
   "cell_type": "code",
   "execution_count": 10,
   "metadata": {
    "collapsed": false
   },
   "outputs": [
    {
     "name": "stdout",
     "output_type": "stream",
     "text": [
      "2\n",
      "CPU times: user 10min 51s, sys: 16min 13s, total: 27min 4s\n",
      "Wall time: 3min 30s\n"
     ]
    }
   ],
   "source": [
    "%%time\n",
    "imp.reload(shallow_mnist)\n",
    "bn_adam = shallow_mnist.run_method(lasagne.updates.adam, num_epochs=50, echo=False, BN=True, alpha=1e-3)"
   ]
  },
  {
   "cell_type": "code",
   "execution_count": 11,
   "metadata": {
    "collapsed": false
   },
   "outputs": [],
   "source": [
    "plt.plot(bn_adam['train_acc'], 'r--')\n",
    "plt.plot(bn_adam['val_acc'], 'r')\n",
    "plt.ylim(ymax=100.1)\n",
    "plt.xlabel('epochs')\n",
    "plt.ylabel('accuracy')\n",
    "plt.legend(['BN Adam train', 'BN Adam validation'], loc=0, fontsize=12)\n",
    "plt.title('3 HL by 100, alpha = 1e-3')\n",
    "plt.xlim(xmax=len(bn_adam['train_acc']) - 1)\n",
    "plt.show()"
   ]
  },
  {
   "cell_type": "markdown",
   "metadata": {},
   "source": [
    "### RMSProp"
   ]
  },
  {
   "cell_type": "code",
   "execution_count": 68,
   "metadata": {
    "collapsed": false
   },
   "outputs": [
    {
     "name": "stdout",
     "output_type": "stream",
     "text": [
      "2\n",
      "CPU times: user 10min 51s, sys: 18min 17s, total: 29min 9s\n",
      "Wall time: 3min 52s\n"
     ]
    }
   ],
   "source": [
    "%%time\n",
    "make_seed()\n",
    "imp.reload(shallow_mnist)\n",
    "bn_rmsprop1 = shallow_mnist.run_method(lasagne.updates.rmsprop, num_epochs=50, echo=False, BN=True, alpha=1e-1)"
   ]
  },
  {
   "cell_type": "code",
   "execution_count": 47,
   "metadata": {
    "collapsed": false
   },
   "outputs": [
    {
     "name": "stdout",
     "output_type": "stream",
     "text": [
      "2\n",
      "CPU times: user 10min 49s, sys: 17min 5s, total: 27min 54s\n",
      "Wall time: 3min 38s\n"
     ]
    }
   ],
   "source": [
    "%%time\n",
    "make_seed()\n",
    "imp.reload(shallow_mnist)\n",
    "bn_rmsprop2 = shallow_mnist.run_method(lasagne.updates.rmsprop, num_epochs=50, echo=False, BN=True, alpha=1e-2)"
   ]
  },
  {
   "cell_type": "code",
   "execution_count": 48,
   "metadata": {
    "collapsed": false
   },
   "outputs": [
    {
     "name": "stdout",
     "output_type": "stream",
     "text": [
      "2\n",
      "CPU times: user 11min 15s, sys: 17min 19s, total: 28min 35s\n",
      "Wall time: 3min 42s\n"
     ]
    }
   ],
   "source": [
    "%%time\n",
    "make_seed()\n",
    "imp.reload(shallow_mnist)\n",
    "bn_rmsprop3 = shallow_mnist.run_method(lasagne.updates.rmsprop, num_epochs=50, echo=False, BN=True, alpha=1e-3)"
   ]
  },
  {
   "cell_type": "code",
   "execution_count": 73,
   "metadata": {
    "collapsed": true
   },
   "outputs": [],
   "source": [
    "plt.plot(bn_rmsprop1['val_acc'], 'k')\n",
    "plt.plot(bn_rmsprop2['val_acc'], 'r')\n",
    "plt.plot(bn_rmsprop3['val_acc'], 'b')\n",
    "plt.legend(['RMSProp 1e-1', 'RMSProp 1e-2', 'RMSProp 1e-3'], loc=0, fontsize=12)\n",
    "plt.xlabel('epochs')\n",
    "plt.ylabel('accuracy')\n",
    "plt.title('Validation')\n",
    "plt.xlim(xmax=49)\n",
    "plt.show()"
   ]
  },
  {
   "cell_type": "code",
   "execution_count": 49,
   "metadata": {
    "collapsed": false
   },
   "outputs": [
    {
     "name": "stdout",
     "output_type": "stream",
     "text": [
      "2\n",
      "CPU times: user 10min 7s, sys: 15min 33s, total: 25min 41s\n",
      "Wall time: 3min 20s\n"
     ]
    }
   ],
   "source": [
    "%%time\n",
    "make_seed()\n",
    "imp.reload(shallow_mnist)\n",
    "bn_adam03 = shallow_mnist.run_method(lasagne.updates.adam, num_epochs=50, echo=False, BN=True, alpha=1e-3, beta1=0)"
   ]
  },
  {
   "cell_type": "code",
   "execution_count": 50,
   "metadata": {
    "collapsed": false
   },
   "outputs": [
    {
     "name": "stdout",
     "output_type": "stream",
     "text": [
      "2\n",
      "CPU times: user 11min 2s, sys: 17min 14s, total: 28min 16s\n",
      "Wall time: 3min 40s\n"
     ]
    }
   ],
   "source": [
    "%%time\n",
    "make_seed()\n",
    "imp.reload(shallow_mnist)\n",
    "bn_adam02 = shallow_mnist.run_method(lasagne.updates.adam, num_epochs=50, echo=False, BN=True, alpha=1e-2, beta1=0)"
   ]
  },
  {
   "cell_type": "code",
   "execution_count": 66,
   "metadata": {
    "collapsed": true
   },
   "outputs": [],
   "source": [
    "plt.plot(bn_adam02['val_acc'], 'r')\n",
    "plt.plot(bn_rmsprop2['val_acc'], 'b')\n",
    "plt.legend(['Adam 1e-2, beta1=0', 'RMSProp 1e-2'], loc=0, fontsize=12)\n",
    "plt.xlabel('epochs')\n",
    "plt.ylabel('accuracy')\n",
    "plt.title('Validation')\n",
    "plt.xlim(xmax=49)\n",
    "plt.show()"
   ]
  },
  {
   "cell_type": "code",
   "execution_count": 67,
   "metadata": {
    "collapsed": true
   },
   "outputs": [],
   "source": [
    "plt.plot(bn_adam03['val_acc'], 'r')\n",
    "plt.plot(bn_rmsprop3['val_acc'], 'b')\n",
    "plt.legend(['Adam 1e-3, beta1=0', 'RMSProp 1e-3'], loc=0, fontsize=12)\n",
    "plt.xlabel('epochs')\n",
    "plt.ylabel('accuracy')\n",
    "plt.title('Validation')\n",
    "plt.xlim(xmax=49)\n",
    "plt.show()"
   ]
  },
  {
   "cell_type": "code",
   "execution_count": null,
   "metadata": {
    "collapsed": true
   },
   "outputs": [],
   "source": []
  }
 ],
 "metadata": {
  "kernelspec": {
   "display_name": "Python 2",
   "language": "python",
   "name": "python2"
  },
  "language_info": {
   "codemirror_mode": {
    "name": "ipython",
    "version": 2
   },
   "file_extension": ".py",
   "mimetype": "text/x-python",
   "name": "python",
   "nbconvert_exporter": "python",
   "pygments_lexer": "ipython2",
   "version": "2.7.6"
  }
 },
 "nbformat": 4,
 "nbformat_minor": 0
}

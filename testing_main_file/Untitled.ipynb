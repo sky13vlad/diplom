{
 "cells": [
  {
   "cell_type": "code",
   "execution_count": 9,
   "metadata": {
    "collapsed": false
   },
   "outputs": [],
   "source": [
    "import numpy as np\n",
    "import sys\n",
    "sys.path.append(\"/home/vlad/Documents\")\n",
    "import MAIN_FILE\n",
    "import lasagne\n",
    "import theano\n",
    "import theano.tensor as T"
   ]
  },
  {
   "cell_type": "code",
   "execution_count": 12,
   "metadata": {
    "collapsed": false
   },
   "outputs": [
    {
     "name": "stdout",
     "output_type": "stream",
     "text": [
      "CPU times: user 2h 3min 21s, sys: 3h 23min, total: 5h 26min 22s\n",
      "Wall time: 41min 51s\n"
     ]
    }
   ],
   "source": [
    "%%time\n",
    "sgd = MAIN_FILE.run_method(lasagne.updates.sgd, model='cnn', CL=2, HL=1, num_epochs=20, alpha=0.1)"
   ]
  },
  {
   "cell_type": "code",
   "execution_count": 13,
   "metadata": {
    "collapsed": false,
    "scrolled": true
   },
   "outputs": [
    {
     "name": "stdout",
     "output_type": "stream",
     "text": [
      "CPU times: user 2h 8min 4s, sys: 3h 52min 2s, total: 6h 6s\n",
      "Wall time: 52min 15s\n"
     ]
    }
   ],
   "source": [
    "%%time\n",
    "bn_sgd = MAIN_FILE.run_method(lasagne.updates.sgd, model='cnn', CL=2, HL=1, num_epochs=20, alpha=0.1, \n",
    "                               BN=True)"
   ]
  },
  {
   "cell_type": "code",
   "execution_count": 70,
   "metadata": {
    "collapsed": false
   },
   "outputs": [],
   "source": [
    "import pickle\n",
    "with open('sgd', 'wb') as f:\n",
    "    pickle.dump(sgd, f)\n",
    "    pickle.dump(bn_sgd, f)"
   ]
  },
  {
   "cell_type": "code",
   "execution_count": 14,
   "metadata": {
    "collapsed": false
   },
   "outputs": [
    {
     "name": "stdout",
     "output_type": "stream",
     "text": [
      "CPU times: user 2h 9min, sys: 3h 47min 5s, total: 5h 56min 6s\n",
      "Wall time: 52min 19s\n"
     ]
    }
   ],
   "source": [
    "%%time\n",
    "bn_adam = MAIN_FILE.run_method(lasagne.updates.adam, model='cnn', CL=2, HL=1, num_epochs=20, alpha=1e-3, \n",
    "                               BN=True)"
   ]
  },
  {
   "cell_type": "code",
   "execution_count": 22,
   "metadata": {
    "collapsed": false
   },
   "outputs": [
    {
     "name": "stdout",
     "output_type": "stream",
     "text": [
      "CPU times: user 1h 50min 29s, sys: 3h 12min 4s, total: 5h 2min 33s\n",
      "Wall time: 38min 37s\n"
     ]
    }
   ],
   "source": [
    "%%time\n",
    "adam = MAIN_FILE.run_method(lasagne.updates.adam, model='cnn', CL=2, HL=1, num_epochs=20, alpha=1e-3)"
   ]
  },
  {
   "cell_type": "code",
   "execution_count": 71,
   "metadata": {
    "collapsed": true
   },
   "outputs": [],
   "source": [
    "import pickle\n",
    "with open('adam', 'wb') as f:\n",
    "    pickle.dump(adam, f)\n",
    "    pickle.dump(bn_adam, f)"
   ]
  },
  {
   "cell_type": "code",
   "execution_count": 25,
   "metadata": {
    "collapsed": false
   },
   "outputs": [
    {
     "name": "stdout",
     "output_type": "stream",
     "text": [
      "CPU times: user 5h 13min 57s, sys: 9h 39min 34s, total: 14h 53min 32s\n",
      "Wall time: 2h 12min 34s\n"
     ]
    }
   ],
   "source": [
    "%%time\n",
    "bn_adam2 = MAIN_FILE.run_method(lasagne.updates.adam, model='cnn', CL=2, HL=1, num_epochs=50, alpha=1e-3, \n",
    "                               BN=True)"
   ]
  },
  {
   "cell_type": "code",
   "execution_count": 26,
   "metadata": {
    "collapsed": false
   },
   "outputs": [
    {
     "name": "stdout",
     "output_type": "stream",
     "text": [
      "CPU times: user 5h 13min 2s, sys: 9h 33min 51s, total: 14h 46min 54s\n",
      "Wall time: 2h 11min 37s\n"
     ]
    }
   ],
   "source": [
    "%%time\n",
    "bn_adam3 = MAIN_FILE.run_method(lasagne.updates.adam, model='cnn', CL=2, HL=1, num_epochs=50, alpha=1e-3, \n",
    "                               BN=True, epsilon=1e-4)"
   ]
  },
  {
   "cell_type": "code",
   "execution_count": 72,
   "metadata": {
    "collapsed": true
   },
   "outputs": [],
   "source": [
    "import pickle\n",
    "with open('bnAdamEpsilon', 'wb') as f:\n",
    "    pickle.dump(bn_adam2, f)\n",
    "    pickle.dump(bn_adam3, f)"
   ]
  },
  {
   "cell_type": "code",
   "execution_count": 27,
   "metadata": {
    "collapsed": false
   },
   "outputs": [
    {
     "name": "stdout",
     "output_type": "stream",
     "text": [
      "CPU times: user 1h 49min 46s, sys: 3h 18min 20s, total: 5h 8min 6s\n",
      "Wall time: 39min 37s\n"
     ]
    }
   ],
   "source": [
    "%%time\n",
    "momentum = MAIN_FILE.run_method(lasagne.updates.momentum, model='cnn', CL=2, HL=1, num_epochs=20, alpha=1e-1)"
   ]
  },
  {
   "cell_type": "code",
   "execution_count": 28,
   "metadata": {
    "collapsed": false
   },
   "outputs": [
    {
     "name": "stdout",
     "output_type": "stream",
     "text": [
      "CPU times: user 2h 5min 1s, sys: 3h 50min 37s, total: 5h 55min 39s\n",
      "Wall time: 52min 44s\n"
     ]
    }
   ],
   "source": [
    "%%time\n",
    "bn_momentum = MAIN_FILE.run_method(lasagne.updates.momentum, model='cnn', CL=2, HL=1, num_epochs=20, alpha=1e-1, BN=True)"
   ]
  },
  {
   "cell_type": "code",
   "execution_count": 73,
   "metadata": {
    "collapsed": true
   },
   "outputs": [],
   "source": [
    "import pickle\n",
    "with open('momentum', 'wb') as f:\n",
    "    pickle.dump(momentum, f)\n",
    "    pickle.dump(bn_momentum, f)"
   ]
  },
  {
   "cell_type": "code",
   "execution_count": 29,
   "metadata": {
    "collapsed": false
   },
   "outputs": [
    {
     "name": "stdout",
     "output_type": "stream",
     "text": [
      "CPU times: user 1h 50min 21s, sys: 3h 17min 44s, total: 5h 8min 6s\n",
      "Wall time: 39min 39s\n"
     ]
    }
   ],
   "source": [
    "%%time\n",
    "adagrad = MAIN_FILE.run_method(lasagne.updates.adagrad, model='cnn', CL=2, HL=1, num_epochs=20, alpha=1e-2)"
   ]
  },
  {
   "cell_type": "code",
   "execution_count": 30,
   "metadata": {
    "collapsed": false
   },
   "outputs": [
    {
     "name": "stdout",
     "output_type": "stream",
     "text": [
      "CPU times: user 2h 5min 55s, sys: 3h 49min, total: 5h 54min 55s\n",
      "Wall time: 52min 43s\n"
     ]
    }
   ],
   "source": [
    "%%time\n",
    "bn_adagrad = MAIN_FILE.run_method(lasagne.updates.adagrad, model='cnn', CL=2, HL=1, num_epochs=20, alpha=1e-2, BN=True)"
   ]
  },
  {
   "cell_type": "code",
   "execution_count": 74,
   "metadata": {
    "collapsed": true
   },
   "outputs": [],
   "source": [
    "import pickle\n",
    "with open('adagrad', 'wb') as f:\n",
    "    pickle.dump(adagrad, f)\n",
    "    pickle.dump(bn_adagrad, f)"
   ]
  },
  {
   "cell_type": "code",
   "execution_count": 31,
   "metadata": {
    "collapsed": false
   },
   "outputs": [
    {
     "name": "stdout",
     "output_type": "stream",
     "text": [
      "CPU times: user 1h 56min 31s, sys: 3h 29min 48s, total: 5h 26min 20s\n",
      "Wall time: 42min 20s\n"
     ]
    }
   ],
   "source": [
    "%%time\n",
    "adadelta = MAIN_FILE.run_method(lasagne.updates.adadelta, model='cnn', CL=2, HL=1, num_epochs=20, alpha=1.0)"
   ]
  },
  {
   "cell_type": "code",
   "execution_count": 32,
   "metadata": {
    "collapsed": false
   },
   "outputs": [
    {
     "name": "stdout",
     "output_type": "stream",
     "text": [
      "CPU times: user 2h 5min 1s, sys: 3h 49min 35s, total: 5h 54min 37s\n",
      "Wall time: 52min 30s\n"
     ]
    }
   ],
   "source": [
    "%%time\n",
    "bn_adadelta = MAIN_FILE.run_method(lasagne.updates.adadelta, model='cnn', CL=2, HL=1, num_epochs=20, alpha=1.0, BN=True)"
   ]
  },
  {
   "cell_type": "code",
   "execution_count": 75,
   "metadata": {
    "collapsed": true
   },
   "outputs": [],
   "source": [
    "import pickle\n",
    "with open('adadelta', 'wb') as f:\n",
    "    pickle.dump(adadelta, f)\n",
    "    pickle.dump(bn_adadelta, f)"
   ]
  },
  {
   "cell_type": "code",
   "execution_count": 76,
   "metadata": {
    "collapsed": true
   },
   "outputs": [],
   "source": [
    "plt.plot(adadelta['train_acc'], 'b--')\n",
    "plt.plot(adadelta['val_acc'], 'b')\n",
    "plt.plot(bn_adadelta['train_acc'], 'r--')\n",
    "plt.plot(bn_adadelta['val_acc'], 'r')\n",
    "plt.xlim(xmax=len(adadelta['train_acc']) - 1)\n",
    "plt.ylim(ymax=100.5)\n",
    "plt.xlabel('epochs')\n",
    "plt.ylabel('accuracy')\n",
    "plt.title('CNN Adadelta')\n",
    "plt.legend(['Adadelta train', 'Adadelta validation', 'BN Adadelta train', 'BN Adadelta validation'], loc=0, fontsize=12)\n",
    "plt.show()"
   ]
  },
  {
   "cell_type": "code",
   "execution_count": 77,
   "metadata": {
    "collapsed": true
   },
   "outputs": [],
   "source": [
    "plt.plot(bn_adam2['train_acc'], 'b--')\n",
    "plt.plot(bn_adam2['val_acc'], 'b')\n",
    "plt.plot(bn_adam3['train_acc'], 'r--')\n",
    "plt.plot(bn_adam3['val_acc'], 'r')\n",
    "plt.xlim(xmax=len(bn_adam2['train_acc']) - 1)\n",
    "plt.ylim(ymax=100.5)\n",
    "plt.xlabel('epochs')\n",
    "plt.ylabel('accuracy')\n",
    "plt.title('CNN BN Adam, different epsilon')\n",
    "plt.legend(['BN Adam train, 1e-8', 'BN Adam validation, 1e-8', \n",
    "            'BN Adam train, 1e-4', 'BN Adam validation, 1e-4'], loc=0, fontsize=12)\n",
    "plt.show()"
   ]
  },
  {
   "cell_type": "code",
   "execution_count": null,
   "metadata": {
    "collapsed": true
   },
   "outputs": [],
   "source": []
  }
 ],
 "metadata": {
  "kernelspec": {
   "display_name": "Python 2",
   "language": "python",
   "name": "python2"
  },
  "language_info": {
   "codemirror_mode": {
    "name": "ipython",
    "version": 2
   },
   "file_extension": ".py",
   "mimetype": "text/x-python",
   "name": "python",
   "nbconvert_exporter": "python",
   "pygments_lexer": "ipython2",
   "version": "2.7.6"
  }
 },
 "nbformat": 4,
 "nbformat_minor": 0
}

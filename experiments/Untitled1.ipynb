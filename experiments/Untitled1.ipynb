{
 "cells": [
  {
   "cell_type": "code",
   "execution_count": 1,
   "metadata": {
    "collapsed": false
   },
   "outputs": [
    {
     "name": "stderr",
     "output_type": "stream",
     "text": [
      "/usr/local/lib/python2.7/dist-packages/theano/tensor/signal/downsample.py:6: UserWarning: downsample module has been moved to the theano.tensor.signal.pool module.\n",
      "  \"downsample module has been moved to the theano.tensor.signal.pool module.\")\n"
     ]
    }
   ],
   "source": [
    "import main\n",
    "import imp"
   ]
  },
  {
   "cell_type": "code",
   "execution_count": 2,
   "metadata": {
    "collapsed": false
   },
   "outputs": [
    {
     "name": "stdout",
     "output_type": "stream",
     "text": [
      "Loading data...\n",
      "Building model and compiling functions...\n",
      "Starting training...\n",
      "Epoch 1 of 20 took 0.970s\n",
      "  training loss:\t\t1.136947\n",
      "  validation loss:\t\t0.416789\n",
      "  validation accuracy:\t\t89.01 %\n",
      "Epoch 2 of 20 took 0.962s\n",
      "  training loss:\t\t0.384344\n",
      "  validation loss:\t\t0.306849\n",
      "  validation accuracy:\t\t91.38 %\n",
      "Epoch 3 of 20 took 1.014s\n",
      "  training loss:\t\t0.314776\n",
      "  validation loss:\t\t0.272260\n",
      "  validation accuracy:\t\t92.41 %\n",
      "Epoch 4 of 20 took 1.032s\n",
      "  training loss:\t\t0.279998\n",
      "  validation loss:\t\t0.248674\n",
      "  validation accuracy:\t\t92.95 %\n",
      "Epoch 5 of 20 took 1.080s\n",
      "  training loss:\t\t0.256049\n",
      "  validation loss:\t\t0.230440\n",
      "  validation accuracy:\t\t93.49 %\n",
      "Epoch 6 of 20 took 1.637s\n",
      "  training loss:\t\t0.236975\n",
      "  validation loss:\t\t0.213046\n",
      "  validation accuracy:\t\t94.01 %\n",
      "Epoch 7 of 20 took 1.629s\n",
      "  training loss:\t\t0.220146\n",
      "  validation loss:\t\t0.201580\n",
      "  validation accuracy:\t\t94.40 %\n",
      "Epoch 8 of 20 took 1.704s\n",
      "  training loss:\t\t0.205970\n",
      "  validation loss:\t\t0.189946\n",
      "  validation accuracy:\t\t94.80 %\n",
      "Epoch 9 of 20 took 1.762s\n",
      "  training loss:\t\t0.193270\n",
      "  validation loss:\t\t0.182238\n",
      "  validation accuracy:\t\t94.96 %\n",
      "Epoch 10 of 20 took 1.633s\n",
      "  training loss:\t\t0.182027\n",
      "  validation loss:\t\t0.170560\n",
      "  validation accuracy:\t\t95.36 %\n",
      "Epoch 11 of 20 took 1.590s\n",
      "  training loss:\t\t0.172219\n",
      "  validation loss:\t\t0.164917\n",
      "  validation accuracy:\t\t95.54 %\n",
      "Epoch 12 of 20 took 1.557s\n",
      "  training loss:\t\t0.162932\n",
      "  validation loss:\t\t0.158770\n",
      "  validation accuracy:\t\t95.68 %\n",
      "Epoch 13 of 20 took 1.732s\n",
      "  training loss:\t\t0.154807\n",
      "  validation loss:\t\t0.150292\n",
      "  validation accuracy:\t\t95.82 %\n",
      "Epoch 14 of 20 took 1.874s\n",
      "  training loss:\t\t0.147104\n",
      "  validation loss:\t\t0.145948\n",
      "  validation accuracy:\t\t96.05 %\n",
      "Epoch 15 of 20 took 1.690s\n",
      "  training loss:\t\t0.140339\n",
      "  validation loss:\t\t0.141019\n",
      "  validation accuracy:\t\t96.21 %\n",
      "Epoch 16 of 20 took 1.800s\n",
      "  training loss:\t\t0.134229\n",
      "  validation loss:\t\t0.136100\n",
      "  validation accuracy:\t\t96.30 %\n",
      "Epoch 17 of 20 took 1.803s\n",
      "  training loss:\t\t0.128194\n",
      "  validation loss:\t\t0.134479\n",
      "  validation accuracy:\t\t96.34 %\n",
      "Epoch 18 of 20 took 1.910s\n",
      "  training loss:\t\t0.123129\n",
      "  validation loss:\t\t0.130358\n",
      "  validation accuracy:\t\t96.41 %\n",
      "Epoch 19 of 20 took 1.817s\n",
      "  training loss:\t\t0.117790\n",
      "  validation loss:\t\t0.126574\n",
      "  validation accuracy:\t\t96.59 %\n",
      "Epoch 20 of 20 took 2.230s\n",
      "  training loss:\t\t0.113272\n",
      "  validation loss:\t\t0.123682\n",
      "  validation accuracy:\t\t96.61 %\n",
      "Final results:\n",
      "  test loss:\t\t\t0.124969\n",
      "  test accuracy:\t\t96.38 %\n"
     ]
    }
   ],
   "source": [
    "imp.reload(main)\n",
    "main.main(num_epochs=20)"
   ]
  },
  {
   "cell_type": "code",
   "execution_count": 6,
   "metadata": {
    "collapsed": true
   },
   "outputs": [],
   "source": [
    "import lasagne"
   ]
  },
  {
   "cell_type": "code",
   "execution_count": 4,
   "metadata": {
    "collapsed": false
   },
   "outputs": [
    {
     "ename": "AttributeError",
     "evalue": "'module' object has no attribute 'batch_norm'",
     "output_type": "error",
     "traceback": [
      "\u001b[1;31m---------------------------------------------------------------------------\u001b[0m",
      "\u001b[1;31mAttributeError\u001b[0m                            Traceback (most recent call last)",
      "\u001b[1;32m<ipython-input-4-3291c60ae88d>\u001b[0m in \u001b[0;36m<module>\u001b[1;34m()\u001b[0m\n\u001b[1;32m----> 1\u001b[1;33m \u001b[0mlasagne\u001b[0m\u001b[1;33m.\u001b[0m\u001b[0mlayers\u001b[0m\u001b[1;33m.\u001b[0m\u001b[0mbatch_norm\u001b[0m\u001b[1;33m\u001b[0m\u001b[0m\n\u001b[0m",
      "\u001b[1;31mAttributeError\u001b[0m: 'module' object has no attribute 'batch_norm'"
     ]
    }
   ],
   "source": [
    "lasagne.layers.normalization"
   ]
  },
  {
   "cell_type": "code",
   "execution_count": null,
   "metadata": {
    "collapsed": true
   },
   "outputs": [],
   "source": []
  }
 ],
 "metadata": {
  "kernelspec": {
   "display_name": "Python 2",
   "language": "python",
   "name": "python2"
  },
  "language_info": {
   "codemirror_mode": {
    "name": "ipython",
    "version": 2
   },
   "file_extension": ".py",
   "mimetype": "text/x-python",
   "name": "python",
   "nbconvert_exporter": "python",
   "pygments_lexer": "ipython2",
   "version": "2.7.6"
  }
 },
 "nbformat": 4,
 "nbformat_minor": 0
}

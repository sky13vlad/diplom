{
 "cells": [
  {
   "cell_type": "code",
   "execution_count": 1,
   "metadata": {
    "collapsed": false
   },
   "outputs": [],
   "source": [
    "import numpy as np\n",
    "import matplotlib.pyplot as plt\n",
    "import lasagne\n",
    "import imp\n",
    "import shallow_mnist\n",
    "from shallow_mnist import *"
   ]
  },
  {
   "cell_type": "code",
   "execution_count": 11,
   "metadata": {
    "collapsed": true
   },
   "outputs": [],
   "source": [
    "def make_plot(title, l1, l2, xlabel='epochs', ylabel='accuracy'):\n",
    "    plt.plot(l1['train_acc'], 'b--')\n",
    "    plt.plot(l1['val_acc'], 'b')\n",
    "    plt.plot(l2['train_acc'], 'r--')\n",
    "    plt.plot(l2['val_acc'], 'r')\n",
    "    plt.xlabel(xlabel)\n",
    "    plt.ylabel(ylabel)\n",
    "    plt.title(title)\n",
    "    plt.legend([title + ' train', title + ' validation', 'BN ' + title + ' train', \n",
    "                'BN ' + title + ' validation'], loc=0, fontsize=12)\n",
    "    plt.xlim([0, len(l1['train_acc']) - 1])\n",
    "    plt.show()"
   ]
  },
  {
   "cell_type": "code",
   "execution_count": 4,
   "metadata": {
    "collapsed": false
   },
   "outputs": [
    {
     "name": "stdout",
     "output_type": "stream",
     "text": [
      "CPU times: user 8min 19s, sys: 6min 44s, total: 15min 4s\n",
      "Wall time: 2min\n"
     ]
    }
   ],
   "source": [
    "%%time\n",
    "many_sgd = []\n",
    "for alpha in [0.01, 0.05, 0.1, 0.5, 1.0, 2.0, 5.0]:\n",
    "    temp = run_method(lasagne.updates.sgd, num_epochs=20, alpha=alpha)\n",
    "    many_sgd.append(temp)"
   ]
  },
  {
   "cell_type": "code",
   "execution_count": 5,
   "metadata": {
    "collapsed": false
   },
   "outputs": [
    {
     "name": "stdout",
     "output_type": "stream",
     "text": [
      "CPU times: user 15min 30s, sys: 23min 51s, total: 39min 22s\n",
      "Wall time: 5min 15s\n"
     ]
    }
   ],
   "source": [
    "%%time\n",
    "many_bn_sgd = []\n",
    "for alpha in [0.01, 0.05, 0.1, 0.5, 1.0, 2.0, 5.0]:\n",
    "    temp = run_method(lasagne.updates.sgd, num_epochs=20, alpha=alpha, BN=True)\n",
    "    many_bn_sgd.append(temp)"
   ]
  },
  {
   "cell_type": "code",
   "execution_count": 6,
   "metadata": {
    "collapsed": false
   },
   "outputs": [
    {
     "name": "stdout",
     "output_type": "stream",
     "text": [
      "CPU times: user 17min 14s, sys: 14min 5s, total: 31min 19s\n",
      "Wall time: 4min 11s\n"
     ]
    }
   ],
   "source": [
    "%%time\n",
    "many_adam = []\n",
    "for alpha in [5e-5, 1e-4, 5e-4, 1e-3, 5e-3, 1e-2, 5e-2, 1e-2, 5e-1, 1e-1]:\n",
    "    temp = run_method(lasagne.updates.adam, num_epochs=20, alpha=alpha)\n",
    "    many_adam.append(temp)"
   ]
  },
  {
   "cell_type": "code",
   "execution_count": 7,
   "metadata": {
    "collapsed": false
   },
   "outputs": [
    {
     "name": "stdout",
     "output_type": "stream",
     "text": [
      "CPU times: user 27min 6s, sys: 37min 56s, total: 1h 5min 2s\n",
      "Wall time: 8min 40s\n"
     ]
    }
   ],
   "source": [
    "%%time\n",
    "many_bn_adam = []\n",
    "for alpha in [5e-5, 1e-4, 5e-4, 1e-3, 5e-3, 1e-2, 5e-2, 1e-2, 5e-1, 1e-1]:\n",
    "    temp = run_method(lasagne.updates.adam, num_epochs=20, alpha=alpha, BN=True)\n",
    "    many_bn_adam.append(temp)"
   ]
  },
  {
   "cell_type": "code",
   "execution_count": 8,
   "metadata": {
    "collapsed": false
   },
   "outputs": [
    {
     "name": "stdout",
     "output_type": "stream",
     "text": [
      "CPU times: user 8min 42s, sys: 7min 44s, total: 16min 26s\n",
      "Wall time: 2min 11s\n"
     ]
    }
   ],
   "source": [
    "%%time\n",
    "many_momentum = []\n",
    "for alpha in [0.01, 0.05, 0.1, 0.5, 1.0, 2.0, 5.0]:\n",
    "    temp = run_method(lasagne.updates.momentum, num_epochs=20, alpha=alpha)\n",
    "    many_momentum.append(temp)"
   ]
  },
  {
   "cell_type": "code",
   "execution_count": 9,
   "metadata": {
    "collapsed": false
   },
   "outputs": [
    {
     "name": "stdout",
     "output_type": "stream",
     "text": [
      "CPU times: user 15min 34s, sys: 24min 17s, total: 39min 51s\n",
      "Wall time: 5min 18s\n"
     ]
    }
   ],
   "source": [
    "%%time\n",
    "many_bn_momentum = []\n",
    "for alpha in [0.01, 0.05, 0.1, 0.5, 1.0, 2.0, 5.0]:\n",
    "    temp = run_method(lasagne.updates.momentum, num_epochs=20, alpha=alpha, BN=True)\n",
    "    many_bn_momentum.append(temp)"
   ]
  },
  {
   "cell_type": "code",
   "execution_count": 15,
   "metadata": {
    "collapsed": true
   },
   "outputs": [],
   "source": [
    "make_plot('Adam', many_adam[3], many_bn_adam[3])"
   ]
  },
  {
   "cell_type": "code",
   "execution_count": 18,
   "metadata": {
    "collapsed": false
   },
   "outputs": [],
   "source": [
    "import pickle\n",
    "with open(\"alpha_for_sgd\", \"wb\") as file1:\n",
    "    pickle.dump(many_sgd, file1)\n",
    "    pickle.dump(many_bn_sgd, file1)"
   ]
  },
  {
   "cell_type": "code",
   "execution_count": 19,
   "metadata": {
    "collapsed": true
   },
   "outputs": [],
   "source": [
    "import pickle\n",
    "with open(\"alpha_for_adam\", \"wb\") as file1:\n",
    "    pickle.dump(many_adam, file1)\n",
    "    pickle.dump(many_bn_adam, file1)"
   ]
  },
  {
   "cell_type": "code",
   "execution_count": 20,
   "metadata": {
    "collapsed": true
   },
   "outputs": [],
   "source": [
    "import pickle\n",
    "with open(\"alpha_for_momentum\", \"wb\") as file1:\n",
    "    pickle.dump(many_momentum, file1)\n",
    "    pickle.dump(many_bn_momentum, file1)"
   ]
  },
  {
   "cell_type": "code",
   "execution_count": 24,
   "metadata": {
    "collapsed": false
   },
   "outputs": [
    {
     "name": "stdout",
     "output_type": "stream",
     "text": [
      "95.06\n",
      "96.43\n",
      "97.62\n",
      "97.5\n",
      "98.14\n",
      "97.67\n",
      "97.36\n",
      "97.27\n",
      "96.05\n",
      "96.93\n"
     ]
    }
   ],
   "source": [
    "for i in range(len(many_adam)):\n",
    "    print(many_bn_adam[i]['test_acc'])"
   ]
  },
  {
   "cell_type": "code",
   "execution_count": 31,
   "metadata": {
    "collapsed": true
   },
   "outputs": [],
   "source": [
    "plt.plot(many_bn_adam[0]['val_acc'])\n",
    "plt.show()"
   ]
  },
  {
   "cell_type": "code",
   "execution_count": null,
   "metadata": {
    "collapsed": true
   },
   "outputs": [],
   "source": []
  }
 ],
 "metadata": {
  "kernelspec": {
   "display_name": "Python 2",
   "language": "python",
   "name": "python2"
  },
  "language_info": {
   "codemirror_mode": {
    "name": "ipython",
    "version": 2
   },
   "file_extension": ".py",
   "mimetype": "text/x-python",
   "name": "python",
   "nbconvert_exporter": "python",
   "pygments_lexer": "ipython2",
   "version": "2.7.6"
  }
 },
 "nbformat": 4,
 "nbformat_minor": 0
}

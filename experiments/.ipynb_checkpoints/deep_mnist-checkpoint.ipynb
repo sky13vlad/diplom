{
 "cells": [
  {
   "cell_type": "markdown",
   "metadata": {},
   "source": [
    "#### SGD: alpha = 0.1; 0.01\n",
    "#### BN SGD: alpha = 1.0; 2.0\n",
    "#### Adam: alpha = 0.005; 0.001\n",
    "#### BN Adam: alpha = 0.005; 0.01; 0.001\n",
    "#### Momentum: alpha = 0.05; 0.1\n",
    "#### Momentum: alpha = 0.1; 0.05"
   ]
  },
  {
   "cell_type": "code",
   "execution_count": 10,
   "metadata": {
    "collapsed": true
   },
   "outputs": [],
   "source": [
    "import numpy as np\n",
    "import matplotlib.pyplot as plt\n",
    "import lasagne\n",
    "import imp\n",
    "import deep_mnist\n",
    "from deep_mnist import *"
   ]
  },
  {
   "cell_type": "code",
   "execution_count": 11,
   "metadata": {
    "collapsed": true
   },
   "outputs": [],
   "source": [
    "def plot2_train_val(title, l1, l2, xlabel='epochs', ylabel='accuracy', add=''):\n",
    "    plt.plot(l1['train_acc'], 'b--')\n",
    "    plt.plot(l1['val_acc'], 'b')\n",
    "    plt.plot(l2['train_acc'], 'r--')\n",
    "    plt.plot(l2['val_acc'], 'r')\n",
    "    plt.xlabel(xlabel)\n",
    "    plt.ylabel(ylabel)\n",
    "    plt.title('Deep ' + title + add)\n",
    "    plt.legend([title + ' train', title + ' validation', 'BN ' + title + ' train', \n",
    "                'BN ' + title + ' validation'], loc=0, fontsize=12)\n",
    "    plt.xlim([0, len(l1['train_acc']) - 1])\n",
    "    plt.ylim(ymax=101)\n",
    "    plt.show()"
   ]
  },
  {
   "cell_type": "code",
   "execution_count": 12,
   "metadata": {
    "collapsed": false
   },
   "outputs": [
    {
     "name": "stdout",
     "output_type": "stream",
     "text": [
      "CPU times: user 51min 56s, sys: 57min 9s, total: 1h 49min 6s\n",
      "Wall time: 27min 35s\n"
     ]
    }
   ],
   "source": [
    "%%time\n",
    "many_sgd = []\n",
    "for alpha in [0.01, 0.05, 0.1, 0.5, 1.0, 2.0, 5.0]:\n",
    "    temp = run_method(lasagne.updates.sgd, num_epochs=50, alpha=alpha)\n",
    "    many_sgd.append(temp)"
   ]
  },
  {
   "cell_type": "code",
   "execution_count": 13,
   "metadata": {
    "collapsed": false
   },
   "outputs": [
    {
     "name": "stdout",
     "output_type": "stream",
     "text": [
      "CPU times: user 1h 36min 44s, sys: 2h 50min 57s, total: 4h 27min 41s\n",
      "Wall time: 57min 45s\n"
     ]
    }
   ],
   "source": [
    "%%time\n",
    "many_bn_sgd = []\n",
    "for alpha in [0.01, 0.05, 0.1, 0.5, 1.0, 2.0, 5.0]:\n",
    "    temp = run_method(lasagne.updates.sgd, num_epochs=50, alpha=alpha, BN=True)\n",
    "    many_bn_sgd.append(temp)"
   ]
  },
  {
   "cell_type": "code",
   "execution_count": 21,
   "metadata": {
    "collapsed": true
   },
   "outputs": [],
   "source": [
    "import pickle\n",
    "with open(\"deep/alpha_for_sgd\", \"wb\") as file1:\n",
    "    pickle.dump(many_sgd, file1)\n",
    "    pickle.dump(many_bn_sgd, file1)"
   ]
  },
  {
   "cell_type": "code",
   "execution_count": 15,
   "metadata": {
    "collapsed": false
   },
   "outputs": [
    {
     "name": "stdout",
     "output_type": "stream",
     "text": [
      "CPU times: user 1h 11min 24s, sys: 56min 20s, total: 2h 7min 44s\n",
      "Wall time: 16min 33s\n"
     ]
    }
   ],
   "source": [
    "%%time\n",
    "many_adam = []\n",
    "for alpha in [1e-4, 5e-4, 1e-3, 5e-3, 1e-2, 5e-2, 1e-1]:\n",
    "    temp = run_method(lasagne.updates.adam, num_epochs=50, alpha=alpha)\n",
    "    many_adam.append(temp)"
   ]
  },
  {
   "cell_type": "code",
   "execution_count": 53,
   "metadata": {
    "collapsed": false
   },
   "outputs": [
    {
     "name": "stdout",
     "output_type": "stream",
     "text": [
      "CPU times: user 1h 53min 9s, sys: 4h 21min 8s, total: 6h 14min 17s\n",
      "Wall time: 59min 6s\n"
     ]
    }
   ],
   "source": [
    "%%time\n",
    "many_bn_adam = []\n",
    "for alpha in [1e-4, 5e-4, 1e-3, 5e-3, 1e-2, 5e-2, 1e-1]:\n",
    "    temp = run_method(lasagne.updates.adam, num_epochs=50, alpha=alpha, BN=True)\n",
    "    many_bn_adam.append(temp)"
   ]
  },
  {
   "cell_type": "code",
   "execution_count": 54,
   "metadata": {
    "collapsed": true
   },
   "outputs": [],
   "source": [
    "import pickle\n",
    "with open(\"deep/alpha_for_adam\", \"wb\") as file1:\n",
    "    pickle.dump(many_adam, file1)\n",
    "    pickle.dump(many_bn_adam, file1)"
   ]
  },
  {
   "cell_type": "code",
   "execution_count": 18,
   "metadata": {
    "collapsed": false
   },
   "outputs": [
    {
     "name": "stdout",
     "output_type": "stream",
     "text": [
      "CPU times: user 56min 6s, sys: 54min 35s, total: 1h 50min 42s\n",
      "Wall time: 14min 22s\n"
     ]
    }
   ],
   "source": [
    "%%time\n",
    "many_momentum = []\n",
    "for alpha in [0.01, 0.05, 0.1, 0.5, 1.0, 2.0, 5.0]:\n",
    "    temp = run_method(lasagne.updates.momentum, num_epochs=50, alpha=alpha)\n",
    "    many_momentum.append(temp)"
   ]
  },
  {
   "cell_type": "code",
   "execution_count": 19,
   "metadata": {
    "collapsed": false
   },
   "outputs": [
    {
     "name": "stdout",
     "output_type": "stream",
     "text": [
      "CPU times: user 1h 26min 51s, sys: 2h 49min 52s, total: 4h 16min 44s\n",
      "Wall time: 36min 3s\n"
     ]
    }
   ],
   "source": [
    "%%time\n",
    "many_bn_momentum = []\n",
    "for alpha in [0.01, 0.05, 0.1, 0.5, 1.0, 2.0, 5.0]:\n",
    "    temp = run_method(lasagne.updates.momentum, num_epochs=50, alpha=alpha, BN=True)\n",
    "    many_bn_momentum.append(temp)"
   ]
  },
  {
   "cell_type": "code",
   "execution_count": 23,
   "metadata": {
    "collapsed": true
   },
   "outputs": [],
   "source": [
    "import pickle\n",
    "with open(\"deep/alpha_for_momentum\", \"wb\") as file1:\n",
    "    pickle.dump(many_momentum, file1)\n",
    "    pickle.dump(many_bn_momentum, file1)"
   ]
  },
  {
   "cell_type": "markdown",
   "metadata": {},
   "source": [
    "### Выгрузка данных и графики"
   ]
  },
  {
   "cell_type": "code",
   "execution_count": 31,
   "metadata": {
    "collapsed": true
   },
   "outputs": [],
   "source": [
    "def plot1_through_alphas(title, lst, alphas, param='val_acc', begin=0):\n",
    "    for i in range(begin, len(alphas)):\n",
    "        plt.plot(lst[i][param])\n",
    "    plt.xlim([0, len(lst[0][param]) - 1])\n",
    "    plt.legend(alphas[begin:], loc=0, fontsize=10)\n",
    "    plt.title(title)\n",
    "    plt.show()"
   ]
  },
  {
   "cell_type": "markdown",
   "metadata": {},
   "source": [
    "### SGD plots"
   ]
  },
  {
   "cell_type": "code",
   "execution_count": 26,
   "metadata": {
    "collapsed": true
   },
   "outputs": [],
   "source": [
    "import pickle\n",
    "with open(\"deep/alpha_for_sgd\", \"rb\") as file2:\n",
    "    many_sgd = pickle.load(file2)\n",
    "    many_bn_sgd = pickle.load(file2)"
   ]
  },
  {
   "cell_type": "code",
   "execution_count": 32,
   "metadata": {
    "collapsed": true
   },
   "outputs": [],
   "source": [
    "plot1_through_alphas('SGD', many_sgd, [0.01, 0.05, 0.1, 0.5, 1.0, 2.0, 5.0])"
   ]
  },
  {
   "cell_type": "code",
   "execution_count": 33,
   "metadata": {
    "collapsed": true
   },
   "outputs": [],
   "source": [
    "plot1_through_alphas('BN SGD', many_bn_sgd, [0.01, 0.05, 0.1, 0.5, 1.0, 2.0, 5.0])"
   ]
  },
  {
   "cell_type": "code",
   "execution_count": 34,
   "metadata": {
    "collapsed": true
   },
   "outputs": [],
   "source": [
    "plot2_train_val('SGD', many_sgd[2], many_bn_sgd[4], add=', $\\\\alpha_{0} = 0.1,\\ \\\\alpha_{BN} = 1.0$')"
   ]
  },
  {
   "cell_type": "code",
   "execution_count": 35,
   "metadata": {
    "collapsed": true
   },
   "outputs": [],
   "source": [
    "plot2_train_val('SGD', many_sgd[0], many_bn_sgd[4], add=', $\\\\alpha_{0} = 0.01,\\ \\\\alpha_{BN} = 1.0$')"
   ]
  },
  {
   "cell_type": "markdown",
   "metadata": {},
   "source": [
    "### Adam plots"
   ]
  },
  {
   "cell_type": "code",
   "execution_count": 36,
   "metadata": {
    "collapsed": true
   },
   "outputs": [],
   "source": [
    "import pickle\n",
    "with open(\"deep/alpha_for_adam\", \"rb\") as file2:\n",
    "    many_adam = pickle.load(file2)\n",
    "    many_bn_adam = pickle.load(file2)"
   ]
  },
  {
   "cell_type": "code",
   "execution_count": 42,
   "metadata": {
    "collapsed": false
   },
   "outputs": [],
   "source": [
    "plot1_through_alphas('Adam', many_adam, [1e-4, 5e-4, 1e-3, 5e-3, 1e-2])"
   ]
  },
  {
   "cell_type": "code",
   "execution_count": 55,
   "metadata": {
    "collapsed": true
   },
   "outputs": [],
   "source": [
    "plot1_through_alphas('BN Adam', many_bn_adam, [1e-4, 5e-4, 1e-3, 5e-3, 1e-2, 5e-2, 1e-1])"
   ]
  },
  {
   "cell_type": "code",
   "execution_count": 57,
   "metadata": {
    "collapsed": true
   },
   "outputs": [],
   "source": [
    "plot2_train_val('Adam', many_momentum[2], many_bn_momentum[3], add=', $\\\\alpha_{0} = 10^{-3},\\ \\\\alpha_{BN} = 5\\cdot 10^{-3}$')"
   ]
  },
  {
   "cell_type": "code",
   "execution_count": 58,
   "metadata": {
    "collapsed": true
   },
   "outputs": [],
   "source": [
    "plot2_train_val('Adam', many_momentum[2], many_bn_momentum[2], add=', $\\\\alpha_{0} = 10^{-3},\\ \\\\alpha_{BN} = 10^{-3}$')"
   ]
  },
  {
   "cell_type": "markdown",
   "metadata": {},
   "source": [
    "### Momentum plots"
   ]
  },
  {
   "cell_type": "code",
   "execution_count": 43,
   "metadata": {
    "collapsed": true
   },
   "outputs": [],
   "source": [
    "import pickle\n",
    "with open(\"deep/alpha_for_momentum\", \"rb\") as file2:\n",
    "    many_momentum = pickle.load(file2)\n",
    "    many_bn_momentum = pickle.load(file2)"
   ]
  },
  {
   "cell_type": "code",
   "execution_count": 45,
   "metadata": {
    "collapsed": false
   },
   "outputs": [],
   "source": [
    "plot1_through_alphas('Momentum', many_momentum, [0.01, 0.05, 0.1, 0.5, 1.0, 2.0, 5.0])"
   ]
  },
  {
   "cell_type": "code",
   "execution_count": 47,
   "metadata": {
    "collapsed": false
   },
   "outputs": [],
   "source": [
    "plot1_through_alphas('BN Momentum', many_bn_momentum, [0.01, 0.05, 0.1, 0.5, 1.0, 2.0, 5.0])"
   ]
  },
  {
   "cell_type": "code",
   "execution_count": 50,
   "metadata": {
    "collapsed": true
   },
   "outputs": [],
   "source": [
    "plot2_train_val('Momentum', many_momentum[1], many_bn_momentum[2], add=', $\\\\alpha_{0} = 0.05,\\ \\\\alpha_{BN} = 0.1$')"
   ]
  },
  {
   "cell_type": "code",
   "execution_count": 52,
   "metadata": {
    "collapsed": true
   },
   "outputs": [],
   "source": [
    "plot2_train_val('Momentum', many_momentum[2], many_bn_momentum[2], add=', $\\\\alpha_{0} = 0.1,\\ \\\\alpha_{BN} = 0.1$')"
   ]
  },
  {
   "cell_type": "code",
   "execution_count": null,
   "metadata": {
    "collapsed": true
   },
   "outputs": [],
   "source": []
  }
 ],
 "metadata": {
  "kernelspec": {
   "display_name": "Python 2",
   "language": "python",
   "name": "python2"
  },
  "language_info": {
   "codemirror_mode": {
    "name": "ipython",
    "version": 2
   },
   "file_extension": ".py",
   "mimetype": "text/x-python",
   "name": "python",
   "nbconvert_exporter": "python",
   "pygments_lexer": "ipython2",
   "version": "2.7.6"
  }
 },
 "nbformat": 4,
 "nbformat_minor": 0
}

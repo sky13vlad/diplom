{
 "cells": [
  {
   "cell_type": "code",
   "execution_count": 5,
   "metadata": {
    "collapsed": false
   },
   "outputs": [],
   "source": [
    "import main\n",
    "import imp\n",
    "import lasagne"
   ]
  },
  {
   "cell_type": "code",
   "execution_count": 19,
   "metadata": {
    "collapsed": false
   },
   "outputs": [
    {
     "name": "stdout",
     "output_type": "stream",
     "text": [
      "Building model and compiling functions...\n",
      "Starting training...\n",
      "Epoch 1 of 10 took 1.107s\n",
      "  training loss:\t\t0.866682\n",
      "  validation loss:\t\t0.386508\n",
      "  validation accuracy:\t\t89.45 %\n",
      "Epoch 2 of 10 took 1.277s\n",
      "  training loss:\t\t0.373497\n",
      "  validation loss:\t\t0.303601\n",
      "  validation accuracy:\t\t91.44 %\n",
      "Epoch 3 of 10 took 1.213s\n",
      "  training loss:\t\t0.313532\n",
      "  validation loss:\t\t0.274674\n",
      "  validation accuracy:\t\t92.07 %\n",
      "Epoch 4 of 10 took 1.090s\n",
      "  training loss:\t\t0.279427\n",
      "  validation loss:\t\t0.244822\n",
      "  validation accuracy:\t\t93.01 %\n",
      "Epoch 5 of 10 took 1.031s\n",
      "  training loss:\t\t0.258038\n",
      "  validation loss:\t\t0.230986\n",
      "  validation accuracy:\t\t93.30 %\n",
      "Epoch 6 of 10 took 0.993s\n",
      "  training loss:\t\t0.236985\n",
      "  validation loss:\t\t0.218546\n",
      "  validation accuracy:\t\t93.87 %\n",
      "Epoch 7 of 10 took 1.072s\n",
      "  training loss:\t\t0.221165\n",
      "  validation loss:\t\t0.205174\n",
      "  validation accuracy:\t\t94.08 %\n",
      "Epoch 8 of 10 took 1.043s\n",
      "  training loss:\t\t0.206480\n",
      "  validation loss:\t\t0.193317\n",
      "  validation accuracy:\t\t94.64 %\n",
      "Epoch 9 of 10 took 1.081s\n",
      "  training loss:\t\t0.194010\n",
      "  validation loss:\t\t0.189737\n",
      "  validation accuracy:\t\t94.71 %\n",
      "Epoch 10 of 10 took 1.009s\n",
      "  training loss:\t\t0.182898\n",
      "  validation loss:\t\t0.182019\n",
      "  validation accuracy:\t\t94.94 %\n",
      "Final results:\n",
      "  test loss:\t\t\t0.183140\n",
      "  test accuracy:\t\t94.82 %\n"
     ]
    },
    {
     "data": {
      "text/plain": [
       "{'test_acc': 94.819999999999993,\n",
       " 'test_err': 0.18314039762861362,\n",
       " 'train_acc': array([ 77.964,  89.326,  90.892,  91.94 ,  92.588,  93.16 ,  93.678,\n",
       "         94.102,  94.432,  94.72 ]),\n",
       " 'train_err': array([ 0.86668154,  0.37349728,  0.31353192,  0.27942654,  0.25803796,\n",
       "         0.23698495,  0.22116463,  0.20647981,  0.1940101 ,  0.18289797]),\n",
       " 'val_acc': array([ 89.45,  91.44,  92.07,  93.01,  93.3 ,  93.87,  94.08,  94.64,\n",
       "         94.71,  94.94]),\n",
       " 'val_err': array([ 0.3865075 ,  0.30360107,  0.27467438,  0.24482161,  0.23098565,\n",
       "         0.21854645,  0.20517355,  0.1933166 ,  0.18973688,  0.18201874])}"
      ]
     },
     "execution_count": 19,
     "metadata": {},
     "output_type": "execute_result"
    }
   ],
   "source": [
    "imp.reload(main)\n",
    "main.run_sgd_momentum(num_epochs=10, echo=True)"
   ]
  },
  {
   "cell_type": "code",
   "execution_count": 20,
   "metadata": {
    "collapsed": false
   },
   "outputs": [
    {
     "name": "stdout",
     "output_type": "stream",
     "text": [
      "Building model and compiling functions...\n",
      "Starting training...\n",
      "Epoch 1 of 10 took 2.325s\n",
      "  training loss:\t\t0.560584\n",
      "  validation loss:\t\t0.263489\n",
      "  validation accuracy:\t\t93.14 %\n",
      "Epoch 2 of 10 took 2.419s\n",
      "  training loss:\t\t0.241403\n",
      "  validation loss:\t\t0.191483\n",
      "  validation accuracy:\t\t94.84 %\n",
      "Epoch 3 of 10 took 2.282s\n",
      "  training loss:\t\t0.183204\n",
      "  validation loss:\t\t0.160557\n",
      "  validation accuracy:\t\t95.70 %\n",
      "Epoch 4 of 10 took 2.350s\n",
      "  training loss:\t\t0.150982\n",
      "  validation loss:\t\t0.141390\n",
      "  validation accuracy:\t\t96.11 %\n",
      "Epoch 5 of 10 took 2.371s\n",
      "  training loss:\t\t0.129462\n",
      "  validation loss:\t\t0.127092\n",
      "  validation accuracy:\t\t96.37 %\n",
      "Epoch 6 of 10 took 2.345s\n",
      "  training loss:\t\t0.113192\n",
      "  validation loss:\t\t0.118893\n",
      "  validation accuracy:\t\t96.62 %\n",
      "Epoch 7 of 10 took 2.509s\n",
      "  training loss:\t\t0.100747\n",
      "  validation loss:\t\t0.111307\n",
      "  validation accuracy:\t\t96.70 %\n",
      "Epoch 8 of 10 took 2.481s\n",
      "  training loss:\t\t0.089002\n",
      "  validation loss:\t\t0.106355\n",
      "  validation accuracy:\t\t96.80 %\n",
      "Epoch 9 of 10 took 2.338s\n",
      "  training loss:\t\t0.080488\n",
      "  validation loss:\t\t0.102257\n",
      "  validation accuracy:\t\t96.91 %\n",
      "Epoch 10 of 10 took 2.330s\n",
      "  training loss:\t\t0.072782\n",
      "  validation loss:\t\t0.100168\n",
      "  validation accuracy:\t\t96.97 %\n",
      "Final results:\n",
      "  test loss:\t\t\t0.100926\n",
      "  test accuracy:\t\t97.05 %\n"
     ]
    }
   ],
   "source": [
    "imp.reload(main)\n",
    "q = main.run_sgd_momentum(num_epochs=10, echo=True, BN=True)"
   ]
  },
  {
   "cell_type": "code",
   "execution_count": 21,
   "metadata": {
    "collapsed": false
   },
   "outputs": [
    {
     "data": {
      "text/plain": [
       "{'test_acc': 97.049999999999997,\n",
       " 'test_err': 0.10092574176837163,\n",
       " 'train_acc': array([ 85.374,  93.526,  94.95 ,  95.886,  96.452,  96.916,  97.238,\n",
       "         97.626,  97.868,  98.094]),\n",
       " 'train_err': array([ 0.56058444,  0.24140305,  0.1832037 ,  0.15098183,  0.12946205,\n",
       "         0.11319181,  0.10074684,  0.0890022 ,  0.08048755,  0.07278217]),\n",
       " 'val_acc': array([ 93.14,  94.84,  95.7 ,  96.11,  96.37,  96.62,  96.7 ,  96.8 ,\n",
       "         96.91,  96.97]),\n",
       " 'val_err': array([ 0.26348897,  0.19148348,  0.16055742,  0.1413903 ,  0.12709233,\n",
       "         0.11889285,  0.11130714,  0.10635526,  0.10225715,  0.10016802])}"
      ]
     },
     "execution_count": 21,
     "metadata": {},
     "output_type": "execute_result"
    }
   ],
   "source": [
    "q"
   ]
  },
  {
   "cell_type": "code",
   "execution_count": null,
   "metadata": {
    "collapsed": true
   },
   "outputs": [],
   "source": []
  }
 ],
 "metadata": {
  "kernelspec": {
   "display_name": "Python 2",
   "language": "python",
   "name": "python2"
  },
  "language_info": {
   "codemirror_mode": {
    "name": "ipython",
    "version": 2
   },
   "file_extension": ".py",
   "mimetype": "text/x-python",
   "name": "python",
   "nbconvert_exporter": "python",
   "pygments_lexer": "ipython2",
   "version": "2.7.6"
  }
 },
 "nbformat": 4,
 "nbformat_minor": 0
}

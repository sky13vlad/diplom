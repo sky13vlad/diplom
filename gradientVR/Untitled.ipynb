{
 "cells": [
  {
   "cell_type": "code",
   "execution_count": 3,
   "metadata": {
    "collapsed": false
   },
   "outputs": [],
   "source": [
    "import numpy as np\n",
    "import sys\n",
    "import main\n",
    "import lasagne\n",
    "import theano\n",
    "import theano.tensor as T\n",
    "import matplotlib.pyplot as plt"
   ]
  },
  {
   "cell_type": "code",
   "execution_count": 17,
   "metadata": {
    "collapsed": true
   },
   "outputs": [],
   "source": [
    "sgd = []"
   ]
  },
  {
   "cell_type": "code",
   "execution_count": 10,
   "metadata": {
    "collapsed": false
   },
   "outputs": [
    {
     "name": "stdout",
     "output_type": "stream",
     "text": [
      "CPU times: user 7h 24min 45s, sys: 6h 51min 13s, total: 14h 15min 58s\n",
      "Wall time: 1h 53min 21s\n"
     ]
    }
   ],
   "source": [
    "%%time\n",
    "sgd = []\n",
    "for i in range(20):\n",
    "    temp = main.run_method(lasagne.updates.sgd, num_epochs=50)\n",
    "    sgd.append(temp['angle'])"
   ]
  },
  {
   "cell_type": "code",
   "execution_count": 9,
   "metadata": {
    "collapsed": false
   },
   "outputs": [
    {
     "name": "stdout",
     "output_type": "stream",
     "text": [
      "CPU times: user 11h 22min 48s, sys: 15h 54min 5s, total: 1d 3h 16min 53s\n",
      "Wall time: 4h 11min 32s\n"
     ]
    }
   ],
   "source": [
    "%%time\n",
    "bn_sgd = []\n",
    "for i in range(20):\n",
    "    temp = main.run_method(lasagne.updates.sgd, num_epochs=50, BN=True)\n",
    "    bn_sgd.append(temp['angle'])"
   ]
  },
  {
   "cell_type": "code",
   "execution_count": 12,
   "metadata": {
    "collapsed": true
   },
   "outputs": [],
   "source": [
    "import pickle\n",
    "with open('sgd_angle', 'wb') as f:\n",
    "    pickle.dump(sgd, f)\n",
    "    pickle.dump(bn_sgd, f)"
   ]
  },
  {
   "cell_type": "code",
   "execution_count": null,
   "metadata": {
    "collapsed": true
   },
   "outputs": [],
   "source": [
    "# %%time\n",
    "# sgd2 = []\n",
    "# for i in range(100):\n",
    "#     temp = main.run_method(lasagne.updates.sgd, num_epochs=50)\n",
    "#     sgd2.append(temp['angle'])"
   ]
  },
  {
   "cell_type": "code",
   "execution_count": 51,
   "metadata": {
    "collapsed": false
   },
   "outputs": [],
   "source": [
    "plt.plot(np.max(bn_sgd, axis=0) / np.pi * 180, 'r')\n",
    "plt.plot(np.max(sgd, axis=0) / np.pi * 180, 'b')\n",
    "plt.xlabel('every 25 iteration (1/4 epoch)')\n",
    "plt.ylabel('angle deviation')\n",
    "plt.title('SGD, maximum angle deviation')\n",
    "plt.legend(['BN SGD', 'SGD'], loc=0, fontsize=12)\n",
    "plt.xlim(xmax=199)\n",
    "plt.show()"
   ]
  },
  {
   "cell_type": "markdown",
   "metadata": {},
   "source": [
    "### Отклонение градиентов от матожидания"
   ]
  },
  {
   "cell_type": "code",
   "execution_count": 50,
   "metadata": {
    "collapsed": false
   },
   "outputs": [
    {
     "data": {
      "text/plain": [
       "<module 'main' from 'main.py'>"
      ]
     },
     "execution_count": 50,
     "metadata": {},
     "output_type": "execute_result"
    }
   ],
   "source": [
    "import imp\n",
    "imp.reload(main)"
   ]
  },
  {
   "cell_type": "code",
   "execution_count": 65,
   "metadata": {
    "collapsed": false
   },
   "outputs": [
    {
     "name": "stdout",
     "output_type": "stream",
     "text": [
      "CPU times: user 43min 11s, sys: 46min 46s, total: 1h 29min 58s\n",
      "Wall time: 12min 57s\n"
     ]
    }
   ],
   "source": [
    "%%time\n",
    "a = []\n",
    "for i in range(20):\n",
    "    temp = main.run_method(lasagne.updates.sgd, num_epochs=5)\n",
    "    a.append(temp['grads'])"
   ]
  },
  {
   "cell_type": "code",
   "execution_count": 77,
   "metadata": {
    "collapsed": false
   },
   "outputs": [
    {
     "name": "stdout",
     "output_type": "stream",
     "text": [
      "CPU times: user 34min 20s, sys: 52min 7s, total: 1h 26min 27s\n",
      "Wall time: 14min 33s\n"
     ]
    }
   ],
   "source": [
    "%%time\n",
    "b = []\n",
    "for i in range(10):\n",
    "    temp = main.run_method(lasagne.updates.sgd, num_epochs=5, BN=True)\n",
    "    b.append(temp['grads'])"
   ]
  },
  {
   "cell_type": "code",
   "execution_count": null,
   "metadata": {
    "collapsed": true
   },
   "outputs": [],
   "source": []
  },
  {
   "cell_type": "code",
   "execution_count": 89,
   "metadata": {
    "collapsed": false
   },
   "outputs": [],
   "source": [
    "aa = []\n",
    "mu = np.mean(a, axis=0)\n",
    "for x in a:\n",
    "    temp = []\n",
    "    for i in range(20):\n",
    "        angle = np.arccos(mu[i].dot(x[i]) / np.linalg.norm(x[i]) / np.linalg.norm(mu[i]))\n",
    "        temp.append(angle)\n",
    "    aa.append(temp)\n",
    "aa = np.mean(aa, axis=0)"
   ]
  },
  {
   "cell_type": "code",
   "execution_count": 90,
   "metadata": {
    "collapsed": false
   },
   "outputs": [],
   "source": [
    "bb = []\n",
    "mu = np.mean(b, axis=0)\n",
    "for x in b:\n",
    "    temp = []\n",
    "    for i in range(20):\n",
    "        angle = np.arccos(mu[i].dot(x[i]) / np.linalg.norm(x[i]) / np.linalg.norm(mu[i]))\n",
    "        temp.append(angle)\n",
    "    bb.append(temp)\n",
    "bb = np.mean(bb, axis=0)"
   ]
  },
  {
   "cell_type": "code",
   "execution_count": 94,
   "metadata": {
    "collapsed": false
   },
   "outputs": [],
   "source": [
    "plt.plot(aa, 'b')\n",
    "plt.plot(bb, 'r')\n",
    "plt.show()"
   ]
  },
  {
   "cell_type": "code",
   "execution_count": null,
   "metadata": {
    "collapsed": true
   },
   "outputs": [],
   "source": []
  }
 ],
 "metadata": {
  "kernelspec": {
   "display_name": "Python 2",
   "language": "python",
   "name": "python2"
  },
  "language_info": {
   "codemirror_mode": {
    "name": "ipython",
    "version": 2
   },
   "file_extension": ".py",
   "mimetype": "text/x-python",
   "name": "python",
   "nbconvert_exporter": "python",
   "pygments_lexer": "ipython2",
   "version": "2.7.6"
  }
 },
 "nbformat": 4,
 "nbformat_minor": 0
}

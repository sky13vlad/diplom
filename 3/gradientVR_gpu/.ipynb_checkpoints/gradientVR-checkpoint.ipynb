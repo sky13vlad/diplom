{
 "cells": [
  {
   "cell_type": "code",
   "execution_count": null,
   "metadata": {
    "collapsed": false
   },
   "outputs": [],
   "source": [
    "import numpy as np\n",
    "import sys\n",
    "import main\n",
    "import lasagne\n",
    "import theano\n",
    "import theano.tensor as T\n",
    "import matplotlib.pyplot as plt"
   ]
  },
  {
   "cell_type": "code",
   "execution_count": null,
   "metadata": {
    "collapsed": false
   },
   "outputs": [],
   "source": [
    "%%time\n",
    "temp2 = main.run_method(lasagne.updates.sgd, num_epochs=50, BN=True)"
   ]
  },
  {
   "cell_type": "code",
   "execution_count": null,
   "metadata": {
    "collapsed": false
   },
   "outputs": [],
   "source": [
    "%%time\n",
    "sgd = []\n",
    "for i in range(20):\n",
    "    temp = main.run_method(lasagne.updates.sgd, num_epochs=50)\n",
    "    sgd.append(temp['angle'])"
   ]
  },
  {
   "cell_type": "code",
   "execution_count": null,
   "metadata": {
    "collapsed": false
   },
   "outputs": [],
   "source": [
    "%%time\n",
    "bn_sgd = []\n",
    "for i in range(20):\n",
    "    temp = main.run_method(lasagne.updates.sgd, num_epochs=50, BN=True)\n",
    "    bn_sgd.append(temp['angle'])"
   ]
  },
  {
   "cell_type": "code",
   "execution_count": null,
   "metadata": {
    "collapsed": true
   },
   "outputs": [],
   "source": [
    "import pickle\n",
    "with open('sgd_angle', 'wb') as f:\n",
    "    pickle.dump(sgd, f)\n",
    "    pickle.dump(bn_sgd, f)"
   ]
  },
  {
   "cell_type": "code",
   "execution_count": null,
   "metadata": {
    "collapsed": true
   },
   "outputs": [],
   "source": [
    "import pickle\n",
    "with open('sgd_angle', 'rb') as f:\n",
    "    sgd = pickle.load(f)\n",
    "    bn_sgd = pickle.load(f)"
   ]
  },
  {
   "cell_type": "code",
   "execution_count": null,
   "metadata": {
    "collapsed": true
   },
   "outputs": [],
   "source": [
    "# %%time\n",
    "# sgd2 = []\n",
    "# for i in range(100):\n",
    "#     temp = main.run_method(lasagne.updates.sgd, num_epochs=50)\n",
    "#     sgd2.append(temp['angle'])"
   ]
  },
  {
   "cell_type": "code",
   "execution_count": null,
   "metadata": {
    "collapsed": false
   },
   "outputs": [],
   "source": [
    "# plt.plot(np.max(bn_sgd, axis=0) / np.pi * 180, 'r')\n",
    "# plt.plot(np.max(sgd, axis=0) / np.pi * 180, 'b')\n",
    "# plt.xlabel('every 25 iteration (1/4 epoch)')\n",
    "# plt.ylabel('angle deviation')\n",
    "# plt.title('SGD, maximum angle deviation')\n",
    "# plt.legend(['BN SGD', 'SGD'], loc=0, fontsize=12)\n",
    "# plt.xlim(xmax=199)\n",
    "# plt.show()"
   ]
  },
  {
   "cell_type": "code",
   "execution_count": null,
   "metadata": {
    "collapsed": true
   },
   "outputs": [],
   "source": []
  }
 ],
 "metadata": {
  "kernelspec": {
   "display_name": "Python 2",
   "language": "python",
   "name": "python2"
  },
  "language_info": {
   "codemirror_mode": {
    "name": "ipython",
    "version": 2
   },
   "file_extension": ".py",
   "mimetype": "text/x-python",
   "name": "python",
   "nbconvert_exporter": "python",
   "pygments_lexer": "ipython2",
   "version": "2.7.6"
  }
 },
 "nbformat": 4,
 "nbformat_minor": 0
}

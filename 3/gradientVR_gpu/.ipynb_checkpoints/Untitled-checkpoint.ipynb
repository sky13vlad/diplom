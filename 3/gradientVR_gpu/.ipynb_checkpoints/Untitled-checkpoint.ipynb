{
 "cells": [
  {
   "cell_type": "code",
   "execution_count": 5,
   "metadata": {
    "collapsed": false
   },
   "outputs": [],
   "source": [
    "import numpy as np\n",
    "import sys\n",
    "import lasagne\n",
    "import theano\n",
    "import theano.tensor as T\n",
    "import matplotlib.pyplot as plt"
   ]
  },
  {
   "cell_type": "code",
   "execution_count": 6,
   "metadata": {
    "collapsed": true
   },
   "outputs": [],
   "source": [
    "import pickle\n",
    "with open('sgd_angle', 'rb') as f:\n",
    "    sgd = pickle.load(f)"
   ]
  },
  {
   "cell_type": "code",
   "execution_count": 7,
   "metadata": {
    "collapsed": true
   },
   "outputs": [],
   "source": [
    "import pickle\n",
    "with open('bn_sgd_angle', 'rb') as f:\n",
    "    bn_sgd = pickle.load(f)"
   ]
  },
  {
   "cell_type": "code",
   "execution_count": 8,
   "metadata": {
    "collapsed": true
   },
   "outputs": [],
   "source": [
    "import pickle\n",
    "with open('momentum_angle', 'rb') as f:\n",
    "    momentum = pickle.load(f)"
   ]
  },
  {
   "cell_type": "code",
   "execution_count": 9,
   "metadata": {
    "collapsed": true
   },
   "outputs": [],
   "source": [
    "import pickle\n",
    "with open('bn_momentum_angle', 'rb') as f:\n",
    "    bn_momentum = pickle.load(f)"
   ]
  },
  {
   "cell_type": "code",
   "execution_count": 13,
   "metadata": {
    "collapsed": false
   },
   "outputs": [],
   "source": [
    "plt.plot(np.mean(bn_momentum, axis=0) / np.pi * 180, 'g')\n",
    "plt.plot(np.mean(momentum, axis=0) / np.pi * 180, 'k')\n",
    "plt.plot(np.mean(sgd, axis=0) / np.pi * 180, 'b')\n",
    "plt.plot(np.mean(bn_sgd, axis=0) / np.pi * 180, 'r')\n",
    "plt.xlabel('every 25 iteration (1/4 epoch)')\n",
    "plt.ylabel('angle deviation')\n",
    "plt.title('SGD on mlp, mean angle deviation')\n",
    "plt.legend(['BN SGDm', 'SGDm', 'SGD', 'BN SGD'], loc=0, fontsize=12)\n",
    "plt.xlim(xmax=199)\n",
    "plt.show()"
   ]
  },
  {
   "cell_type": "code",
   "execution_count": null,
   "metadata": {
    "collapsed": true
   },
   "outputs": [],
   "source": []
  }
 ],
 "metadata": {
  "kernelspec": {
   "display_name": "Python 2",
   "language": "python",
   "name": "python2"
  },
  "language_info": {
   "codemirror_mode": {
    "name": "ipython",
    "version": 2
   },
   "file_extension": ".py",
   "mimetype": "text/x-python",
   "name": "python",
   "nbconvert_exporter": "python",
   "pygments_lexer": "ipython2",
   "version": "2.7.6"
  }
 },
 "nbformat": 4,
 "nbformat_minor": 0
}

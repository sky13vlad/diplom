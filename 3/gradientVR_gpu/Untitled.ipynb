{
 "cells": [
  {
   "cell_type": "code",
   "execution_count": 1,
   "metadata": {
    "collapsed": false
   },
   "outputs": [],
   "source": [
    "import numpy as np\n",
    "import sys\n",
    "import lasagne\n",
    "import theano\n",
    "import theano.tensor as T\n",
    "import matplotlib.pyplot as plt"
   ]
  },
  {
   "cell_type": "code",
   "execution_count": 8,
   "metadata": {
    "collapsed": true
   },
   "outputs": [],
   "source": [
    "import pickle\n",
    "with open('sgd_angle', 'rb') as f:\n",
    "    sgd = pickle.load(f)"
   ]
  },
  {
   "cell_type": "code",
   "execution_count": 3,
   "metadata": {
    "collapsed": true
   },
   "outputs": [],
   "source": [
    "import pickle\n",
    "with open('bn_sgd_angle', 'rb') as f:\n",
    "    bn_sgd = pickle.load(f)"
   ]
  },
  {
   "cell_type": "code",
   "execution_count": 4,
   "metadata": {
    "collapsed": true
   },
   "outputs": [],
   "source": [
    "import pickle\n",
    "with open('momentum_angle', 'rb') as f:\n",
    "    momentum = pickle.load(f)"
   ]
  },
  {
   "cell_type": "code",
   "execution_count": 44,
   "metadata": {
    "collapsed": true
   },
   "outputs": [],
   "source": [
    "import pickle\n",
    "with open('bn_momentum_angle', 'rb') as f:\n",
    "    bn_momentum = pickle.load(f)"
   ]
  },
  {
   "cell_type": "code",
   "execution_count": 6,
   "metadata": {
    "collapsed": false
   },
   "outputs": [],
   "source": [
    "plt.plot(np.mean(bn_momentum, axis=0) / np.pi * 180, 'g')\n",
    "plt.plot(np.mean(momentum, axis=0) / np.pi * 180, 'k')\n",
    "plt.plot(np.mean(sgd, axis=0) / np.pi * 180, 'b')\n",
    "plt.plot(np.mean(bn_sgd, axis=0) / np.pi * 180, 'r')\n",
    "plt.xlabel('every 25 iteration (1/4 epoch)')\n",
    "plt.ylabel('angle deviation')\n",
    "plt.title('SGD on mlp, mean angle deviation')\n",
    "plt.legend(['BN SGDm', 'SGDm', 'SGD', 'BN SGD'], loc=0, fontsize=12)\n",
    "plt.xlim(xmax=199)\n",
    "plt.show()"
   ]
  },
  {
   "cell_type": "code",
   "execution_count": null,
   "metadata": {
    "collapsed": true
   },
   "outputs": [],
   "source": []
  },
  {
   "cell_type": "code",
   "execution_count": 33,
   "metadata": {
    "collapsed": true
   },
   "outputs": [],
   "source": [
    "import pickle\n",
    "with open('adam_angle', 'rb') as f:\n",
    "    adam = pickle.load(f)"
   ]
  },
  {
   "cell_type": "code",
   "execution_count": 34,
   "metadata": {
    "collapsed": true
   },
   "outputs": [],
   "source": [
    "import pickle\n",
    "with open('bn_adam_angle', 'rb') as f:\n",
    "    bn_adam = pickle.load(f)"
   ]
  },
  {
   "cell_type": "code",
   "execution_count": 13,
   "metadata": {
    "collapsed": true
   },
   "outputs": [],
   "source": [
    "plt.plot(np.mean(adam, axis=0) / np.pi * 180, 'b')\n",
    "plt.plot(np.mean(bn_adam, axis=0) / np.pi * 180, 'r')\n",
    "plt.xlabel('every 25 iteration (1/4 epoch)')\n",
    "plt.ylabel('angle deviation')\n",
    "plt.title('Adam on mlp, mean angle deviation')\n",
    "plt.legend(['Adam', 'BN Adam'], loc=0, fontsize=12)\n",
    "plt.xlim(xmax=199)\n",
    "plt.show()"
   ]
  },
  {
   "cell_type": "code",
   "execution_count": null,
   "metadata": {
    "collapsed": true
   },
   "outputs": [],
   "source": []
  },
  {
   "cell_type": "code",
   "execution_count": 103,
   "metadata": {
    "collapsed": true
   },
   "outputs": [],
   "source": [
    "import pickle\n",
    "with open('sgd_angle_w', 'rb') as f:\n",
    "    sgd_w = pickle.load(f)"
   ]
  },
  {
   "cell_type": "code",
   "execution_count": 104,
   "metadata": {
    "collapsed": true
   },
   "outputs": [],
   "source": [
    "import pickle\n",
    "with open('bn_sgd_angle_w', 'rb') as f:\n",
    "    bn_sgd_w = pickle.load(f)"
   ]
  },
  {
   "cell_type": "code",
   "execution_count": 105,
   "metadata": {
    "collapsed": true
   },
   "outputs": [],
   "source": [
    "import pickle\n",
    "with open('momentum_angle_w', 'rb') as f:\n",
    "    momentum_w = pickle.load(f)"
   ]
  },
  {
   "cell_type": "code",
   "execution_count": 106,
   "metadata": {
    "collapsed": true
   },
   "outputs": [],
   "source": [
    "import pickle\n",
    "with open('bn_momentum_angle_w', 'rb') as f:\n",
    "    bn_momentum_w = pickle.load(f)"
   ]
  },
  {
   "cell_type": "code",
   "execution_count": 107,
   "metadata": {
    "collapsed": true
   },
   "outputs": [],
   "source": [
    "import pickle\n",
    "with open('adam_angle_w', 'rb') as f:\n",
    "    adam_w = pickle.load(f)"
   ]
  },
  {
   "cell_type": "code",
   "execution_count": 108,
   "metadata": {
    "collapsed": true
   },
   "outputs": [],
   "source": [
    "import pickle\n",
    "with open('bn_adam_angle_w', 'rb') as f:\n",
    "    bn_adam_w = pickle.load(f)"
   ]
  },
  {
   "cell_type": "code",
   "execution_count": 109,
   "metadata": {
    "collapsed": true
   },
   "outputs": [],
   "source": [
    "import pickle\n",
    "with open('adam_angle_cos', 'rb') as f:\n",
    "    adam_cos = pickle.load(f)"
   ]
  },
  {
   "cell_type": "code",
   "execution_count": 114,
   "metadata": {
    "collapsed": false
   },
   "outputs": [],
   "source": [
    "plt.plot(np.mean(bn_sgd, axis=0) / np.pi * 180, 'r')\n",
    "plt.plot(np.mean(sgd_w, axis=0) / np.pi * 180, 'b')\n",
    "plt.plot(np.mean(bn_adam_w, axis=0) / np.pi * 180, 'y')\n",
    "plt.plot(np.mean(adam_w, axis=0) / np.pi * 180, 'c')\n",
    "plt.xlabel('every 25 iteration (1/4 epoch)')\n",
    "plt.ylabel('angle deviation')\n",
    "plt.title('SGD on mlp, mean angle deviation')\n",
    "plt.legend(['SGD-W', 'SGD', 'BN SGD-W', 'BN SGD'], loc=0, fontsize=12)\n",
    "plt.xlim(xmax=199)\n",
    "plt.show()"
   ]
  },
  {
   "cell_type": "code",
   "execution_count": 75,
   "metadata": {
    "collapsed": false
   },
   "outputs": [
    {
     "data": {
      "text/plain": [
       "-0.7322050198710871"
      ]
     },
     "execution_count": 75,
     "metadata": {},
     "output_type": "execute_result"
    }
   ],
   "source": [
    "x = -np.random.rand(1000)\n",
    "y = np.random.rand(1000)\n",
    "x.dot(y) / (np.linalg.norm(x) * np.linalg.norm(y))"
   ]
  },
  {
   "cell_type": "code",
   "execution_count": null,
   "metadata": {
    "collapsed": true
   },
   "outputs": [],
   "source": []
  }
 ],
 "metadata": {
  "kernelspec": {
   "display_name": "Python 2",
   "language": "python",
   "name": "python2"
  },
  "language_info": {
   "codemirror_mode": {
    "name": "ipython",
    "version": 2
   },
   "file_extension": ".py",
   "mimetype": "text/x-python",
   "name": "python",
   "nbconvert_exporter": "python",
   "pygments_lexer": "ipython2",
   "version": "2.7.6"
  }
 },
 "nbformat": 4,
 "nbformat_minor": 0
}

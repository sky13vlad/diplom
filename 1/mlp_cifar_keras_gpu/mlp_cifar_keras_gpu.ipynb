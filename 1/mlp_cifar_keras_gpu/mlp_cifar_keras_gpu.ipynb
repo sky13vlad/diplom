{
 "cells": [
  {
   "cell_type": "code",
   "execution_count": 1,
   "metadata": {
    "collapsed": false
   },
   "outputs": [],
   "source": [
    "import main\n",
    "import numpy as np\n",
    "import matplotlib.pyplot as plt\n",
    "# %matplotlib inline\n",
    "import lasagne\n",
    "import theano\n",
    "import theano.tensor as T"
   ]
  },
  {
   "cell_type": "code",
   "execution_count": 2,
   "metadata": {
    "collapsed": false
   },
   "outputs": [
    {
     "data": {
      "text/plain": [
       "<module 'main' from 'main.pyc'>"
      ]
     },
     "execution_count": 2,
     "metadata": {},
     "output_type": "execute_result"
    }
   ],
   "source": [
    "import imp\n",
    "imp.reload(main)"
   ]
  },
  {
   "cell_type": "code",
   "execution_count": 3,
   "metadata": {
    "collapsed": true
   },
   "outputs": [],
   "source": [
    "def make_seed(n):\n",
    "    lasagne.random.set_rng(np.random)\n",
    "    np.random.seed(n)"
   ]
  },
  {
   "cell_type": "code",
   "execution_count": 9,
   "metadata": {
    "collapsed": false
   },
   "outputs": [
    {
     "name": "stdout",
     "output_type": "stream",
     "text": [
      "CPU times: user 22min 4s, sys: 37 s, total: 22min 41s\n",
      "Wall time: 22min 43s\n"
     ]
    }
   ],
   "source": [
    "%%time\n",
    "make_seed(1)\n",
    "sgd1 = main.run_method(lasagne.updates.sgd, dataset=\"CIFAR-10\", HL=3, num_epochs=50, alpha=1e-3)"
   ]
  },
  {
   "cell_type": "code",
   "execution_count": 10,
   "metadata": {
    "collapsed": false
   },
   "outputs": [
    {
     "name": "stdout",
     "output_type": "stream",
     "text": [
      "CPU times: user 22min 18s, sys: 50 s, total: 23min 8s\n",
      "Wall time: 23min 12s\n"
     ]
    }
   ],
   "source": [
    "%%time\n",
    "make_seed(1)\n",
    "sgd2 = main.run_method(lasagne.updates.sgd, dataset=\"CIFAR-10\", HL=3, num_epochs=50, alpha=1e-2)"
   ]
  },
  {
   "cell_type": "code",
   "execution_count": 11,
   "metadata": {
    "collapsed": false
   },
   "outputs": [
    {
     "name": "stdout",
     "output_type": "stream",
     "text": [
      "CPU times: user 21min 57s, sys: 44.9 s, total: 22min 42s\n",
      "Wall time: 22min 45s\n"
     ]
    }
   ],
   "source": [
    "%%time\n",
    "make_seed(1)\n",
    "sgd3 = main.run_method(lasagne.updates.sgd, dataset=\"CIFAR-10\", HL=3, num_epochs=50, alpha=1e-1)"
   ]
  },
  {
   "cell_type": "code",
   "execution_count": 12,
   "metadata": {
    "collapsed": false
   },
   "outputs": [],
   "source": [
    "# %%time\n",
    "# make_seed(1)\n",
    "\n",
    "# sgd4 = main.run_method(lasagne.updates.sgd, dataset=\"CIFAR-10\", HL=3, num_epochs=50, alpha=1.0, echo=True)"
   ]
  },
  {
   "cell_type": "code",
   "execution_count": 5,
   "metadata": {
    "collapsed": true
   },
   "outputs": [],
   "source": [
    "# import pickle\n",
    "# with open('sgd', 'wb') as f:\n",
    "#     pickle.dump(sgd1, f)\n",
    "#     pickle.dump(sgd2, f)\n",
    "#     pickle.dump(sgd3, f)\n",
    "# #     pickle.dump(sgd4, f)"
   ]
  },
  {
   "cell_type": "code",
   "execution_count": 4,
   "metadata": {
    "collapsed": true
   },
   "outputs": [],
   "source": [
    "import pickle\n",
    "with open('sgd', 'rb') as f:\n",
    "    sgd1 = pickle.load(f)\n",
    "    sgd2 = pickle.load(f)\n",
    "    sgd3 = pickle.load(f)"
   ]
  },
  {
   "cell_type": "code",
   "execution_count": 74,
   "metadata": {
    "collapsed": false,
    "scrolled": true
   },
   "outputs": [],
   "source": [
    "plt.figure(figsize=(10, 8))\n",
    "plt.plot(sgd1['train_acc'], 'b--')\n",
    "plt.plot(sgd1['val_acc'], 'b')\n",
    "plt.plot(sgd2['train_acc'], 'g--')\n",
    "plt.plot(sgd2['val_acc'], 'g')\n",
    "plt.plot(sgd3['train_acc'], 'r--')\n",
    "plt.plot(sgd3['val_acc'], 'r')\n",
    "# plt.plot(sgd4['train_acc'], 'k--')\n",
    "# plt.plot(sgd4['val_acc'], 'k')\n",
    "plt.ylim(ymax=101)\n",
    "plt.legend(['train, 1e-3', 'validation, 1e-3', 'train, 1e-2', 'validation, 1e-2',\n",
    "           'train, 1e-1', 'validation, 1e-1', 'train, 1.0', 'validation, 1.0'], loc=0, fontsize=12)\n",
    "plt.xlim(xmax=49)\n",
    "plt.xlabel('epochs')\n",
    "plt.ylabel('accuracy')\n",
    "# plt.title('SGD, MLP (3HL) MNIST', fontsize=13)\n",
    "# plt.savefig(\"sgd_mlp_rates_mnist.jpg\")\n",
    "plt.show()"
   ]
  },
  {
   "cell_type": "code",
   "execution_count": 9,
   "metadata": {
    "collapsed": false
   },
   "outputs": [
    {
     "name": "stdout",
     "output_type": "stream",
     "text": [
      "CPU times: user 26min 58s, sys: 49.5 s, total: 27min 47s\n",
      "Wall time: 27min 47s\n"
     ]
    }
   ],
   "source": [
    "# %%time\n",
    "# make_seed(1)\n",
    "# bn_sgd1 = main.run_method(lasagne.updates.sgd, HL=3, dataset=\"CIFAR-10\", num_epochs=50, alpha=1e-3, BN=True)"
   ]
  },
  {
   "cell_type": "code",
   "execution_count": 14,
   "metadata": {
    "collapsed": false
   },
   "outputs": [
    {
     "name": "stdout",
     "output_type": "stream",
     "text": [
      "CPU times: user 22min 11s, sys: 1min 49s, total: 24min\n",
      "Wall time: 24min 3s\n"
     ]
    }
   ],
   "source": [
    "%%time\n",
    "make_seed(1)\n",
    "bn_sgd2 = main.run_method(lasagne.updates.sgd, HL=3, dataset=\"CIFAR-10\", num_epochs=50, alpha=1e-2, BN=True)"
   ]
  },
  {
   "cell_type": "code",
   "execution_count": 15,
   "metadata": {
    "collapsed": false
   },
   "outputs": [
    {
     "name": "stdout",
     "output_type": "stream",
     "text": [
      "CPU times: user 22min 13s, sys: 1min 52s, total: 24min 5s\n",
      "Wall time: 24min 8s\n"
     ]
    }
   ],
   "source": [
    "%%time\n",
    "make_seed(1)\n",
    "bn_sgd3 = main.run_method(lasagne.updates.sgd, HL=3, dataset=\"CIFAR-10\", num_epochs=50, alpha=1e-1, BN=True)"
   ]
  },
  {
   "cell_type": "code",
   "execution_count": 16,
   "metadata": {
    "collapsed": false
   },
   "outputs": [
    {
     "name": "stdout",
     "output_type": "stream",
     "text": [
      "CPU times: user 22min 24s, sys: 1min 48s, total: 24min 13s\n",
      "Wall time: 24min 15s\n"
     ]
    }
   ],
   "source": [
    "%%time\n",
    "make_seed(1)\n",
    "bn_sgd4 = main.run_method(lasagne.updates.sgd, HL=3, dataset=\"CIFAR-10\", num_epochs=50, alpha=1.0, BN=True)"
   ]
  },
  {
   "cell_type": "code",
   "execution_count": 17,
   "metadata": {
    "collapsed": true
   },
   "outputs": [],
   "source": [
    "# import pickle\n",
    "# with open('bn_sgd', 'wb') as f:\n",
    "# #     pickle.dump(bn_sgd1, f)\n",
    "#     pickle.dump(bn_sgd2, f)\n",
    "#     pickle.dump(bn_sgd3, f)\n",
    "#     pickle.dump(bn_sgd4, f)"
   ]
  },
  {
   "cell_type": "code",
   "execution_count": 5,
   "metadata": {
    "collapsed": true
   },
   "outputs": [],
   "source": [
    "import pickle\n",
    "with open('bn_sgd', 'rb') as f:\n",
    "    bn_sgd2 = pickle.load(f)\n",
    "    bn_sgd3 = pickle.load(f)\n",
    "    bn_sgd4 = pickle.load(f)"
   ]
  },
  {
   "cell_type": "code",
   "execution_count": 73,
   "metadata": {
    "collapsed": false
   },
   "outputs": [],
   "source": [
    "plt.figure(figsize=(10, 8))\n",
    "# plt.plot(bn_sgd1['train_acc'], 'b--')\n",
    "# plt.plot(bn_sgd1['val_acc'], 'b')\n",
    "plt.plot(bn_sgd2['train_acc'], 'g--')\n",
    "plt.plot(bn_sgd2['val_acc'], 'g')\n",
    "plt.plot(bn_sgd3['train_acc'], 'r--')\n",
    "plt.plot(bn_sgd3['val_acc'], 'r')\n",
    "plt.plot(bn_sgd4['train_acc'], 'k--')\n",
    "plt.plot(bn_sgd4['val_acc'], 'k')\n",
    "plt.ylim(ymax=101)\n",
    "plt.legend(['train, 1e-3', 'validation, 1e-3', 'train, 1e-2', 'validation, 1e-2',\n",
    "           'train, 1e-1', 'validation, 1e-1', 'train, 1.0', 'validation, 1.0'], loc=0, fontsize=12)\n",
    "plt.xlim(xmax=49)\n",
    "plt.xlabel('epochs')\n",
    "plt.ylabel('accuracy')\n",
    "# plt.title('BN SGD, MLP (3HL) MNIST', fontsize=13)\n",
    "# plt.savefig(\"bn_sgd_mlp_rates_mnist.jpg\")\n",
    "plt.show()"
   ]
  },
  {
   "cell_type": "markdown",
   "metadata": {
    "collapsed": true
   },
   "source": [
    "## ADAM"
   ]
  },
  {
   "cell_type": "code",
   "execution_count": 18,
   "metadata": {
    "collapsed": false
   },
   "outputs": [],
   "source": [
    "# %%time\n",
    "# make_seed(1)\n",
    "# adam1 = main.run_method(lasagne.updates.adam, dataset=\"CIFAR-10\", HL=3, num_epochs=50, alpha=1e-4)"
   ]
  },
  {
   "cell_type": "code",
   "execution_count": 19,
   "metadata": {
    "collapsed": false
   },
   "outputs": [
    {
     "name": "stdout",
     "output_type": "stream",
     "text": [
      "CPU times: user 21min 46s, sys: 23.4 s, total: 22min 9s\n",
      "Wall time: 22min 10s\n"
     ]
    }
   ],
   "source": [
    "%%time\n",
    "make_seed(1)\n",
    "adam2 = main.run_method(lasagne.updates.adam, dataset=\"CIFAR-10\", HL=3, num_epochs=50, alpha=1e-3)"
   ]
  },
  {
   "cell_type": "code",
   "execution_count": 20,
   "metadata": {
    "collapsed": false
   },
   "outputs": [
    {
     "name": "stdout",
     "output_type": "stream",
     "text": [
      "CPU times: user 21min 48s, sys: 24.4 s, total: 22min 12s\n",
      "Wall time: 22min 13s\n"
     ]
    }
   ],
   "source": [
    "%%time\n",
    "make_seed(1)\n",
    "adam3 = main.run_method(lasagne.updates.adam, dataset=\"CIFAR-10\", HL=3, num_epochs=50, alpha=5e-3)"
   ]
  },
  {
   "cell_type": "code",
   "execution_count": 21,
   "metadata": {
    "collapsed": true
   },
   "outputs": [],
   "source": [
    "# import pickle\n",
    "# with open('adam', 'wb') as f:\n",
    "# #     pickle.dump(adam1, f)\n",
    "#     pickle.dump(adam2, f)\n",
    "#     pickle.dump(adam3, f)"
   ]
  },
  {
   "cell_type": "code",
   "execution_count": 6,
   "metadata": {
    "collapsed": true
   },
   "outputs": [],
   "source": [
    "import pickle\n",
    "with open('adam', 'rb') as f:\n",
    "    adam2 = pickle.load(f)\n",
    "    adam3 = pickle.load(f)"
   ]
  },
  {
   "cell_type": "code",
   "execution_count": 11,
   "metadata": {
    "collapsed": false
   },
   "outputs": [],
   "source": [
    "plt.figure(figsize=(10, 8))\n",
    "# plt.plot(adam1['train_acc'], 'b--')\n",
    "# plt.plot(adam1['val_acc'], 'b')\n",
    "plt.plot(adam2['train_acc'], 'g--')\n",
    "plt.plot(adam2['val_acc'], 'g')\n",
    "plt.plot(adam3['train_acc'], 'r--')\n",
    "plt.plot(adam3['val_acc'], 'r')\n",
    "plt.ylim(ymax=101)\n",
    "plt.legend(['train, 1e-4', 'validation, 1e-4', 'train, 1e-3', 'validation, 1e-3',\n",
    "           'train, 5e-3', 'validation, 5e-3'], loc=0, fontsize=12)\n",
    "plt.xlim(xmax=49)\n",
    "plt.xlabel('epochs')\n",
    "plt.ylabel('accuracy')\n",
    "# plt.title('Adam, MLP (3HL) MNIST', fontsize=13)\n",
    "# plt.savefig(\"adam_mlp_rates_mnist.jpg\")\n",
    "plt.show()"
   ]
  },
  {
   "cell_type": "code",
   "execution_count": 18,
   "metadata": {
    "collapsed": false
   },
   "outputs": [
    {
     "name": "stdout",
     "output_type": "stream",
     "text": [
      "CPU times: user 26min 53s, sys: 50.7 s, total: 27min 44s\n",
      "Wall time: 27min 44s\n"
     ]
    }
   ],
   "source": [
    "# %%time\n",
    "# make_seed(1)\n",
    "# bn_adam1 = main.run_method(lasagne.updates.adam, dataset=\"CIFAR-10\", HL=3, num_epochs=50, alpha=1e-4, BN=True)"
   ]
  },
  {
   "cell_type": "code",
   "execution_count": 22,
   "metadata": {
    "collapsed": false
   },
   "outputs": [
    {
     "name": "stdout",
     "output_type": "stream",
     "text": [
      "CPU times: user 21min 55s, sys: 54.9 s, total: 22min 50s\n",
      "Wall time: 22min 52s\n"
     ]
    }
   ],
   "source": [
    "%%time\n",
    "make_seed(1)\n",
    "bn_adam2 = main.run_method(lasagne.updates.adam, dataset=\"CIFAR-10\", HL=3, num_epochs=50, alpha=1e-3, BN=True)"
   ]
  },
  {
   "cell_type": "code",
   "execution_count": 23,
   "metadata": {
    "collapsed": false
   },
   "outputs": [
    {
     "name": "stdout",
     "output_type": "stream",
     "text": [
      "CPU times: user 21min 59s, sys: 52.9 s, total: 22min 52s\n",
      "Wall time: 22min 53s\n"
     ]
    }
   ],
   "source": [
    "%%time\n",
    "make_seed(1)\n",
    "bn_adam3 = main.run_method(lasagne.updates.adam, dataset=\"CIFAR-10\", HL=3, num_epochs=50, alpha=5e-3, BN=True)"
   ]
  },
  {
   "cell_type": "code",
   "execution_count": 57,
   "metadata": {
    "collapsed": false
   },
   "outputs": [
    {
     "name": "stdout",
     "output_type": "stream",
     "text": [
      "CPU times: user 21min 53s, sys: 51.9 s, total: 22min 45s\n",
      "Wall time: 22min 45s\n"
     ]
    }
   ],
   "source": [
    "%%time\n",
    "make_seed(1)\n",
    "bn_adam4 = main.run_method(lasagne.updates.adam, dataset=\"CIFAR-10\", HL=3, num_epochs=50, alpha=1e-2, BN=True)"
   ]
  },
  {
   "cell_type": "code",
   "execution_count": 58,
   "metadata": {
    "collapsed": true
   },
   "outputs": [],
   "source": [
    "# import pickle\n",
    "# with open('bn_adam', 'wb') as f:\n",
    "# #     pickle.dump(bn_adam1, f)\n",
    "#     pickle.dump(bn_adam2, f)\n",
    "#     pickle.dump(bn_adam3, f)\n",
    "#     pickle.dump(bn_adam4, f)"
   ]
  },
  {
   "cell_type": "code",
   "execution_count": 7,
   "metadata": {
    "collapsed": true
   },
   "outputs": [],
   "source": [
    "import pickle\n",
    "with open('bn_adam', 'rb') as f:\n",
    "    bn_adam2 = pickle.load(f)\n",
    "    bn_adam3 = pickle.load(f)\n",
    "    bn_adam4 = pickle.load(f)"
   ]
  },
  {
   "cell_type": "code",
   "execution_count": 13,
   "metadata": {
    "collapsed": false
   },
   "outputs": [],
   "source": [
    "plt.figure(figsize=(10, 8))\n",
    "# plt.plot(bn_adam1['train_acc'], 'b--')\n",
    "# plt.plot(bn_adam1['val_acc'], 'b')\n",
    "plt.plot(bn_adam2['train_acc'], 'g--')\n",
    "plt.plot(bn_adam2['val_acc'], 'g')\n",
    "plt.plot(bn_adam3['train_acc'], 'r--')\n",
    "plt.plot(bn_adam3['val_acc'], 'r')\n",
    "plt.plot(bn_adam4['train_acc'], 'k--')\n",
    "plt.plot(bn_adam4['val_acc'], 'k')\n",
    "plt.legend(['train, 1e-4', 'validation, 1e-4', 'train, 1e-3', 'validation, 1e-3', \n",
    "            'train, 5e-3', 'validation, 5e-3', 'train, 1e-2', 'validation, 1e-2'], loc=0, fontsize=12)\n",
    "plt.ylim(ymax=60)\n",
    "plt.xlim(xmax=49)\n",
    "plt.xlabel('epochs')\n",
    "plt.ylabel('accuracy')\n",
    "# plt.title('BN Adam, MLP (3HL) MNIST', fontsize=13)\n",
    "# plt.savefig(\"bn_adam_mlp_rates_mnist.jpg\")\n",
    "plt.show()\n"
   ]
  },
  {
   "cell_type": "markdown",
   "metadata": {
    "collapsed": true
   },
   "source": [
    "## MOMENTUM"
   ]
  },
  {
   "cell_type": "code",
   "execution_count": 23,
   "metadata": {
    "collapsed": false
   },
   "outputs": [
    {
     "name": "stdout",
     "output_type": "stream",
     "text": [
      "CPU times: user 27min 17s, sys: 31.9 s, total: 27min 49s\n",
      "Wall time: 27min 50s\n"
     ]
    }
   ],
   "source": [
    "# %%time\n",
    "# make_seed(1)\n",
    "# momentum1 = main.run_method(lasagne.updates.momentum, dataset=\"CIFAR-10\", HL=3, num_epochs=50, alpha=1e-3)"
   ]
  },
  {
   "cell_type": "code",
   "execution_count": 25,
   "metadata": {
    "collapsed": false
   },
   "outputs": [
    {
     "name": "stdout",
     "output_type": "stream",
     "text": [
      "CPU times: user 21min 35s, sys: 21.1 s, total: 21min 56s\n",
      "Wall time: 21min 56s\n"
     ]
    }
   ],
   "source": [
    "%%time\n",
    "make_seed(1)\n",
    "momentum2 = main.run_method(lasagne.updates.momentum, dataset=\"CIFAR-10\", HL=3, num_epochs=50, alpha=1e-2)"
   ]
  },
  {
   "cell_type": "code",
   "execution_count": 26,
   "metadata": {
    "collapsed": false
   },
   "outputs": [
    {
     "name": "stdout",
     "output_type": "stream",
     "text": [
      "CPU times: user 21min 42s, sys: 21 s, total: 22min 3s\n",
      "Wall time: 22min 2s\n"
     ]
    }
   ],
   "source": [
    "%%time\n",
    "make_seed(1)\n",
    "momentum3 = main.run_method(lasagne.updates.momentum, dataset=\"CIFAR-10\", HL=3, num_epochs=50, alpha=1e-1)"
   ]
  },
  {
   "cell_type": "code",
   "execution_count": 26,
   "metadata": {
    "collapsed": false
   },
   "outputs": [
    {
     "name": "stdout",
     "output_type": "stream",
     "text": [
      "CPU times: user 28min 25s, sys: 40.1 s, total: 29min 5s\n",
      "Wall time: 29min 9s\n"
     ]
    }
   ],
   "source": [
    "# %%time\n",
    "# make_seed(1)\n",
    "# momentum4 = main.run_method(lasagne.updates.momentum, dataset=\"CIFAR-10\", HL=3, num_epochs=50, alpha=0.5)"
   ]
  },
  {
   "cell_type": "code",
   "execution_count": 27,
   "metadata": {
    "collapsed": true
   },
   "outputs": [],
   "source": [
    "# import pickle\n",
    "# with open('momentum', 'wb') as f:\n",
    "# #     pickle.dump(momentum1, f)\n",
    "#     pickle.dump(momentum2, f)\n",
    "#     pickle.dump(momentum3, f)\n",
    "# #     pickle.dump(momentum4, f)"
   ]
  },
  {
   "cell_type": "code",
   "execution_count": 8,
   "metadata": {
    "collapsed": true
   },
   "outputs": [],
   "source": [
    "import pickle\n",
    "with open('momentum', 'rb') as f:\n",
    "    momentum2 = pickle.load(f)\n",
    "    momentum3 = pickle.load(f)"
   ]
  },
  {
   "cell_type": "code",
   "execution_count": 15,
   "metadata": {
    "collapsed": false
   },
   "outputs": [],
   "source": [
    "plt.figure(figsize=(10, 8))\n",
    "# plt.plot(momentum1['train_acc'], 'b--')\n",
    "# plt.plot(momentum1['val_acc'], 'b')\n",
    "plt.plot(momentum2['train_acc'], 'g--')\n",
    "plt.plot(momentum2['val_acc'], 'g')\n",
    "plt.plot(momentum3['train_acc'], 'r--')\n",
    "plt.plot(momentum3['val_acc'], 'r')\n",
    "# plt.plot(momentum4['train_acc'], 'k--')\n",
    "# plt.plot(momentum4['val_acc'], 'k')\n",
    "plt.legend(['train, 1e-3', 'validation, 1e-3', 'train, 1e-2', 'validation, 1e-2', \n",
    "            'train, 1e-1', 'validation, 1e-1', 'train, 0.5', 'validation, 0.5'], loc=0, fontsize=12)\n",
    "plt.ylim(ymax=101)\n",
    "plt.xlim(xmax=49)\n",
    "plt.xlabel('epochs')\n",
    "plt.ylabel('accuracy')\n",
    "# plt.title('SGDm, MLP (3HL) MNIST', fontsize=13)\n",
    "# plt.savefig(\"momentum_mlp_rates_mnist.jpg\")\n",
    "plt.show()\n"
   ]
  },
  {
   "cell_type": "code",
   "execution_count": 28,
   "metadata": {
    "collapsed": false
   },
   "outputs": [
    {
     "name": "stdout",
     "output_type": "stream",
     "text": [
      "CPU times: user 27min 41s, sys: 1min 10s, total: 28min 52s\n",
      "Wall time: 28min 55s\n"
     ]
    }
   ],
   "source": [
    "# %%time\n",
    "# make_seed(1)\n",
    "# bn_momentum1 = main.run_method(lasagne.updates.momentum, dataset=\"CIFAR-10\", HL=3, num_epochs=50, alpha=1e-3, BN=True)"
   ]
  },
  {
   "cell_type": "code",
   "execution_count": 28,
   "metadata": {
    "collapsed": false
   },
   "outputs": [
    {
     "name": "stdout",
     "output_type": "stream",
     "text": [
      "CPU times: user 21min 51s, sys: 49.8 s, total: 22min 41s\n",
      "Wall time: 22min 41s\n"
     ]
    }
   ],
   "source": [
    "%%time\n",
    "make_seed(1)\n",
    "bn_momentum2 = main.run_method(lasagne.updates.momentum, dataset=\"CIFAR-10\", HL=3, num_epochs=50, alpha=1e-2, BN=True)"
   ]
  },
  {
   "cell_type": "code",
   "execution_count": 29,
   "metadata": {
    "collapsed": false
   },
   "outputs": [
    {
     "name": "stdout",
     "output_type": "stream",
     "text": [
      "CPU times: user 21min 48s, sys: 49.4 s, total: 22min 37s\n",
      "Wall time: 22min 37s\n"
     ]
    }
   ],
   "source": [
    "%%time\n",
    "make_seed(1)\n",
    "bn_momentum3 = main.run_method(lasagne.updates.momentum, dataset=\"CIFAR-10\", HL=3, num_epochs=50, alpha=1e-1, BN=True)"
   ]
  },
  {
   "cell_type": "code",
   "execution_count": 30,
   "metadata": {
    "collapsed": false
   },
   "outputs": [
    {
     "name": "stdout",
     "output_type": "stream",
     "text": [
      "CPU times: user 21min 39s, sys: 50.1 s, total: 22min 29s\n",
      "Wall time: 22min 30s\n"
     ]
    }
   ],
   "source": [
    "%%time\n",
    "make_seed(1)\n",
    "bn_momentum4 = main.run_method(lasagne.updates.momentum, dataset=\"CIFAR-10\", HL=3, num_epochs=50, alpha=1.0, BN=True)"
   ]
  },
  {
   "cell_type": "code",
   "execution_count": 31,
   "metadata": {
    "collapsed": true
   },
   "outputs": [],
   "source": [
    "# import pickle\n",
    "# with open('bn_momentum', 'wb') as f:\n",
    "# #     pickle.dump(bn_momentum1, f)\n",
    "#     pickle.dump(bn_momentum2, f)\n",
    "#     pickle.dump(bn_momentum3, f)\n",
    "#     pickle.dump(bn_momentum4, f)"
   ]
  },
  {
   "cell_type": "code",
   "execution_count": 9,
   "metadata": {
    "collapsed": true
   },
   "outputs": [],
   "source": [
    "import pickle\n",
    "with open('bn_momentum', 'rb') as f:\n",
    "    bn_momentum2 = pickle.load(f)\n",
    "    bn_momentum3 = pickle.load(f)\n",
    "    bn_momentum4 = pickle.load(f)"
   ]
  },
  {
   "cell_type": "code",
   "execution_count": 17,
   "metadata": {
    "collapsed": false
   },
   "outputs": [],
   "source": [
    "plt.figure(figsize=(10, 8))\n",
    "# plt.plot(bn_momentum1['train_acc'], 'b--')\n",
    "# plt.plot(bn_momentum1['val_acc'], 'b')\n",
    "plt.plot(bn_momentum2['train_acc'], 'g--')\n",
    "plt.plot(bn_momentum2['val_acc'], 'g')\n",
    "plt.plot(bn_momentum3['train_acc'], 'r--')\n",
    "plt.plot(bn_momentum3['val_acc'], 'r')\n",
    "plt.plot(bn_momentum4['train_acc'], 'k--')\n",
    "plt.plot(bn_momentum4['val_acc'], 'k')\n",
    "plt.legend(['train, 1e-3', 'validation, 1e-3', 'train, 1e-2', 'validation, 1e-2', \n",
    "            'train, 1e-1', 'validation, 1e-1', 'train, 1.0', 'validation, 1.0'], loc=0, fontsize=12)\n",
    "plt.ylim(ymax=101)\n",
    "plt.xlim(xmax=49)\n",
    "plt.xlabel('epochs')\n",
    "plt.ylabel('accuracy')\n",
    "# plt.title('BN SGDm, MLP (3HL) MNIST', fontsize=13)\n",
    "# plt.savefig(\"bn_momentum_mlp_rates_mnist.jpg\")\n",
    "plt.show()\n"
   ]
  },
  {
   "cell_type": "markdown",
   "metadata": {
    "collapsed": true
   },
   "source": [
    "## ADAGRAD"
   ]
  },
  {
   "cell_type": "code",
   "execution_count": null,
   "metadata": {
    "collapsed": false
   },
   "outputs": [],
   "source": [
    "# %%time\n",
    "# adagrad1 = main.run_method(lasagne.updates.adagrad, dataset=\"CIFAR-10\", HL=3, num_epochs=50, alpha=1e-3)"
   ]
  },
  {
   "cell_type": "code",
   "execution_count": 32,
   "metadata": {
    "collapsed": false
   },
   "outputs": [
    {
     "name": "stdout",
     "output_type": "stream",
     "text": [
      "CPU times: user 21min 29s, sys: 23 s, total: 21min 52s\n",
      "Wall time: 21min 54s\n"
     ]
    }
   ],
   "source": [
    "%%time\n",
    "make_seed(1)\n",
    "adagrad2 = main.run_method(lasagne.updates.adagrad, dataset=\"CIFAR-10\", HL=3, num_epochs=50, alpha=1e-2)"
   ]
  },
  {
   "cell_type": "code",
   "execution_count": 33,
   "metadata": {
    "collapsed": false
   },
   "outputs": [
    {
     "name": "stdout",
     "output_type": "stream",
     "text": [
      "CPU times: user 21min 34s, sys: 27.5 s, total: 22min 2s\n",
      "Wall time: 22min 5s\n"
     ]
    }
   ],
   "source": [
    "%%time\n",
    "make_seed(1)\n",
    "adagrad3 = main.run_method(lasagne.updates.adagrad, dataset=\"CIFAR-10\", HL=3, num_epochs=50, alpha=1e-1)"
   ]
  },
  {
   "cell_type": "code",
   "execution_count": 34,
   "metadata": {
    "collapsed": true
   },
   "outputs": [],
   "source": [
    "# import pickle\n",
    "# with open('adagrad', 'wb') as f:\n",
    "# #     pickle.dump(adagrad1, f)\n",
    "#     pickle.dump(adagrad2, f)\n",
    "#     pickle.dump(adagrad3, f)"
   ]
  },
  {
   "cell_type": "code",
   "execution_count": 10,
   "metadata": {
    "collapsed": true
   },
   "outputs": [],
   "source": [
    "import pickle\n",
    "with open('adagrad', 'rb') as f:\n",
    "    adagrad2 = pickle.load(f)\n",
    "    adagrad3 = pickle.load(f)"
   ]
  },
  {
   "cell_type": "code",
   "execution_count": 71,
   "metadata": {
    "collapsed": false
   },
   "outputs": [],
   "source": [
    "plt.figure(figsize=(10, 8))\n",
    "# plt.plot(adagrad1['train_acc'], 'b--')\n",
    "# plt.plot(adagrad1['val_acc'], 'b')\n",
    "plt.plot(adagrad2['train_acc'], 'g--')\n",
    "plt.plot(adagrad2['val_acc'], 'g')\n",
    "plt.plot(adagrad3['train_acc'], 'r--')\n",
    "plt.plot(adagrad3['val_acc'], 'r')\n",
    "plt.legend(['train, 1e-3', 'validation, 1e-3', 'train, 1e-2', 'validation, 1e-2', \n",
    "            'train, 1e-1', 'validation, 1e-1'], loc=0, fontsize=12)\n",
    "plt.ylim(ymax=101)\n",
    "plt.xlim(xmax=49)\n",
    "plt.xlabel('epochs')\n",
    "plt.ylabel('accuracy')\n",
    "# plt.title('Adagrad, MLP (3HL) MNIST', fontsize=13)\n",
    "# plt.savefig(\"adagrad_mlp_rates_mnist.jpg\")\n",
    "plt.show()\n"
   ]
  },
  {
   "cell_type": "code",
   "execution_count": null,
   "metadata": {
    "collapsed": true
   },
   "outputs": [],
   "source": [
    "# %%time\n",
    "# bn_adagrad1 = main.run_method(lasagne.updates.adagrad, dataset=\"CIFAR-10\", HL=3, num_epochs=50, alpha=1e-3, BN=True)"
   ]
  },
  {
   "cell_type": "code",
   "execution_count": 35,
   "metadata": {
    "collapsed": false
   },
   "outputs": [
    {
     "name": "stdout",
     "output_type": "stream",
     "text": [
      "CPU times: user 22min 5s, sys: 1min 33s, total: 23min 39s\n",
      "Wall time: 23min 49s\n"
     ]
    }
   ],
   "source": [
    "%%time\n",
    "make_seed(1)\n",
    "bn_adagrad2 = main.run_method(lasagne.updates.adagrad, dataset=\"CIFAR-10\", HL=3, num_epochs=50, alpha=1e-2, BN=True)"
   ]
  },
  {
   "cell_type": "code",
   "execution_count": 36,
   "metadata": {
    "collapsed": false
   },
   "outputs": [
    {
     "name": "stdout",
     "output_type": "stream",
     "text": [
      "CPU times: user 21min 56s, sys: 1min 27s, total: 23min 23s\n",
      "Wall time: 23min 31s\n"
     ]
    }
   ],
   "source": [
    "%%time\n",
    "make_seed(1)\n",
    "bn_adagrad3 = main.run_method(lasagne.updates.adagrad, dataset=\"CIFAR-10\", HL=3, num_epochs=50, alpha=1e-1, BN=True)"
   ]
  },
  {
   "cell_type": "code",
   "execution_count": 37,
   "metadata": {
    "collapsed": false
   },
   "outputs": [
    {
     "name": "stdout",
     "output_type": "stream",
     "text": [
      "CPU times: user 21min 48s, sys: 50.6 s, total: 22min 39s\n",
      "Wall time: 22min 39s\n"
     ]
    }
   ],
   "source": [
    "%%time\n",
    "make_seed(1)\n",
    "bn_adagrad4 = main.run_method(lasagne.updates.adagrad, dataset=\"CIFAR-10\", HL=3, num_epochs=50, alpha=1.0, BN=True)"
   ]
  },
  {
   "cell_type": "code",
   "execution_count": 38,
   "metadata": {
    "collapsed": true
   },
   "outputs": [],
   "source": [
    "# import pickle\n",
    "# with open('bn_adagrad', 'wb') as f:\n",
    "# #     pickle.dump(bn_adagrad1, f)\n",
    "#     pickle.dump(bn_adagrad2, f)\n",
    "#     pickle.dump(bn_adagrad3, f)\n",
    "#     pickle.dump(bn_adagrad4, f)"
   ]
  },
  {
   "cell_type": "code",
   "execution_count": 11,
   "metadata": {
    "collapsed": true
   },
   "outputs": [],
   "source": [
    "import pickle\n",
    "with open('bn_adagrad', 'rb') as f:\n",
    "    bn_adagrad2 = pickle.load(f)\n",
    "    bn_adagrad3 = pickle.load(f)\n",
    "    bn_adagrad4 = pickle.load(f)"
   ]
  },
  {
   "cell_type": "code",
   "execution_count": 72,
   "metadata": {
    "collapsed": false
   },
   "outputs": [],
   "source": [
    "plt.figure(figsize=(10, 8))\n",
    "# plt.plot(bn_adagrad1['train_acc'], 'b--')\n",
    "# plt.plot(bn_adagrad1['val_acc'], 'b')\n",
    "plt.plot(bn_adagrad2['train_acc'], 'g--')\n",
    "plt.plot(bn_adagrad2['val_acc'], 'g')\n",
    "plt.plot(bn_adagrad3['train_acc'], 'r--')\n",
    "plt.plot(bn_adagrad3['val_acc'], 'r')\n",
    "plt.plot(bn_adagrad4['train_acc'], 'k--')\n",
    "plt.plot(bn_adagrad4['val_acc'], 'k')\n",
    "plt.legend(['train, 1e-3', 'validation, 1e-3', 'train, 1e-2', 'validation, 1e-2', \n",
    "            'train, 1e-1', 'validation, 1e-1', 'train, 1.0', 'validation, 1.0'], loc=0, fontsize=12)\n",
    "plt.ylim(ymax=101)\n",
    "plt.xlim(xmax=49)\n",
    "plt.xlabel('epochs')\n",
    "plt.ylabel('accuracy')\n",
    "# plt.title('BN Adagrad, MLP (3HL) MNIST', fontsize=13)\n",
    "# plt.savefig(\"bn_adagrad_mlp_rates_mnist.jpg\")\n",
    "\n",
    "plt.show()"
   ]
  },
  {
   "cell_type": "markdown",
   "metadata": {},
   "source": [
    "## ADADELTA"
   ]
  },
  {
   "cell_type": "code",
   "execution_count": null,
   "metadata": {
    "collapsed": true
   },
   "outputs": [],
   "source": [
    "# %%time\n",
    "# make_seed(1)\n",
    "# adadelta1 = main.run_method(lasagne.updates.adadelta, dataset=\"CIFAR-10\", HL=3, num_epochs=50, alpha=1e-1)"
   ]
  },
  {
   "cell_type": "code",
   "execution_count": 39,
   "metadata": {
    "collapsed": false
   },
   "outputs": [
    {
     "name": "stdout",
     "output_type": "stream",
     "text": [
      "CPU times: user 21min 33s, sys: 22.6 s, total: 21min 56s\n",
      "Wall time: 21min 56s\n"
     ]
    }
   ],
   "source": [
    "%%time\n",
    "make_seed(1)\n",
    "adadelta2 = main.run_method(lasagne.updates.adadelta, dataset=\"CIFAR-10\", HL=3, num_epochs=50, alpha=1.0)"
   ]
  },
  {
   "cell_type": "code",
   "execution_count": 40,
   "metadata": {
    "collapsed": false
   },
   "outputs": [
    {
     "name": "stdout",
     "output_type": "stream",
     "text": [
      "CPU times: user 21min 42s, sys: 23.2 s, total: 22min 5s\n",
      "Wall time: 22min 5s\n"
     ]
    }
   ],
   "source": [
    "%%time\n",
    "make_seed(1)\n",
    "adadelta3 = main.run_method(lasagne.updates.adadelta, dataset=\"CIFAR-10\", HL=3, num_epochs=50, alpha=5.0)"
   ]
  },
  {
   "cell_type": "code",
   "execution_count": 41,
   "metadata": {
    "collapsed": true
   },
   "outputs": [],
   "source": [
    "# import pickle\n",
    "# with open('adadelta', 'wb') as f:\n",
    "# #     pickle.dump(adadelta1, f)\n",
    "#     pickle.dump(adadelta2, f)\n",
    "#     pickle.dump(adadelta3, f)"
   ]
  },
  {
   "cell_type": "code",
   "execution_count": 12,
   "metadata": {
    "collapsed": true
   },
   "outputs": [],
   "source": [
    "import pickle\n",
    "with open('adadelta', 'rb') as f:\n",
    "    adadelta2 = pickle.load(f)\n",
    "    adadelta3 = pickle.load(f)"
   ]
  },
  {
   "cell_type": "code",
   "execution_count": 82,
   "metadata": {
    "collapsed": false
   },
   "outputs": [],
   "source": [
    "plt.figure(figsize=(10, 8))\n",
    "# plt.plot(adadelta1['train_acc'], 'b--')\n",
    "# plt.plot(adadelta1['val_acc'], 'b')\n",
    "plt.plot(adadelta2['train_acc'], 'g--')\n",
    "plt.plot(adadelta2['val_acc'], 'g')\n",
    "plt.plot(adadelta3['train_acc'], 'r--')\n",
    "plt.plot(adadelta3['val_acc'], 'r')\n",
    "plt.legend(['train, 1e-1', 'validation, 1e-1', 'train, 1.0', 'validation, 1.0', \n",
    "            'train, 5.0', 'validation, 5.0'], loc=0, fontsize=12)\n",
    "plt.ylim(ymax=101)\n",
    "plt.xlim(xmax=49)\n",
    "plt.xlabel('epochs')\n",
    "plt.ylabel('accuracy')\n",
    "# plt.title('Adadelta, MLP (3HL) MNIST', fontsize=13)\n",
    "# plt.savefig(\"adadelta_mlp_rates_mnist.jpg\")\n",
    "plt.show()\n"
   ]
  },
  {
   "cell_type": "code",
   "execution_count": null,
   "metadata": {
    "collapsed": true
   },
   "outputs": [],
   "source": [
    "# %%time\n",
    "# make_seed(1)\n",
    "# bn_adadelta1 = main.run_method(lasagne.updates.adadelta, dataset=\"CIFAR-10\", HL=3, num_epochs=50, alpha=1e-1, BN=True)"
   ]
  },
  {
   "cell_type": "code",
   "execution_count": 42,
   "metadata": {
    "collapsed": false
   },
   "outputs": [
    {
     "name": "stdout",
     "output_type": "stream",
     "text": [
      "CPU times: user 21min 49s, sys: 51.4 s, total: 22min 41s\n",
      "Wall time: 22min 41s\n"
     ]
    }
   ],
   "source": [
    "%%time\n",
    "make_seed(1)\n",
    "bn_adadelta2 = main.run_method(lasagne.updates.adadelta, dataset=\"CIFAR-10\", HL=3, num_epochs=50, alpha=1.0, BN=True)"
   ]
  },
  {
   "cell_type": "code",
   "execution_count": 43,
   "metadata": {
    "collapsed": false
   },
   "outputs": [
    {
     "name": "stdout",
     "output_type": "stream",
     "text": [
      "CPU times: user 22min 3s, sys: 1min 11s, total: 23min 15s\n",
      "Wall time: 23min 16s\n"
     ]
    }
   ],
   "source": [
    "%%time\n",
    "make_seed(1)\n",
    "bn_adadelta3 = main.run_method(lasagne.updates.adadelta, dataset=\"CIFAR-10\", HL=3, num_epochs=50, alpha=5.0, BN=True)"
   ]
  },
  {
   "cell_type": "code",
   "execution_count": 44,
   "metadata": {
    "collapsed": true
   },
   "outputs": [],
   "source": [
    "# import pickle\n",
    "# with open('bn_adadelta', 'wb') as f:\n",
    "# #     pickle.dump(bn_adadelta1, f)\n",
    "#     pickle.dump(bn_adadelta2, f)\n",
    "#     pickle.dump(bn_adadelta3, f)"
   ]
  },
  {
   "cell_type": "code",
   "execution_count": 13,
   "metadata": {
    "collapsed": true
   },
   "outputs": [],
   "source": [
    "import pickle\n",
    "with open('bn_adadelta', 'rb') as f:\n",
    "    bn_adadelta2 = pickle.load(f)\n",
    "    bn_adadelta3 = pickle.load(f)"
   ]
  },
  {
   "cell_type": "code",
   "execution_count": 83,
   "metadata": {
    "collapsed": false
   },
   "outputs": [],
   "source": [
    "plt.figure(figsize=(10, 8))\n",
    "# plt.plot(bn_adadelta1['train_acc'], 'b--')\n",
    "# plt.plot(bn_adadelta1['val_acc'], 'b')\n",
    "plt.plot(bn_adadelta2['train_acc'], 'g--')\n",
    "plt.plot(bn_adadelta2['val_acc'], 'g')\n",
    "plt.plot(bn_adadelta3['train_acc'], 'r--')\n",
    "plt.plot(bn_adadelta3['val_acc'], 'r')\n",
    "plt.legend(['train, 1e-1', 'validation, 1e-1', 'train, 1.0', 'validation, 1.0', \n",
    "            'train, 5.0', 'validation, 5.0'], loc=0, fontsize=12)\n",
    "plt.ylim(ymax=101)\n",
    "plt.xlim(xmax=49)\n",
    "plt.xlabel('epochs')\n",
    "plt.ylabel('accuracy')\n",
    "# plt.title('BN Adadelta, MLP (3HL) MNIST', fontsize=13)\n",
    "# plt.savefig(\"bn_adadelta_mlp_rates_mnist.jpg\")\n",
    "plt.show()\n"
   ]
  },
  {
   "cell_type": "markdown",
   "metadata": {},
   "source": [
    "## RMSPROP"
   ]
  },
  {
   "cell_type": "code",
   "execution_count": 45,
   "metadata": {
    "collapsed": false
   },
   "outputs": [
    {
     "name": "stdout",
     "output_type": "stream",
     "text": [
      "CPU times: user 21min 30s, sys: 23 s, total: 21min 53s\n",
      "Wall time: 21min 53s\n"
     ]
    }
   ],
   "source": [
    "%%time\n",
    "make_seed(1)\n",
    "rmsprop1 = main.run_method(lasagne.updates.rmsprop, dataset=\"CIFAR-10\", HL=3, num_epochs=50, alpha=1e-3)"
   ]
  },
  {
   "cell_type": "code",
   "execution_count": 46,
   "metadata": {
    "collapsed": false
   },
   "outputs": [
    {
     "name": "stdout",
     "output_type": "stream",
     "text": [
      "CPU times: user 21min 50s, sys: 22.7 s, total: 22min 12s\n",
      "Wall time: 22min 12s\n"
     ]
    }
   ],
   "source": [
    "%%time\n",
    "make_seed(1)\n",
    "rmsprop2 = main.run_method(lasagne.updates.rmsprop, dataset=\"CIFAR-10\", HL=3, num_epochs=50, alpha=1e-2)"
   ]
  },
  {
   "cell_type": "code",
   "execution_count": null,
   "metadata": {
    "collapsed": true
   },
   "outputs": [],
   "source": [
    "# %%time\n",
    "# make_seed(1)\n",
    "# rmsprop3 = main.run_method(lasagne.updates.rmsprop, dataset=\"CIFAR-10\", HL=3, num_epochs=50, alpha=5e-2)"
   ]
  },
  {
   "cell_type": "code",
   "execution_count": 47,
   "metadata": {
    "collapsed": true
   },
   "outputs": [],
   "source": [
    "# import pickle\n",
    "# with open('rmsprop', 'wb') as f:\n",
    "#     pickle.dump(rmsprop1, f)\n",
    "#     pickle.dump(rmsprop2, f)\n",
    "# #     pickle.dump(rmsprop3, f)"
   ]
  },
  {
   "cell_type": "code",
   "execution_count": 14,
   "metadata": {
    "collapsed": true
   },
   "outputs": [],
   "source": [
    "import pickle\n",
    "with open('rmsprop', 'rb') as f:\n",
    "    rmsprop1 = pickle.load(f)\n",
    "    rmsprop2 = pickle.load(f)"
   ]
  },
  {
   "cell_type": "code",
   "execution_count": 41,
   "metadata": {
    "collapsed": false
   },
   "outputs": [],
   "source": [
    "plt.figure(figsize=(10, 8))\n",
    "plt.plot(rmsprop1['train_acc'], 'b--')\n",
    "plt.plot(rmsprop1['val_acc'], 'b')\n",
    "plt.plot(rmsprop2['train_acc'], 'g--')\n",
    "plt.plot(rmsprop2['val_acc'], 'g')\n",
    "# plt.plot(rmsprop3['train_acc'], 'r--')\n",
    "# plt.plot(rmsprop3['val_acc'], 'r')\n",
    "plt.legend(['train, 1e-3', 'validation, 1e-3', 'train, 1e-2', 'validation, 1e-2', \n",
    "            'train, 5e-2', 'validation, 5e-2'], loc=0, fontsize=12)\n",
    "plt.ylim(ymax=101)\n",
    "plt.xlim(xmax=49)\n",
    "plt.xlabel('epochs')\n",
    "plt.ylabel('accuracy')\n",
    "# # plt.title('RMSprop, MLP (3HL) MNIST', fontsize=13)\n",
    "# plt.savefig(\"rmsprop_mlp_rates_mnist.jpg\")\n",
    "plt.show()\n"
   ]
  },
  {
   "cell_type": "code",
   "execution_count": 48,
   "metadata": {
    "collapsed": false
   },
   "outputs": [
    {
     "name": "stdout",
     "output_type": "stream",
     "text": [
      "CPU times: user 21min 54s, sys: 51.2 s, total: 22min 46s\n",
      "Wall time: 22min 46s\n"
     ]
    }
   ],
   "source": [
    "%%time\n",
    "make_seed(1)\n",
    "bn_rmsprop1 = main.run_method(lasagne.updates.rmsprop, dataset=\"CIFAR-10\", HL=3, num_epochs=50, alpha=1e-3, BN=True)"
   ]
  },
  {
   "cell_type": "code",
   "execution_count": 49,
   "metadata": {
    "collapsed": false
   },
   "outputs": [
    {
     "name": "stdout",
     "output_type": "stream",
     "text": [
      "CPU times: user 21min 42s, sys: 51.3 s, total: 22min 34s\n",
      "Wall time: 22min 34s\n"
     ]
    }
   ],
   "source": [
    "%%time\n",
    "make_seed(1)\n",
    "bn_rmsprop2 = main.run_method(lasagne.updates.rmsprop, dataset=\"CIFAR-10\", HL=3, num_epochs=50, alpha=1e-2, BN=True)"
   ]
  },
  {
   "cell_type": "code",
   "execution_count": 50,
   "metadata": {
    "collapsed": false
   },
   "outputs": [
    {
     "name": "stdout",
     "output_type": "stream",
     "text": [
      "CPU times: user 21min 47s, sys: 51.7 s, total: 22min 38s\n",
      "Wall time: 22min 39s\n"
     ]
    }
   ],
   "source": [
    "%%time\n",
    "make_seed(1)\n",
    "bn_rmsprop3 = main.run_method(lasagne.updates.rmsprop, dataset=\"CIFAR-10\", HL=3, num_epochs=50, alpha=1e-1, BN=True)"
   ]
  },
  {
   "cell_type": "code",
   "execution_count": 51,
   "metadata": {
    "collapsed": true
   },
   "outputs": [],
   "source": [
    "# import pickle\n",
    "# with open('bn_rmsprop', 'wb') as f:\n",
    "#     pickle.dump(bn_rmsprop1, f)\n",
    "#     pickle.dump(bn_rmsprop2, f)\n",
    "#     pickle.dump(bn_rmsprop3, f)"
   ]
  },
  {
   "cell_type": "code",
   "execution_count": 15,
   "metadata": {
    "collapsed": true
   },
   "outputs": [],
   "source": [
    "import pickle\n",
    "with open('bn_rmsprop', 'rb') as f:\n",
    "    bn_rmsprop1 = pickle.load(f)\n",
    "    bn_rmsprop2 = pickle.load(f)\n",
    "    bn_rmsprop3 = pickle.load(f)"
   ]
  },
  {
   "cell_type": "code",
   "execution_count": 42,
   "metadata": {
    "collapsed": false
   },
   "outputs": [],
   "source": [
    "plt.figure(figsize=(10, 8))\n",
    "plt.plot(bn_rmsprop1['train_acc'], 'b--')\n",
    "plt.plot(bn_rmsprop1['val_acc'], 'b')\n",
    "plt.plot(bn_rmsprop2['train_acc'], 'g--')\n",
    "plt.plot(bn_rmsprop2['val_acc'], 'g')\n",
    "plt.plot(bn_rmsprop3['train_acc'], 'r--')\n",
    "plt.plot(bn_rmsprop3['val_acc'], 'r')\n",
    "plt.legend(['train, 1e-3', 'validation, 1e-3', 'train, 1e-2', 'validation, 1e-2', \n",
    "            'train, 1e-1', 'validation, 1e-1'], loc=0, fontsize=12)\n",
    "plt.ylim(ymax=101)\n",
    "plt.xlim(xmax=49)\n",
    "plt.xlabel('epochs')\n",
    "plt.ylabel('accuracy')\n",
    "# plt.title('BN RMSprop, MLP (3HL) MNIST', fontsize=13)\n",
    "# plt.savefig(\"bn_rmsprop_mlp_rates_mnist.jpg\")\n",
    "plt.show()\n"
   ]
  },
  {
   "cell_type": "code",
   "execution_count": null,
   "metadata": {
    "collapsed": true
   },
   "outputs": [],
   "source": []
  },
  {
   "cell_type": "markdown",
   "metadata": {},
   "source": [
    "## Совместные графики"
   ]
  },
  {
   "cell_type": "code",
   "execution_count": 16,
   "metadata": {
    "collapsed": true
   },
   "outputs": [],
   "source": [
    "def relative(x, y):\n",
    "    return (y - x) / (100 - x)"
   ]
  },
  {
   "cell_type": "code",
   "execution_count": 17,
   "metadata": {
    "collapsed": true
   },
   "outputs": [],
   "source": [
    "def make_table(titles, lst, epochs, caption, param='val_acc', dec=2):\n",
    "    hline = \" \\\\\\\\\\\\hline\"\n",
    "    print(\"\\\\begin{table}\\n\\\\centering\\n\\\\begin{tabular}{|c|c|c|c|c|c|c|}\\\\hline\")\n",
    "    sepochs = \"\"\n",
    "    for x in epochs:\n",
    "        sepochs += \" & \" + str(x)\n",
    "    print(\"Номер эпохи\" + sepochs + hline + \"\\hline\")\n",
    "    \n",
    "    for i in range(len(titles) // 2):\n",
    "        s = titles[i * 2]\n",
    "        meth = lst[i * 2][param]\n",
    "        for x in epochs:\n",
    "            s += \" & \" + str(round(meth[x - 1], dec))\n",
    "        print(s + hline)\n",
    "        \n",
    "        s = titles[i * 2 + 1]\n",
    "        meth = lst[i * 2 + 1][param]\n",
    "        for x in epochs:\n",
    "            s += \" & \" + str(round(meth[x - 1], dec))\n",
    "        print(s + hline)\n",
    "        \n",
    "        s = \"Улучшение*\"\n",
    "        meth1 = lst[i * 2][param]\n",
    "        meth2 = lst[i * 2 + 1][param]\n",
    "        for x in epochs:\n",
    "            s += \" & \" + str(round(relative(meth1[x - 1], meth2[x - 1]), dec))\n",
    "        print(s + hline + \"\\hline\")\n",
    "    \n",
    "    print(\"\\\\end{tabular}\\n\\\\caption{\" + caption + \"}\\n\\\\end{table}\")"
   ]
  },
  {
   "cell_type": "code",
   "execution_count": 18,
   "metadata": {
    "collapsed": true
   },
   "outputs": [],
   "source": [
    "def map_(title, x, i, vmin=0.09, vmax=0.25):\n",
    "    plt.subplot(3, 2, i)\n",
    "    plt.pcolor(x.reshape((10, -1)), vmin=vmin, vmax=vmax)\n",
    "    plt.title(title)\n",
    "    plt.colorbar()"
   ]
  },
  {
   "cell_type": "code",
   "execution_count": 22,
   "metadata": {
    "collapsed": false
   },
   "outputs": [],
   "source": [
    "ind = np.arange(50)\n",
    "plt.figure(figsize=(20, 15))\n",
    "map_(\"SGD\", relative(sgd_new['val_acc'][ind], bn_sgd_new['val_acc'][ind]), 1)\n",
    "map_(\"Adam\", relative(adam_new['val_acc'][ind], bn_adam_new['val_acc'][ind]), 2)\n",
    "map_(\"SGDm\", relative(momentum_new['val_acc'][ind], bn_momentum_new['val_acc'][ind]), 3)\n",
    "map_(\"Adagrad\", relative(adagrad_new['val_acc'][ind], bn_adagrad_new['val_acc'][ind]), 4)\n",
    "map_(\"Adadelta\", relative(adadelta_new['val_acc'][ind], bn_adadelta_new['val_acc'][ind]), 5)\n",
    "map_(\"RMSprop\", relative(rmsprop_new['val_acc'][ind], bn_rmsprop_new['val_acc'][ind]), 6)\n",
    "plt.show()"
   ]
  },
  {
   "cell_type": "code",
   "execution_count": 99,
   "metadata": {
    "collapsed": false
   },
   "outputs": [
    {
     "name": "stdout",
     "output_type": "stream",
     "text": [
      "\\begin{table}\n",
      "\\centering\n",
      "\\begin{tabular}{|c|c|c|c|c|c|c|}\\hline\n",
      "Номер эпохи & 2 & 3 & 5 & 20 & 49 \\\\\\hline\\hline\n",
      "SGD & 29.02 & 34.7 & 35.33 & 42.89 & 48.74 \\\\\\hline\n",
      "BN SGD & 45.66 & 46.54 & 49.44 & 54.69 & 57.23 \\\\\\hline\n",
      "Улучшение* & 0.23 & 0.18 & 0.22 & 0.21 & 0.17 \\\\\\hline\\hline\n",
      "SGDm & 34.84 & 38.98 & 40.49 & 47.66 & 51.71 \\\\\\hline\n",
      "BN SGDm & 45.63 & 46.73 & 49.21 & 54.29 & 56.77 \\\\\\hline\n",
      "Улучшение* & 0.17 & 0.13 & 0.15 & 0.13 & 0.1 \\\\\\hline\\hline\n",
      "Adam & 36.94 & 38.93 & 42.31 & 47.99 & 51.36 \\\\\\hline\n",
      "BN Adam & 45.31 & 46.44 & 48.69 & 54.59 & 57.28 \\\\\\hline\n",
      "Улучшение* & 0.13 & 0.12 & 0.11 & 0.13 & 0.12 \\\\\\hline\\hline\n",
      "Adagrad & 28.4 & 30.94 & 33.25 & 42.77 & 46.11 \\\\\\hline\n",
      "BN Adagrad & 46.16 & 46.97 & 48.88 & 53.21 & 55.52 \\\\\\hline\n",
      "Улучшение* & 0.25 & 0.23 & 0.23 & 0.18 & 0.17 \\\\\\hline\\hline\n",
      "Adadelta & 30.46 & 36.07 & 34.86 & 42.98 & 48.48 \\\\\\hline\n",
      "BN Adadelta & 42.94 & 44.77 & 47.12 & 52.59 & 55.98 \\\\\\hline\n",
      "Улучшение* & 0.18 & 0.14 & 0.19 & 0.17 & 0.15 \\\\\\hline\\hline\n",
      "RMSprop & 32.45 & 34.42 & 35.97 & 40.35 & 48.45 \\\\\\hline\n",
      "BN RMSprop & 46.1 & 46.34 & 49.32 & 53.47 & 56.64 \\\\\\hline\n",
      "Улучшение* & 0.2 & 0.18 & 0.21 & 0.22 & 0.16 \\\\\\hline\\hline\n",
      "\\end{tabular}\n",
      "\\caption{Качество на CIFAR-10, MLP, лучшие рейты}\n",
      "\\end{table}\n"
     ]
    }
   ],
   "source": [
    "make_table([\"SGD\", \"BN SGD\", \"SGDm\", \"BN SGDm\", \"Adam\", \"BN Adam\", \"Adagrad\", \"BN Adagrad\", \"Adadelta\", \"BN Adadelta\", \n",
    "           \"RMSprop\", \"BN RMSprop\"], \n",
    "           [sgd_new, bn_sgd_new, momentum_new, bn_momentum_new, adam_new, bn_adam_new, adagrad_new, \n",
    "            bn_adagrad_new, adadelta_new, bn_adadelta_new, \n",
    "           rmsprop_new, bn_rmsprop_new], \n",
    "           [2, 3, 5, 20, 49], \"Качество на CIFAR-10, MLP, лучшие рейты\")"
   ]
  },
  {
   "cell_type": "code",
   "execution_count": null,
   "metadata": {
    "collapsed": true
   },
   "outputs": [],
   "source": []
  },
  {
   "cell_type": "code",
   "execution_count": 20,
   "metadata": {
    "collapsed": true
   },
   "outputs": [],
   "source": [
    "sgd_new, bn_sgd_new = sgd3, bn_sgd4\n",
    "adam_new, bn_adam_new = adam2, bn_adam2\n",
    "momentum_new, bn_momentum_new = momentum2, bn_momentum3\n",
    "adagrad_new, bn_adagrad_new = adagrad2, bn_adagrad2\n",
    "adadelta_new, bn_adadelta_new = adadelta2, bn_adadelta2\n",
    "rmsprop_new, bn_rmsprop_new = rmsprop1, bn_rmsprop1"
   ]
  },
  {
   "cell_type": "code",
   "execution_count": null,
   "metadata": {
    "collapsed": true
   },
   "outputs": [],
   "source": []
  }
 ],
 "metadata": {
  "kernelspec": {
   "display_name": "Python 2",
   "language": "python",
   "name": "python2"
  },
  "language_info": {
   "codemirror_mode": {
    "name": "ipython",
    "version": 2
   },
   "file_extension": ".py",
   "mimetype": "text/x-python",
   "name": "python",
   "nbconvert_exporter": "python",
   "pygments_lexer": "ipython2",
   "version": "2.7.6"
  }
 },
 "nbformat": 4,
 "nbformat_minor": 0
}

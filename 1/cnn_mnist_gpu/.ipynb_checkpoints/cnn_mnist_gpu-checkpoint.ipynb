{
 "cells": [
  {
   "cell_type": "code",
   "execution_count": 2,
   "metadata": {
    "collapsed": false
   },
   "outputs": [],
   "source": [
    "import main\n",
    "import numpy as np\n",
    "import matplotlib.pyplot as plt\n",
    "# %matplotlib inline\n",
    "import lasagne\n",
    "import theano\n",
    "import theano.tensor as T"
   ]
  },
  {
   "cell_type": "code",
   "execution_count": 3,
   "metadata": {
    "collapsed": false
   },
   "outputs": [
    {
     "data": {
      "text/plain": [
       "<module 'main' from 'main.pyc'>"
      ]
     },
     "execution_count": 3,
     "metadata": {},
     "output_type": "execute_result"
    }
   ],
   "source": [
    "import imp\n",
    "imp.reload(main)"
   ]
  },
  {
   "cell_type": "code",
   "execution_count": 4,
   "metadata": {
    "collapsed": true
   },
   "outputs": [],
   "source": [
    "def make_seed(n):\n",
    "    lasagne.random.set_rng(np.random)\n",
    "    np.random.seed(n)"
   ]
  },
  {
   "cell_type": "markdown",
   "metadata": {},
   "source": [
    "## SGD"
   ]
  },
  {
   "cell_type": "code",
   "execution_count": 4,
   "metadata": {
    "collapsed": false
   },
   "outputs": [
    {
     "name": "stdout",
     "output_type": "stream",
     "text": [
      "CPU times: user 27.8 s, sys: 1min 8s, total: 1min 35s\n",
      "Wall time: 1min 50s\n"
     ]
    }
   ],
   "source": [
    "%%time\n",
    "make_seed(1)\n",
    "sgd1 = main.run_method(lasagne.updates.sgd, model='cnn', CL=2, HL=1, num_epochs=50, alpha=1e-3)"
   ]
  },
  {
   "cell_type": "code",
   "execution_count": 5,
   "metadata": {
    "collapsed": false
   },
   "outputs": [
    {
     "name": "stdout",
     "output_type": "stream",
     "text": [
      "CPU times: user 27.4 s, sys: 1min 14s, total: 1min 42s\n",
      "Wall time: 1min 48s\n"
     ]
    }
   ],
   "source": [
    "%%time\n",
    "make_seed(1)\n",
    "sgd2 = main.run_method(lasagne.updates.sgd, model='cnn', CL=2, HL=1, num_epochs=50, alpha=1e-2)"
   ]
  },
  {
   "cell_type": "code",
   "execution_count": 6,
   "metadata": {
    "collapsed": false
   },
   "outputs": [
    {
     "name": "stdout",
     "output_type": "stream",
     "text": [
      "CPU times: user 30.8 s, sys: 1min 35s, total: 2min 6s\n",
      "Wall time: 2min 11s\n"
     ]
    }
   ],
   "source": [
    "%%time\n",
    "make_seed(1)\n",
    "sgd3 = main.run_method(lasagne.updates.sgd, model='cnn', CL=2, HL=1, num_epochs=50, alpha=1e-1)"
   ]
  },
  {
   "cell_type": "code",
   "execution_count": 7,
   "metadata": {
    "collapsed": false
   },
   "outputs": [
    {
     "name": "stdout",
     "output_type": "stream",
     "text": [
      "CPU times: user 29.7 s, sys: 1min 22s, total: 1min 51s\n",
      "Wall time: 2min\n"
     ]
    }
   ],
   "source": [
    "%%time\n",
    "make_seed(1)\n",
    "sgd4 = main.run_method(lasagne.updates.sgd, model='cnn', CL=2, HL=1, num_epochs=50, alpha=1.0)"
   ]
  },
  {
   "cell_type": "code",
   "execution_count": 8,
   "metadata": {
    "collapsed": true
   },
   "outputs": [],
   "source": [
    "# import pickle\n",
    "# with open('sgd', 'wb') as f:\n",
    "#     pickle.dump(sgd1, f)\n",
    "#     pickle.dump(sgd2, f)\n",
    "#     pickle.dump(sgd3, f)\n",
    "#     pickle.dump(sgd4, f)"
   ]
  },
  {
   "cell_type": "code",
   "execution_count": 5,
   "metadata": {
    "collapsed": true
   },
   "outputs": [],
   "source": [
    "import pickle\n",
    "with open('sgd', 'rb') as f:\n",
    "    sgd1 = pickle.load(f)\n",
    "    sgd2 = pickle.load(f)\n",
    "    sgd3 = pickle.load(f)\n",
    "    sgd4 = pickle.load(f)"
   ]
  },
  {
   "cell_type": "code",
   "execution_count": 8,
   "metadata": {
    "collapsed": false
   },
   "outputs": [],
   "source": [
    "plt.figure(figsize=(10, 8))\n",
    "plt.plot(sgd1['train_acc'], 'b--')\n",
    "plt.plot(sgd1['val_acc'], 'b')\n",
    "plt.plot(sgd2['train_acc'], 'g--')\n",
    "plt.plot(sgd2['val_acc'], 'g')\n",
    "plt.plot(sgd3['train_acc'], 'r--')\n",
    "plt.plot(sgd3['val_acc'], 'r')\n",
    "plt.plot(sgd4['train_acc'], 'k--')\n",
    "plt.plot(sgd4['val_acc'], 'k')\n",
    "plt.ylim(ymax=101, ymin=95)\n",
    "plt.legend(['train, 1e-3', 'validation, 1e-3', 'train, 1e-2', 'validation, 1e-2',\n",
    "           'train, 1e-1', 'validation, 1e-1', 'train, 1.0', 'validation, 1.0'], loc=0, fontsize=12)\n",
    "plt.xlim(xmax=49)\n",
    "plt.xlabel('epochs')\n",
    "plt.ylabel('accuracy')\n",
    "# plt.title('SGD, CNN (2CL + 1HL) MNIST', fontsize=13)\n",
    "# plt.savefig(\"sgd_cnn_rates_mnist.jpg\")\n",
    "plt.show()"
   ]
  },
  {
   "cell_type": "code",
   "execution_count": 9,
   "metadata": {
    "collapsed": false
   },
   "outputs": [
    {
     "name": "stdout",
     "output_type": "stream",
     "text": [
      "CPU times: user 1min 12s, sys: 3min 41s, total: 4min 54s\n",
      "Wall time: 5min 14s\n"
     ]
    }
   ],
   "source": [
    "%%time\n",
    "make_seed(1)\n",
    "bn_sgd1 = main.run_method(lasagne.updates.sgd, model='cnn', CL=2, HL=1, num_epochs=50, alpha=1e-3, BN=True)"
   ]
  },
  {
   "cell_type": "code",
   "execution_count": 10,
   "metadata": {
    "collapsed": false
   },
   "outputs": [
    {
     "name": "stdout",
     "output_type": "stream",
     "text": [
      "CPU times: user 1min 11s, sys: 3min 38s, total: 4min 49s\n",
      "Wall time: 5min 10s\n"
     ]
    }
   ],
   "source": [
    "%%time\n",
    "make_seed(1)\n",
    "bn_sgd2 = main.run_method(lasagne.updates.sgd, model='cnn', CL=2, HL=1, num_epochs=50, alpha=1e-2, BN=True)"
   ]
  },
  {
   "cell_type": "code",
   "execution_count": 11,
   "metadata": {
    "collapsed": false
   },
   "outputs": [
    {
     "name": "stdout",
     "output_type": "stream",
     "text": [
      "CPU times: user 1min 8s, sys: 3min 25s, total: 4min 33s\n",
      "Wall time: 5min\n"
     ]
    }
   ],
   "source": [
    "%%time\n",
    "make_seed(1)\n",
    "bn_sgd3 = main.run_method(lasagne.updates.sgd, model='cnn', CL=2, HL=1, num_epochs=50, alpha=1e-1, BN=True)"
   ]
  },
  {
   "cell_type": "code",
   "execution_count": 12,
   "metadata": {
    "collapsed": false
   },
   "outputs": [
    {
     "name": "stdout",
     "output_type": "stream",
     "text": [
      "CPU times: user 1min 9s, sys: 3min 26s, total: 4min 35s\n",
      "Wall time: 5min 3s\n"
     ]
    }
   ],
   "source": [
    "%%time\n",
    "make_seed(1)\n",
    "bn_sgd4 = main.run_method(lasagne.updates.sgd, model='cnn', CL=2, HL=1, num_epochs=50, alpha=1.0, BN=True)"
   ]
  },
  {
   "cell_type": "code",
   "execution_count": 13,
   "metadata": {
    "collapsed": true
   },
   "outputs": [],
   "source": [
    "# import pickle\n",
    "# with open('bn_sgd', 'wb') as f:\n",
    "#     pickle.dump(bn_sgd1, f)\n",
    "#     pickle.dump(bn_sgd2, f)\n",
    "#     pickle.dump(bn_sgd3, f)\n",
    "#     pickle.dump(bn_sgd4, f)"
   ]
  },
  {
   "cell_type": "code",
   "execution_count": 9,
   "metadata": {
    "collapsed": true
   },
   "outputs": [],
   "source": [
    "import pickle\n",
    "with open('bn_sgd', 'rb') as f:\n",
    "    bn_sgd1 = pickle.load(f)\n",
    "    bn_sgd2 = pickle.load(f)\n",
    "    bn_sgd3 = pickle.load(f)\n",
    "    bn_sgd4 = pickle.load(f)"
   ]
  },
  {
   "cell_type": "code",
   "execution_count": 10,
   "metadata": {
    "collapsed": false
   },
   "outputs": [],
   "source": [
    "plt.figure(figsize=(10, 8))\n",
    "plt.plot(bn_sgd1['train_acc'], 'b--')\n",
    "plt.plot(bn_sgd1['val_acc'], 'b')\n",
    "plt.plot(bn_sgd2['train_acc'], 'g--')\n",
    "plt.plot(bn_sgd2['val_acc'], 'g')\n",
    "plt.plot(bn_sgd3['train_acc'], 'r--')\n",
    "plt.plot(bn_sgd3['val_acc'], 'r')\n",
    "plt.plot(bn_sgd4['train_acc'], 'k--')\n",
    "plt.plot(bn_sgd4['val_acc'], 'k')\n",
    "plt.ylim(ymax=101, ymin=97)\n",
    "plt.legend(['train, 1e-3', 'validation, 1e-3', 'train, 1e-2', 'validation, 1e-2',\n",
    "           'train, 1e-1', 'validation, 1e-1', 'train, 1.0', 'validation, 1.0'], loc=0, fontsize=12)\n",
    "plt.xlim(xmax=49)\n",
    "plt.xlabel('epochs')\n",
    "plt.ylabel('accuracy')\n",
    "# plt.title('BN SGD, CNN (2CL + 1HL) MNIST', fontsize=13)\n",
    "# plt.savefig(\"bn_sgd_cnn_rates_mnist.jpg\")\n",
    "plt.show()\n"
   ]
  },
  {
   "cell_type": "markdown",
   "metadata": {
    "collapsed": true
   },
   "source": [
    "## ADAM"
   ]
  },
  {
   "cell_type": "code",
   "execution_count": 14,
   "metadata": {
    "collapsed": false
   },
   "outputs": [
    {
     "name": "stdout",
     "output_type": "stream",
     "text": [
      "CPU times: user 31.7 s, sys: 1min 25s, total: 1min 57s\n",
      "Wall time: 2min 10s\n"
     ]
    }
   ],
   "source": [
    "%%time\n",
    "make_seed(1)\n",
    "adam1 = main.run_method(lasagne.updates.adam, model='cnn', CL=2, HL=1, num_epochs=50, alpha=1e-4)"
   ]
  },
  {
   "cell_type": "code",
   "execution_count": 15,
   "metadata": {
    "collapsed": false
   },
   "outputs": [
    {
     "name": "stdout",
     "output_type": "stream",
     "text": [
      "CPU times: user 31.6 s, sys: 1min 18s, total: 1min 50s\n",
      "Wall time: 2min 6s\n"
     ]
    }
   ],
   "source": [
    "%%time\n",
    "make_seed(1)\n",
    "adam2 = main.run_method(lasagne.updates.adam, model='cnn', CL=2, HL=1, num_epochs=50, alpha=1e-3)"
   ]
  },
  {
   "cell_type": "code",
   "execution_count": 16,
   "metadata": {
    "collapsed": false
   },
   "outputs": [
    {
     "name": "stdout",
     "output_type": "stream",
     "text": [
      "CPU times: user 30.4 s, sys: 1min 23s, total: 1min 53s\n",
      "Wall time: 2min 5s\n"
     ]
    }
   ],
   "source": [
    "%%time\n",
    "make_seed(1)\n",
    "adam3 = main.run_method(lasagne.updates.adam, model='cnn', CL=2, HL=1, num_epochs=50, alpha=5e-3)"
   ]
  },
  {
   "cell_type": "code",
   "execution_count": 17,
   "metadata": {
    "collapsed": true
   },
   "outputs": [],
   "source": [
    "# import pickle\n",
    "# with open('adam', 'wb') as f:\n",
    "#     pickle.dump(adam1, f)\n",
    "#     pickle.dump(adam2, f)\n",
    "#     pickle.dump(adam3, f)"
   ]
  },
  {
   "cell_type": "code",
   "execution_count": 11,
   "metadata": {
    "collapsed": true
   },
   "outputs": [],
   "source": [
    "import pickle\n",
    "with open('adam', 'rb') as f:\n",
    "    adam1 = pickle.load(f)\n",
    "    adam2 = pickle.load(f)\n",
    "    adam3 = pickle.load(f)"
   ]
  },
  {
   "cell_type": "code",
   "execution_count": 12,
   "metadata": {
    "collapsed": false
   },
   "outputs": [],
   "source": [
    "plt.figure(figsize=(10, 8))\n",
    "plt.plot(adam1['train_acc'], 'b--')\n",
    "plt.plot(adam1['val_acc'], 'b')\n",
    "plt.plot(adam2['train_acc'], 'g--')\n",
    "plt.plot(adam2['val_acc'], 'g')\n",
    "plt.plot(adam3['train_acc'], 'r--')\n",
    "plt.plot(adam3['val_acc'], 'r')\n",
    "plt.ylim(ymax=101, ymin=95)\n",
    "plt.legend(['train, 1e-4', 'validation, 1e-4', 'train, 1e-3', 'validation, 1e-3',\n",
    "           'train, 5e-3', 'validation, 5e-3'], loc=0, fontsize=12)\n",
    "plt.xlim(xmax=49)\n",
    "plt.xlabel('epochs')\n",
    "plt.ylabel('accuracy')\n",
    "# plt.title('Adam, CNN (2CL + 1HL) MNIST', fontsize=13)\n",
    "# plt.savefig(\"sgd_cnn_rates_mnist.jpg\")\n",
    "plt.show()"
   ]
  },
  {
   "cell_type": "code",
   "execution_count": 18,
   "metadata": {
    "collapsed": false
   },
   "outputs": [
    {
     "name": "stdout",
     "output_type": "stream",
     "text": [
      "CPU times: user 1min 13s, sys: 3min 29s, total: 4min 42s\n",
      "Wall time: 5min 12s\n"
     ]
    }
   ],
   "source": [
    "%%time\n",
    "make_seed(1)\n",
    "bn_adam1 = main.run_method(lasagne.updates.adam, model='cnn', CL=2, HL=1, num_epochs=50, alpha=1e-4, BN=True)"
   ]
  },
  {
   "cell_type": "code",
   "execution_count": 19,
   "metadata": {
    "collapsed": false
   },
   "outputs": [
    {
     "name": "stdout",
     "output_type": "stream",
     "text": [
      "CPU times: user 1min 13s, sys: 3min 26s, total: 4min 39s\n",
      "Wall time: 5min 8s\n"
     ]
    }
   ],
   "source": [
    "%%time\n",
    "make_seed(1)\n",
    "bn_adam2 = main.run_method(lasagne.updates.adam, model='cnn', CL=2, HL=1, num_epochs=50, alpha=1e-3, BN=True)"
   ]
  },
  {
   "cell_type": "code",
   "execution_count": 20,
   "metadata": {
    "collapsed": false
   },
   "outputs": [
    {
     "name": "stdout",
     "output_type": "stream",
     "text": [
      "CPU times: user 1min 7s, sys: 2min 56s, total: 4min 4s\n",
      "Wall time: 4min 17s\n"
     ]
    }
   ],
   "source": [
    "%%time\n",
    "make_seed(1)\n",
    "bn_adam3 = main.run_method(lasagne.updates.adam, model='cnn', CL=2, HL=1, num_epochs=50, alpha=5e-3, BN=True)"
   ]
  },
  {
   "cell_type": "code",
   "execution_count": 21,
   "metadata": {
    "collapsed": false
   },
   "outputs": [
    {
     "name": "stdout",
     "output_type": "stream",
     "text": [
      "CPU times: user 1min 8s, sys: 2min 52s, total: 4min 1s\n",
      "Wall time: 4min 7s\n"
     ]
    }
   ],
   "source": [
    "%%time\n",
    "make_seed(1)\n",
    "bn_adam4 = main.run_method(lasagne.updates.adam, model='cnn', CL=2, HL=1, num_epochs=50, alpha=1e-2, BN=True)"
   ]
  },
  {
   "cell_type": "code",
   "execution_count": 22,
   "metadata": {
    "collapsed": true
   },
   "outputs": [],
   "source": [
    "# import pickle\n",
    "# with open('bn_adam', 'wb') as f:\n",
    "#     pickle.dump(bn_adam1, f)\n",
    "#     pickle.dump(bn_adam2, f)\n",
    "#     pickle.dump(bn_adam3, f)\n",
    "#     pickle.dump(bn_adam4, f)"
   ]
  },
  {
   "cell_type": "code",
   "execution_count": 13,
   "metadata": {
    "collapsed": true
   },
   "outputs": [],
   "source": [
    "import pickle\n",
    "with open('bn_adam', 'rb') as f:\n",
    "    bn_adam1 = pickle.load(f)\n",
    "    bn_adam2 = pickle.load(f)\n",
    "    bn_adam3 = pickle.load(f)\n",
    "    bn_adam4 = pickle.load(f)"
   ]
  },
  {
   "cell_type": "code",
   "execution_count": 14,
   "metadata": {
    "collapsed": false
   },
   "outputs": [],
   "source": [
    "plt.figure(figsize=(10, 8))\n",
    "plt.plot(bn_adam1['train_acc'], 'b--')\n",
    "plt.plot(bn_adam1['val_acc'], 'b')\n",
    "plt.plot(bn_adam2['train_acc'], 'g--')\n",
    "plt.plot(bn_adam2['val_acc'], 'g')\n",
    "plt.plot(bn_adam3['train_acc'], 'r--')\n",
    "plt.plot(bn_adam3['val_acc'], 'r')\n",
    "plt.plot(bn_adam4['train_acc'], 'k--')\n",
    "plt.plot(bn_adam4['val_acc'], 'k')\n",
    "plt.legend(['train, 1e-4', 'validation, 1e-4', 'train, 1e-3', 'validation, 1e-3', \n",
    "            'train, 5e-3', 'validation, 5e-3', 'train, 1e-2', 'validation, 1e-2'], loc=0, fontsize=12)\n",
    "plt.ylim(ymax=101, ymin=98)\n",
    "plt.xlim(xmax=49)\n",
    "plt.xlabel('epochs')\n",
    "plt.ylabel('accuracy')\n",
    "# plt.title('BN Adam, CNN (2CL + 1HL) CIFAR-10', fontsize=13)\n",
    "# plt.savefig(\"bn_adam_cnn_rates_cifar10.jpg\")\n",
    "plt.show()\n"
   ]
  },
  {
   "cell_type": "markdown",
   "metadata": {
    "collapsed": true
   },
   "source": [
    "## MOMENTUM"
   ]
  },
  {
   "cell_type": "code",
   "execution_count": 23,
   "metadata": {
    "collapsed": false
   },
   "outputs": [
    {
     "name": "stdout",
     "output_type": "stream",
     "text": [
      "CPU times: user 28.7 s, sys: 1min 5s, total: 1min 34s\n",
      "Wall time: 1min 37s\n"
     ]
    }
   ],
   "source": [
    "%%time\n",
    "make_seed(1)\n",
    "momentum1 = main.run_method(lasagne.updates.momentum, model='cnn', CL=2, HL=1, num_epochs=50, alpha=1e-2)"
   ]
  },
  {
   "cell_type": "code",
   "execution_count": null,
   "metadata": {
    "collapsed": false
   },
   "outputs": [],
   "source": [
    "%%time\n",
    "make_seed(1)\n",
    "momentum2 = main.run_method(lasagne.updates.momentum, model='cnn', CL=2, HL=1, num_epochs=50, alpha=1e-1, echo=True)"
   ]
  },
  {
   "cell_type": "code",
   "execution_count": 116,
   "metadata": {
    "collapsed": false
   },
   "outputs": [
    {
     "name": "stdout",
     "output_type": "stream",
     "text": [
      "CPU times: user 23.1 s, sys: 1min 9s, total: 1min 32s\n",
      "Wall time: 1min 33s\n"
     ]
    }
   ],
   "source": [
    "%%time\n",
    "make_seed(1)\n",
    "momentum3 = main.run_method(lasagne.updates.momentum, model='cnn', CL=2, HL=1, num_epochs=50, alpha=0.5)"
   ]
  },
  {
   "cell_type": "code",
   "execution_count": 26,
   "metadata": {
    "collapsed": true
   },
   "outputs": [],
   "source": [
    "# import pickle\n",
    "# with open('momentum', 'wb') as f:\n",
    "#     pickle.dump(momentum1, f)\n",
    "#     pickle.dump(momentum2, f)\n",
    "#     pickle.dump(momentum3, f)"
   ]
  },
  {
   "cell_type": "code",
   "execution_count": 15,
   "metadata": {
    "collapsed": true
   },
   "outputs": [],
   "source": [
    "import pickle\n",
    "with open('momentum', 'rb') as f:\n",
    "    momentum1 = pickle.load(f)\n",
    "    momentum2 = pickle.load(f)\n",
    "    momentum3 = pickle.load(f)"
   ]
  },
  {
   "cell_type": "code",
   "execution_count": 41,
   "metadata": {
    "collapsed": false
   },
   "outputs": [],
   "source": [
    "plt.figure(figsize=(10, 8))\n",
    "plt.plot(momentum1['train_acc'], 'b--')\n",
    "plt.plot(momentum1['val_acc'], 'b')\n",
    "plt.plot(momentum2['train_acc'], 'g--')\n",
    "plt.plot(momentum2['val_acc'], 'g')\n",
    "plt.plot(momentum3['train_acc'], 'r--')\n",
    "plt.plot(momentum3['val_acc'], 'r')\n",
    "plt.ylim(ymax=101, ymin=10)\n",
    "plt.legend(['train, 1e-2', 'validation, 1e-2', 'train, 1e-1', 'validation, 1e-1',\n",
    "           'train, 0.5', 'validation, 0.5'], loc=0, fontsize=12)\n",
    "plt.xlim(xmax=49)\n",
    "plt.xlabel('epochs')\n",
    "plt.ylabel('accuracy')\n",
    "# plt.title('SGDm, CNN (2CL + 1HL) MNIST', fontsize=13)\n",
    "# plt.savefig(\"sgd_cnn_rates_mnist.jpg\")\n",
    "plt.show()"
   ]
  },
  {
   "cell_type": "code",
   "execution_count": 27,
   "metadata": {
    "collapsed": false
   },
   "outputs": [
    {
     "name": "stdout",
     "output_type": "stream",
     "text": [
      "CPU times: user 1min 5s, sys: 2min 55s, total: 4min 1s\n",
      "Wall time: 4min 8s\n"
     ]
    }
   ],
   "source": [
    "%%time\n",
    "make_seed(1)\n",
    "bn_momentum1 = main.run_method(lasagne.updates.momentum, model='cnn', CL=2, HL=1, num_epochs=50, alpha=1e-2, BN=True)"
   ]
  },
  {
   "cell_type": "code",
   "execution_count": 28,
   "metadata": {
    "collapsed": false
   },
   "outputs": [
    {
     "name": "stdout",
     "output_type": "stream",
     "text": [
      "CPU times: user 1min 6s, sys: 2min 53s, total: 3min 59s\n",
      "Wall time: 4min 4s\n"
     ]
    }
   ],
   "source": [
    "%%time\n",
    "make_seed(1)\n",
    "bn_momentum2 = main.run_method(lasagne.updates.momentum, model='cnn', CL=2, HL=1, num_epochs=50, alpha=1e-1, BN=True)"
   ]
  },
  {
   "cell_type": "code",
   "execution_count": 29,
   "metadata": {
    "collapsed": false
   },
   "outputs": [
    {
     "name": "stdout",
     "output_type": "stream",
     "text": [
      "CPU times: user 1min 5s, sys: 2min 55s, total: 4min 1s\n",
      "Wall time: 4min 7s\n"
     ]
    }
   ],
   "source": [
    "%%time\n",
    "make_seed(1)\n",
    "bn_momentum3 = main.run_method(lasagne.updates.momentum, model='cnn', CL=2, HL=1, num_epochs=50, alpha=1.0, BN=True)"
   ]
  },
  {
   "cell_type": "code",
   "execution_count": 30,
   "metadata": {
    "collapsed": true
   },
   "outputs": [],
   "source": [
    "# import pickle\n",
    "# with open('bn_momentum', 'wb') as f:\n",
    "#     pickle.dump(bn_momentum1, f)\n",
    "#     pickle.dump(bn_momentum2, f)\n",
    "#     pickle.dump(bn_momentum3, f)"
   ]
  },
  {
   "cell_type": "code",
   "execution_count": 17,
   "metadata": {
    "collapsed": true
   },
   "outputs": [],
   "source": [
    "import pickle\n",
    "with open('bn_momentum', 'rb') as f:\n",
    "    bn_momentum1 = pickle.load(f)\n",
    "    bn_momentum2 = pickle.load(f)\n",
    "    bn_momentum3 = pickle.load(f)"
   ]
  },
  {
   "cell_type": "code",
   "execution_count": 18,
   "metadata": {
    "collapsed": false
   },
   "outputs": [],
   "source": [
    "plt.figure(figsize=(10, 8))\n",
    "plt.plot(bn_momentum1['train_acc'], 'b--')\n",
    "plt.plot(bn_momentum1['val_acc'], 'b')\n",
    "plt.plot(bn_momentum2['train_acc'], 'g--')\n",
    "plt.plot(bn_momentum2['val_acc'], 'g')\n",
    "plt.plot(bn_momentum3['train_acc'], 'r--')\n",
    "plt.plot(bn_momentum3['val_acc'], 'r')\n",
    "plt.ylim(ymax=101, ymin=97)\n",
    "plt.legend(['train, 1e-2', 'validation, 1e-2', 'train, 1e-1', 'validation, 1e-1',\n",
    "           'train, 1.0', 'validation, 1.0'], loc=0, fontsize=12)\n",
    "plt.xlim(xmax=49)\n",
    "plt.xlabel('epochs')\n",
    "plt.ylabel('accuracy')\n",
    "# plt.title('BN SGDm, CNN (2CL + 1HL) MNIST', fontsize=13)\n",
    "# plt.savefig(\"sgd_cnn_rates_mnist.jpg\")\n",
    "plt.show()"
   ]
  },
  {
   "cell_type": "markdown",
   "metadata": {},
   "source": [
    "## ADAGRAD"
   ]
  },
  {
   "cell_type": "code",
   "execution_count": 31,
   "metadata": {
    "collapsed": false
   },
   "outputs": [
    {
     "name": "stdout",
     "output_type": "stream",
     "text": [
      "CPU times: user 33.1 s, sys: 1min 15s, total: 1min 49s\n",
      "Wall time: 1min 53s\n"
     ]
    }
   ],
   "source": [
    "%%time\n",
    "make_seed(1)\n",
    "adagrad1 = main.run_method(lasagne.updates.adagrad, model='cnn', CL=2, HL=1, num_epochs=50, alpha=1e-3)"
   ]
  },
  {
   "cell_type": "code",
   "execution_count": 32,
   "metadata": {
    "collapsed": false
   },
   "outputs": [
    {
     "name": "stdout",
     "output_type": "stream",
     "text": [
      "CPU times: user 27.5 s, sys: 1min 19s, total: 1min 46s\n",
      "Wall time: 1min 47s\n"
     ]
    }
   ],
   "source": [
    "%%time\n",
    "make_seed(1)\n",
    "adagrad2 = main.run_method(lasagne.updates.adagrad, model='cnn', CL=2, HL=1, num_epochs=50, alpha=1e-2)"
   ]
  },
  {
   "cell_type": "code",
   "execution_count": 33,
   "metadata": {
    "collapsed": false
   },
   "outputs": [
    {
     "name": "stdout",
     "output_type": "stream",
     "text": [
      "CPU times: user 32.1 s, sys: 1min 15s, total: 1min 47s\n",
      "Wall time: 1min 51s\n"
     ]
    }
   ],
   "source": [
    "%%time\n",
    "make_seed(1)\n",
    "adagrad3 = main.run_method(lasagne.updates.adagrad, model='cnn', CL=2, HL=1, num_epochs=50, alpha=1e-1)"
   ]
  },
  {
   "cell_type": "code",
   "execution_count": 34,
   "metadata": {
    "collapsed": true
   },
   "outputs": [],
   "source": [
    "# import pickle\n",
    "# with open('adagrad', 'wb') as f:\n",
    "#     pickle.dump(adagrad1, f)\n",
    "#     pickle.dump(adagrad2, f)\n",
    "#     pickle.dump(adagrad3, f)"
   ]
  },
  {
   "cell_type": "code",
   "execution_count": 19,
   "metadata": {
    "collapsed": true
   },
   "outputs": [],
   "source": [
    "import pickle\n",
    "with open('adagrad', 'rb') as f:\n",
    "    adagrad1 = pickle.load(f)\n",
    "    adagrad2 = pickle.load(f)\n",
    "    adagrad3 = pickle.load(f)"
   ]
  },
  {
   "cell_type": "code",
   "execution_count": 20,
   "metadata": {
    "collapsed": false
   },
   "outputs": [],
   "source": [
    "plt.figure(figsize=(10, 8))\n",
    "plt.plot(adagrad1['train_acc'], 'b--')\n",
    "plt.plot(adagrad1['val_acc'], 'b')\n",
    "plt.plot(adagrad2['train_acc'], 'g--')\n",
    "plt.plot(adagrad2['val_acc'], 'g')\n",
    "plt.plot(adagrad3['train_acc'], 'r--')\n",
    "plt.plot(adagrad3['val_acc'], 'r')\n",
    "plt.legend(['train, 1e-3', 'validation, 1e-3', 'train, 1e-2', 'validation, 1e-2', \n",
    "            'train, 1e-1', 'validation, 1e-1'], loc=0, fontsize=12)\n",
    "plt.ylim(ymax=101, ymin=90)\n",
    "plt.xlim(xmax=49)\n",
    "plt.xlabel('epochs')\n",
    "plt.ylabel('accuracy')\n",
    "# plt.title('Adagrad, CNN (2CL + 1HL) MNIST', fontsize=13)\n",
    "# plt.savefig(\"bn_adam_cnn_rates_cifar10.jpg\")\n",
    "plt.show()\n"
   ]
  },
  {
   "cell_type": "code",
   "execution_count": 35,
   "metadata": {
    "collapsed": false
   },
   "outputs": [
    {
     "name": "stdout",
     "output_type": "stream",
     "text": [
      "CPU times: user 1min 9s, sys: 3min 2s, total: 4min 11s\n",
      "Wall time: 4min 17s\n"
     ]
    }
   ],
   "source": [
    "%%time\n",
    "make_seed(1)\n",
    "bn_adagrad1 = main.run_method(lasagne.updates.adagrad, model='cnn', CL=2, HL=1, num_epochs=50, alpha=1e-3, BN=True)"
   ]
  },
  {
   "cell_type": "code",
   "execution_count": 36,
   "metadata": {
    "collapsed": false
   },
   "outputs": [
    {
     "name": "stdout",
     "output_type": "stream",
     "text": [
      "CPU times: user 1min 9s, sys: 3min 2s, total: 4min 11s\n",
      "Wall time: 4min 17s\n"
     ]
    }
   ],
   "source": [
    "%%time\n",
    "make_seed(1)\n",
    "bn_adagrad2 = main.run_method(lasagne.updates.adagrad, model='cnn', CL=2, HL=1, num_epochs=50, alpha=1e-2, BN=True)"
   ]
  },
  {
   "cell_type": "code",
   "execution_count": 37,
   "metadata": {
    "collapsed": false
   },
   "outputs": [
    {
     "name": "stdout",
     "output_type": "stream",
     "text": [
      "CPU times: user 1min 7s, sys: 3min 4s, total: 4min 11s\n",
      "Wall time: 4min 17s\n"
     ]
    }
   ],
   "source": [
    "%%time\n",
    "make_seed(1)\n",
    "bn_adagrad3 = main.run_method(lasagne.updates.adagrad, model='cnn', CL=2, HL=1, num_epochs=50, alpha=1e-1, BN=True)"
   ]
  },
  {
   "cell_type": "code",
   "execution_count": 38,
   "metadata": {
    "collapsed": false
   },
   "outputs": [
    {
     "name": "stdout",
     "output_type": "stream",
     "text": [
      "CPU times: user 1min, sys: 2min 59s, total: 4min\n",
      "Wall time: 4min 5s\n"
     ]
    }
   ],
   "source": [
    "%%time\n",
    "make_seed(1)\n",
    "bn_adagrad4 = main.run_method(lasagne.updates.adagrad, model='cnn', CL=2, HL=1, num_epochs=50, alpha=1.0, BN=True)"
   ]
  },
  {
   "cell_type": "code",
   "execution_count": 39,
   "metadata": {
    "collapsed": true
   },
   "outputs": [],
   "source": [
    "# import pickle\n",
    "# with open('bn_adagrad', 'wb') as f:\n",
    "#     pickle.dump(bn_adagrad1, f)\n",
    "#     pickle.dump(bn_adagrad2, f)\n",
    "#     pickle.dump(bn_adagrad3, f)\n",
    "#     pickle.dump(bn_adagrad4, f)"
   ]
  },
  {
   "cell_type": "code",
   "execution_count": 21,
   "metadata": {
    "collapsed": true
   },
   "outputs": [],
   "source": [
    "import pickle\n",
    "with open('bn_adagrad', 'rb') as f:\n",
    "    bn_adagrad1 = pickle.load(f)\n",
    "    bn_adagrad2 = pickle.load(f)\n",
    "    bn_adagrad3 = pickle.load(f)\n",
    "    bn_adagrad4 = pickle.load(f)"
   ]
  },
  {
   "cell_type": "code",
   "execution_count": 22,
   "metadata": {
    "collapsed": false
   },
   "outputs": [],
   "source": [
    "plt.figure(figsize=(10, 8))\n",
    "plt.plot(bn_adagrad1['train_acc'], 'b--')\n",
    "plt.plot(bn_adagrad1['val_acc'], 'b')\n",
    "plt.plot(bn_adagrad2['train_acc'], 'g--')\n",
    "plt.plot(bn_adagrad2['val_acc'], 'g')\n",
    "plt.plot(bn_adagrad3['train_acc'], 'r--')\n",
    "plt.plot(bn_adagrad3['val_acc'], 'r')\n",
    "plt.plot(bn_adagrad4['train_acc'], 'k--')\n",
    "plt.plot(bn_adagrad4['val_acc'], 'k')\n",
    "plt.legend(['train, 1e-3', 'validation, 1e-3', 'train, 1e-2', 'validation, 1e-2', \n",
    "            'train, 1e-1', 'validation, 1e-1', 'train, 1.0', 'validation, 1.0'], loc=0, fontsize=12)\n",
    "plt.ylim(ymax=101, ymin=95)\n",
    "plt.xlim(xmax=49)\n",
    "plt.xlabel('epochs')\n",
    "plt.ylabel('accuracy')\n",
    "# plt.title('BN Adagrad, CNN (2CL + 1HL) CIFAR-10', fontsize=13)\n",
    "# plt.savefig(\"bn_adam_cnn_rates_cifar10.jpg\")\n",
    "plt.show()\n"
   ]
  },
  {
   "cell_type": "markdown",
   "metadata": {
    "collapsed": true
   },
   "source": [
    "## ADADELTA"
   ]
  },
  {
   "cell_type": "code",
   "execution_count": 40,
   "metadata": {
    "collapsed": false
   },
   "outputs": [
    {
     "name": "stdout",
     "output_type": "stream",
     "text": [
      "CPU times: user 26.6 s, sys: 1min 9s, total: 1min 36s\n",
      "Wall time: 1min 38s\n"
     ]
    }
   ],
   "source": [
    "%%time\n",
    "make_seed(1)\n",
    "adadelta1 = main.run_method(lasagne.updates.adadelta, model='cnn', CL=2, HL=1, num_epochs=50, alpha=1e-1)"
   ]
  },
  {
   "cell_type": "code",
   "execution_count": 41,
   "metadata": {
    "collapsed": false
   },
   "outputs": [
    {
     "name": "stdout",
     "output_type": "stream",
     "text": [
      "CPU times: user 26.6 s, sys: 1min 10s, total: 1min 37s\n",
      "Wall time: 1min 39s\n"
     ]
    }
   ],
   "source": [
    "%%time\n",
    "make_seed(1)\n",
    "adadelta2 = main.run_method(lasagne.updates.adadelta, model='cnn', CL=2, HL=1, num_epochs=50, alpha=1.0)"
   ]
  },
  {
   "cell_type": "code",
   "execution_count": 42,
   "metadata": {
    "collapsed": false
   },
   "outputs": [
    {
     "name": "stdout",
     "output_type": "stream",
     "text": [
      "CPU times: user 28.4 s, sys: 1min 7s, total: 1min 36s\n",
      "Wall time: 1min 40s\n"
     ]
    }
   ],
   "source": [
    "%%time\n",
    "make_seed(1)\n",
    "adadelta3 = main.run_method(lasagne.updates.adadelta, model='cnn', CL=2, HL=1, num_epochs=50, alpha=5.0)"
   ]
  },
  {
   "cell_type": "code",
   "execution_count": 43,
   "metadata": {
    "collapsed": true
   },
   "outputs": [],
   "source": [
    "# import pickle\n",
    "# with open('adadelta', 'wb') as f:\n",
    "#     pickle.dump(adadelta1, f)\n",
    "#     pickle.dump(adadelta2, f)\n",
    "#     pickle.dump(adadelta3, f)"
   ]
  },
  {
   "cell_type": "code",
   "execution_count": 23,
   "metadata": {
    "collapsed": true
   },
   "outputs": [],
   "source": [
    "import pickle\n",
    "with open('adadelta', 'rb') as f:\n",
    "    adadelta1 = pickle.load(f)\n",
    "    adadelta2 = pickle.load(f)\n",
    "    adadelta3 = pickle.load(f)"
   ]
  },
  {
   "cell_type": "code",
   "execution_count": 24,
   "metadata": {
    "collapsed": false
   },
   "outputs": [],
   "source": [
    "plt.figure(figsize=(10, 8))\n",
    "plt.plot(adadelta1['train_acc'], 'b--')\n",
    "plt.plot(adadelta1['val_acc'], 'b')\n",
    "plt.plot(adadelta2['train_acc'], 'g--')\n",
    "plt.plot(adadelta2['val_acc'], 'g')\n",
    "plt.plot(adadelta3['train_acc'], 'r--')\n",
    "plt.plot(adadelta3['val_acc'], 'r')\n",
    "plt.legend(['train, 1e-1', 'validation, 1e-1', 'train, 1.0', 'validation, 1.0', \n",
    "            'train, 5.0', 'validation, 5.0'], loc=0, fontsize=12)\n",
    "plt.ylim(ymax=101, ymin=90)\n",
    "plt.xlim(xmax=49)\n",
    "plt.xlabel('epochs')\n",
    "plt.ylabel('accuracy')\n",
    "# plt.title('Adadelta, CNN (2CL + 1HL) MNIST', fontsize=13)\n",
    "# plt.savefig(\"bn_adam_cnn_rates_cifar10.jpg\")\n",
    "plt.show()\n"
   ]
  },
  {
   "cell_type": "code",
   "execution_count": 44,
   "metadata": {
    "collapsed": false
   },
   "outputs": [
    {
     "name": "stdout",
     "output_type": "stream",
     "text": [
      "CPU times: user 1min 3s, sys: 2min 59s, total: 4min 2s\n",
      "Wall time: 4min 9s\n"
     ]
    }
   ],
   "source": [
    "%%time\n",
    "make_seed(1)\n",
    "bn_adadelta1 = main.run_method(lasagne.updates.adadelta, model='cnn', CL=2, HL=1, num_epochs=50, alpha=1e-1, BN=True)"
   ]
  },
  {
   "cell_type": "code",
   "execution_count": 45,
   "metadata": {
    "collapsed": false
   },
   "outputs": [
    {
     "name": "stdout",
     "output_type": "stream",
     "text": [
      "CPU times: user 1min 3s, sys: 2min 55s, total: 3min 59s\n",
      "Wall time: 4min 2s\n"
     ]
    }
   ],
   "source": [
    "%%time\n",
    "make_seed(1)\n",
    "bn_adadelta2 = main.run_method(lasagne.updates.adadelta, model='cnn', CL=2, HL=1, num_epochs=50, alpha=1.0, BN=True)"
   ]
  },
  {
   "cell_type": "code",
   "execution_count": 46,
   "metadata": {
    "collapsed": false
   },
   "outputs": [
    {
     "name": "stdout",
     "output_type": "stream",
     "text": [
      "CPU times: user 1min 4s, sys: 2min 53s, total: 3min 58s\n",
      "Wall time: 4min\n"
     ]
    }
   ],
   "source": [
    "%%time\n",
    "make_seed(1)\n",
    "bn_adadelta3 = main.run_method(lasagne.updates.adadelta, model='cnn', CL=2, HL=1, num_epochs=50, alpha=5.0, BN=True)"
   ]
  },
  {
   "cell_type": "code",
   "execution_count": 47,
   "metadata": {
    "collapsed": true
   },
   "outputs": [],
   "source": [
    "# import pickle\n",
    "# with open('bn_adadelta', 'wb') as f:\n",
    "#     pickle.dump(bn_adadelta1, f)\n",
    "#     pickle.dump(bn_adadelta2, f)\n",
    "#     pickle.dump(bn_adadelta3, f)"
   ]
  },
  {
   "cell_type": "code",
   "execution_count": 25,
   "metadata": {
    "collapsed": true
   },
   "outputs": [],
   "source": [
    "import pickle\n",
    "with open('bn_adadelta', 'rb') as f:\n",
    "    bn_adadelta1 = pickle.load(f)\n",
    "    bn_adadelta2 = pickle.load(f)\n",
    "    bn_adadelta3 = pickle.load(f)"
   ]
  },
  {
   "cell_type": "code",
   "execution_count": 26,
   "metadata": {
    "collapsed": false
   },
   "outputs": [],
   "source": [
    "plt.figure(figsize=(10, 8))\n",
    "plt.plot(bn_adadelta1['train_acc'], 'b--')\n",
    "plt.plot(bn_adadelta1['val_acc'], 'b')\n",
    "plt.plot(bn_adadelta2['train_acc'], 'g--')\n",
    "plt.plot(bn_adadelta2['val_acc'], 'g')\n",
    "plt.plot(bn_adadelta3['train_acc'], 'r--')\n",
    "plt.plot(bn_adadelta3['val_acc'], 'r')\n",
    "plt.legend(['train, 1e-1', 'validation, 1e-1', 'train, 1.0', 'validation, 1.0', \n",
    "            'train, 5.0', 'validation, 5.0'], loc=0, fontsize=12)\n",
    "plt.ylim(ymax=101, ymin=90)\n",
    "plt.xlim(xmax=49)\n",
    "plt.xlabel('epochs')\n",
    "plt.ylabel('accuracy')\n",
    "# plt.title('BN Adadelta, CNN (2CL + 1HL) MNIST', fontsize=13)\n",
    "# plt.savefig(\"bn_adam_cnn_rates_cifar10.jpg\")\n",
    "plt.show()\n"
   ]
  },
  {
   "cell_type": "markdown",
   "metadata": {},
   "source": [
    "## RMSPROP"
   ]
  },
  {
   "cell_type": "code",
   "execution_count": 48,
   "metadata": {
    "collapsed": false
   },
   "outputs": [
    {
     "name": "stdout",
     "output_type": "stream",
     "text": [
      "CPU times: user 28.5 s, sys: 1min 18s, total: 1min 47s\n",
      "Wall time: 1min 48s\n"
     ]
    }
   ],
   "source": [
    "%%time\n",
    "make_seed(1)\n",
    "rmsprop1 = main.run_method(lasagne.updates.rmsprop, model='cnn', CL=2, HL=1, num_epochs=50, alpha=1e-3)"
   ]
  },
  {
   "cell_type": "code",
   "execution_count": 49,
   "metadata": {
    "collapsed": false
   },
   "outputs": [
    {
     "name": "stdout",
     "output_type": "stream",
     "text": [
      "CPU times: user 27.4 s, sys: 1min 16s, total: 1min 43s\n",
      "Wall time: 1min 45s\n"
     ]
    }
   ],
   "source": [
    "%%time\n",
    "make_seed(1)\n",
    "rmsprop2 = main.run_method(lasagne.updates.rmsprop, model='cnn', CL=2, HL=1, num_epochs=50, alpha=1e-2)"
   ]
  },
  {
   "cell_type": "code",
   "execution_count": 50,
   "metadata": {
    "collapsed": false
   },
   "outputs": [
    {
     "name": "stdout",
     "output_type": "stream",
     "text": [
      "CPU times: user 27.3 s, sys: 1min 16s, total: 1min 44s\n",
      "Wall time: 1min 45s\n"
     ]
    }
   ],
   "source": [
    "%%time\n",
    "make_seed(1)\n",
    "rmsprop3 = main.run_method(lasagne.updates.rmsprop, model='cnn', CL=2, HL=1, num_epochs=50, alpha=5e-2)"
   ]
  },
  {
   "cell_type": "code",
   "execution_count": 51,
   "metadata": {
    "collapsed": true
   },
   "outputs": [],
   "source": [
    "# import pickle\n",
    "# with open('rmsprop', 'wb') as f:\n",
    "#     pickle.dump(rmsprop1, f)\n",
    "#     pickle.dump(rmsprop2, f)\n",
    "#     pickle.dump(rmsprop3, f)"
   ]
  },
  {
   "cell_type": "code",
   "execution_count": 27,
   "metadata": {
    "collapsed": true
   },
   "outputs": [],
   "source": [
    "import pickle\n",
    "with open('rmsprop', 'rb') as f:\n",
    "    rmsprop1 = pickle.load(f)\n",
    "    rmsprop2 = pickle.load(f)\n",
    "    rmsprop3 = pickle.load(f)"
   ]
  },
  {
   "cell_type": "code",
   "execution_count": 28,
   "metadata": {
    "collapsed": false
   },
   "outputs": [],
   "source": [
    "plt.figure(figsize=(10, 8))\n",
    "plt.plot(rmsprop1['train_acc'], 'b--')\n",
    "plt.plot(rmsprop1['val_acc'], 'b')\n",
    "plt.plot(rmsprop2['train_acc'], 'g--')\n",
    "plt.plot(rmsprop2['val_acc'], 'g')\n",
    "plt.plot(rmsprop3['train_acc'], 'r--')\n",
    "plt.plot(rmsprop3['val_acc'], 'r')\n",
    "plt.legend(['train, 1e-3', 'validation, 1e-3', 'train, 1e-2', 'validation, 1e-2', \n",
    "            'train, 5e-2', 'validation, 5e-2'], loc=0, fontsize=12)\n",
    "plt.ylim(ymax=101, ymin=95)\n",
    "plt.xlim(xmax=49)\n",
    "plt.xlabel('epochs')\n",
    "plt.ylabel('accuracy')\n",
    "# plt.title('RMSprop, CNN (2CL + 1HL) MNIST', fontsize=13)\n",
    "# plt.savefig(\"bn_adam_cnn_rates_cifar10.jpg\")\n",
    "plt.show()\n"
   ]
  },
  {
   "cell_type": "code",
   "execution_count": 52,
   "metadata": {
    "collapsed": false
   },
   "outputs": [
    {
     "name": "stdout",
     "output_type": "stream",
     "text": [
      "CPU times: user 1min 5s, sys: 3min 8s, total: 4min 13s\n",
      "Wall time: 4min 21s\n"
     ]
    }
   ],
   "source": [
    "%%time\n",
    "make_seed(1)\n",
    "bn_rmsprop1 = main.run_method(lasagne.updates.rmsprop, model='cnn', CL=2, HL=1, num_epochs=50, alpha=1e-3, BN=True)"
   ]
  },
  {
   "cell_type": "code",
   "execution_count": 53,
   "metadata": {
    "collapsed": false
   },
   "outputs": [
    {
     "name": "stdout",
     "output_type": "stream",
     "text": [
      "CPU times: user 1min 5s, sys: 3min 8s, total: 4min 14s\n",
      "Wall time: 4min 21s\n"
     ]
    }
   ],
   "source": [
    "%%time\n",
    "make_seed(1)\n",
    "bn_rmsprop2 = main.run_method(lasagne.updates.rmsprop, model='cnn', CL=2, HL=1, num_epochs=50, alpha=1e-2, BN=True)"
   ]
  },
  {
   "cell_type": "code",
   "execution_count": 54,
   "metadata": {
    "collapsed": false
   },
   "outputs": [
    {
     "name": "stdout",
     "output_type": "stream",
     "text": [
      "CPU times: user 1min 3s, sys: 3min 10s, total: 4min 13s\n",
      "Wall time: 4min 20s\n"
     ]
    }
   ],
   "source": [
    "%%time\n",
    "make_seed(1)\n",
    "bn_rmsprop3 = main.run_method(lasagne.updates.rmsprop, model='cnn', CL=2, HL=1, num_epochs=50, alpha=1e-1, BN=True)"
   ]
  },
  {
   "cell_type": "code",
   "execution_count": 55,
   "metadata": {
    "collapsed": true
   },
   "outputs": [],
   "source": [
    "# import pickle\n",
    "# with open('bn_rmsprop', 'wb') as f:\n",
    "#     pickle.dump(bn_rmsprop1, f)\n",
    "#     pickle.dump(bn_rmsprop2, f)\n",
    "#     pickle.dump(bn_rmsprop3, f)"
   ]
  },
  {
   "cell_type": "code",
   "execution_count": 29,
   "metadata": {
    "collapsed": true
   },
   "outputs": [],
   "source": [
    "import pickle\n",
    "with open('bn_rmsprop', 'rb') as f:\n",
    "    bn_rmsprop1 = pickle.load(f)\n",
    "    bn_rmsprop2 = pickle.load(f)\n",
    "    bn_rmsprop3 = pickle.load(f)"
   ]
  },
  {
   "cell_type": "code",
   "execution_count": 30,
   "metadata": {
    "collapsed": false
   },
   "outputs": [],
   "source": [
    "plt.figure(figsize=(10, 8))\n",
    "plt.plot(bn_rmsprop1['train_acc'], 'b--')\n",
    "plt.plot(bn_rmsprop1['val_acc'], 'b')\n",
    "plt.plot(bn_rmsprop2['train_acc'], 'g--')\n",
    "plt.plot(bn_rmsprop2['val_acc'], 'g')\n",
    "plt.plot(bn_rmsprop3['train_acc'], 'r--')\n",
    "plt.plot(bn_rmsprop3['val_acc'], 'r')\n",
    "plt.legend(['train, 1e-3', 'validation, 1e-3', 'train, 1e-2', 'validation, 1e-2', \n",
    "            'train, 1e-1', 'validation, 1e-1'], loc=0, fontsize=12)\n",
    "plt.ylim(ymax=101, ymin=95)\n",
    "plt.xlim(xmax=49)\n",
    "plt.xlabel('epochs')\n",
    "plt.ylabel('accuracy')\n",
    "# plt.title('BN RMSprop, CNN (2CL + 1HL) MNIST', fontsize=13)\n",
    "# plt.savefig(\"bn_adam_cnn_rates_cifar10.jpg\")\n",
    "plt.show()\n"
   ]
  },
  {
   "cell_type": "markdown",
   "metadata": {
    "collapsed": true
   },
   "source": [
    "## Совместные графики"
   ]
  },
  {
   "cell_type": "code",
   "execution_count": 32,
   "metadata": {
    "collapsed": false
   },
   "outputs": [],
   "source": [
    "plt.figure(figsize=(10, 8))\n",
    "plt.plot(adam2['train_acc'], 'b--')\n",
    "plt.plot(adam2['val_acc'], 'b')\n",
    "plt.plot(bn_adam3['train_acc'], 'r--')\n",
    "plt.plot(bn_adam3['val_acc'], 'r')\n",
    "plt.ylim(ymax=101, ymin=80)\n",
    "plt.legend(['Adam train, 1e-3', 'Adam validation, 1e-3', 'BN Adam train, 5e-3', 'BN Adam validation, 5e-3'], \n",
    "           loc=0, fontsize=12)\n",
    "plt.xlim(xmax=49)\n",
    "plt.ylim(ymin=95)\n",
    "plt.xlabel('epochs')\n",
    "plt.ylabel('accuracy')\n",
    "plt.title('temp, CNN (2CL + 1HL) MNIST', fontsize=13)\n",
    "plt.savefig(\"temp.jpg\")\n",
    "plt.show()"
   ]
  },
  {
   "cell_type": "code",
   "execution_count": 33,
   "metadata": {
    "collapsed": true
   },
   "outputs": [],
   "source": [
    "def relative(x, y):\n",
    "    return (y - x) / (100 - x)"
   ]
  },
  {
   "cell_type": "code",
   "execution_count": 87,
   "metadata": {
    "collapsed": true
   },
   "outputs": [],
   "source": [
    "def make_table(titles, lst, epochs, caption, param='val_acc', dec=2):\n",
    "    hline = \" \\\\\\\\\\\\hline\"\n",
    "    print(\"\\\\begin{table}\\n\\\\centering\\n\\\\begin{tabular}{|c|c|c|c|c|c|c|c|c|c|}\\\\hline\")\n",
    "    sepochs = \"\"\n",
    "    for x in epochs:\n",
    "        sepochs += \" & \" + str(x)\n",
    "    print(\"Номер эпохи\" + sepochs + hline + \"\\hline\")\n",
    "    \n",
    "    for i in range(len(titles) // 2):\n",
    "        s = titles[i * 2]\n",
    "        meth = lst[i * 2][param]\n",
    "        for x in epochs:\n",
    "            s += \" & \" + str(round(meth[x - 1], dec))\n",
    "        print(s + hline)\n",
    "        \n",
    "        s = titles[i * 2 + 1]\n",
    "        meth = lst[i * 2 + 1][param]\n",
    "        for x in epochs:\n",
    "            s += \" & \" + str(round(meth[x - 1], dec))\n",
    "        print(s + hline)\n",
    "        \n",
    "        s = \"Улучшение*\"\n",
    "        meth1 = lst[i * 2][param]\n",
    "        meth2 = lst[i * 2 + 1][param]\n",
    "        for x in epochs:\n",
    "            s += \" & \" + str(round(relative(meth1[x - 1], meth2[x - 1]), dec))\n",
    "        print(s + hline + \"\\hline\")\n",
    "    \n",
    "    print(\"\\\\end{tabular}\\n\\\\caption{\" + caption + \"}\\n\\\\end{table}\")"
   ]
  },
  {
   "cell_type": "code",
   "execution_count": 68,
   "metadata": {
    "collapsed": true
   },
   "outputs": [],
   "source": [
    "def map_(title, x, i, vmin=0, vmax=0.8):\n",
    "    plt.subplot(3, 2, i)\n",
    "    plt.pcolor(x.reshape((10, -1)), vmin=vmin, vmax=vmax)\n",
    "    plt.title(title)\n",
    "    plt.colorbar()"
   ]
  },
  {
   "cell_type": "code",
   "execution_count": 96,
   "metadata": {
    "collapsed": false
   },
   "outputs": [],
   "source": [
    "ind = np.arange(50)\n",
    "plt.figure(figsize=(20, 15))\n",
    "map_(\"SGD\", relative(sgd_new['val_acc'][ind], bn_sgd_new['val_acc'][ind]), 1)\n",
    "map_(\"Adam\", relative(adam_new['val_acc'][ind], bn_adam_new['val_acc'][ind]), 2)\n",
    "map_(\"SGDm\", relative(momentum_new['val_acc'][ind], bn_momentum_new['val_acc'][ind]), 3)\n",
    "map_(\"Adagrad\", relative(adagrad_new['val_acc'][ind], bn_adagrad_new['val_acc'][ind]), 4)\n",
    "map_(\"Adadelta\", relative(adadelta_new['val_acc'][ind], bn_adadelta_new['val_acc'][ind]), 5)\n",
    "map_(\"RMSprop\", relative(rmsprop_new['val_acc'][ind], bn_rmsprop_new['val_acc'][ind]), 6)\n",
    "plt.show()"
   ]
  },
  {
   "cell_type": "code",
   "execution_count": 97,
   "metadata": {
    "collapsed": false
   },
   "outputs": [
    {
     "name": "stdout",
     "output_type": "stream",
     "text": [
      "\\begin{table}\n",
      "\\centering\n",
      "\\begin{tabular}{|c|c|c|c|c|c|c|c|c|c|}\\hline\n",
      "Номер эпохи & 2 & 5 & 8 & 15 & 20 & 35 & 50 \\\\\\hline\\hline\n",
      "SGD & 96.37 & 97.71 & 98.14 & 98.49 & 98.51 & 98.46 & 98.8 \\\\\\hline\n",
      "BN SGD & 98.7 & 99.01 & 99.12 & 99.21 & 99.2 & 99.22 & 99.24 \\\\\\hline\n",
      "Улучшение* & 0.64 & 0.57 & 0.53 & 0.48 & 0.46 & 0.49 & 0.37 \\\\\\hline\\hline\n",
      "SGDm & 95.89 & 97.75 & 98.12 & 98.42 & 98.43 & 98.77 & 98.82 \\\\\\hline\n",
      "BN SGDm & 98.78 & 98.91 & 99.03 & 99.16 & 99.16 & 99.19 & 99.17 \\\\\\hline\n",
      "Улучшение* & 0.7 & 0.52 & 0.48 & 0.47 & 0.46 & 0.34 & 0.3 \\\\\\hline\\hline\n",
      "Adam & 97.64 & 98.57 & 98.81 & 98.92 & 99.08 & 99.12 & 99.16 \\\\\\hline\n",
      "BN Adam & 98.68 & 98.82 & 99.01 & 99.23 & 99.22 & 99.25 & 99.25 \\\\\\hline\n",
      "Улучшение* & 0.44 & 0.17 & 0.17 & 0.29 & 0.15 & 0.15 & 0.11 \\\\\\hline\\hline\n",
      "Adagrad & 98.0 & 98.6 & 98.81 & 98.91 & 99.01 & 98.92 & 98.96 \\\\\\hline\n",
      "BN Adagrad & 98.92 & 99.13 & 99.13 & 99.25 & 99.29 & 99.24 & 99.3 \\\\\\hline\n",
      "Улучшение* & 0.46 & 0.38 & 0.27 & 0.31 & 0.28 & 0.3 & 0.33 \\\\\\hline\\hline\n",
      "Adadelta & 98.16 & 98.61 & 98.95 & 99.1 & 99.11 & 99.22 & 99.22 \\\\\\hline\n",
      "BN Adadelta & 98.51 & 98.71 & 99.07 & 99.31 & 99.36 & 99.34 & 99.36 \\\\\\hline\n",
      "Улучшение* & 0.19 & 0.07 & 0.11 & 0.23 & 0.28 & 0.15 & 0.18 \\\\\\hline\\hline\n",
      "RMSprop & 97.87 & 98.73 & 98.92 & 99.1 & 98.91 & 98.97 & 99.1 \\\\\\hline\n",
      "BN RMSprop & 98.59 & 99.01 & 99.12 & 99.2 & 99.31 & 99.34 & 99.34 \\\\\\hline\n",
      "Улучшение* & 0.34 & 0.22 & 0.19 & 0.11 & 0.37 & 0.36 & 0.27 \\\\\\hline\\hline\n",
      "\\end{tabular}\n",
      "\\caption{Качество на MNIST, CNN, лучшие рейты}\n",
      "\\end{table}\n"
     ]
    }
   ],
   "source": [
    "make_table([\"SGD\", \"BN SGD\", \"SGDm\", \"BN SGDm\", \"Adam\", \"BN Adam\", \"Adagrad\", \"BN Adagrad\", \"Adadelta\", \"BN Adadelta\", \n",
    "           \"RMSprop\", \"BN RMSprop\"], \n",
    "           [sgd_new, bn_sgd_new, momentum_new, bn_momentum_new, adam_new, bn_adam_new, \n",
    "            adagrad_new, bn_adagrad_new, adadelta_new, bn_adadelta_new, \n",
    "           rmsprop_new, bn_rmsprop_new], \n",
    "           [2, 5, 8, 15, 20, 35, 50], \"Качество на MNIST, CNN, лучшие рейты\")"
   ]
  },
  {
   "cell_type": "code",
   "execution_count": null,
   "metadata": {
    "collapsed": true
   },
   "outputs": [],
   "source": []
  },
  {
   "cell_type": "code",
   "execution_count": 93,
   "metadata": {
    "collapsed": false
   },
   "outputs": [],
   "source": [
    "sgd_new, bn_sgd_new = sgd3, bn_sgd4\n",
    "adam_new, bn_adam_new = adam2, bn_adam2\n",
    "momentum_new, bn_momentum_new = momentum1, bn_momentum2\n",
    "adagrad_new, bn_adagrad_new = adagrad2, bn_adagrad2\n",
    "adadelta_new, bn_adadelta_new = adadelta3, bn_adadelta3\n",
    "rmsprop_new, bn_rmsprop_new = rmsprop1, bn_rmsprop1"
   ]
  },
  {
   "cell_type": "code",
   "execution_count": null,
   "metadata": {
    "collapsed": true
   },
   "outputs": [],
   "source": []
  }
 ],
 "metadata": {
  "kernelspec": {
   "display_name": "Python 2",
   "language": "python",
   "name": "python2"
  },
  "language_info": {
   "codemirror_mode": {
    "name": "ipython",
    "version": 2
   },
   "file_extension": ".py",
   "mimetype": "text/x-python",
   "name": "python",
   "nbconvert_exporter": "python",
   "pygments_lexer": "ipython2",
   "version": "2.7.6"
  }
 },
 "nbformat": 4,
 "nbformat_minor": 0
}

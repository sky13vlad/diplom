{
 "cells": [
  {
   "cell_type": "code",
   "execution_count": 2,
   "metadata": {
    "collapsed": false
   },
   "outputs": [
    {
     "name": "stderr",
     "output_type": "stream",
     "text": [
      "Using gpu device 0: GeForce GTX TITAN X (CNMeM is disabled, CuDNN 4007)\n"
     ]
    }
   ],
   "source": [
    "import main\n",
    "import numpy as np\n",
    "import matplotlib.pyplot as plt\n",
    "%matplotlib inline\n",
    "import lasagne\n",
    "import theano\n",
    "import theano.tensor as T"
   ]
  },
  {
   "cell_type": "code",
   "execution_count": 3,
   "metadata": {
    "collapsed": false
   },
   "outputs": [
    {
     "data": {
      "text/plain": [
       "<module 'main' from 'main.pyc'>"
      ]
     },
     "execution_count": 3,
     "metadata": {},
     "output_type": "execute_result"
    }
   ],
   "source": [
    "import imp\n",
    "imp.reload(main)"
   ]
  },
  {
   "cell_type": "code",
   "execution_count": 4,
   "metadata": {
    "collapsed": false
   },
   "outputs": [
    {
     "name": "stdout",
     "output_type": "stream",
     "text": [
      "CPU times: user 11.7 s, sys: 17.3 s, total: 29 s\n",
      "Wall time: 30.4 s\n"
     ]
    }
   ],
   "source": [
    "%%time\n",
    "sgd1 = main.run_method(lasagne.updates.sgd, HL=3, num_epochs=50, alpha=1e-3)"
   ]
  },
  {
   "cell_type": "code",
   "execution_count": 5,
   "metadata": {
    "collapsed": false
   },
   "outputs": [
    {
     "name": "stdout",
     "output_type": "stream",
     "text": [
      "CPU times: user 12.7 s, sys: 26.2 s, total: 39 s\n",
      "Wall time: 40.2 s\n"
     ]
    }
   ],
   "source": [
    "%%time\n",
    "sgd2 = main.run_method(lasagne.updates.sgd, HL=3, num_epochs=50, alpha=1e-2)"
   ]
  },
  {
   "cell_type": "code",
   "execution_count": 6,
   "metadata": {
    "collapsed": false
   },
   "outputs": [
    {
     "name": "stdout",
     "output_type": "stream",
     "text": [
      "CPU times: user 11.8 s, sys: 17.4 s, total: 29.2 s\n",
      "Wall time: 30.5 s\n"
     ]
    }
   ],
   "source": [
    "%%time\n",
    "sgd3 = main.run_method(lasagne.updates.sgd, HL=3, num_epochs=50, alpha=1e-1)"
   ]
  },
  {
   "cell_type": "code",
   "execution_count": 7,
   "metadata": {
    "collapsed": false
   },
   "outputs": [
    {
     "name": "stdout",
     "output_type": "stream",
     "text": [
      "CPU times: user 11.7 s, sys: 17 s, total: 28.7 s\n",
      "Wall time: 30 s\n"
     ]
    }
   ],
   "source": [
    "%%time\n",
    "sgd4 = main.run_method(lasagne.updates.sgd, HL=3, num_epochs=50, alpha=1.0)"
   ]
  },
  {
   "cell_type": "code",
   "execution_count": 8,
   "metadata": {
    "collapsed": true
   },
   "outputs": [],
   "source": [
    "import pickle\n",
    "with open('sgd', 'wb') as f:\n",
    "    pickle.dump(sgd1, f)\n",
    "    pickle.dump(sgd2, f)\n",
    "    pickle.dump(sgd3, f)\n",
    "    pickle.dump(sgd4, f)"
   ]
  },
  {
   "cell_type": "code",
   "execution_count": null,
   "metadata": {
    "collapsed": false
   },
   "outputs": [],
   "source": [
    "plt.figure(figsize=(10, 8))\n",
    "plt.plot(sgd1['train_acc'], 'b--')\n",
    "plt.plot(sgd1['val_acc'], 'b')\n",
    "plt.plot(sgd2['train_acc'], 'g--')\n",
    "plt.plot(sgd2['val_acc'], 'g')\n",
    "plt.plot(sgd3['train_acc'], 'r--')\n",
    "plt.plot(sgd3['val_acc'], 'r')\n",
    "plt.plot(sgd4['train_acc'], 'k--')\n",
    "plt.plot(sgd4['val_acc'], 'k')\n",
    "plt.ylim(ymax=101)\n",
    "plt.legend(['train, 1e-3', 'validation, 1e-3', 'train, 1e-2', 'validation, 1e-2',\n",
    "           'train, 1e-1', 'validation, 1e-1', 'train, 1.0', 'validation, 1.0'], loc=0, fontsize=12)\n",
    "plt.xlim(xmax=49)\n",
    "plt.xlabel('epochs')\n",
    "plt.ylabel('accuracy')\n",
    "plt.title('SGD, CNN (2CL + 1HL) MNIST', fontsize=13)\n",
    "plt.savefig(\"sgd_cnn_rates_mnist.jpg\")\n"
   ]
  },
  {
   "cell_type": "code",
   "execution_count": 9,
   "metadata": {
    "collapsed": false
   },
   "outputs": [
    {
     "name": "stdout",
     "output_type": "stream",
     "text": [
      "CPU times: user 32.1 s, sys: 1min 1s, total: 1min 33s\n",
      "Wall time: 1min 35s\n"
     ]
    }
   ],
   "source": [
    "%%time\n",
    "bn_sgd1 = main.run_method(lasagne.updates.sgd, HL=3, num_epochs=50, alpha=1e-3, BN=True)"
   ]
  },
  {
   "cell_type": "code",
   "execution_count": 10,
   "metadata": {
    "collapsed": false
   },
   "outputs": [
    {
     "name": "stdout",
     "output_type": "stream",
     "text": [
      "CPU times: user 34.4 s, sys: 1min 10s, total: 1min 44s\n",
      "Wall time: 1min 46s\n"
     ]
    }
   ],
   "source": [
    "%%time\n",
    "bn_sgd2 = main.run_method(lasagne.updates.sgd, HL=3, num_epochs=50, alpha=1e-2, BN=True)"
   ]
  },
  {
   "cell_type": "code",
   "execution_count": 11,
   "metadata": {
    "collapsed": false
   },
   "outputs": [
    {
     "name": "stdout",
     "output_type": "stream",
     "text": [
      "CPU times: user 31.9 s, sys: 1min 1s, total: 1min 33s\n",
      "Wall time: 1min 35s\n"
     ]
    }
   ],
   "source": [
    "%%time\n",
    "bn_sgd3 = main.run_method(lasagne.updates.sgd, HL=3, num_epochs=50, alpha=1e-1, BN=True)"
   ]
  },
  {
   "cell_type": "code",
   "execution_count": 12,
   "metadata": {
    "collapsed": false
   },
   "outputs": [
    {
     "name": "stdout",
     "output_type": "stream",
     "text": [
      "CPU times: user 34.8 s, sys: 1min 10s, total: 1min 45s\n",
      "Wall time: 1min 47s\n"
     ]
    }
   ],
   "source": [
    "%%time\n",
    "bn_sgd4 = main.run_method(lasagne.updates.sgd, HL=3, num_epochs=50, alpha=1.0, BN=True)"
   ]
  },
  {
   "cell_type": "code",
   "execution_count": 13,
   "metadata": {
    "collapsed": true
   },
   "outputs": [],
   "source": [
    "import pickle\n",
    "with open('bn_sgd', 'wb') as f:\n",
    "    pickle.dump(bn_sgd1, f)\n",
    "    pickle.dump(bn_sgd2, f)\n",
    "    pickle.dump(bn_sgd3, f)\n",
    "    pickle.dump(bn_sgd4, f)"
   ]
  },
  {
   "cell_type": "code",
   "execution_count": null,
   "metadata": {
    "collapsed": false
   },
   "outputs": [],
   "source": [
    "plt.figure(figsize=(10, 8))\n",
    "plt.plot(bn_sgd1['train_acc'], 'b--')\n",
    "plt.plot(bn_sgd1['val_acc'], 'b')\n",
    "plt.plot(bn_sgd2['train_acc'], 'g--')\n",
    "plt.plot(bn_sgd2['val_acc'], 'g')\n",
    "plt.plot(bn_sgd3['train_acc'], 'r--')\n",
    "plt.plot(bn_sgd3['val_acc'], 'r')\n",
    "plt.plot(bn_sgd4['train_acc'], 'k--')\n",
    "plt.plot(bn_sgd4['val_acc'], 'k')\n",
    "plt.ylim(ymax=101)\n",
    "plt.legend(['train, 1e-3', 'validation, 1e-3', 'train, 1e-2', 'validation, 1e-2',\n",
    "           'train, 1e-1', 'validation, 1e-1', 'train, 1.0', 'validation, 1.0'], loc=0, fontsize=12)\n",
    "plt.xlim(xmax=49)\n",
    "plt.xlabel('epochs')\n",
    "plt.ylabel('accuracy')\n",
    "plt.title('BN SGD, CNN (2CL + 1HL) MNIST', fontsize=13)\n",
    "plt.savefig(\"bn_sgd_cnn_rates_mnist.jpg\")\n"
   ]
  },
  {
   "cell_type": "code",
   "execution_count": null,
   "metadata": {
    "collapsed": true
   },
   "outputs": [],
   "source": []
  },
  {
   "cell_type": "code",
   "execution_count": 14,
   "metadata": {
    "collapsed": false
   },
   "outputs": [
    {
     "name": "stdout",
     "output_type": "stream",
     "text": [
      "CPU times: user 15.4 s, sys: 20.7 s, total: 36.1 s\n",
      "Wall time: 37.3 s\n"
     ]
    }
   ],
   "source": [
    "%%time\n",
    "adam1 = main.run_method(lasagne.updates.adam, HL=3, num_epochs=50, alpha=1e-4)"
   ]
  },
  {
   "cell_type": "code",
   "execution_count": 15,
   "metadata": {
    "collapsed": false
   },
   "outputs": [
    {
     "name": "stdout",
     "output_type": "stream",
     "text": [
      "CPU times: user 15.5 s, sys: 21 s, total: 36.5 s\n",
      "Wall time: 37.7 s\n"
     ]
    }
   ],
   "source": [
    "%%time\n",
    "adam2 = main.run_method(lasagne.updates.adam, HL=3, num_epochs=50, alpha=1e-3)"
   ]
  },
  {
   "cell_type": "code",
   "execution_count": 16,
   "metadata": {
    "collapsed": false
   },
   "outputs": [
    {
     "name": "stdout",
     "output_type": "stream",
     "text": [
      "CPU times: user 17.1 s, sys: 30.5 s, total: 47.6 s\n",
      "Wall time: 48.7 s\n"
     ]
    }
   ],
   "source": [
    "%%time\n",
    "adam3 = main.run_method(lasagne.updates.adam, HL=3, num_epochs=50, alpha=5e-3)"
   ]
  },
  {
   "cell_type": "code",
   "execution_count": 17,
   "metadata": {
    "collapsed": true
   },
   "outputs": [],
   "source": [
    "import pickle\n",
    "with open('adam', 'wb') as f:\n",
    "    pickle.dump(adam1, f)\n",
    "    pickle.dump(adam2, f)\n",
    "    pickle.dump(adam3, f)"
   ]
  },
  {
   "cell_type": "code",
   "execution_count": 18,
   "metadata": {
    "collapsed": false
   },
   "outputs": [
    {
     "name": "stdout",
     "output_type": "stream",
     "text": [
      "CPU times: user 36.7 s, sys: 1min 7s, total: 1min 43s\n",
      "Wall time: 1min 45s\n"
     ]
    }
   ],
   "source": [
    "%%time\n",
    "bn_adam1 = main.run_method(lasagne.updates.adam, HL=3, num_epochs=50, alpha=1e-4, BN=True)"
   ]
  },
  {
   "cell_type": "code",
   "execution_count": 20,
   "metadata": {
    "collapsed": false
   },
   "outputs": [
    {
     "name": "stdout",
     "output_type": "stream",
     "text": [
      "CPU times: user 40.6 s, sys: 1min 6s, total: 1min 47s\n",
      "Wall time: 1min 51s\n"
     ]
    }
   ],
   "source": [
    "%%time\n",
    "bn_adam2 = main.run_method(lasagne.updates.adam, HL=3, num_epochs=50, alpha=1e-3, BN=True)"
   ]
  },
  {
   "cell_type": "code",
   "execution_count": 21,
   "metadata": {
    "collapsed": false
   },
   "outputs": [
    {
     "name": "stdout",
     "output_type": "stream",
     "text": [
      "CPU times: user 40.9 s, sys: 1min 14s, total: 1min 55s\n",
      "Wall time: 1min 59s\n"
     ]
    }
   ],
   "source": [
    "%%time\n",
    "bn_adam3 = main.run_method(lasagne.updates.adam, HL=3, num_epochs=50, alpha=5e-3, BN=True)"
   ]
  },
  {
   "cell_type": "code",
   "execution_count": 22,
   "metadata": {
    "collapsed": false
   },
   "outputs": [
    {
     "name": "stdout",
     "output_type": "stream",
     "text": [
      "CPU times: user 39.6 s, sys: 1min 7s, total: 1min 47s\n",
      "Wall time: 1min 52s\n"
     ]
    }
   ],
   "source": [
    "%%time\n",
    "bn_adam4 = main.run_method(lasagne.updates.adam, HL=3, num_epochs=50, alpha=1e-2, BN=True)"
   ]
  },
  {
   "cell_type": "code",
   "execution_count": 23,
   "metadata": {
    "collapsed": true
   },
   "outputs": [],
   "source": [
    "import pickle\n",
    "with open('bn_adam', 'wb') as f:\n",
    "    pickle.dump(bn_adam1, f)\n",
    "    pickle.dump(bn_adam2, f)\n",
    "    pickle.dump(bn_adam3, f)\n",
    "    pickle.dump(bn_adam4, f)"
   ]
  },
  {
   "cell_type": "code",
   "execution_count": null,
   "metadata": {
    "collapsed": false
   },
   "outputs": [],
   "source": [
    "plt.figure(figsize=(10, 8))\n",
    "plt.plot(bn_adam1['train_acc'], 'b--')\n",
    "plt.plot(bn_adam1['val_acc'], 'b')\n",
    "plt.plot(bn_adam2['train_acc'], 'g--')\n",
    "plt.plot(bn_adam2['val_acc'], 'g')\n",
    "plt.plot(bn_adam3['train_acc'], 'r--')\n",
    "plt.plot(bn_adam3['val_acc'], 'r')\n",
    "plt.plot(bn_adam4['train_acc'], 'k--')\n",
    "plt.plot(bn_adam4['val_acc'], 'k')\n",
    "plt.legend(['train, 1e-4', 'validation, 1e-4', 'train, 1e-3', 'validation, 1e-3', \n",
    "            'train, 5e-3', 'validation, 5e-3', 'train, 1e-2', 'validation, 1e-2'], loc=0, fontsize=12)\n",
    "plt.ylim(ymax=101)\n",
    "plt.xlim(xmax=49)\n",
    "plt.xlabel('epochs')\n",
    "plt.ylabel('accuracy')\n",
    "plt.title('BN Adam, CNN (2CL + 1HL) CIFAR-10', fontsize=13)\n",
    "# plt.savefig(\"bn_adam_cnn_rates_cifar10.jpg\")\n",
    "\n"
   ]
  },
  {
   "cell_type": "code",
   "execution_count": null,
   "metadata": {
    "collapsed": true
   },
   "outputs": [],
   "source": []
  },
  {
   "cell_type": "code",
   "execution_count": 24,
   "metadata": {
    "collapsed": false
   },
   "outputs": [
    {
     "name": "stdout",
     "output_type": "stream",
     "text": [
      "CPU times: user 41.1 s, sys: 1min 14s, total: 1min 55s\n",
      "Wall time: 1min 59s\n"
     ]
    }
   ],
   "source": [
    "%%time\n",
    "bn_adam_eps1 = main.run_method(lasagne.updates.adam, HL=3, num_epochs=50, alpha=1e-3, \n",
    "                               BN=True, epsilon=1e-4)"
   ]
  },
  {
   "cell_type": "code",
   "execution_count": 25,
   "metadata": {
    "collapsed": false
   },
   "outputs": [
    {
     "name": "stdout",
     "output_type": "stream",
     "text": [
      "CPU times: user 40.2 s, sys: 1min 6s, total: 1min 47s\n",
      "Wall time: 1min 52s\n"
     ]
    }
   ],
   "source": [
    "%%time\n",
    "bn_adam_eps2 = main.run_method(lasagne.updates.adam, HL=3, num_epochs=50, alpha=1e-3, \n",
    "                               BN=True, epsilon=1e-2)"
   ]
  },
  {
   "cell_type": "code",
   "execution_count": 26,
   "metadata": {
    "collapsed": true
   },
   "outputs": [],
   "source": [
    "import pickle\n",
    "with open('bn_adam_eps', 'wb') as f:\n",
    "    pickle.dump(bn_adam_eps1, f)\n",
    "    pickle.dump(bn_adam_eps2, f)"
   ]
  },
  {
   "cell_type": "code",
   "execution_count": null,
   "metadata": {
    "collapsed": true
   },
   "outputs": [],
   "source": []
  },
  {
   "cell_type": "code",
   "execution_count": 27,
   "metadata": {
    "collapsed": false
   },
   "outputs": [
    {
     "name": "stdout",
     "output_type": "stream",
     "text": [
      "CPU times: user 16.7 s, sys: 26.1 s, total: 42.8 s\n",
      "Wall time: 45.3 s\n"
     ]
    }
   ],
   "source": [
    "%%time\n",
    "momentum1 = main.run_method(lasagne.updates.momentum, HL=3, num_epochs=50, alpha=1e-3)"
   ]
  },
  {
   "cell_type": "code",
   "execution_count": 28,
   "metadata": {
    "collapsed": false
   },
   "outputs": [
    {
     "name": "stdout",
     "output_type": "stream",
     "text": [
      "CPU times: user 14 s, sys: 17.6 s, total: 31.6 s\n",
      "Wall time: 34.3 s\n"
     ]
    }
   ],
   "source": [
    "%%time\n",
    "momentum2 = main.run_method(lasagne.updates.momentum, HL=3, num_epochs=50, alpha=1e-2)"
   ]
  },
  {
   "cell_type": "code",
   "execution_count": 29,
   "metadata": {
    "collapsed": false
   },
   "outputs": [
    {
     "name": "stdout",
     "output_type": "stream",
     "text": [
      "CPU times: user 14.4 s, sys: 17.6 s, total: 32 s\n",
      "Wall time: 34.7 s\n"
     ]
    }
   ],
   "source": [
    "%%time\n",
    "momentum3 = main.run_method(lasagne.updates.momentum, HL=3, num_epochs=50, alpha=1e-1)"
   ]
  },
  {
   "cell_type": "code",
   "execution_count": 30,
   "metadata": {
    "collapsed": false
   },
   "outputs": [
    {
     "name": "stdout",
     "output_type": "stream",
     "text": [
      "CPU times: user 14.4 s, sys: 17.6 s, total: 32 s\n",
      "Wall time: 34.5 s\n"
     ]
    }
   ],
   "source": [
    "%%time\n",
    "momentum4 = main.run_method(lasagne.updates.momentum, HL=3, num_epochs=50, alpha=0.5)"
   ]
  },
  {
   "cell_type": "code",
   "execution_count": 31,
   "metadata": {
    "collapsed": true
   },
   "outputs": [],
   "source": [
    "import pickle\n",
    "with open('momentum', 'wb') as f:\n",
    "    pickle.dump(momentum1, f)\n",
    "    pickle.dump(momentum2, f)\n",
    "    pickle.dump(momentum3, f)\n",
    "    pickle.dump(momentum4, f)"
   ]
  },
  {
   "cell_type": "code",
   "execution_count": 32,
   "metadata": {
    "collapsed": false
   },
   "outputs": [
    {
     "name": "stdout",
     "output_type": "stream",
     "text": [
      "CPU times: user 34.4 s, sys: 1min, total: 1min 34s\n",
      "Wall time: 1min 37s\n"
     ]
    }
   ],
   "source": [
    "%%time\n",
    "bn_momentum1 = main.run_method(lasagne.updates.momentum, HL=3, num_epochs=50, alpha=1e-3, BN=True)"
   ]
  },
  {
   "cell_type": "code",
   "execution_count": 33,
   "metadata": {
    "collapsed": false
   },
   "outputs": [
    {
     "name": "stdout",
     "output_type": "stream",
     "text": [
      "CPU times: user 30.5 s, sys: 36.9 s, total: 1min 7s\n",
      "Wall time: 1min 8s\n"
     ]
    }
   ],
   "source": [
    "%%time\n",
    "bn_momentum2 = main.run_method(lasagne.updates.momentum, HL=3, num_epochs=50, alpha=1e-2, BN=True)"
   ]
  },
  {
   "cell_type": "code",
   "execution_count": 34,
   "metadata": {
    "collapsed": false
   },
   "outputs": [
    {
     "name": "stdout",
     "output_type": "stream",
     "text": [
      "CPU times: user 31.8 s, sys: 36.2 s, total: 1min 7s\n",
      "Wall time: 1min 9s\n"
     ]
    }
   ],
   "source": [
    "%%time\n",
    "bn_momentum3 = main.run_method(lasagne.updates.momentum, HL=3, num_epochs=50, alpha=1e-1, BN=True)"
   ]
  },
  {
   "cell_type": "code",
   "execution_count": 35,
   "metadata": {
    "collapsed": false
   },
   "outputs": [
    {
     "name": "stdout",
     "output_type": "stream",
     "text": [
      "CPU times: user 30 s, sys: 36.7 s, total: 1min 6s\n",
      "Wall time: 1min 8s\n"
     ]
    }
   ],
   "source": [
    "%%time\n",
    "bn_momentum4 = main.run_method(lasagne.updates.momentum, HL=3, num_epochs=50, alpha=1.0, BN=True)"
   ]
  },
  {
   "cell_type": "code",
   "execution_count": 36,
   "metadata": {
    "collapsed": true
   },
   "outputs": [],
   "source": [
    "import pickle\n",
    "with open('bn_momentum', 'wb') as f:\n",
    "    pickle.dump(bn_momentum1, f)\n",
    "    pickle.dump(bn_momentum2, f)\n",
    "    pickle.dump(bn_momentum3, f)\n",
    "    pickle.dump(bn_momentum4, f)"
   ]
  },
  {
   "cell_type": "code",
   "execution_count": null,
   "metadata": {
    "collapsed": true
   },
   "outputs": [],
   "source": []
  },
  {
   "cell_type": "code",
   "execution_count": 37,
   "metadata": {
    "collapsed": false
   },
   "outputs": [
    {
     "name": "stdout",
     "output_type": "stream",
     "text": [
      "CPU times: user 13.2 s, sys: 10.5 s, total: 23.7 s\n",
      "Wall time: 24.3 s\n"
     ]
    }
   ],
   "source": [
    "%%time\n",
    "adagrad1 = main.run_method(lasagne.updates.adagrad, HL=3, num_epochs=50, alpha=1e-3)"
   ]
  },
  {
   "cell_type": "code",
   "execution_count": 38,
   "metadata": {
    "collapsed": false
   },
   "outputs": [
    {
     "name": "stdout",
     "output_type": "stream",
     "text": [
      "CPU times: user 13.5 s, sys: 10.5 s, total: 24.1 s\n",
      "Wall time: 24.7 s\n"
     ]
    }
   ],
   "source": [
    "%%time\n",
    "adagrad2 = main.run_method(lasagne.updates.adagrad, HL=3, num_epochs=50, alpha=1e-2)"
   ]
  },
  {
   "cell_type": "code",
   "execution_count": 39,
   "metadata": {
    "collapsed": false
   },
   "outputs": [
    {
     "name": "stdout",
     "output_type": "stream",
     "text": [
      "CPU times: user 13.8 s, sys: 11.8 s, total: 25.5 s\n",
      "Wall time: 26.3 s\n"
     ]
    }
   ],
   "source": [
    "%%time\n",
    "adagrad3 = main.run_method(lasagne.updates.adagrad, HL=3, num_epochs=50, alpha=1e-1)"
   ]
  },
  {
   "cell_type": "code",
   "execution_count": null,
   "metadata": {
    "collapsed": true
   },
   "outputs": [],
   "source": [
    "import pickle\n",
    "with open('adagrad', 'wb') as f:\n",
    "    pickle.dump(adagrad1, f)\n",
    "    pickle.dump(adagrad2, f)\n",
    "    pickle.dump(adagrad3, f)"
   ]
  },
  {
   "cell_type": "code",
   "execution_count": null,
   "metadata": {
    "collapsed": true
   },
   "outputs": [],
   "source": [
    "%%time\n",
    "bn_adagrad1 = main.run_method(lasagne.updates.adagrad, HL=3, num_epochs=50, alpha=1e-3, BN=True)"
   ]
  },
  {
   "cell_type": "code",
   "execution_count": null,
   "metadata": {
    "collapsed": true
   },
   "outputs": [],
   "source": [
    "%%time\n",
    "bn_adagrad2 = main.run_method(lasagne.updates.adagrad, HL=3, num_epochs=50, alpha=1e-2, BN=True)"
   ]
  },
  {
   "cell_type": "code",
   "execution_count": null,
   "metadata": {
    "collapsed": true
   },
   "outputs": [],
   "source": [
    "%%time\n",
    "bn_adagrad3 = main.run_method(lasagne.updates.adagrad, HL=3, num_epochs=50, alpha=1e-1, BN=True)"
   ]
  },
  {
   "cell_type": "code",
   "execution_count": null,
   "metadata": {
    "collapsed": true
   },
   "outputs": [],
   "source": [
    "%%time\n",
    "bn_adagrad4 = main.run_method(lasagne.updates.adagrad, HL=3, num_epochs=50, alpha=1.0, BN=True)"
   ]
  },
  {
   "cell_type": "code",
   "execution_count": null,
   "metadata": {
    "collapsed": true
   },
   "outputs": [],
   "source": [
    "import pickle\n",
    "with open('bn_adagrad', 'wb') as f:\n",
    "    pickle.dump(bn_adagrad1, f)\n",
    "    pickle.dump(bn_adagrad2, f)\n",
    "    pickle.dump(bn_adagrad3, f)\n",
    "    pickle.dump(bn_adagrad4, f)"
   ]
  },
  {
   "cell_type": "code",
   "execution_count": null,
   "metadata": {
    "collapsed": true
   },
   "outputs": [],
   "source": []
  },
  {
   "cell_type": "code",
   "execution_count": null,
   "metadata": {
    "collapsed": true
   },
   "outputs": [],
   "source": [
    "%%time\n",
    "adadelta1 = main.run_method(lasagne.updates.adadelta, HL=3, num_epochs=50, alpha=1e-1)"
   ]
  },
  {
   "cell_type": "code",
   "execution_count": null,
   "metadata": {
    "collapsed": true
   },
   "outputs": [],
   "source": [
    "%%time\n",
    "adadelta2 = main.run_method(lasagne.updates.adadelta, HL=3, num_epochs=50, alpha=1.0)"
   ]
  },
  {
   "cell_type": "code",
   "execution_count": null,
   "metadata": {
    "collapsed": true
   },
   "outputs": [],
   "source": [
    "%%time\n",
    "adadelta3 = main.run_method(lasagne.updates.adadelta, HL=3, num_epochs=50, alpha=5.0)"
   ]
  },
  {
   "cell_type": "code",
   "execution_count": null,
   "metadata": {
    "collapsed": true
   },
   "outputs": [],
   "source": [
    "import pickle\n",
    "with open('adadelta', 'wb') as f:\n",
    "    pickle.dump(adadelta1, f)\n",
    "    pickle.dump(adadelta2, f)\n",
    "    pickle.dump(adadelta3, f)"
   ]
  },
  {
   "cell_type": "code",
   "execution_count": null,
   "metadata": {
    "collapsed": true
   },
   "outputs": [],
   "source": [
    "%%time\n",
    "bn_adadelta1 = main.run_method(lasagne.updates.adadelta, HL=3, num_epochs=50, alpha=1e-1, BN=True)"
   ]
  },
  {
   "cell_type": "code",
   "execution_count": null,
   "metadata": {
    "collapsed": true
   },
   "outputs": [],
   "source": [
    "%%time\n",
    "bn_adadelta2 = main.run_method(lasagne.updates.adadelta, HL=3, num_epochs=50, alpha=1.0, BN=True)"
   ]
  },
  {
   "cell_type": "code",
   "execution_count": null,
   "metadata": {
    "collapsed": true
   },
   "outputs": [],
   "source": [
    "%%time\n",
    "bn_adadelta3 = main.run_method(lasagne.updates.adadelta, HL=3, num_epochs=50, alpha=5.0, BN=True)"
   ]
  },
  {
   "cell_type": "code",
   "execution_count": null,
   "metadata": {
    "collapsed": true
   },
   "outputs": [],
   "source": [
    "import pickle\n",
    "with open('bn_adadelta', 'wb') as f:\n",
    "    pickle.dump(bn_adadelta1, f)\n",
    "    pickle.dump(bn_adadelta2, f)\n",
    "    pickle.dump(bn_adadelta3, f)"
   ]
  },
  {
   "cell_type": "code",
   "execution_count": null,
   "metadata": {
    "collapsed": true
   },
   "outputs": [],
   "source": []
  },
  {
   "cell_type": "code",
   "execution_count": null,
   "metadata": {
    "collapsed": true
   },
   "outputs": [],
   "source": [
    "%%time\n",
    "rmsprop1 = main.run_method(lasagne.updates.rmsprop, HL=3, num_epochs=50, alpha=1e-3)"
   ]
  },
  {
   "cell_type": "code",
   "execution_count": null,
   "metadata": {
    "collapsed": true
   },
   "outputs": [],
   "source": [
    "%%time\n",
    "rmsprop2 = main.run_method(lasagne.updates.rmsprop, HL=3, num_epochs=50, alpha=1e-2)"
   ]
  },
  {
   "cell_type": "code",
   "execution_count": null,
   "metadata": {
    "collapsed": true
   },
   "outputs": [],
   "source": [
    "%%time\n",
    "rmsprop3 = main.run_method(lasagne.updates.rmsprop, HL=3, num_epochs=50, alpha=5e-2)"
   ]
  },
  {
   "cell_type": "code",
   "execution_count": null,
   "metadata": {
    "collapsed": true
   },
   "outputs": [],
   "source": [
    "import pickle\n",
    "with open('rmsprop', 'wb') as f:\n",
    "    pickle.dump(rmsprop1, f)\n",
    "    pickle.dump(rmsprop2, f)\n",
    "    pickle.dump(rmsprop3, f)"
   ]
  },
  {
   "cell_type": "code",
   "execution_count": null,
   "metadata": {
    "collapsed": true
   },
   "outputs": [],
   "source": [
    "%%time\n",
    "bn_rmsprop1 = main.run_method(lasagne.updates.rmsprop, HL=3, num_epochs=50, alpha=1e-3, BN=True)"
   ]
  },
  {
   "cell_type": "code",
   "execution_count": null,
   "metadata": {
    "collapsed": true
   },
   "outputs": [],
   "source": [
    "%%time\n",
    "bn_rmsprop2 = main.run_method(lasagne.updates.rmsprop, HL=3, num_epochs=50, alpha=1e-2, BN=True)"
   ]
  },
  {
   "cell_type": "code",
   "execution_count": null,
   "metadata": {
    "collapsed": true
   },
   "outputs": [],
   "source": [
    "%%time\n",
    "bn_rmsprop3 = main.run_method(lasagne.updates.rmsprop, HL=3, num_epochs=50, alpha=1e-1, BN=True)"
   ]
  },
  {
   "cell_type": "code",
   "execution_count": null,
   "metadata": {
    "collapsed": true
   },
   "outputs": [],
   "source": [
    "import pickle\n",
    "with open('bn_rmsprop', 'wb') as f:\n",
    "    pickle.dump(bn_rmsprop1, f)\n",
    "    pickle.dump(bn_rmsprop2, f)\n",
    "    pickle.dump(bn_rmsprop3, f)"
   ]
  },
  {
   "cell_type": "code",
   "execution_count": null,
   "metadata": {
    "collapsed": true
   },
   "outputs": [],
   "source": []
  },
  {
   "cell_type": "code",
   "execution_count": null,
   "metadata": {
    "collapsed": true
   },
   "outputs": [],
   "source": []
  }
 ],
 "metadata": {
  "kernelspec": {
   "display_name": "Python 2",
   "language": "python",
   "name": "python2"
  },
  "language_info": {
   "codemirror_mode": {
    "name": "ipython",
    "version": 2
   },
   "file_extension": ".py",
   "mimetype": "text/x-python",
   "name": "python",
   "nbconvert_exporter": "python",
   "pygments_lexer": "ipython2",
   "version": "2.7.6"
  }
 },
 "nbformat": 4,
 "nbformat_minor": 0
}

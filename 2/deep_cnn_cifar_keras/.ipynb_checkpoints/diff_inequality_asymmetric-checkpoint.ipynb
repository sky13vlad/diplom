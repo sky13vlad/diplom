{
 "cells": [
  {
   "cell_type": "code",
   "execution_count": 5,
   "metadata": {
    "collapsed": true
   },
   "outputs": [],
   "source": [
    "import numpy as np\n",
    "import matplotlib.pyplot as plt\n",
    "from scipy.interpolate import interp1d\n",
    "import matplotlib"
   ]
  },
  {
   "cell_type": "code",
   "execution_count": 6,
   "metadata": {
    "collapsed": true
   },
   "outputs": [],
   "source": [
    "import matplotlib\n",
    "from matplotlib import rc\n",
    "font = {'family': 'Verdana',\n",
    "        'weight': 'normal'}\n",
    "rc('font', **font)\n",
    "\n",
    "matplotlib.rcParams['mathtext.fontset'] = 'custom'\n",
    "matplotlib.rcParams['mathtext.rm'] = 'Bitstream Vera Sans'\n",
    "matplotlib.rcParams['mathtext.it'] = 'Bitstream Vera Sans:italic'\n",
    "matplotlib.rcParams['mathtext.bf'] = 'Bitstream Vera Sans:bold'"
   ]
  },
  {
   "cell_type": "code",
   "execution_count": 7,
   "metadata": {
    "collapsed": false
   },
   "outputs": [],
   "source": [
    "#Параметры задачи, вычисление граничных точек\n",
    "u2plus = 4\n",
    "u2minus = 2\n",
    "x2 = 5\n",
    "T = 10\n",
    "\n",
    "Tspan = np.linspace(0, T + 10, 1000)\n",
    "line1 = u2plus * Tspan\n",
    "line2 = -u2minus * Tspan\n",
    "line3 = u2plus * (Tspan - T) + x2\n",
    "line4 = -u2minus * (Tspan - T) + x2"
   ]
  },
  {
   "cell_type": "code",
   "execution_count": 8,
   "metadata": {
    "collapsed": false
   },
   "outputs": [
    {
     "name": "stderr",
     "output_type": "stream",
     "text": [
      "Exception in Tkinter callback\n",
      "Traceback (most recent call last):\n",
      "  File \"/usr/lib/python2.7/lib-tk/Tkinter.py\", line 1489, in __call__\n",
      "    return self.func(*args)\n",
      "  File \"/usr/lib/pymodules/python2.7/matplotlib/backends/backend_tkagg.py\", line 276, in resize\n",
      "    self.show()\n",
      "  File \"/usr/lib/pymodules/python2.7/matplotlib/backends/backend_tkagg.py\", line 348, in draw\n",
      "    FigureCanvasAgg.draw(self)\n",
      "  File \"/usr/lib/pymodules/python2.7/matplotlib/backends/backend_agg.py\", line 451, in draw\n",
      "    self.figure.draw(self.renderer)\n",
      "  File \"/usr/lib/pymodules/python2.7/matplotlib/artist.py\", line 55, in draw_wrapper\n",
      "    draw(artist, renderer, *args, **kwargs)\n",
      "  File \"/usr/lib/pymodules/python2.7/matplotlib/figure.py\", line 1034, in draw\n",
      "    func(*args)\n",
      "  File \"/usr/lib/pymodules/python2.7/matplotlib/artist.py\", line 55, in draw_wrapper\n",
      "    draw(artist, renderer, *args, **kwargs)\n",
      "  File \"/usr/lib/pymodules/python2.7/matplotlib/axes.py\", line 2086, in draw\n",
      "    a.draw(renderer)\n",
      "  File \"/usr/lib/pymodules/python2.7/matplotlib/artist.py\", line 55, in draw_wrapper\n",
      "    draw(artist, renderer, *args, **kwargs)\n",
      "  File \"/usr/lib/pymodules/python2.7/matplotlib/text.py\", line 547, in draw\n",
      "    bbox, info, descent = self._get_layout(renderer)\n",
      "  File \"/usr/lib/pymodules/python2.7/matplotlib/text.py\", line 325, in _get_layout\n",
      "    clean_line, ismath = self.is_math_text(line)\n",
      "  File \"/usr/lib/pymodules/python2.7/matplotlib/text.py\", line 1000, in is_math_text\n",
      "    if cbook.is_math_text(s):\n",
      "  File \"/usr/lib/pymodules/python2.7/matplotlib/cbook.py\", line 1927, in is_math_text\n",
      "    \"matplotlib display text must have all code points < 128 or use \"\n",
      "ValueError: matplotlib display text must have all code points < 128 or use Unicode strings\n"
     ]
    }
   ],
   "source": [
    "fig, ax = plt.subplots(figsize=(16, 10))\n",
    "\n",
    "ax.set_xlabel(u'$\\mathbf{t}$', fontsize=16)\n",
    "ax.set_ylabel(u'$\\mathbf{x_2(t)}$', fontsize=16)\n",
    "ax.set_title(r'Параметры $\\mathbf{T =\\ 10,\\ x_2 =\\ 5,\\ u_2^+ =\\ 4,\\ u_2^- =\\ 2}$.',\\\n",
    "             fontsize=16)\n",
    "\n",
    "ax.plot(Tspan, line1, '--', color='black', label=u'Граница совокупности неравенств')\n",
    "ax.plot(Tspan, line2, '--', color='black')\n",
    "ax.plot(Tspan, line3, '--', color='black')\n",
    "ax.plot(Tspan, line4, '--', color='black')\n",
    "\n",
    "x2max = (u2plus * (1.0 * u2minus * T + x2) / (u2plus + u2minus))\n",
    "x2min = (-u2minus * (1.0 * u2plus * T - x2) / (u2plus + u2minus))\n",
    "Tmax = (1.0 * u2minus * T + x2) / (u2plus + u2minus)\n",
    "Tmin = (1.0 * u2plus * T - x2) / (u2plus + u2minus)\n",
    "\n",
    "Tidx = 0\n",
    "for i in range(Tspan.size):\n",
    "    if Tspan[i] <= T:\n",
    "        Tidx = i\n",
    "\n",
    "y_sol = np.array([0, 0.6, -0.5, -3, -1, 3, -2.4, -0.7, 3, 4, 4.1, x2])\n",
    "x_sol = np.zeros(y_sol.size)\n",
    "for i in range(x_sol.size):\n",
    "    x_sol[i] = 1.0 * i / (x_sol.size - 1) * T\n",
    "f = interp1d(x_sol, y_sol, kind='cubic')\n",
    "\n",
    "\n",
    "ax.plot([], [], color='blue', alpha=0.3, linewidth=10, label=u'Область, допускаемая совокупностью')\n",
    "ax.plot(Tspan[0:Tidx], f(Tspan[0:Tidx]),\\\n",
    "        color='black', linewidth=2, label=u'Траектория, допускаемая совокупностью')\n",
    "\n",
    "    \n",
    "x2_upper = np.zeros(Tidx)\n",
    "for i in range(Tidx):\n",
    "    if line1[i] <= x2max:\n",
    "        x2_upper[i] = line1[i]\n",
    "    else:\n",
    "        x2_upper[i] = line4[i]\n",
    "x2_lower = np.zeros(Tidx)\n",
    "for i in range(Tidx):\n",
    "    if line2[i] >= x2min:\n",
    "        x2_lower[i] = line2[i]\n",
    "    else:\n",
    "        x2_lower[i] = line3[i]\n",
    "#print(x2_upper, x2_lower)\n",
    "ax.fill_between(Tspan[0:Tidx], x2_lower, x2_upper, facecolor='blue', alpha=0.3)\n",
    "\n",
    "ax.text(Tmax / 2, x2max / 2 + 1, r'$\\mathbf{x_2(t) \\leq\\ u_2^+ t}$', fontsize='15')\n",
    "ax.text(Tmin / 2, x2min / 2 - 1, r'$\\mathbf{x_2(t) \\geq\\ -u_2^- t}$', fontsize='15')\n",
    "ax.text(Tmax + (T - Tmax) / 2, x2max - u2minus * (T - Tmax) / 2,\\\n",
    "        r'$\\mathbf{x_2(t) \\leq\\ u_2^- (T- t) +\\ x_2}$', fontsize='14')\n",
    "ax.text(Tmin + (T - Tmin) / 2, x2min + u2plus * (T - Tmin) / 2,\\\n",
    "        r'$\\mathbf{x_2(t) \\geq\\ u_2^+ (t - T) +\\ x_2}$', fontsize='14')\n",
    "\n",
    "\n",
    "ax.scatter(Tmax, x2max, color='blue', linewidth='5')\n",
    "ax.text(Tmax + 0.25, x2max,\\\n",
    "        r'$\\mathbf{(\\frac{u_2^- T +\\ x_2}{u_2^+ +\\ u_2^-}, u_2^+ \\frac{u_2^- T +\\ x_2}{u_2^+ +\\ u_2^-})}$',\\\n",
    "        fontsize='15')\n",
    "ax.scatter(Tmin, x2min, color='blue', linewidth='5')\n",
    "ax.text(Tmin + 0.25, x2min,\\\n",
    "        r'$\\mathbf{(\\frac{u_2^+ T -\\ x_2}{u_2^+ +\\ u_2^-}, -u_2^- \\frac{u_2^+ T -\\ x_2}{u_2^+ +\\ u_2^-})}$',\\\n",
    "        fontsize='15')\n",
    "ax.scatter(T, x2, color='blue', linewidth='5')\n",
    "ax.text(T + 0.25, x2,\\\n",
    "        r'$\\mathbf{(T, x2)}$',\\\n",
    "        fontsize='14')\n",
    "\n",
    "\n",
    "ax.grid(True)\n",
    "plt.axhline(0, color='k')\n",
    "plt.axvline(0, color='k')\n",
    "plt.legend(loc='best')\n",
    "plt.xlim([0, T + 1])\n",
    "plt.ylim([x2min - 5, x2max + 5])\n",
    "plt.show()"
   ]
  },
  {
   "cell_type": "code",
   "execution_count": null,
   "metadata": {
    "collapsed": true
   },
   "outputs": [],
   "source": []
  }
 ],
 "metadata": {
  "kernelspec": {
   "display_name": "Python 2",
   "language": "python",
   "name": "python2"
  },
  "language_info": {
   "codemirror_mode": {
    "name": "ipython",
    "version": 2
   },
   "file_extension": ".py",
   "mimetype": "text/x-python",
   "name": "python",
   "nbconvert_exporter": "python",
   "pygments_lexer": "ipython2",
   "version": "2.7.6"
  }
 },
 "nbformat": 4,
 "nbformat_minor": 0
}

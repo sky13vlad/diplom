{
 "cells": [
  {
   "cell_type": "code",
   "execution_count": 1,
   "metadata": {
    "collapsed": false
   },
   "outputs": [],
   "source": [
    "import main\n",
    "import numpy as np\n",
    "import matplotlib.pyplot as plt\n",
    "# %matplotlib inline\n",
    "# import lasagne\n",
    "# import theano\n",
    "# import theano.tensor as T"
   ]
  },
  {
   "cell_type": "code",
   "execution_count": 2,
   "metadata": {
    "collapsed": false
   },
   "outputs": [
    {
     "data": {
      "text/plain": [
       "<module 'main' from 'main.pyc'>"
      ]
     },
     "execution_count": 2,
     "metadata": {},
     "output_type": "execute_result"
    }
   ],
   "source": [
    "import imp\n",
    "imp.reload(main)"
   ]
  },
  {
   "cell_type": "code",
   "execution_count": 3,
   "metadata": {
    "collapsed": true
   },
   "outputs": [],
   "source": [
    "def make_seed(n):\n",
    "    lasagne.random.set_rng(np.random)\n",
    "    np.random.seed(n)"
   ]
  },
  {
   "cell_type": "markdown",
   "metadata": {},
   "source": [
    "### Выставляем глубокую сеть!"
   ]
  },
  {
   "cell_type": "code",
   "execution_count": 4,
   "metadata": {
    "collapsed": true
   },
   "outputs": [],
   "source": [
    "deep, CL, HL = 5, 3, 1"
   ]
  },
  {
   "cell_type": "markdown",
   "metadata": {},
   "source": [
    "## SGD"
   ]
  },
  {
   "cell_type": "code",
   "execution_count": 234,
   "metadata": {
    "collapsed": false
   },
   "outputs": [
    {
     "name": "stdout",
     "output_type": "stream",
     "text": [
      "CPU times: user 5min 45s, sys: 4min 53s, total: 10min 38s\n",
      "Wall time: 10min 39s\n"
     ]
    }
   ],
   "source": [
    "%%time\n",
    "make_seed(1)\n",
    "sgd0 = main.run_method(lasagne.updates.sgd, model=\"cnn\", dataset=\"CIFAR-10\", HL=HL, CL=CL, num_epochs=10, alpha=1e-4)"
   ]
  },
  {
   "cell_type": "code",
   "execution_count": 175,
   "metadata": {
    "collapsed": false
   },
   "outputs": [
    {
     "name": "stdout",
     "output_type": "stream",
     "text": [
      "CPU times: user 5min 45s, sys: 4min 46s, total: 10min 32s\n",
      "Wall time: 10min 32s\n"
     ]
    }
   ],
   "source": [
    "%%time\n",
    "make_seed(1)\n",
    "sgd1 = main.run_method(lasagne.updates.sgd, model=\"cnn\", dataset=\"CIFAR-10\", HL=HL, CL=CL, num_epochs=10, alpha=1e-3)"
   ]
  },
  {
   "cell_type": "code",
   "execution_count": 176,
   "metadata": {
    "collapsed": false
   },
   "outputs": [
    {
     "name": "stdout",
     "output_type": "stream",
     "text": [
      "CPU times: user 5min 43s, sys: 4min 50s, total: 10min 34s\n",
      "Wall time: 10min 34s\n"
     ]
    }
   ],
   "source": [
    "%%time\n",
    "make_seed(1)\n",
    "sgd2 = main.run_method(lasagne.updates.sgd, model=\"cnn\", dataset=\"CIFAR-10\", deep=deep, HL=HL, CL=CL, \n",
    "                       num_epochs=10, alpha=1e-2)"
   ]
  },
  {
   "cell_type": "code",
   "execution_count": 237,
   "metadata": {
    "collapsed": false
   },
   "outputs": [
    {
     "name": "stdout",
     "output_type": "stream",
     "text": [
      "CPU times: user 28min 23s, sys: 24min 48s, total: 53min 12s\n",
      "Wall time: 53min 15s\n"
     ]
    }
   ],
   "source": [
    "%%time\n",
    "make_seed(1)\n",
    "sgd3 = main.run_method(lasagne.updates.sgd, model=\"cnn\", dataset=\"CIFAR-10\", HL=HL, CL=CL, \n",
    "                       num_epochs=50, alpha=1e-1)"
   ]
  },
  {
   "cell_type": "code",
   "execution_count": 182,
   "metadata": {
    "collapsed": false
   },
   "outputs": [
    {
     "name": "stdout",
     "output_type": "stream",
     "text": [
      "CPU times: user 5min 11s, sys: 5min 30s, total: 10min 41s\n",
      "Wall time: 10min 44s\n"
     ]
    }
   ],
   "source": [
    "%%time\n",
    "make_seed(1)\n",
    "sgd4 = main.run_method(lasagne.updates.sgd, model=\"cnn\", dataset=\"CIFAR-10\", HL=HL, CL=CL, num_epochs=10, alpha=1.0)"
   ]
  },
  {
   "cell_type": "code",
   "execution_count": 251,
   "metadata": {
    "collapsed": true
   },
   "outputs": [],
   "source": [
    "# import pickle\n",
    "# with open('sgd', 'wb') as f:\n",
    "#     pickle.dump(sgd0, f)\n",
    "#     pickle.dump(sgd1, f)\n",
    "#     pickle.dump(sgd2, f)\n",
    "#     pickle.dump(sgd3, f)\n",
    "#     pickle.dump(sgd4, f)"
   ]
  },
  {
   "cell_type": "code",
   "execution_count": 75,
   "metadata": {
    "collapsed": true
   },
   "outputs": [],
   "source": [
    "import pickle\n",
    "with open('sgd', 'rb') as f:\n",
    "    sgd0 = pickle.load(f)\n",
    "    sgd1 = pickle.load(f)\n",
    "    sgd2 = pickle.load(f)\n",
    "    sgd3 = pickle.load(f)\n",
    "    sgd4 = pickle.load(f)"
   ]
  },
  {
   "cell_type": "code",
   "execution_count": 78,
   "metadata": {
    "collapsed": false
   },
   "outputs": [],
   "source": [
    "plt.figure(figsize=(10, 8))\n",
    "plt.plot(sgd1['train_acc'], 'b--')\n",
    "plt.plot(sgd1['val_acc'], 'b')\n",
    "plt.plot(sgd2['train_acc'], 'g--')\n",
    "plt.plot(sgd2['val_acc'], 'g')\n",
    "plt.plot(sgd3['train_acc'], 'r--')\n",
    "plt.plot(sgd3['val_acc'], 'r')\n",
    "plt.plot(sgd4['train_acc'], 'k--')\n",
    "plt.plot(sgd4['val_acc'], 'k')\n",
    "# plt.ylim(ymax=101)\n",
    "plt.legend(['train, 1e-3', 'validation, 1e-3', 'train, 1e-2', 'validation, 1e-2',\n",
    "           'train, 1e-1', 'validation, 1e-1', 'train, 1.0', 'validation, 1.0'], loc=0, fontsize=12)\n",
    "# plt.xlim(xmax=49)\n",
    "plt.xlabel('epochs')\n",
    "plt.ylabel('accuracy')\n",
    "# plt.title('SGD, MLP (3HL) MNIST', fontsize=13)\n",
    "# plt.savefig(\"sgd_mlp_rates_mnist.jpg\")\n",
    "plt.show()"
   ]
  },
  {
   "cell_type": "code",
   "execution_count": 183,
   "metadata": {
    "collapsed": false
   },
   "outputs": [
    {
     "name": "stdout",
     "output_type": "stream",
     "text": [
      "CPU times: user 6min 21s, sys: 8min 49s, total: 15min 10s\n",
      "Wall time: 15min 17s\n"
     ]
    }
   ],
   "source": [
    "%%time\n",
    "make_seed(1)\n",
    "bn_sgd1 = main.run_method(lasagne.updates.sgd, model=\"cnn\",HL=HL, CL=CL, dataset=\"CIFAR-10\", num_epochs=10, alpha=1e-3, BN=True)"
   ]
  },
  {
   "cell_type": "code",
   "execution_count": 170,
   "metadata": {
    "collapsed": true
   },
   "outputs": [
    {
     "name": "stdout",
     "output_type": "stream",
     "text": [
      "Building model and compiling functions...\n",
      "Starting training...\n",
      "Epoch 1 of 50 took 85.903s\n",
      "  training loss:\t\t1.875595\n",
      "  validation loss:\t\t1.588402\n",
      "  train accuracy:\t\t50.98 %\n",
      "  validation accuracy:\t\t41.66 %\n",
      "Epoch 2 of 50 took 86.244s\n",
      "  training loss:\t\t1.523441\n",
      "  validation loss:\t\t1.422803\n",
      "  train accuracy:\t\t61.17 %\n",
      "  validation accuracy:\t\t48.96 %\n",
      "Epoch 3 of 50 took 86.215s\n",
      "  training loss:\t\t1.392734\n",
      "  validation loss:\t\t1.334869\n",
      "  train accuracy:\t\t64.04 %\n",
      "  validation accuracy:\t\t52.68 %\n",
      "Epoch 4 of 50 took 86.734s\n",
      "  training loss:\t\t1.307821\n",
      "  validation loss:\t\t1.243907\n",
      "  train accuracy:\t\t65.77 %\n",
      "  validation accuracy:\t\t55.81 %\n",
      "Epoch 5 of 50 took 86.297s\n",
      "  training loss:\t\t1.232369\n",
      "  validation loss:\t\t1.206422\n",
      "  train accuracy:\t\t67.99 %\n",
      "  validation accuracy:\t\t57.13 %\n",
      "Epoch 6 of 50 took 86.632s\n",
      "  training loss:\t\t1.176730\n",
      "  validation loss:\t\t1.176935\n",
      "  train accuracy:\t\t69.95 %\n",
      "  validation accuracy:\t\t58.19 %\n",
      "Epoch 7 of 50 took 86.447s\n",
      "  training loss:\t\t1.123900\n",
      "  validation loss:\t\t1.095447\n",
      "  train accuracy:\t\t71.98 %\n",
      "  validation accuracy:\t\t61.15 %\n",
      "Epoch 8 of 50 took 86.460s\n",
      "  training loss:\t\t1.085849\n",
      "  validation loss:\t\t1.062314\n",
      "  train accuracy:\t\t73.04 %\n",
      "  validation accuracy:\t\t61.90 %\n",
      "Epoch 9 of 50 took 86.045s\n",
      "  training loss:\t\t1.046807\n",
      "  validation loss:\t\t1.042449\n",
      "  train accuracy:\t\t74.39 %\n",
      "  validation accuracy:\t\t62.82 %\n",
      "Epoch 10 of 50 took 86.680s\n",
      "  training loss:\t\t1.014263\n",
      "  validation loss:\t\t1.018958\n",
      "  train accuracy:\t\t75.53 %\n",
      "  validation accuracy:\t\t64.00 %\n",
      "Epoch 11 of 50 took 86.108s\n",
      "  training loss:\t\t0.980884\n",
      "  validation loss:\t\t1.024022\n",
      "  train accuracy:\t\t76.66 %\n",
      "  validation accuracy:\t\t64.26 %\n",
      "Epoch 12 of 50 took 86.669s\n",
      "  training loss:\t\t0.953968\n",
      "  validation loss:\t\t0.977089\n",
      "  train accuracy:\t\t77.64 %\n",
      "  validation accuracy:\t\t65.22 %\n",
      "Epoch 13 of 50 took 86.371s\n",
      "  training loss:\t\t0.929924\n",
      "  validation loss:\t\t0.946148\n",
      "  train accuracy:\t\t78.60 %\n",
      "  validation accuracy:\t\t66.11 %\n",
      "Epoch 14 of 50 took 86.667s\n",
      "  training loss:\t\t0.900077\n",
      "  validation loss:\t\t0.966421\n",
      "  train accuracy:\t\t79.47 %\n",
      "  validation accuracy:\t\t66.27 %\n",
      "Epoch 15 of 50 took 86.074s\n",
      "  training loss:\t\t0.884008\n",
      "  validation loss:\t\t0.931237\n",
      "  train accuracy:\t\t80.03 %\n",
      "  validation accuracy:\t\t67.45 %\n",
      "Epoch 16 of 50 took 86.499s\n",
      "  training loss:\t\t0.854923\n",
      "  validation loss:\t\t0.890981\n",
      "  train accuracy:\t\t81.36 %\n",
      "  validation accuracy:\t\t68.75 %\n",
      "Epoch 17 of 50 took 86.207s\n",
      "  training loss:\t\t0.834585\n",
      "  validation loss:\t\t0.878384\n",
      "  train accuracy:\t\t82.14 %\n",
      "  validation accuracy:\t\t68.61 %\n",
      "Epoch 18 of 50 took 86.481s\n",
      "  training loss:\t\t0.815442\n",
      "  validation loss:\t\t0.887376\n",
      "  train accuracy:\t\t82.87 %\n",
      "  validation accuracy:\t\t68.96 %\n",
      "Epoch 19 of 50 took 86.100s\n",
      "  training loss:\t\t0.796704\n",
      "  validation loss:\t\t0.873755\n",
      "  train accuracy:\t\t83.45 %\n",
      "  validation accuracy:\t\t69.17 %\n",
      "Epoch 20 of 50 took 86.463s\n",
      "  training loss:\t\t0.782059\n",
      "  validation loss:\t\t0.882289\n",
      "  train accuracy:\t\t84.04 %\n",
      "  validation accuracy:\t\t69.15 %\n",
      "Epoch 21 of 50 took 86.127s\n",
      "  training loss:\t\t0.760427\n",
      "  validation loss:\t\t0.853036\n",
      "  train accuracy:\t\t84.89 %\n",
      "  validation accuracy:\t\t70.27 %\n",
      "Epoch 22 of 50 took 86.378s\n",
      "  training loss:\t\t0.748830\n",
      "  validation loss:\t\t0.830839\n",
      "  train accuracy:\t\t85.67 %\n",
      "  validation accuracy:\t\t71.33 %\n",
      "Epoch 23 of 50 took 86.225s\n",
      "  training loss:\t\t0.727293\n",
      "  validation loss:\t\t0.873890\n",
      "  train accuracy:\t\t86.40 %\n",
      "  validation accuracy:\t\t69.80 %\n",
      "Epoch 24 of 50 took 86.604s\n",
      "  training loss:\t\t0.707057\n",
      "  validation loss:\t\t0.840925\n",
      "  train accuracy:\t\t87.23 %\n",
      "  validation accuracy:\t\t70.52 %\n",
      "Epoch 25 of 50 took 86.163s\n",
      "  training loss:\t\t0.699192\n",
      "  validation loss:\t\t0.851833\n",
      "  train accuracy:\t\t87.55 %\n",
      "  validation accuracy:\t\t70.82 %\n",
      "Epoch 26 of 50 took 86.621s\n",
      "  training loss:\t\t0.676998\n",
      "  validation loss:\t\t0.794796\n",
      "  train accuracy:\t\t88.35 %\n",
      "  validation accuracy:\t\t72.29 %\n",
      "Epoch 27 of 50 took 86.007s\n",
      "  training loss:\t\t0.670654\n",
      "  validation loss:\t\t0.817232\n",
      "  train accuracy:\t\t88.69 %\n",
      "  validation accuracy:\t\t71.34 %\n",
      "Epoch 28 of 50 took 86.557s\n",
      "  training loss:\t\t0.650699\n",
      "  validation loss:\t\t0.803999\n",
      "  train accuracy:\t\t89.74 %\n",
      "  validation accuracy:\t\t71.97 %\n",
      "Epoch 29 of 50 took 86.071s\n",
      "  training loss:\t\t0.640985\n",
      "  validation loss:\t\t0.817163\n",
      "  train accuracy:\t\t89.89 %\n",
      "  validation accuracy:\t\t71.43 %\n",
      "Epoch 30 of 50 took 86.672s\n",
      "  training loss:\t\t0.623172\n",
      "  validation loss:\t\t0.798759\n",
      "  train accuracy:\t\t90.70 %\n",
      "  validation accuracy:\t\t72.39 %\n",
      "Epoch 31 of 50 took 86.198s\n",
      "  training loss:\t\t0.611938\n",
      "  validation loss:\t\t0.826091\n",
      "  train accuracy:\t\t91.11 %\n",
      "  validation accuracy:\t\t71.62 %\n",
      "Epoch 32 of 50 took 86.428s\n",
      "  training loss:\t\t0.598634\n",
      "  validation loss:\t\t0.799962\n",
      "  train accuracy:\t\t91.77 %\n",
      "  validation accuracy:\t\t72.44 %\n",
      "Epoch 33 of 50 took 86.039s\n",
      "  training loss:\t\t0.576869\n",
      "  validation loss:\t\t0.815059\n",
      "  train accuracy:\t\t92.44 %\n",
      "  validation accuracy:\t\t72.13 %\n",
      "Epoch 34 of 50 took 86.575s\n",
      "  training loss:\t\t0.571081\n",
      "  validation loss:\t\t0.753919\n",
      "  train accuracy:\t\t92.66 %\n",
      "  validation accuracy:\t\t73.97 %\n",
      "Epoch 35 of 50 took 86.020s\n",
      "  training loss:\t\t0.560058\n",
      "  validation loss:\t\t0.761940\n",
      "  train accuracy:\t\t93.18 %\n",
      "  validation accuracy:\t\t73.90 %\n",
      "Epoch 36 of 50 took 86.585s\n",
      "  training loss:\t\t0.542547\n",
      "  validation loss:\t\t0.772219\n",
      "  train accuracy:\t\t93.66 %\n",
      "  validation accuracy:\t\t73.85 %\n",
      "Epoch 37 of 50 took 86.173s\n",
      "  training loss:\t\t0.530500\n",
      "  validation loss:\t\t0.758679\n",
      "  train accuracy:\t\t94.00 %\n",
      "  validation accuracy:\t\t73.43 %\n",
      "Epoch 38 of 50 took 86.385s\n",
      "  training loss:\t\t0.525707\n",
      "  validation loss:\t\t0.762048\n",
      "  train accuracy:\t\t94.35 %\n",
      "  validation accuracy:\t\t73.66 %\n",
      "Epoch 39 of 50 took 86.425s\n",
      "  training loss:\t\t0.505584\n",
      "  validation loss:\t\t0.811654\n",
      "  train accuracy:\t\t94.93 %\n",
      "  validation accuracy:\t\t73.10 %\n",
      "Epoch 40 of 50 took 86.578s\n",
      "  training loss:\t\t0.495927\n",
      "  validation loss:\t\t0.775789\n",
      "  train accuracy:\t\t95.13 %\n",
      "  validation accuracy:\t\t73.93 %\n",
      "Epoch 41 of 50 took 86.094s\n",
      "  training loss:\t\t0.485182\n",
      "  validation loss:\t\t0.809075\n",
      "  train accuracy:\t\t95.52 %\n",
      "  validation accuracy:\t\t73.23 %\n",
      "Epoch 42 of 50 took 86.455s\n",
      "  training loss:\t\t0.473334\n",
      "  validation loss:\t\t0.770529\n",
      "  train accuracy:\t\t96.02 %\n",
      "  validation accuracy:\t\t74.02 %\n",
      "Epoch 43 of 50 took 86.123s\n",
      "  training loss:\t\t0.464491\n",
      "  validation loss:\t\t0.816235\n",
      "  train accuracy:\t\t96.22 %\n",
      "  validation accuracy:\t\t73.03 %\n",
      "Epoch 44 of 50 took 86.494s\n",
      "  training loss:\t\t0.457061\n",
      "  validation loss:\t\t0.743489\n",
      "  train accuracy:\t\t96.46 %\n",
      "  validation accuracy:\t\t74.70 %\n",
      "Epoch 45 of 50 took 86.018s\n",
      "  training loss:\t\t0.446889\n",
      "  validation loss:\t\t0.777346\n",
      "  train accuracy:\t\t96.74 %\n",
      "  validation accuracy:\t\t74.24 %\n",
      "Epoch 46 of 50 took 86.648s\n",
      "  training loss:\t\t0.431038\n",
      "  validation loss:\t\t0.761813\n",
      "  train accuracy:\t\t97.02 %\n",
      "  validation accuracy:\t\t74.47 %\n",
      "Epoch 47 of 50 took 86.251s\n",
      "  training loss:\t\t0.420105\n",
      "  validation loss:\t\t0.764546\n",
      "  train accuracy:\t\t97.34 %\n",
      "  validation accuracy:\t\t74.56 %\n",
      "Epoch 48 of 50 took 86.715s\n",
      "  training loss:\t\t0.414400\n",
      "  validation loss:\t\t0.750623\n",
      "  train accuracy:\t\t97.54 %\n",
      "  validation accuracy:\t\t75.26 %\n",
      "Epoch 49 of 50 took 86.257s\n",
      "  training loss:\t\t0.401202\n",
      "  validation loss:\t\t0.771791\n",
      "  train accuracy:\t\t97.75 %\n",
      "  validation accuracy:\t\t74.61 %\n",
      "Epoch 50 of 50 took 86.422s\n",
      "  training loss:\t\t0.391806\n",
      "  validation loss:\t\t0.747495\n",
      "  train accuracy:\t\t98.00 %\n",
      "  validation accuracy:\t\t74.95 %\n",
      "Final results:\n",
      "  test loss:\t\t\t0.756489\n",
      "  test accuracy:\t\t75.96 %\n",
      "CPU times: user 33min 57s, sys: 38min 20s, total: 1h 12min 17s\n",
      "Wall time: 1h 12min 22s\n"
     ]
    }
   ],
   "source": [
    "done!!!!!!!!\n",
    "%%time\n",
    "make_seed(1)\n",
    "bn_sgd2 = main.run_method(lasagne.updates.sgd, model=\"cnn\", deep=5, HL=HL, CL=CL, dataset=\"CIFAR-10\", num_epochs=50, \n",
    "                          alpha=1e-2, BN=True, echo=True)"
   ]
  },
  {
   "cell_type": "code",
   "execution_count": 238,
   "metadata": {
    "collapsed": false
   },
   "outputs": [
    {
     "name": "stdout",
     "output_type": "stream",
     "text": [
      "CPU times: user 34min 10s, sys: 38min 50s, total: 1h 13min\n",
      "Wall time: 1h 13min 5s\n"
     ]
    }
   ],
   "source": [
    "%%time\n",
    "make_seed(1)\n",
    "bn_sgd3 = main.run_method(lasagne.updates.sgd, model=\"cnn\", HL=HL, CL=CL, dataset=\"CIFAR-10\", num_epochs=50, \n",
    "                          alpha=1e-1, BN=True)"
   ]
  },
  {
   "cell_type": "code",
   "execution_count": 179,
   "metadata": {
    "collapsed": false
   },
   "outputs": [
    {
     "name": "stdout",
     "output_type": "stream",
     "text": [
      "CPU times: user 6min 17s, sys: 8min 43s, total: 15min 1s\n",
      "Wall time: 15min 7s\n"
     ]
    }
   ],
   "source": [
    "%%time\n",
    "make_seed(1)\n",
    "bn_sgd4 = main.run_method(lasagne.updates.sgd,model=\"cnn\",  HL=HL, CL=CL, dataset=\"CIFAR-10\", num_epochs=10, \n",
    "                          alpha=1.0, BN=True)"
   ]
  },
  {
   "cell_type": "code",
   "execution_count": 252,
   "metadata": {
    "collapsed": true
   },
   "outputs": [],
   "source": [
    "# import pickle\n",
    "# with open('bn_sgd', 'wb') as f:\n",
    "#     pickle.dump(bn_sgd1, f)\n",
    "#     pickle.dump(bn_sgd2, f)\n",
    "#     pickle.dump(bn_sgd3, f)\n",
    "#     pickle.dump(bn_sgd4, f)"
   ]
  },
  {
   "cell_type": "code",
   "execution_count": 5,
   "metadata": {
    "collapsed": true
   },
   "outputs": [],
   "source": [
    "import pickle\n",
    "with open('bn_sgd', 'rb') as f:\n",
    "    bn_sgd1 = pickle.load(f)\n",
    "    bn_sgd2 = pickle.load(f)\n",
    "    bn_sgd3 = pickle.load(f)\n",
    "    bn_sgd4 = pickle.load(f)"
   ]
  },
  {
   "cell_type": "code",
   "execution_count": 77,
   "metadata": {
    "collapsed": false
   },
   "outputs": [],
   "source": [
    "plt.figure(figsize=(10, 8))\n",
    "plt.plot(bn_sgd1['train_acc'], 'b--')\n",
    "plt.plot(bn_sgd1['val_acc'], 'b')\n",
    "plt.plot(bn_sgd2['train_acc'], 'g--')\n",
    "plt.plot(bn_sgd2['val_acc'], 'g')\n",
    "plt.plot(bn_sgd3['train_acc'], 'r--')\n",
    "plt.plot(bn_sgd3['val_acc'], 'r')\n",
    "plt.plot(bn_sgd4['train_acc'], 'k--')\n",
    "plt.plot(bn_sgd4['val_acc'], 'k')\n",
    "# plt.ylim(ymax=101)\n",
    "plt.legend(['train, 1e-3', 'validation, 1e-3', 'train, 1e-2', 'validation, 1e-2',\n",
    "           'train, 1e-1', 'validation, 1e-1', 'train, 1.0', 'validation, 1.0'], loc=0, fontsize=12)\n",
    "# plt.xlim(xmax=49)\n",
    "plt.xlabel('epochs')\n",
    "plt.ylabel('accuracy')\n",
    "# plt.title('BN SGD, MLP (3HL) MNIST', fontsize=13)\n",
    "# plt.savefig(\"bn_sgd_mlp_rates_mnist.jpg\")\n",
    "plt.show()"
   ]
  },
  {
   "cell_type": "markdown",
   "metadata": {
    "collapsed": true
   },
   "source": [
    "## ADAM"
   ]
  },
  {
   "cell_type": "code",
   "execution_count": 239,
   "metadata": {
    "collapsed": false
   },
   "outputs": [
    {
     "name": "stdout",
     "output_type": "stream",
     "text": [
      "CPU times: user 28min 35s, sys: 24min 19s, total: 52min 55s\n",
      "Wall time: 52min 59s\n"
     ]
    }
   ],
   "source": [
    "%%time\n",
    "make_seed(1)\n",
    "adam1 = main.run_method(lasagne.updates.adam,model=\"cnn\",  dataset=\"CIFAR-10\", HL=HL, CL=CL, num_epochs=50, alpha=1e-4)"
   ]
  },
  {
   "cell_type": "code",
   "execution_count": 180,
   "metadata": {
    "collapsed": false
   },
   "outputs": [
    {
     "name": "stdout",
     "output_type": "stream",
     "text": [
      "CPU times: user 5min 18s, sys: 5min 33s, total: 10min 52s\n",
      "Wall time: 10min 55s\n"
     ]
    }
   ],
   "source": [
    "%%time\n",
    "make_seed(1)\n",
    "adam2 = main.run_method(lasagne.updates.adam,model=\"cnn\",  dataset=\"CIFAR-10\", HL=HL, CL=CL, \n",
    "                        num_epochs=10, alpha=1e-3)"
   ]
  },
  {
   "cell_type": "code",
   "execution_count": 181,
   "metadata": {
    "collapsed": false
   },
   "outputs": [
    {
     "name": "stdout",
     "output_type": "stream",
     "text": [
      "CPU times: user 5min 20s, sys: 5min 39s, total: 10min 59s\n",
      "Wall time: 11min 2s\n"
     ]
    }
   ],
   "source": [
    "%%time\n",
    "make_seed(1)\n",
    "adam3 = main.run_method(lasagne.updates.adam,model=\"cnn\",  dataset=\"CIFAR-10\", HL=HL, CL=CL, num_epochs=10, alpha=5e-3)"
   ]
  },
  {
   "cell_type": "code",
   "execution_count": 253,
   "metadata": {
    "collapsed": true
   },
   "outputs": [],
   "source": [
    "# import pickle\n",
    "# with open('adam', 'wb') as f:\n",
    "#     pickle.dump(adam1, f)\n",
    "#     pickle.dump(adam2, f)\n",
    "#     pickle.dump(adam3, f)"
   ]
  },
  {
   "cell_type": "code",
   "execution_count": 4,
   "metadata": {
    "collapsed": false
   },
   "outputs": [],
   "source": [
    "import pickle\n",
    "with open('adam', 'rb') as f:\n",
    "    adam1 = pickle.load(f)\n",
    "    adam2 = pickle.load(f)\n",
    "    adam3 = pickle.load(f)"
   ]
  },
  {
   "cell_type": "code",
   "execution_count": 42,
   "metadata": {
    "collapsed": false
   },
   "outputs": [],
   "source": [
    "plt.figure(figsize=(10, 8))\n",
    "plt.plot(adam1['train_acc'], 'b--')\n",
    "plt.plot(adam1['val_acc'], 'b')\n",
    "plt.plot(adam2['train_acc'], 'g--')\n",
    "plt.plot(adam2['val_acc'], 'g')\n",
    "plt.plot(adam3['train_acc'], 'r--')\n",
    "plt.plot(adam3['val_acc'], 'r')\n",
    "# plt.ylim(ymax=101)\n",
    "plt.legend(['train, 1e-4', 'validation, 1e-4', 'train, 1e-3', 'validation, 1e-3',\n",
    "           'train, 5e-3', 'validation, 5e-3'], loc=0, fontsize=12)\n",
    "# plt.xlim(xmax=49)\n",
    "plt.xlabel('epochs')\n",
    "plt.ylabel('accuracy')\n",
    "# plt.title('Adam, MLP (3HL) MNIST', fontsize=13)\n",
    "# plt.savefig(\"adam_mlp_rates_mnist.jpg\")\n",
    "plt.show()"
   ]
  },
  {
   "cell_type": "code",
   "execution_count": 185,
   "metadata": {
    "collapsed": false
   },
   "outputs": [
    {
     "name": "stdout",
     "output_type": "stream",
     "text": [
      "CPU times: user 5min 32s, sys: 4min 34s, total: 10min 6s\n",
      "Wall time: 10min 12s\n"
     ]
    }
   ],
   "source": [
    "%%time\n",
    "make_seed(1)\n",
    "bn_adam1 = main.run_method(lasagne.updates.adam, model=\"cnn\", dataset=\"CIFAR-10\", HL=1, CL=2, num_epochs=10, \n",
    "                           alpha=1e-4, BN=True)"
   ]
  },
  {
   "cell_type": "code",
   "execution_count": 240,
   "metadata": {
    "collapsed": false
   },
   "outputs": [
    {
     "name": "stdout",
     "output_type": "stream",
     "text": [
      "CPU times: user 32min 29s, sys: 34min 4s, total: 1h 6min 34s\n",
      "Wall time: 1h 6min 39s\n"
     ]
    }
   ],
   "source": [
    "%%time\n",
    "make_seed(1)\n",
    "bn_adam2 = main.run_method(lasagne.updates.adam,model=\"cnn\",  dataset=\"CIFAR-10\", HL=HL, CL=CL, num_epochs=50, \n",
    "                           alpha=1e-3, BN=True)"
   ]
  },
  {
   "cell_type": "code",
   "execution_count": 249,
   "metadata": {
    "collapsed": false
   },
   "outputs": [
    {
     "name": "stdout",
     "output_type": "stream",
     "text": [
      "CPU times: user 29min 15s, sys: 38min 25s, total: 1h 7min 41s\n",
      "Wall time: 1h 8min 3s\n"
     ]
    }
   ],
   "source": [
    "%%time\n",
    "make_seed(1)\n",
    "bn_adam3 = main.run_method(lasagne.updates.adam,model=\"cnn\",  dataset=\"CIFAR-10\", HL=HL, CL=CL, num_epochs=50, \n",
    "                           alpha=5e-3, BN=True)"
   ]
  },
  {
   "cell_type": "code",
   "execution_count": 188,
   "metadata": {
    "collapsed": false
   },
   "outputs": [
    {
     "name": "stdout",
     "output_type": "stream",
     "text": [
      "CPU times: user 6min 40s, sys: 7min 13s, total: 13min 53s\n",
      "Wall time: 13min 57s\n"
     ]
    }
   ],
   "source": [
    "%%time\n",
    "make_seed(1)\n",
    "bn_adam4 = main.run_method(lasagne.updates.adam, model=\"cnn\", dataset=\"CIFAR-10\", HL=HL, CL=CL, num_epochs=10, \n",
    "                           alpha=1e-2, BN=True)"
   ]
  },
  {
   "cell_type": "code",
   "execution_count": 254,
   "metadata": {
    "collapsed": true
   },
   "outputs": [],
   "source": [
    "# import pickle\n",
    "# with open('bn_adam', 'wb') as f:\n",
    "#     pickle.dump(bn_adam1, f)\n",
    "#     pickle.dump(bn_adam2, f)\n",
    "#     pickle.dump(bn_adam3, f)\n",
    "#     pickle.dump(bn_adam4, f)"
   ]
  },
  {
   "cell_type": "code",
   "execution_count": 5,
   "metadata": {
    "collapsed": false
   },
   "outputs": [],
   "source": [
    "import pickle\n",
    "with open('bn_adam', 'rb') as f:\n",
    "    bn_adam1 = pickle.load(f)\n",
    "    bn_adam2 = pickle.load(f)\n",
    "    bn_adam3 = pickle.load(f)\n",
    "    bn_adam4 = pickle.load(f)"
   ]
  },
  {
   "cell_type": "code",
   "execution_count": 43,
   "metadata": {
    "collapsed": false
   },
   "outputs": [],
   "source": [
    "plt.figure(figsize=(10, 8))\n",
    "plt.plot(bn_adam1['train_acc'], 'b--')\n",
    "plt.plot(bn_adam1['val_acc'], 'b')\n",
    "plt.plot(bn_adam2['train_acc'], 'g--')\n",
    "plt.plot(bn_adam2['val_acc'], 'g')\n",
    "plt.plot(bn_adam3['train_acc'], 'r--')\n",
    "plt.plot(bn_adam3['val_acc'], 'r')\n",
    "plt.plot(bn_adam4['train_acc'], 'k--')\n",
    "plt.plot(bn_adam4['val_acc'], 'k')\n",
    "plt.legend(['train, 1e-4', 'validation, 1e-4', 'train, 1e-3', 'validation, 1e-3', \n",
    "            'train, 5e-3', 'validation, 5e-3', 'train, 1e-2', 'validation, 1e-2'], loc=0, fontsize=12)\n",
    "# plt.ylim(ymax=101)\n",
    "# plt.xlim(xmax=49)\n",
    "plt.xlabel('epochs')\n",
    "plt.ylabel('accuracy')\n",
    "# plt.title('BN Adam, MLP (3HL) MNIST', fontsize=13)\n",
    "# plt.savefig(\"bn_adam_mlp_rates_mnist.jpg\")\n",
    "plt.show()\n"
   ]
  },
  {
   "cell_type": "code",
   "execution_count": 7,
   "metadata": {
    "collapsed": false
   },
   "outputs": [],
   "source": [
    "plt.plot(adam_new['val_acc'], 'b')\n",
    "plt.plot(bn_adam_new['val_acc'], 'r')\n",
    "plt.title('1')\n",
    "plt.show()"
   ]
  },
  {
   "cell_type": "markdown",
   "metadata": {
    "collapsed": true
   },
   "source": [
    "## MOMENTUM"
   ]
  },
  {
   "cell_type": "code",
   "execution_count": 189,
   "metadata": {
    "collapsed": false
   },
   "outputs": [
    {
     "name": "stdout",
     "output_type": "stream",
     "text": [
      "CPU times: user 5min 34s, sys: 5min 15s, total: 10min 49s\n",
      "Wall time: 10min 56s\n"
     ]
    }
   ],
   "source": [
    "%%time\n",
    "make_seed(1)\n",
    "momentum1 = main.run_method(lasagne.updates.momentum, model=\"cnn\", dataset=\"CIFAR-10\", HL=HL, CL=CL, num_epochs=10, \n",
    "                            alpha=1e-3)"
   ]
  },
  {
   "cell_type": "code",
   "execution_count": 241,
   "metadata": {
    "collapsed": false
   },
   "outputs": [
    {
     "name": "stdout",
     "output_type": "stream",
     "text": [
      "CPU times: user 28min 15s, sys: 24min 11s, total: 52min 27s\n",
      "Wall time: 52min 30s\n"
     ]
    }
   ],
   "source": [
    "%%time\n",
    "make_seed(1)\n",
    "momentum2 = main.run_method(lasagne.updates.momentum, model=\"cnn\", dataset=\"CIFAR-10\", HL=HL, CL=CL, num_epochs=50,\n",
    "                            alpha=1e-2)"
   ]
  },
  {
   "cell_type": "code",
   "execution_count": 191,
   "metadata": {
    "collapsed": false
   },
   "outputs": [
    {
     "name": "stdout",
     "output_type": "stream",
     "text": [
      "CPU times: user 5min 29s, sys: 5min 14s, total: 10min 43s\n",
      "Wall time: 10min 44s\n"
     ]
    }
   ],
   "source": [
    "%%time\n",
    "make_seed(1)\n",
    "momentum3 = main.run_method(lasagne.updates.momentum, model=\"cnn\", dataset=\"CIFAR-10\", HL=HL, CL=CL, num_epochs=10, \n",
    "                            alpha=1e-1)"
   ]
  },
  {
   "cell_type": "code",
   "execution_count": 192,
   "metadata": {
    "collapsed": false
   },
   "outputs": [
    {
     "name": "stdout",
     "output_type": "stream",
     "text": [
      "CPU times: user 5min 48s, sys: 4min 55s, total: 10min 44s\n",
      "Wall time: 10min 45s\n"
     ]
    }
   ],
   "source": [
    "%%time\n",
    "make_seed(1)\n",
    "momentum4 = main.run_method(lasagne.updates.momentum, model=\"cnn\", dataset=\"CIFAR-10\", HL=HL, CL=CL, num_epochs=10, \n",
    "                            alpha=0.5)"
   ]
  },
  {
   "cell_type": "code",
   "execution_count": 255,
   "metadata": {
    "collapsed": true
   },
   "outputs": [],
   "source": [
    "# import pickle\n",
    "# with open('momentum', 'wb') as f:\n",
    "#     pickle.dump(momentum1, f)\n",
    "#     pickle.dump(momentum2, f)\n",
    "#     pickle.dump(momentum3, f)\n",
    "#     pickle.dump(momentum4, f)"
   ]
  },
  {
   "cell_type": "code",
   "execution_count": 10,
   "metadata": {
    "collapsed": true
   },
   "outputs": [],
   "source": [
    "import pickle\n",
    "with open('momentum', 'rb') as f:\n",
    "    momentum1 = pickle.load(f)\n",
    "    momentum2 = pickle.load(f)\n",
    "    momentum3 = pickle.load(f)\n",
    "    momentum4 = pickle.load(f)"
   ]
  },
  {
   "cell_type": "code",
   "execution_count": 44,
   "metadata": {
    "collapsed": false
   },
   "outputs": [],
   "source": [
    "plt.figure(figsize=(10, 8))\n",
    "plt.plot(momentum1['train_acc'], 'b--')\n",
    "plt.plot(momentum1['val_acc'], 'b')\n",
    "plt.plot(momentum2['train_acc'], 'g--')\n",
    "plt.plot(momentum2['val_acc'], 'g')\n",
    "plt.plot(momentum3['train_acc'], 'r--')\n",
    "plt.plot(momentum3['val_acc'], 'r')\n",
    "plt.plot(momentum4['train_acc'], 'k--')\n",
    "plt.plot(momentum4['val_acc'], 'k')\n",
    "plt.legend(['train, 1e-3', 'validation, 1e-3', 'train, 1e-2', 'validation, 1e-2', \n",
    "            'train, 1e-1', 'validation, 1e-1', 'train, 0.5', 'validation, 0.5'], loc=0, fontsize=12)\n",
    "# plt.ylim(ymax=101)\n",
    "# plt.xlim(xmax=49)\n",
    "plt.xlabel('epochs')\n",
    "plt.ylabel('accuracy')\n",
    "# plt.title('SGDm, CNN (3HL) CIFAR-10', fontsize=13)\n",
    "# plt.savefig(\"momentum_mlp_rates_mnist.jpg\")\n",
    "plt.show()\n"
   ]
  },
  {
   "cell_type": "code",
   "execution_count": 78,
   "metadata": {
    "collapsed": false
   },
   "outputs": [
    {
     "data": {
      "text/plain": [
       "71.780000030994415"
      ]
     },
     "execution_count": 78,
     "metadata": {},
     "output_type": "execute_result"
    }
   ],
   "source": [
    "momentum2['test_acc']"
   ]
  },
  {
   "cell_type": "code",
   "execution_count": 193,
   "metadata": {
    "collapsed": false
   },
   "outputs": [
    {
     "name": "stdout",
     "output_type": "stream",
     "text": [
      "CPU times: user 6min 48s, sys: 6min 51s, total: 13min 39s\n",
      "Wall time: 13min 46s\n"
     ]
    }
   ],
   "source": [
    "%%time\n",
    "make_seed(1)\n",
    "bn_momentum1 = main.run_method(lasagne.updates.momentum,model=\"cnn\",  dataset=\"CIFAR-10\", HL=HL, CL=CL, num_epochs=10, \n",
    "                               alpha=1e-3, BN=True)"
   ]
  },
  {
   "cell_type": "code",
   "execution_count": 242,
   "metadata": {
    "collapsed": false
   },
   "outputs": [
    {
     "name": "stdout",
     "output_type": "stream",
     "text": [
      "CPU times: user 32min 27s, sys: 33min 51s, total: 1h 6min 19s\n",
      "Wall time: 1h 6min 26s\n"
     ]
    }
   ],
   "source": [
    "%%time\n",
    "make_seed(1)\n",
    "bn_momentum2 = main.run_method(lasagne.updates.momentum,model=\"cnn\",  dataset=\"CIFAR-10\", HL=HL, CL=CL, num_epochs=50, \n",
    "                               alpha=1e-2, BN=True)"
   ]
  },
  {
   "cell_type": "code",
   "execution_count": 195,
   "metadata": {
    "collapsed": false
   },
   "outputs": [
    {
     "name": "stdout",
     "output_type": "stream",
     "text": [
      "CPU times: user 6min 50s, sys: 6min 47s, total: 13min 37s\n",
      "Wall time: 13min 38s\n"
     ]
    }
   ],
   "source": [
    "%%time\n",
    "make_seed(1)\n",
    "bn_momentum3 = main.run_method(lasagne.updates.momentum, model=\"cnn\", dataset=\"CIFAR-10\", HL=HL, CL=CL, num_epochs=10, \n",
    "                               alpha=1e-1, BN=True)"
   ]
  },
  {
   "cell_type": "code",
   "execution_count": 196,
   "metadata": {
    "collapsed": false
   },
   "outputs": [
    {
     "name": "stdout",
     "output_type": "stream",
     "text": [
      "CPU times: user 7min 11s, sys: 7min 43s, total: 14min 55s\n",
      "Wall time: 14min 56s\n"
     ]
    }
   ],
   "source": [
    "%%time\n",
    "make_seed(1)\n",
    "bn_momentum4 = main.run_method(lasagne.updates.momentum, model=\"cnn\", dataset=\"CIFAR-10\", HL=HL, CL=CL, num_epochs=10, \n",
    "                               alpha=1.0, BN=True)"
   ]
  },
  {
   "cell_type": "code",
   "execution_count": 256,
   "metadata": {
    "collapsed": true
   },
   "outputs": [],
   "source": [
    "# import pickle\n",
    "# with open('bn_momentum', 'wb') as f:\n",
    "#     pickle.dump(bn_momentum1, f)\n",
    "#     pickle.dump(bn_momentum2, f)\n",
    "#     pickle.dump(bn_momentum3, f)\n",
    "#     pickle.dump(bn_momentum4, f)"
   ]
  },
  {
   "cell_type": "code",
   "execution_count": 11,
   "metadata": {
    "collapsed": true
   },
   "outputs": [],
   "source": [
    "import pickle\n",
    "with open('bn_momentum', 'rb') as f:\n",
    "    bn_momentum1 = pickle.load(f)\n",
    "    bn_momentum2 = pickle.load(f)\n",
    "    bn_momentum3 = pickle.load(f)\n",
    "    bn_momentum4 = pickle.load(f)"
   ]
  },
  {
   "cell_type": "code",
   "execution_count": 45,
   "metadata": {
    "collapsed": false
   },
   "outputs": [],
   "source": [
    "plt.figure(figsize=(10, 8))\n",
    "plt.plot(bn_momentum1['train_acc'], 'b--')\n",
    "plt.plot(bn_momentum1['val_acc'], 'b')\n",
    "plt.plot(bn_momentum2['train_acc'], 'g--')\n",
    "plt.plot(bn_momentum2['val_acc'], 'g')\n",
    "plt.plot(bn_momentum3['train_acc'], 'r--')\n",
    "plt.plot(bn_momentum3['val_acc'], 'r')\n",
    "plt.plot(bn_momentum4['train_acc'], 'k--')\n",
    "plt.plot(bn_momentum4['val_acc'], 'k')\n",
    "plt.legend(['train, 1e-3', 'validation, 1e-3', 'train, 1e-2', 'validation, 1e-2', \n",
    "            'train, 1e-1', 'validation, 1e-1', 'train, 1.0', 'validation, 1.0'], loc=0, fontsize=12)\n",
    "# plt.ylim(ymax=101)\n",
    "# plt.xlim(xmax=49)\n",
    "plt.xlabel('epochs')\n",
    "plt.ylabel('accuracy')\n",
    "# plt.title('BN SGDm, CNN (3HL) CIFAR-10', fontsize=13)\n",
    "# plt.savefig(\"bn_momentum_mlp_rates_mnist.jpg\")\n",
    "plt.show()\n"
   ]
  },
  {
   "cell_type": "code",
   "execution_count": 74,
   "metadata": {
    "collapsed": false
   },
   "outputs": [
    {
     "data": {
      "text/plain": [
       "75.039999485015869"
      ]
     },
     "execution_count": 74,
     "metadata": {},
     "output_type": "execute_result"
    }
   ],
   "source": [
    "bn_momentum3['test_acc']"
   ]
  },
  {
   "cell_type": "markdown",
   "metadata": {},
   "source": [
    "## ADAGRAD"
   ]
  },
  {
   "cell_type": "code",
   "execution_count": 243,
   "metadata": {
    "collapsed": false
   },
   "outputs": [
    {
     "name": "stdout",
     "output_type": "stream",
     "text": [
      "CPU times: user 32min 26s, sys: 36min 58s, total: 1h 9min 25s\n",
      "Wall time: 1h 9min 32s\n"
     ]
    }
   ],
   "source": [
    "%%time\n",
    "make_seed(1)\n",
    "adagrad1 = main.run_method(lasagne.updates.adagrad, model=\"cnn\", dataset=\"CIFAR-10\", HL=HL, CL=CL, num_epochs=50, \n",
    "                           alpha=1e-3)"
   ]
  },
  {
   "cell_type": "code",
   "execution_count": 198,
   "metadata": {
    "collapsed": false
   },
   "outputs": [
    {
     "name": "stdout",
     "output_type": "stream",
     "text": [
      "CPU times: user 6min 44s, sys: 7min 16s, total: 14min 1s\n",
      "Wall time: 14min 1s\n"
     ]
    }
   ],
   "source": [
    "%%time\n",
    "make_seed(1)\n",
    "adagrad2 = main.run_method(lasagne.updates.adagrad, model=\"cnn\", dataset=\"CIFAR-10\", HL=HL, CL=CL, num_epochs=10, \n",
    "                           alpha=1e-2)"
   ]
  },
  {
   "cell_type": "code",
   "execution_count": 199,
   "metadata": {
    "collapsed": false
   },
   "outputs": [
    {
     "name": "stdout",
     "output_type": "stream",
     "text": [
      "CPU times: user 6min 48s, sys: 7min 16s, total: 14min 4s\n",
      "Wall time: 14min 5s\n"
     ]
    }
   ],
   "source": [
    "%%time\n",
    "make_seed(1)\n",
    "adagrad3 = main.run_method(lasagne.updates.adagrad, model=\"cnn\", dataset=\"CIFAR-10\", HL=HL, CL=CL, num_epochs=10, \n",
    "                           alpha=1e-1)"
   ]
  },
  {
   "cell_type": "code",
   "execution_count": 257,
   "metadata": {
    "collapsed": true
   },
   "outputs": [],
   "source": [
    "# import pickle\n",
    "# with open('adagrad', 'wb') as f:\n",
    "#     pickle.dump(adagrad1, f)\n",
    "#     pickle.dump(adagrad2, f)\n",
    "#     pickle.dump(adagrad3, f)"
   ]
  },
  {
   "cell_type": "code",
   "execution_count": 12,
   "metadata": {
    "collapsed": true
   },
   "outputs": [],
   "source": [
    "import pickle\n",
    "with open('adagrad', 'rb') as f:\n",
    "    adagrad1 = pickle.load(f)\n",
    "    adagrad2 = pickle.load(f)\n",
    "    adagrad3 = pickle.load(f)"
   ]
  },
  {
   "cell_type": "code",
   "execution_count": 46,
   "metadata": {
    "collapsed": false
   },
   "outputs": [],
   "source": [
    "plt.figure(figsize=(10, 8))\n",
    "plt.plot(adagrad1['train_acc'], 'b--')\n",
    "plt.plot(adagrad1['val_acc'], 'b')\n",
    "plt.plot(adagrad2['train_acc'], 'g--')\n",
    "plt.plot(adagrad2['val_acc'], 'g')\n",
    "plt.plot(adagrad3['train_acc'], 'r--')\n",
    "plt.plot(adagrad3['val_acc'], 'r')\n",
    "plt.legend(['train, 1e-3', 'validation, 1e-3', 'train, 1e-2', 'validation, 1e-2', \n",
    "            'train, 1e-1', 'validation, 1e-1'], loc=0, fontsize=12)\n",
    "# plt.ylim(ymax=101)\n",
    "# plt.xlim(xmax=49)\n",
    "plt.xlabel('epochs')\n",
    "plt.ylabel('accuracy')\n",
    "# plt.title('Adagrad, MLP (3HL) MNIST', fontsize=13)\n",
    "# plt.savefig(\"adagrad_mlp_rates_mnist.jpg\")\n",
    "plt.show()\n"
   ]
  },
  {
   "cell_type": "code",
   "execution_count": 200,
   "metadata": {
    "collapsed": false
   },
   "outputs": [
    {
     "name": "stdout",
     "output_type": "stream",
     "text": [
      "CPU times: user 7min 44s, sys: 9min 12s, total: 16min 57s\n",
      "Wall time: 17min 1s\n"
     ]
    }
   ],
   "source": [
    "%%time\n",
    "make_seed(1)\n",
    "bn_adagrad1 = main.run_method(lasagne.updates.adagrad, model=\"cnn\", dataset=\"CIFAR-10\", HL=HL, CL=CL, num_epochs=10, alpha=1e-3, BN=True)"
   ]
  },
  {
   "cell_type": "code",
   "execution_count": 244,
   "metadata": {
    "collapsed": false
   },
   "outputs": [
    {
     "name": "stdout",
     "output_type": "stream",
     "text": [
      "CPU times: user 35min 8s, sys: 47min 52s, total: 1h 23min 1s\n",
      "Wall time: 1h 23min 16s\n"
     ]
    }
   ],
   "source": [
    "%%time\n",
    "make_seed(1)\n",
    "bn_adagrad2 = main.run_method(lasagne.updates.adagrad, model=\"cnn\", dataset=\"CIFAR-10\", HL=HL, CL=CL, \n",
    "                              num_epochs=50, alpha=1e-2, BN=True)"
   ]
  },
  {
   "cell_type": "code",
   "execution_count": 202,
   "metadata": {
    "collapsed": false
   },
   "outputs": [
    {
     "name": "stdout",
     "output_type": "stream",
     "text": [
      "CPU times: user 7min 47s, sys: 9min 11s, total: 16min 58s\n",
      "Wall time: 16min 59s\n"
     ]
    }
   ],
   "source": [
    "%%time\n",
    "make_seed(1)\n",
    "bn_adagrad3 = main.run_method(lasagne.updates.adagrad, model=\"cnn\", dataset=\"CIFAR-10\", HL=HL, CL=CL,num_epochs=10, alpha=1e-1, BN=True)"
   ]
  },
  {
   "cell_type": "code",
   "execution_count": 203,
   "metadata": {
    "collapsed": false
   },
   "outputs": [
    {
     "name": "stdout",
     "output_type": "stream",
     "text": [
      "CPU times: user 6min 52s, sys: 6min 50s, total: 13min 43s\n",
      "Wall time: 13min 44s\n"
     ]
    }
   ],
   "source": [
    "%%time\n",
    "make_seed(1)\n",
    "bn_adagrad4 = main.run_method(lasagne.updates.adagrad, model=\"cnn\", dataset=\"CIFAR-10\", HL=HL, CL=CL, num_epochs=10, alpha=1.0, BN=True)"
   ]
  },
  {
   "cell_type": "code",
   "execution_count": 258,
   "metadata": {
    "collapsed": true
   },
   "outputs": [],
   "source": [
    "# import pickle\n",
    "# with open('bn_adagrad', 'wb') as f:\n",
    "#     pickle.dump(bn_adagrad1, f)\n",
    "#     pickle.dump(bn_adagrad2, f)\n",
    "#     pickle.dump(bn_adagrad3, f)\n",
    "#     pickle.dump(bn_adagrad4, f)"
   ]
  },
  {
   "cell_type": "code",
   "execution_count": 13,
   "metadata": {
    "collapsed": true
   },
   "outputs": [],
   "source": [
    "import pickle\n",
    "with open('bn_adagrad', 'rb') as f:\n",
    "    bn_adagrad1 = pickle.load(f)\n",
    "    bn_adagrad2 = pickle.load(f)\n",
    "    bn_adagrad3 = pickle.load(f)\n",
    "    bn_adagrad4 = pickle.load(f)"
   ]
  },
  {
   "cell_type": "code",
   "execution_count": 47,
   "metadata": {
    "collapsed": false
   },
   "outputs": [],
   "source": [
    "plt.figure(figsize=(10, 8))\n",
    "plt.plot(bn_adagrad1['train_acc'], 'b--')\n",
    "plt.plot(bn_adagrad1['val_acc'], 'b')\n",
    "plt.plot(bn_adagrad2['train_acc'], 'g--')\n",
    "plt.plot(bn_adagrad2['val_acc'], 'g')\n",
    "plt.plot(bn_adagrad3['train_acc'], 'r--')\n",
    "plt.plot(bn_adagrad3['val_acc'], 'r')\n",
    "plt.plot(bn_adagrad4['train_acc'], 'k--')\n",
    "plt.plot(bn_adagrad4['val_acc'], 'k')\n",
    "plt.legend(['train, 1e-3', 'validation, 1e-3', 'train, 1e-2', 'validation, 1e-2', \n",
    "            'train, 1e-1', 'validation, 1e-1', 'train, 1.0', 'validation, 1.0'], loc=0, fontsize=12)\n",
    "# plt.ylim(ymax=101)\n",
    "# plt.xlim(xmax=49)\n",
    "plt.xlabel('epochs')\n",
    "plt.ylabel('accuracy')\n",
    "# plt.title('BN Adagrad, MLP (3HL) MNIST', fontsize=13)\n",
    "# plt.savefig(\"bn_adagrad_mlp_rates_mnist.jpg\")\n",
    "plt.show()\n"
   ]
  },
  {
   "cell_type": "markdown",
   "metadata": {
    "collapsed": true
   },
   "source": [
    "## ADADELTA"
   ]
  },
  {
   "cell_type": "code",
   "execution_count": 245,
   "metadata": {
    "collapsed": false
   },
   "outputs": [
    {
     "name": "stdout",
     "output_type": "stream",
     "text": [
      "CPU times: user 27min 42s, sys: 27min 23s, total: 55min 6s\n",
      "Wall time: 55min 21s\n"
     ]
    }
   ],
   "source": [
    "%%time\n",
    "make_seed(1)\n",
    "adadelta1 = main.run_method(lasagne.updates.adadelta, model=\"cnn\", dataset=\"CIFAR-10\",  HL=HL, CL=CL, \n",
    "                            num_epochs=50, alpha=1e-1)"
   ]
  },
  {
   "cell_type": "code",
   "execution_count": 205,
   "metadata": {
    "collapsed": false
   },
   "outputs": [
    {
     "name": "stdout",
     "output_type": "stream",
     "text": [
      "CPU times: user 5min 58s, sys: 5min 3s, total: 11min 1s\n",
      "Wall time: 11min 2s\n"
     ]
    }
   ],
   "source": [
    "%%time\n",
    "make_seed(1)\n",
    "adadelta2 = main.run_method(lasagne.updates.adadelta, model=\"cnn\", dataset=\"CIFAR-10\",  HL=HL, CL=CL, num_epochs=10, alpha=1.0)"
   ]
  },
  {
   "cell_type": "code",
   "execution_count": 206,
   "metadata": {
    "collapsed": false
   },
   "outputs": [
    {
     "name": "stdout",
     "output_type": "stream",
     "text": [
      "CPU times: user 5min 55s, sys: 5min 5s, total: 11min 1s\n",
      "Wall time: 11min 1s\n"
     ]
    }
   ],
   "source": [
    "%%time\n",
    "make_seed(1)\n",
    "adadelta3 = main.run_method(lasagne.updates.adadelta, model=\"cnn\", dataset=\"CIFAR-10\", HL=HL, CL=CL, num_epochs=10, alpha=5.0)"
   ]
  },
  {
   "cell_type": "code",
   "execution_count": 259,
   "metadata": {
    "collapsed": true
   },
   "outputs": [],
   "source": [
    "# import pickle\n",
    "# with open('adadelta', 'wb') as f:\n",
    "#     pickle.dump(adadelta1, f)\n",
    "#     pickle.dump(adadelta2, f)\n",
    "#     pickle.dump(adadelta3, f)"
   ]
  },
  {
   "cell_type": "code",
   "execution_count": 15,
   "metadata": {
    "collapsed": false
   },
   "outputs": [],
   "source": [
    "import pickle\n",
    "with open('adadelta', 'rb') as f:\n",
    "    adadelta1 = pickle.load(f)\n",
    "    adadelta2 = pickle.load(f)\n",
    "    adadelta3 = pickle.load(f)"
   ]
  },
  {
   "cell_type": "code",
   "execution_count": 48,
   "metadata": {
    "collapsed": false
   },
   "outputs": [],
   "source": [
    "plt.figure(figsize=(10, 8))\n",
    "plt.plot(adadelta1['train_acc'], 'b--')\n",
    "plt.plot(adadelta1['val_acc'], 'b')\n",
    "plt.plot(adadelta2['train_acc'], 'g--')\n",
    "plt.plot(adadelta2['val_acc'], 'g')\n",
    "plt.plot(adadelta3['train_acc'], 'r--')\n",
    "plt.plot(adadelta3['val_acc'], 'r')\n",
    "plt.legend(['train, 1e-1', 'validation, 1e-1', 'train, 1.0', 'validation, 1.0', \n",
    "            'train, 5.0', 'validation, 5.0'], loc=0, fontsize=12)\n",
    "# plt.ylim(ymax=101)\n",
    "# plt.xlim(xmax=49)\n",
    "plt.xlabel('epochs')\n",
    "plt.ylabel('accuracy')\n",
    "# plt.title('Adadelta, MLP (3HL) MNIST', fontsize=13)\n",
    "# plt.savefig(\"adadelta_mlp_rates_mnist.jpg\")\n",
    "plt.show()\n"
   ]
  },
  {
   "cell_type": "code",
   "execution_count": 207,
   "metadata": {
    "collapsed": false
   },
   "outputs": [
    {
     "name": "stdout",
     "output_type": "stream",
     "text": [
      "CPU times: user 6min 58s, sys: 6min 59s, total: 13min 58s\n",
      "Wall time: 13min 59s\n"
     ]
    }
   ],
   "source": [
    "%%time\n",
    "make_seed(1)\n",
    "bn_adadelta1 = main.run_method(lasagne.updates.adadelta, model=\"cnn\", dataset=\"CIFAR-10\", HL=HL, CL=CL,num_epochs=10, alpha=1e-1, BN=True)"
   ]
  },
  {
   "cell_type": "code",
   "execution_count": 246,
   "metadata": {
    "collapsed": false
   },
   "outputs": [
    {
     "name": "stdout",
     "output_type": "stream",
     "text": [
      "CPU times: user 30min 55s, sys: 47min 14s, total: 1h 18min 10s\n",
      "Wall time: 1h 19min 53s\n"
     ]
    }
   ],
   "source": [
    "%%time\n",
    "make_seed(1)\n",
    "bn_adadelta2 = main.run_method(lasagne.updates.adadelta, model=\"cnn\", dataset=\"CIFAR-10\", HL=HL, CL=CL, \n",
    "                               num_epochs=50, alpha=1.0, BN=True)"
   ]
  },
  {
   "cell_type": "code",
   "execution_count": 250,
   "metadata": {
    "collapsed": false
   },
   "outputs": [
    {
     "name": "stdout",
     "output_type": "stream",
     "text": [
      "CPU times: user 30min 19s, sys: 37min 30s, total: 1h 7min 50s\n",
      "Wall time: 1h 8min 8s\n"
     ]
    }
   ],
   "source": [
    "%%time\n",
    "make_seed(1)\n",
    "bn_adadelta3 = main.run_method(lasagne.updates.adadelta, model=\"cnn\", dataset=\"CIFAR-10\",  HL=HL, CL=CL, \n",
    "                               num_epochs=50, alpha=5.0, BN=True)"
   ]
  },
  {
   "cell_type": "code",
   "execution_count": 260,
   "metadata": {
    "collapsed": true
   },
   "outputs": [],
   "source": [
    "# import pickle\n",
    "# with open('bn_adadelta', 'wb') as f:\n",
    "#     pickle.dump(bn_adadelta1, f)\n",
    "#     pickle.dump(bn_adadelta2, f)\n",
    "#     pickle.dump(bn_adadelta3, f)"
   ]
  },
  {
   "cell_type": "code",
   "execution_count": 16,
   "metadata": {
    "collapsed": true
   },
   "outputs": [],
   "source": [
    "import pickle\n",
    "with open('bn_adadelta', 'rb') as f:\n",
    "    bn_adadelta1 = pickle.load(f)\n",
    "    bn_adadelta2 = pickle.load(f)\n",
    "    bn_adadelta3 = pickle.load(f)"
   ]
  },
  {
   "cell_type": "code",
   "execution_count": 49,
   "metadata": {
    "collapsed": false
   },
   "outputs": [],
   "source": [
    "plt.figure(figsize=(10, 8))\n",
    "plt.plot(bn_adadelta1['train_acc'], 'b--')\n",
    "plt.plot(bn_adadelta1['val_acc'], 'b')\n",
    "plt.plot(bn_adadelta2['train_acc'], 'g--')\n",
    "plt.plot(bn_adadelta2['val_acc'], 'g')\n",
    "plt.plot(bn_adadelta3['train_acc'], 'r--')\n",
    "plt.plot(bn_adadelta3['val_acc'], 'r')\n",
    "plt.legend(['train, 1e-1', 'validation, 1e-1', 'train, 1.0', 'validation, 1.0', \n",
    "            'train, 5.0', 'validation, 5.0'], loc=0, fontsize=12)\n",
    "# plt.ylim(ymax=101)\n",
    "# plt.xlim(xmax=49)\n",
    "plt.xlabel('epochs')\n",
    "plt.ylabel('accuracy')\n",
    "# plt.title('BN Adadelta, MLP (3HL) MNIST', fontsize=13)\n",
    "# plt.savefig(\"bn_adadelta_mlp_rates_mnist.jpg\")\n",
    "plt.show()\n"
   ]
  },
  {
   "cell_type": "markdown",
   "metadata": {},
   "source": [
    "## RMSPROP"
   ]
  },
  {
   "cell_type": "code",
   "execution_count": 247,
   "metadata": {
    "collapsed": false
   },
   "outputs": [
    {
     "name": "stdout",
     "output_type": "stream",
     "text": [
      "CPU times: user 28min 30s, sys: 47min 19s, total: 1h 15min 49s\n",
      "Wall time: 1h 16min 38s\n"
     ]
    }
   ],
   "source": [
    "%%time\n",
    "make_seed(1)\n",
    "rmsprop0 = main.run_method(lasagne.updates.rmsprop, model=\"cnn\", dataset=\"CIFAR-10\",  HL=HL, CL=CL, \n",
    "                           num_epochs=50, alpha=1e-4)"
   ]
  },
  {
   "cell_type": "code",
   "execution_count": 210,
   "metadata": {
    "collapsed": false
   },
   "outputs": [
    {
     "name": "stdout",
     "output_type": "stream",
     "text": [
      "CPU times: user 6min 46s, sys: 7min 18s, total: 14min 5s\n",
      "Wall time: 14min 8s\n"
     ]
    }
   ],
   "source": [
    "%%time\n",
    "make_seed(1)\n",
    "rmsprop1 = main.run_method(lasagne.updates.rmsprop, model=\"cnn\", dataset=\"CIFAR-10\",  HL=HL, CL=CL, num_epochs=10, alpha=1e-3)"
   ]
  },
  {
   "cell_type": "code",
   "execution_count": 211,
   "metadata": {
    "collapsed": false
   },
   "outputs": [
    {
     "name": "stdout",
     "output_type": "stream",
     "text": [
      "CPU times: user 6min 48s, sys: 7min 21s, total: 14min 9s\n",
      "Wall time: 14min 10s\n"
     ]
    }
   ],
   "source": [
    "%%time\n",
    "make_seed(1)\n",
    "rmsprop2 = main.run_method(lasagne.updates.rmsprop, model=\"cnn\", dataset=\"CIFAR-10\", HL=HL, CL=CL, num_epochs=10, alpha=1e-2)"
   ]
  },
  {
   "cell_type": "code",
   "execution_count": 212,
   "metadata": {
    "collapsed": false
   },
   "outputs": [
    {
     "name": "stdout",
     "output_type": "stream",
     "text": [
      "CPU times: user 6min 47s, sys: 7min 22s, total: 14min 9s\n",
      "Wall time: 14min 10s\n"
     ]
    }
   ],
   "source": [
    "%%time\n",
    "make_seed(1)\n",
    "rmsprop3 = main.run_method(lasagne.updates.rmsprop, model=\"cnn\", dataset=\"CIFAR-10\", HL=HL, CL=CL,num_epochs=10, alpha=5e-2)"
   ]
  },
  {
   "cell_type": "code",
   "execution_count": 231,
   "metadata": {
    "collapsed": false
   },
   "outputs": [
    {
     "name": "stdout",
     "output_type": "stream",
     "text": [
      "CPU times: user 6min 46s, sys: 7min 21s, total: 14min 7s\n",
      "Wall time: 14min 8s\n"
     ]
    }
   ],
   "source": [
    "%%time\n",
    "make_seed(1)\n",
    "rmsprop4 = main.run_method(lasagne.updates.rmsprop, model=\"cnn\", dataset=\"CIFAR-10\",  HL=HL, CL=CL, \n",
    "                           num_epochs=10, alpha=1e-1)"
   ]
  },
  {
   "cell_type": "code",
   "execution_count": 261,
   "metadata": {
    "collapsed": true
   },
   "outputs": [],
   "source": [
    "# import pickle\n",
    "# with open('rmsprop', 'wb') as f:\n",
    "#     pickle.dump(rmsprop0, f)\n",
    "#     pickle.dump(rmsprop1, f)\n",
    "#     pickle.dump(rmsprop2, f)\n",
    "#     pickle.dump(rmsprop3, f)\n",
    "#     pickle.dump(rmsprop4, f)"
   ]
  },
  {
   "cell_type": "code",
   "execution_count": 17,
   "metadata": {
    "collapsed": true
   },
   "outputs": [],
   "source": [
    "import pickle\n",
    "with open('rmsprop', 'rb') as f:\n",
    "    rmsprop0 = pickle.load(f)\n",
    "    rmsprop1 = pickle.load(f)\n",
    "    rmsprop2 = pickle.load(f)\n",
    "    rmsprop3 = pickle.load(f)\n",
    "    rmsprop4 = pickle.load(f)"
   ]
  },
  {
   "cell_type": "code",
   "execution_count": 50,
   "metadata": {
    "collapsed": false
   },
   "outputs": [],
   "source": [
    "plt.figure(figsize=(10, 8))\n",
    "plt.plot(rmsprop0['train_acc'], 'y--')\n",
    "plt.plot(rmsprop0['val_acc'], 'y')\n",
    "plt.plot(rmsprop1['train_acc'], 'b--')\n",
    "plt.plot(rmsprop1['val_acc'], 'b')\n",
    "plt.plot(rmsprop2['train_acc'], 'g--')\n",
    "plt.plot(rmsprop2['val_acc'], 'g')\n",
    "plt.plot(rmsprop3['train_acc'], 'r--')\n",
    "plt.plot(rmsprop3['val_acc'], 'r')\n",
    "plt.plot(rmsprop4['train_acc'], 'c--')\n",
    "plt.plot(rmsprop4['val_acc'], 'c')\n",
    "plt.legend(['train, 1e-3', 'validation, 1e-3', 'train, 1e-2', 'validation, 1e-2', \n",
    "            'train, 5e-2', 'validation, 5e-2'], loc=0, fontsize=12)\n",
    "# plt.ylim(ymax=101)\n",
    "# plt.xlim(xmax=49)\n",
    "plt.xlabel('epochs')\n",
    "plt.ylabel('accuracy')\n",
    "# plt.title('RMSprop, MLP (3HL) MNIST', fontsize=13)\n",
    "# plt.savefig(\"rmsprop_mlp_rates_mnist.jpg\")\n",
    "plt.show()\n"
   ]
  },
  {
   "cell_type": "code",
   "execution_count": 248,
   "metadata": {
    "collapsed": false
   },
   "outputs": [
    {
     "name": "stdout",
     "output_type": "stream",
     "text": [
      "CPU times: user 30min 40s, sys: 55min 17s, total: 1h 25min 57s\n",
      "Wall time: 1h 26min 42s\n"
     ]
    }
   ],
   "source": [
    "%%time\n",
    "make_seed(1)\n",
    "bn_rmsprop1 = main.run_method(lasagne.updates.rmsprop, model=\"cnn\", dataset=\"CIFAR-10\",  HL=HL, CL=CL, num_epochs=50, alpha=1e-3, BN=True)"
   ]
  },
  {
   "cell_type": "code",
   "execution_count": 214,
   "metadata": {
    "collapsed": false
   },
   "outputs": [
    {
     "name": "stdout",
     "output_type": "stream",
     "text": [
      "CPU times: user 7min 48s, sys: 9min 10s, total: 16min 59s\n",
      "Wall time: 17min 1s\n"
     ]
    }
   ],
   "source": [
    "%%time\n",
    "make_seed(1)\n",
    "bn_rmsprop2 = main.run_method(lasagne.updates.rmsprop, model=\"cnn\", dataset=\"CIFAR-10\",  HL=HL, CL=CL, num_epochs=10, alpha=1e-2, BN=True)"
   ]
  },
  {
   "cell_type": "code",
   "execution_count": 215,
   "metadata": {
    "collapsed": false
   },
   "outputs": [
    {
     "name": "stdout",
     "output_type": "stream",
     "text": [
      "CPU times: user 7min 48s, sys: 9min 13s, total: 17min 2s\n",
      "Wall time: 17min 3s\n"
     ]
    }
   ],
   "source": [
    "%%time\n",
    "make_seed(1)\n",
    "bn_rmsprop3 = main.run_method(lasagne.updates.rmsprop, model=\"cnn\", dataset=\"CIFAR-10\", HL=HL, CL=CL, num_epochs=10, alpha=1e-1, BN=True)"
   ]
  },
  {
   "cell_type": "code",
   "execution_count": 262,
   "metadata": {
    "collapsed": true
   },
   "outputs": [],
   "source": [
    "# import pickle\n",
    "# with open('bn_rmsprop', 'wb') as f:\n",
    "#     pickle.dump(bn_rmsprop1, f)\n",
    "#     pickle.dump(bn_rmsprop2, f)\n",
    "#     pickle.dump(bn_rmsprop3, f)"
   ]
  },
  {
   "cell_type": "code",
   "execution_count": 18,
   "metadata": {
    "collapsed": true
   },
   "outputs": [],
   "source": [
    "import pickle\n",
    "with open('bn_rmsprop', 'rb') as f:\n",
    "    bn_rmsprop1 = pickle.load(f)\n",
    "    bn_rmsprop2 = pickle.load(f)\n",
    "    bn_rmsprop3 = pickle.load(f)"
   ]
  },
  {
   "cell_type": "code",
   "execution_count": 52,
   "metadata": {
    "collapsed": false
   },
   "outputs": [],
   "source": [
    "plt.figure(figsize=(10, 8))\n",
    "plt.plot(bn_rmsprop1['train_acc'], 'b--')\n",
    "plt.plot(bn_rmsprop1['val_acc'], 'b')\n",
    "plt.plot(bn_rmsprop2['train_acc'], 'g--')\n",
    "plt.plot(bn_rmsprop2['val_acc'], 'g')\n",
    "plt.plot(bn_rmsprop3['train_acc'], 'r--')\n",
    "plt.plot(bn_rmsprop3['val_acc'], 'r')\n",
    "plt.legend(['train, 1e-3', 'validation, 1e-3', 'train, 1e-2', 'validation, 1e-2', \n",
    "            'train, 1e-1', 'validation, 1e-1'], loc=0, fontsize=12)\n",
    "# plt.ylim(ymax=101)\n",
    "# plt.xlim(xmax=49)\n",
    "plt.xlabel('epochs')\n",
    "plt.ylabel('accuracy')\n",
    "# plt.title('BN RMSprop, MLP (3HL) MNIST', fontsize=13)\n",
    "# plt.savefig(\"bn_rmsprop_mlp_rates_mnist.jpg\")\n",
    "plt.show()\n"
   ]
  },
  {
   "cell_type": "code",
   "execution_count": null,
   "metadata": {
    "collapsed": true
   },
   "outputs": [],
   "source": []
  },
  {
   "cell_type": "markdown",
   "metadata": {},
   "source": [
    "## Совместные графики"
   ]
  },
  {
   "cell_type": "code",
   "execution_count": 53,
   "metadata": {
    "collapsed": true
   },
   "outputs": [],
   "source": [
    "def relative(x, y):\n",
    "    return (y - x) / (100 - x)"
   ]
  },
  {
   "cell_type": "code",
   "execution_count": 57,
   "metadata": {
    "collapsed": true
   },
   "outputs": [],
   "source": [
    "def make_table(titles, lst, epochs, caption, param='val_acc', dec=2):\n",
    "    hline = \" \\\\\\\\\\\\hline\"\n",
    "    print(\"\\\\begin{table}\\n\\\\centering\\n\\\\begin{tabular}{|c|c|c|c|c|c|}\\\\hline\")\n",
    "    sepochs = \"\"\n",
    "    for x in epochs:\n",
    "        sepochs += \" & \" + str(x)\n",
    "    print(\"Номер эпохи\" + sepochs + hline + \"\\hline\")\n",
    "    \n",
    "    for i in range(len(titles) // 2):\n",
    "        s = titles[i * 2]\n",
    "        meth = lst[i * 2][param]\n",
    "        for x in epochs:\n",
    "            s += \" & \" + str(round(meth[x - 1], dec))\n",
    "        print(s + hline)\n",
    "        \n",
    "        s = titles[i * 2 + 1]\n",
    "        meth = lst[i * 2 + 1][param]\n",
    "        for x in epochs:\n",
    "            s += \" & \" + str(round(meth[x - 1], dec))\n",
    "        print(s + hline)\n",
    "        \n",
    "        s = \"Улучшение*\"\n",
    "        meth1 = lst[i * 2][param]\n",
    "        meth2 = lst[i * 2 + 1][param]\n",
    "        for x in epochs:\n",
    "            s += \" & \" + str(round(relative(meth1[x - 1], meth2[x - 1]), dec))\n",
    "        print(s + hline + \"\\hline\")\n",
    "    \n",
    "    print(\"\\\\end{tabular}\\n\\\\caption{\" + caption + \"}\\n\\\\end{table}\")"
   ]
  },
  {
   "cell_type": "code",
   "execution_count": 70,
   "metadata": {
    "collapsed": true
   },
   "outputs": [],
   "source": [
    "def map_(title, x, i, vmin=0.3, vmax=0.8):\n",
    "    plt.subplot(3, 2, i)\n",
    "    plt.pcolor(x.reshape((10, -1)), vmin=vmin, vmax=vmax)\n",
    "    plt.title(title)\n",
    "    plt.colorbar()"
   ]
  },
  {
   "cell_type": "code",
   "execution_count": 79,
   "metadata": {
    "collapsed": false
   },
   "outputs": [],
   "source": [
    "ind = np.arange(50)\n",
    "plt.figure(figsize=(20, 15))\n",
    "map_(\"SGD\", relative(sgd_new['val_acc'][ind], bn_sgd_new['val_acc'][ind]), 1)\n",
    "map_(\"Adam\", relative(adam_new['val_acc'][ind], bn_adam_new['val_acc'][ind]), 2)\n",
    "map_(\"SGDm\", relative(momentum_new['val_acc'][ind], bn_momentum_new['val_acc'][ind]), 3)\n",
    "map_(\"Adagrad\", relative(adagrad_new['val_acc'][ind], bn_adagrad_new['val_acc'][ind]), 4)\n",
    "map_(\"Adadelta\", relative(adadelta_new['val_acc'][ind], bn_adadelta_new['val_acc'][ind]), 5)\n",
    "map_(\"RMSprop\", relative(rmsprop_new['val_acc'][ind], bn_rmsprop_new['val_acc'][ind]), 6)\n",
    "plt.show()"
   ]
  },
  {
   "cell_type": "code",
   "execution_count": 73,
   "metadata": {
    "collapsed": false
   },
   "outputs": [
    {
     "name": "stdout",
     "output_type": "stream",
     "text": [
      "\\begin{table}\n",
      "\\centering\n",
      "\\begin{tabular}{|c|c|c|c|c|c|}\\hline\n",
      "Номер эпохи & 1 & 5 & 10 & 20 & 50 \\\\\\hline\\hline\n",
      "SGD & 9.67 & 9.43 & 10.33 & 10.33 & 48.46 \\\\\\hline\n",
      "BN SGD & 47.77 & 66.79 & 74.13 & 80.41 & 83.61 \\\\\\hline\n",
      "Улучшение* & 0.42 & 0.63 & 0.71 & 0.78 & 0.68 \\\\\\hline\\hline\n",
      "SGDm & 9.43 & 9.43 & 17.47 & 32.8 & 71.01 \\\\\\hline\n",
      "BN SGDm & 49.14 & 68.27 & 75.76 & 79.4 & 83.15 \\\\\\hline\n",
      "Улучшение* & 0.44 & 0.65 & 0.71 & 0.69 & 0.42 \\\\\\hline\\hline\n",
      "Adam & 21.33 & 38.71 & 51.72 & 59.16 & 71.44 \\\\\\hline\n",
      "BN Adam & 50.04 & 73.53 & 80.62 & 84.2 & 86.37 \\\\\\hline\n",
      "Улучшение* & 0.36 & 0.57 & 0.6 & 0.61 & 0.52 \\\\\\hline\\hline\n",
      "Adagrad & 10.11 & 27.44 & 40.39 & 47.71 & 58.87 \\\\\\hline\n",
      "BN Adagrad & 28.84 & 61.41 & 75.4 & 81.64 & 84.67 \\\\\\hline\n",
      "Улучшение* & 0.21 & 0.47 & 0.59 & 0.65 & 0.63 \\\\\\hline\\hline\n",
      "Adadelta & 9.67 & 11.77 & 13.23 & 34.67 & 48.87 \\\\\\hline\n",
      "BN Adadelta & 47.1 & 63.65 & 72.35 & 78.35 & 82.19 \\\\\\hline\n",
      "Улучшение* & 0.41 & 0.59 & 0.68 & 0.67 & 0.65 \\\\\\hline\\hline\n",
      "RMSprop & 12.97 & 20.47 & 38.2 & 47.24 & 66.04 \\\\\\hline\n",
      "BN RMSprop & 23.97 & 59.22 & 77.36 & 82.63 & 86.79 \\\\\\hline\n",
      "Улучшение* & 0.13 & 0.49 & 0.63 & 0.67 & 0.61 \\\\\\hline\\hline\n",
      "\\end{tabular}\n",
      "\\caption{Качество на CIFAR-10, DEEP CNN, лучшие рейты}\n",
      "\\end{table}\n"
     ]
    }
   ],
   "source": [
    "make_table([\"SGD\", \"BN SGD\", \"SGDm\", \"BN SGDm\", \"Adam\", \"BN Adam\", \"Adagrad\", \"BN Adagrad\", \"Adadelta\", \"BN Adadelta\", \n",
    "           \"RMSprop\", \"BN RMSprop\"], \n",
    "           [sgd_new, bn_sgd_new, momentum_new, bn_momentum_new, adam_new, bn_adam_new, adagrad_new, \n",
    "            bn_adagrad_new, adadelta_new, bn_adadelta_new, \n",
    "           rmsprop_new, bn_rmsprop_new], \n",
    "           [1, 5, 10, 20, 50], \"Качество на CIFAR-10, DEEP CNN, лучшие рейты\")"
   ]
  },
  {
   "cell_type": "code",
   "execution_count": 6,
   "metadata": {
    "collapsed": true
   },
   "outputs": [],
   "source": [
    "adam_new, bn_adam_new = adam1, bn_adam2\n"
   ]
  },
  {
   "cell_type": "code",
   "execution_count": 7,
   "metadata": {
    "collapsed": false
   },
   "outputs": [
    {
     "ename": "NameError",
     "evalue": "name 'sgd3' is not defined",
     "output_type": "error",
     "traceback": [
      "\u001b[1;31m---------------------------------------------------------------------------\u001b[0m",
      "\u001b[1;31mNameError\u001b[0m                                 Traceback (most recent call last)",
      "\u001b[1;32m<ipython-input-7-6b507d3e0446>\u001b[0m in \u001b[0;36m<module>\u001b[1;34m()\u001b[0m\n\u001b[1;32m----> 1\u001b[1;33m \u001b[0msgd_new\u001b[0m\u001b[1;33m,\u001b[0m \u001b[0mbn_sgd_new\u001b[0m \u001b[1;33m=\u001b[0m \u001b[0msgd3\u001b[0m\u001b[1;33m,\u001b[0m \u001b[0mbn_sgd3\u001b[0m\u001b[1;33m\u001b[0m\u001b[0m\n\u001b[0m\u001b[0;32m      2\u001b[0m \u001b[0madam_new\u001b[0m\u001b[1;33m,\u001b[0m \u001b[0mbn_adam_new\u001b[0m \u001b[1;33m=\u001b[0m \u001b[0madam1\u001b[0m\u001b[1;33m,\u001b[0m \u001b[0mbn_adam2\u001b[0m\u001b[1;33m\u001b[0m\u001b[0m\n\u001b[0;32m      3\u001b[0m \u001b[0mmomentum_new\u001b[0m\u001b[1;33m,\u001b[0m \u001b[0mbn_momentum_new\u001b[0m \u001b[1;33m=\u001b[0m \u001b[0mmomentum2\u001b[0m\u001b[1;33m,\u001b[0m \u001b[0mbn_momentum2\u001b[0m\u001b[1;33m\u001b[0m\u001b[0m\n\u001b[0;32m      4\u001b[0m \u001b[0madagrad_new\u001b[0m\u001b[1;33m,\u001b[0m \u001b[0mbn_adagrad_new\u001b[0m \u001b[1;33m=\u001b[0m \u001b[0madagrad1\u001b[0m\u001b[1;33m,\u001b[0m \u001b[0mbn_adagrad2\u001b[0m\u001b[1;33m\u001b[0m\u001b[0m\n\u001b[0;32m      5\u001b[0m \u001b[0madadelta_new\u001b[0m\u001b[1;33m,\u001b[0m \u001b[0mbn_adadelta_new\u001b[0m \u001b[1;33m=\u001b[0m \u001b[0madadelta1\u001b[0m\u001b[1;33m,\u001b[0m \u001b[0mbn_adadelta2\u001b[0m\u001b[1;33m\u001b[0m\u001b[0m\n",
      "\u001b[1;31mNameError\u001b[0m: name 'sgd3' is not defined"
     ]
    }
   ],
   "source": [
    "sgd_new, bn_sgd_new = sgd3, bn_sgd3\n",
    "adam_new, bn_adam_new = adam1, bn_adam2\n",
    "momentum_new, bn_momentum_new = momentum2, bn_momentum2\n",
    "adagrad_new, bn_adagrad_new = adagrad1, bn_adagrad2\n",
    "adadelta_new, bn_adadelta_new = adadelta1, bn_adadelta2\n",
    "rmsprop_new, bn_rmsprop_new = rmsprop0, bn_rmsprop1"
   ]
  },
  {
   "cell_type": "code",
   "execution_count": null,
   "metadata": {
    "collapsed": true
   },
   "outputs": [],
   "source": []
  },
  {
   "cell_type": "markdown",
   "metadata": {},
   "source": [
    "## NEW"
   ]
  },
  {
   "cell_type": "code",
   "execution_count": 12,
   "metadata": {
    "collapsed": true
   },
   "outputs": [],
   "source": [
    "deep_adam = adam_new.copy()\n",
    "deep_bn_adam = bn_adam_new.copy()"
   ]
  },
  {
   "cell_type": "code",
   "execution_count": 9,
   "metadata": {
    "collapsed": true
   },
   "outputs": [],
   "source": [
    "import pickle\n",
    "with open('adam', 'rb') as f:\n",
    "    adam2 = pickle.load(f)\n",
    "    adam3 = pickle.load(f)"
   ]
  },
  {
   "cell_type": "code",
   "execution_count": 10,
   "metadata": {
    "collapsed": true
   },
   "outputs": [],
   "source": [
    "import pickle\n",
    "with open('bn_adam', 'rb') as f:\n",
    "    bn_adam2 = pickle.load(f)\n",
    "    bn_adam3 = pickle.load(f)\n",
    "    bn_adam4 = pickle.load(f)"
   ]
  },
  {
   "cell_type": "code",
   "execution_count": 14,
   "metadata": {
    "collapsed": true
   },
   "outputs": [],
   "source": [
    "adam = adam2\n",
    "bn_adam = bn_adam4"
   ]
  },
  {
   "cell_type": "code",
   "execution_count": null,
   "metadata": {
    "collapsed": true
   },
   "outputs": [],
   "source": []
  },
  {
   "cell_type": "code",
   "execution_count": 27,
   "metadata": {
    "collapsed": false
   },
   "outputs": [],
   "source": [
    "plt.plot(adam['val_acc'], 'b--')\n",
    "plt.plot(bn_adam['val_acc'], 'r--')\n",
    "plt.plot(deep_adam['val_acc'], 'b')\n",
    "plt.plot(deep_bn_adam['val_acc'], 'r')\n",
    "plt.xlim(xmax=49)\n",
    "plt.legend(['Adam, CNN', 'BN Adam, CNN', 'Adam, deep CNN', 'BN Adam, deep CNN'], loc=0, fontsize=12)\n",
    "plt.ylabel('validation accuracy')\n",
    "plt.xlabel('epochs')\n",
    "plt.title('CIFAR-10, CNN')\n",
    "plt.show()"
   ]
  },
  {
   "cell_type": "code",
   "execution_count": null,
   "metadata": {
    "collapsed": true
   },
   "outputs": [],
   "source": []
  }
 ],
 "metadata": {
  "kernelspec": {
   "display_name": "Python 2",
   "language": "python",
   "name": "python2"
  },
  "language_info": {
   "codemirror_mode": {
    "name": "ipython",
    "version": 2
   },
   "file_extension": ".py",
   "mimetype": "text/x-python",
   "name": "python",
   "nbconvert_exporter": "python",
   "pygments_lexer": "ipython2",
   "version": "2.7.6"
  }
 },
 "nbformat": 4,
 "nbformat_minor": 0
}

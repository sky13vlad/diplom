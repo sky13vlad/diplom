{
 "cells": [
  {
   "cell_type": "code",
   "execution_count": 2,
   "metadata": {
    "collapsed": false
   },
   "outputs": [],
   "source": [
    "import main\n",
    "import numpy as np\n",
    "import matplotlib.pyplot as plt\n",
    "# %matplotlib inline\n",
    "import lasagne\n",
    "import theano\n",
    "import theano.tensor as T"
   ]
  },
  {
   "cell_type": "code",
   "execution_count": 3,
   "metadata": {
    "collapsed": false
   },
   "outputs": [
    {
     "data": {
      "text/plain": [
       "<module 'main' from 'main.pyc'>"
      ]
     },
     "execution_count": 3,
     "metadata": {},
     "output_type": "execute_result"
    }
   ],
   "source": [
    "import imp\n",
    "imp.reload(main)"
   ]
  },
  {
   "cell_type": "code",
   "execution_count": 4,
   "metadata": {
    "collapsed": true
   },
   "outputs": [],
   "source": [
    "def make_seed(n):\n",
    "    lasagne.random.set_rng(np.random)\n",
    "    np.random.seed(n)"
   ]
  },
  {
   "cell_type": "markdown",
   "metadata": {},
   "source": [
    "## SGD"
   ]
  },
  {
   "cell_type": "code",
   "execution_count": 8,
   "metadata": {
    "collapsed": false
   },
   "outputs": [
    {
     "name": "stdout",
     "output_type": "stream",
     "text": [
      "CPU times: user 11.8 s, sys: 12 s, total: 23.9 s\n",
      "Wall time: 25 s\n"
     ]
    }
   ],
   "source": [
    "%%time\n",
    "make_seed(1)\n",
    "sgd1 = main.run_method(lasagne.updates.sgd, HL=3, num_epochs=50, alpha=1e-3)"
   ]
  },
  {
   "cell_type": "code",
   "execution_count": 9,
   "metadata": {
    "collapsed": false
   },
   "outputs": [
    {
     "name": "stdout",
     "output_type": "stream",
     "text": [
      "CPU times: user 11.6 s, sys: 12.3 s, total: 23.9 s\n",
      "Wall time: 25.9 s\n"
     ]
    }
   ],
   "source": [
    "%%time\n",
    "make_seed(1)\n",
    "sgd2 = main.run_method(lasagne.updates.sgd, HL=3, num_epochs=50, alpha=1e-2)"
   ]
  },
  {
   "cell_type": "code",
   "execution_count": 10,
   "metadata": {
    "collapsed": false
   },
   "outputs": [
    {
     "name": "stdout",
     "output_type": "stream",
     "text": [
      "CPU times: user 11.9 s, sys: 12.1 s, total: 24 s\n",
      "Wall time: 27.9 s\n"
     ]
    }
   ],
   "source": [
    "%%time\n",
    "make_seed(1)\n",
    "sgd3 = main.run_method(lasagne.updates.sgd, HL=3, num_epochs=50, alpha=1e-1)"
   ]
  },
  {
   "cell_type": "code",
   "execution_count": 11,
   "metadata": {
    "collapsed": false
   },
   "outputs": [
    {
     "name": "stdout",
     "output_type": "stream",
     "text": [
      "CPU times: user 11.4 s, sys: 12.4 s, total: 23.8 s\n",
      "Wall time: 27.4 s\n"
     ]
    }
   ],
   "source": [
    "%%time\n",
    "make_seed(1)\n",
    "sgd4 = main.run_method(lasagne.updates.sgd, HL=3, num_epochs=50, alpha=1.0)"
   ]
  },
  {
   "cell_type": "code",
   "execution_count": 12,
   "metadata": {
    "collapsed": true
   },
   "outputs": [],
   "source": [
    "# import pickle\n",
    "# with open('sgd', 'wb') as f:\n",
    "#     pickle.dump(sgd1, f)\n",
    "#     pickle.dump(sgd2, f)\n",
    "#     pickle.dump(sgd3, f)\n",
    "#     pickle.dump(sgd4, f)"
   ]
  },
  {
   "cell_type": "code",
   "execution_count": 5,
   "metadata": {
    "collapsed": true
   },
   "outputs": [],
   "source": [
    "import pickle\n",
    "with open('sgd', 'rb') as f:\n",
    "    sgd1 = pickle.load(f)\n",
    "    sgd2 = pickle.load(f)\n",
    "    sgd3 = pickle.load(f)\n",
    "    sgd4 = pickle.load(f)"
   ]
  },
  {
   "cell_type": "code",
   "execution_count": 43,
   "metadata": {
    "collapsed": false
   },
   "outputs": [],
   "source": [
    "plt.figure(figsize=(10, 8))\n",
    "plt.plot(sgd1['train_acc'], 'b--')\n",
    "plt.plot(sgd1['val_acc'], 'b')\n",
    "plt.plot(sgd2['train_acc'], 'g--')\n",
    "plt.plot(sgd2['val_acc'], 'g')\n",
    "plt.plot(sgd3['train_acc'], 'r--')\n",
    "plt.plot(sgd3['val_acc'], 'r')\n",
    "plt.plot(sgd4['train_acc'], 'k--')\n",
    "plt.plot(sgd4['val_acc'], 'k')\n",
    "plt.ylim(ymax=101)\n",
    "plt.legend(['train, 1e-3', 'validation, 1e-3', 'train, 1e-2', 'validation, 1e-2',\n",
    "           'train, 1e-1', 'validation, 1e-1', 'train, 1.0', 'validation, 1.0'], loc=0, fontsize=12)\n",
    "plt.xlim(xmax=49)\n",
    "plt.xlabel('epochs')\n",
    "plt.ylabel('accuracy')\n",
    "# plt.title('SGD, MLP (3HL) MNIST', fontsize=13)\n",
    "# plt.savefig(\"sgd_mlp_rates_mnist.jpg\")\n",
    "plt.show()"
   ]
  },
  {
   "cell_type": "code",
   "execution_count": 13,
   "metadata": {
    "collapsed": false
   },
   "outputs": [
    {
     "name": "stdout",
     "output_type": "stream",
     "text": [
      "CPU times: user 31.7 s, sys: 42 s, total: 1min 13s\n",
      "Wall time: 1min 20s\n"
     ]
    }
   ],
   "source": [
    "%%time\n",
    "make_seed(1)\n",
    "bn_sgd1 = main.run_method(lasagne.updates.sgd, HL=3, num_epochs=50, alpha=1e-3, BN=True)"
   ]
  },
  {
   "cell_type": "code",
   "execution_count": 14,
   "metadata": {
    "collapsed": false
   },
   "outputs": [
    {
     "name": "stdout",
     "output_type": "stream",
     "text": [
      "CPU times: user 31.4 s, sys: 41.1 s, total: 1min 12s\n",
      "Wall time: 1min 16s\n"
     ]
    }
   ],
   "source": [
    "%%time\n",
    "make_seed(1)\n",
    "bn_sgd2 = main.run_method(lasagne.updates.sgd, HL=3, num_epochs=50, alpha=1e-2, BN=True)"
   ]
  },
  {
   "cell_type": "code",
   "execution_count": 15,
   "metadata": {
    "collapsed": false
   },
   "outputs": [
    {
     "name": "stdout",
     "output_type": "stream",
     "text": [
      "CPU times: user 30.1 s, sys: 40.7 s, total: 1min 10s\n",
      "Wall time: 1min 12s\n"
     ]
    }
   ],
   "source": [
    "%%time\n",
    "make_seed(1)\n",
    "bn_sgd3 = main.run_method(lasagne.updates.sgd, HL=3, num_epochs=50, alpha=1e-1, BN=True)"
   ]
  },
  {
   "cell_type": "code",
   "execution_count": 16,
   "metadata": {
    "collapsed": false
   },
   "outputs": [
    {
     "name": "stdout",
     "output_type": "stream",
     "text": [
      "CPU times: user 32.4 s, sys: 41.9 s, total: 1min 14s\n",
      "Wall time: 1min 19s\n"
     ]
    }
   ],
   "source": [
    "%%time\n",
    "make_seed(1)\n",
    "bn_sgd4 = main.run_method(lasagne.updates.sgd, HL=3, num_epochs=50, alpha=1.0, BN=True)"
   ]
  },
  {
   "cell_type": "code",
   "execution_count": 17,
   "metadata": {
    "collapsed": true
   },
   "outputs": [],
   "source": [
    "# import pickle\n",
    "# with open('bn_sgd', 'wb') as f:\n",
    "#     pickle.dump(bn_sgd1, f)\n",
    "#     pickle.dump(bn_sgd2, f)\n",
    "#     pickle.dump(bn_sgd3, f)\n",
    "#     pickle.dump(bn_sgd4, f)"
   ]
  },
  {
   "cell_type": "code",
   "execution_count": 6,
   "metadata": {
    "collapsed": true
   },
   "outputs": [],
   "source": [
    "import pickle\n",
    "with open('bn_sgd', 'rb') as f:\n",
    "    bn_sgd1 = pickle.load(f)\n",
    "    bn_sgd2 = pickle.load(f)\n",
    "    bn_sgd3 = pickle.load(f)\n",
    "    bn_sgd4 = pickle.load(f)"
   ]
  },
  {
   "cell_type": "code",
   "execution_count": 45,
   "metadata": {
    "collapsed": false
   },
   "outputs": [],
   "source": [
    "plt.figure(figsize=(10, 8))\n",
    "plt.plot(bn_sgd1['train_acc'], 'b--')\n",
    "plt.plot(bn_sgd1['val_acc'], 'b')\n",
    "plt.plot(bn_sgd2['train_acc'], 'g--')\n",
    "plt.plot(bn_sgd2['val_acc'], 'g')\n",
    "plt.plot(bn_sgd3['train_acc'], 'r--')\n",
    "plt.plot(bn_sgd3['val_acc'], 'r')\n",
    "plt.plot(bn_sgd4['train_acc'], 'k--')\n",
    "plt.plot(bn_sgd4['val_acc'], 'k')\n",
    "plt.ylim(ymax=101, ymin=90)\n",
    "plt.legend(['train, 1e-3', 'validation, 1e-3', 'train, 1e-2', 'validation, 1e-2',\n",
    "           'train, 1e-1', 'validation, 1e-1', 'train, 1.0', 'validation, 1.0'], loc=0, fontsize=12)\n",
    "plt.xlim(xmax=49)\n",
    "plt.xlabel('epochs')\n",
    "plt.ylabel('accuracy')\n",
    "# plt.title('BN SGD, MLP (3HL) MNIST', fontsize=13)\n",
    "# plt.savefig(\"bn_sgd_mlp_rates_mnist.jpg\")\n",
    "plt.show()"
   ]
  },
  {
   "cell_type": "markdown",
   "metadata": {
    "collapsed": true
   },
   "source": [
    "## ADAM"
   ]
  },
  {
   "cell_type": "code",
   "execution_count": 18,
   "metadata": {
    "collapsed": false
   },
   "outputs": [
    {
     "name": "stdout",
     "output_type": "stream",
     "text": [
      "CPU times: user 15 s, sys: 12.9 s, total: 27.8 s\n",
      "Wall time: 31.3 s\n"
     ]
    }
   ],
   "source": [
    "%%time\n",
    "make_seed(1)\n",
    "adam1 = main.run_method(lasagne.updates.adam, HL=3, num_epochs=50, alpha=1e-4)"
   ]
  },
  {
   "cell_type": "code",
   "execution_count": 19,
   "metadata": {
    "collapsed": false
   },
   "outputs": [
    {
     "name": "stdout",
     "output_type": "stream",
     "text": [
      "CPU times: user 14.9 s, sys: 12.9 s, total: 27.8 s\n",
      "Wall time: 31 s\n"
     ]
    }
   ],
   "source": [
    "%%time\n",
    "make_seed(1)\n",
    "adam2 = main.run_method(lasagne.updates.adam, HL=3, num_epochs=50, alpha=1e-3)"
   ]
  },
  {
   "cell_type": "code",
   "execution_count": 20,
   "metadata": {
    "collapsed": false
   },
   "outputs": [
    {
     "name": "stdout",
     "output_type": "stream",
     "text": [
      "CPU times: user 15.4 s, sys: 12.9 s, total: 28.3 s\n",
      "Wall time: 32 s\n"
     ]
    }
   ],
   "source": [
    "%%time\n",
    "make_seed(1)\n",
    "adam3 = main.run_method(lasagne.updates.adam, HL=3, num_epochs=50, alpha=5e-3)"
   ]
  },
  {
   "cell_type": "code",
   "execution_count": 21,
   "metadata": {
    "collapsed": true
   },
   "outputs": [],
   "source": [
    "# import pickle\n",
    "# with open('adam', 'wb') as f:\n",
    "#     pickle.dump(adam1, f)\n",
    "#     pickle.dump(adam2, f)\n",
    "#     pickle.dump(adam3, f)"
   ]
  },
  {
   "cell_type": "code",
   "execution_count": 7,
   "metadata": {
    "collapsed": true
   },
   "outputs": [],
   "source": [
    "import pickle\n",
    "with open('adam', 'rb') as f:\n",
    "    adam1 = pickle.load(f)\n",
    "    adam2 = pickle.load(f)\n",
    "    adam3 = pickle.load(f)"
   ]
  },
  {
   "cell_type": "code",
   "execution_count": 46,
   "metadata": {
    "collapsed": false
   },
   "outputs": [],
   "source": [
    "plt.figure(figsize=(10, 8))\n",
    "plt.plot(adam1['train_acc'], 'b--')\n",
    "plt.plot(adam1['val_acc'], 'b')\n",
    "plt.plot(adam2['train_acc'], 'g--')\n",
    "plt.plot(adam2['val_acc'], 'g')\n",
    "plt.plot(adam3['train_acc'], 'r--')\n",
    "plt.plot(adam3['val_acc'], 'r')\n",
    "plt.ylim(ymax=101, ymin=90)\n",
    "plt.legend(['train, 1e-4', 'validation, 1e-4', 'train, 1e-3', 'validation, 1e-3',\n",
    "           'train, 5e-3', 'validation, 5e-3'], loc=0, fontsize=12)\n",
    "plt.xlim(xmax=49)\n",
    "plt.xlabel('epochs')\n",
    "plt.ylabel('accuracy')\n",
    "# plt.title('Adam, MLP (3HL) MNIST', fontsize=13)\n",
    "# plt.savefig(\"adam_mlp_rates_mnist.jpg\")\n",
    "plt.show()"
   ]
  },
  {
   "cell_type": "code",
   "execution_count": 22,
   "metadata": {
    "collapsed": false
   },
   "outputs": [
    {
     "name": "stdout",
     "output_type": "stream",
     "text": [
      "CPU times: user 36.3 s, sys: 44.2 s, total: 1min 20s\n",
      "Wall time: 1min 26s\n"
     ]
    }
   ],
   "source": [
    "%%time\n",
    "make_seed(1)\n",
    "bn_adam1 = main.run_method(lasagne.updates.adam, HL=3, num_epochs=50, alpha=1e-4, BN=True)"
   ]
  },
  {
   "cell_type": "code",
   "execution_count": 23,
   "metadata": {
    "collapsed": false
   },
   "outputs": [
    {
     "name": "stdout",
     "output_type": "stream",
     "text": [
      "CPU times: user 36.2 s, sys: 44.2 s, total: 1min 20s\n",
      "Wall time: 1min 26s\n"
     ]
    }
   ],
   "source": [
    "%%time\n",
    "make_seed(1)\n",
    "bn_adam2 = main.run_method(lasagne.updates.adam, HL=3, num_epochs=50, alpha=1e-3, BN=True)"
   ]
  },
  {
   "cell_type": "code",
   "execution_count": 24,
   "metadata": {
    "collapsed": false
   },
   "outputs": [
    {
     "name": "stdout",
     "output_type": "stream",
     "text": [
      "CPU times: user 36.5 s, sys: 44.5 s, total: 1min 20s\n",
      "Wall time: 1min 28s\n"
     ]
    }
   ],
   "source": [
    "%%time\n",
    "make_seed(1)\n",
    "bn_adam3 = main.run_method(lasagne.updates.adam, HL=3, num_epochs=50, alpha=5e-3, BN=True)"
   ]
  },
  {
   "cell_type": "code",
   "execution_count": 25,
   "metadata": {
    "collapsed": false
   },
   "outputs": [
    {
     "name": "stdout",
     "output_type": "stream",
     "text": [
      "CPU times: user 36.4 s, sys: 43.9 s, total: 1min 20s\n",
      "Wall time: 1min 28s\n"
     ]
    }
   ],
   "source": [
    "%%time\n",
    "make_seed(1)\n",
    "bn_adam4 = main.run_method(lasagne.updates.adam, HL=3, num_epochs=50, alpha=1e-2, BN=True)"
   ]
  },
  {
   "cell_type": "code",
   "execution_count": 26,
   "metadata": {
    "collapsed": true
   },
   "outputs": [],
   "source": [
    "# import pickle\n",
    "# with open('bn_adam', 'wb') as f:\n",
    "#     pickle.dump(bn_adam1, f)\n",
    "#     pickle.dump(bn_adam2, f)\n",
    "#     pickle.dump(bn_adam3, f)\n",
    "#     pickle.dump(bn_adam4, f)"
   ]
  },
  {
   "cell_type": "code",
   "execution_count": 133,
   "metadata": {
    "collapsed": true
   },
   "outputs": [],
   "source": [
    "import pickle\n",
    "with open('bn_adam', 'rb') as f:\n",
    "    bn_adam1 = pickle.load(f)\n",
    "    bn_adam2 = pickle.load(f)\n",
    "    bn_adam3 = pickle.load(f)\n",
    "    bn_adam4 = pickle.load(f)"
   ]
  },
  {
   "cell_type": "code",
   "execution_count": 134,
   "metadata": {
    "collapsed": false
   },
   "outputs": [],
   "source": [
    "plt.figure(figsize=(10, 8))\n",
    "plt.plot(bn_adam1['train_acc'], 'b--')\n",
    "plt.plot(bn_adam1['val_acc'], 'b')\n",
    "plt.plot(bn_adam2['train_acc'], 'g--')\n",
    "plt.plot(bn_adam2['val_acc'], 'g')\n",
    "plt.plot(bn_adam3['train_acc'], 'r--')\n",
    "plt.plot(bn_adam3['val_acc'], 'r')\n",
    "plt.plot(bn_adam4['train_acc'], 'k--')\n",
    "plt.plot(bn_adam4['val_acc'], 'k')\n",
    "plt.legend(['train, 1e-4', 'validation, 1e-4', 'train, 1e-3', 'validation, 1e-3', \n",
    "            'train, 5e-3', 'validation, 5e-3', 'train, 1e-2', 'validation, 1e-2'], loc=0, fontsize=12)\n",
    "plt.ylim(ymax=101, ymin=90)\n",
    "plt.xlim(xmax=49)\n",
    "plt.xlabel('epochs')\n",
    "plt.ylabel('accuracy')\n",
    "# plt.title('BN Adam, MLP (3HL) MNIST', fontsize=13)\n",
    "# plt.savefig(\"bn_adam_mlp_rates_mnist.jpg\")\n",
    "plt.show()\n"
   ]
  },
  {
   "cell_type": "markdown",
   "metadata": {
    "collapsed": true
   },
   "source": [
    "## MOMENTUM"
   ]
  },
  {
   "cell_type": "code",
   "execution_count": 27,
   "metadata": {
    "collapsed": false
   },
   "outputs": [
    {
     "name": "stdout",
     "output_type": "stream",
     "text": [
      "CPU times: user 13.7 s, sys: 12.1 s, total: 25.8 s\n",
      "Wall time: 29.2 s\n"
     ]
    }
   ],
   "source": [
    "%%time\n",
    "make_seed(1)\n",
    "momentum1 = main.run_method(lasagne.updates.momentum, HL=3, num_epochs=50, alpha=1e-3)"
   ]
  },
  {
   "cell_type": "code",
   "execution_count": 28,
   "metadata": {
    "collapsed": false
   },
   "outputs": [
    {
     "name": "stdout",
     "output_type": "stream",
     "text": [
      "CPU times: user 13.4 s, sys: 11.9 s, total: 25.3 s\n",
      "Wall time: 27.7 s\n"
     ]
    }
   ],
   "source": [
    "%%time\n",
    "make_seed(1)\n",
    "momentum2 = main.run_method(lasagne.updates.momentum, HL=3, num_epochs=50, alpha=1e-2)"
   ]
  },
  {
   "cell_type": "code",
   "execution_count": 29,
   "metadata": {
    "collapsed": false
   },
   "outputs": [
    {
     "name": "stdout",
     "output_type": "stream",
     "text": [
      "CPU times: user 13.7 s, sys: 11.8 s, total: 25.5 s\n",
      "Wall time: 28.2 s\n"
     ]
    }
   ],
   "source": [
    "%%time\n",
    "make_seed(1)\n",
    "momentum3 = main.run_method(lasagne.updates.momentum, HL=3, num_epochs=50, alpha=1e-1)"
   ]
  },
  {
   "cell_type": "code",
   "execution_count": 30,
   "metadata": {
    "collapsed": false
   },
   "outputs": [
    {
     "name": "stdout",
     "output_type": "stream",
     "text": [
      "CPU times: user 13.1 s, sys: 12.2 s, total: 25.3 s\n",
      "Wall time: 27.6 s\n"
     ]
    }
   ],
   "source": [
    "%%time\n",
    "make_seed(1)\n",
    "momentum4 = main.run_method(lasagne.updates.momentum, HL=3, num_epochs=50, alpha=0.5)"
   ]
  },
  {
   "cell_type": "code",
   "execution_count": 31,
   "metadata": {
    "collapsed": true
   },
   "outputs": [],
   "source": [
    "# import pickle\n",
    "# with open('momentum', 'wb') as f:\n",
    "#     pickle.dump(momentum1, f)\n",
    "#     pickle.dump(momentum2, f)\n",
    "#     pickle.dump(momentum3, f)\n",
    "#     pickle.dump(momentum4, f)"
   ]
  },
  {
   "cell_type": "code",
   "execution_count": 9,
   "metadata": {
    "collapsed": true
   },
   "outputs": [],
   "source": [
    "import pickle\n",
    "with open('momentum', 'rb') as f:\n",
    "    momentum1 = pickle.load(f)\n",
    "    momentum2 = pickle.load(f)\n",
    "    momentum3 = pickle.load(f)\n",
    "    momentum4 = pickle.load(f)"
   ]
  },
  {
   "cell_type": "code",
   "execution_count": 48,
   "metadata": {
    "collapsed": false
   },
   "outputs": [],
   "source": [
    "plt.figure(figsize=(10, 8))\n",
    "plt.plot(momentum1['train_acc'], 'b--')\n",
    "plt.plot(momentum1['val_acc'], 'b')\n",
    "plt.plot(momentum2['train_acc'], 'g--')\n",
    "plt.plot(momentum2['val_acc'], 'g')\n",
    "plt.plot(momentum3['train_acc'], 'r--')\n",
    "plt.plot(momentum3['val_acc'], 'r')\n",
    "plt.plot(momentum4['train_acc'], 'k--')\n",
    "plt.plot(momentum4['val_acc'], 'k')\n",
    "plt.legend(['train, 1e-3', 'validation, 1e-3', 'train, 1e-2', 'validation, 1e-2', \n",
    "            'train, 1e-1', 'validation, 1e-1', 'train, 0.5', 'validation, 0.5'], loc=0, fontsize=12)\n",
    "plt.ylim(ymax=101, ymin=90)\n",
    "plt.xlim(xmax=49)\n",
    "plt.xlabel('epochs')\n",
    "plt.ylabel('accuracy')\n",
    "# plt.title('SGDm, MLP (3HL) MNIST', fontsize=13)\n",
    "# plt.savefig(\"momentum_mlp_rates_mnist.jpg\")\n",
    "plt.show()\n"
   ]
  },
  {
   "cell_type": "code",
   "execution_count": 32,
   "metadata": {
    "collapsed": false
   },
   "outputs": [
    {
     "name": "stdout",
     "output_type": "stream",
     "text": [
      "CPU times: user 34.7 s, sys: 42.5 s, total: 1min 17s\n",
      "Wall time: 1min 24s\n"
     ]
    }
   ],
   "source": [
    "%%time\n",
    "make_seed(1)\n",
    "bn_momentum1 = main.run_method(lasagne.updates.momentum, HL=3, num_epochs=50, alpha=1e-3, BN=True)"
   ]
  },
  {
   "cell_type": "code",
   "execution_count": 33,
   "metadata": {
    "collapsed": false
   },
   "outputs": [
    {
     "name": "stdout",
     "output_type": "stream",
     "text": [
      "CPU times: user 34.1 s, sys: 42.9 s, total: 1min 17s\n",
      "Wall time: 1min 24s\n"
     ]
    }
   ],
   "source": [
    "%%time\n",
    "make_seed(1)\n",
    "bn_momentum2 = main.run_method(lasagne.updates.momentum, HL=3, num_epochs=50, alpha=1e-2, BN=True)"
   ]
  },
  {
   "cell_type": "code",
   "execution_count": 34,
   "metadata": {
    "collapsed": false
   },
   "outputs": [
    {
     "name": "stdout",
     "output_type": "stream",
     "text": [
      "CPU times: user 35.2 s, sys: 42.7 s, total: 1min 17s\n",
      "Wall time: 1min 24s\n"
     ]
    }
   ],
   "source": [
    "%%time\n",
    "make_seed(1)\n",
    "bn_momentum3 = main.run_method(lasagne.updates.momentum, HL=3, num_epochs=50, alpha=1e-1, BN=True)"
   ]
  },
  {
   "cell_type": "code",
   "execution_count": 35,
   "metadata": {
    "collapsed": false
   },
   "outputs": [
    {
     "name": "stdout",
     "output_type": "stream",
     "text": [
      "CPU times: user 33.1 s, sys: 42 s, total: 1min 15s\n",
      "Wall time: 1min 21s\n"
     ]
    }
   ],
   "source": [
    "%%time\n",
    "make_seed(1)\n",
    "bn_momentum4 = main.run_method(lasagne.updates.momentum, HL=3, num_epochs=50, alpha=1.0, BN=True)"
   ]
  },
  {
   "cell_type": "code",
   "execution_count": 36,
   "metadata": {
    "collapsed": true
   },
   "outputs": [],
   "source": [
    "# import pickle\n",
    "# with open('bn_momentum', 'wb') as f:\n",
    "#     pickle.dump(bn_momentum1, f)\n",
    "#     pickle.dump(bn_momentum2, f)\n",
    "#     pickle.dump(bn_momentum3, f)\n",
    "#     pickle.dump(bn_momentum4, f)"
   ]
  },
  {
   "cell_type": "code",
   "execution_count": 10,
   "metadata": {
    "collapsed": true
   },
   "outputs": [],
   "source": [
    "import pickle\n",
    "with open('bn_momentum', 'rb') as f:\n",
    "    bn_momentum1 = pickle.load(f)\n",
    "    bn_momentum2 = pickle.load(f)\n",
    "    bn_momentum3 = pickle.load(f)\n",
    "    bn_momentum4 = pickle.load(f)"
   ]
  },
  {
   "cell_type": "code",
   "execution_count": 49,
   "metadata": {
    "collapsed": false
   },
   "outputs": [],
   "source": [
    "plt.figure(figsize=(10, 8))\n",
    "plt.plot(bn_momentum1['train_acc'], 'b--')\n",
    "plt.plot(bn_momentum1['val_acc'], 'b')\n",
    "plt.plot(bn_momentum2['train_acc'], 'g--')\n",
    "plt.plot(bn_momentum2['val_acc'], 'g')\n",
    "plt.plot(bn_momentum3['train_acc'], 'r--')\n",
    "plt.plot(bn_momentum3['val_acc'], 'r')\n",
    "plt.plot(bn_momentum4['train_acc'], 'k--')\n",
    "plt.plot(bn_momentum4['val_acc'], 'k')\n",
    "plt.legend(['train, 1e-3', 'validation, 1e-3', 'train, 1e-2', 'validation, 1e-2', \n",
    "            'train, 1e-1', 'validation, 1e-1', 'train, 1.0', 'validation, 1.0'], loc=0, fontsize=12)\n",
    "plt.ylim(ymax=101, ymin=90)\n",
    "plt.xlim(xmax=49)\n",
    "plt.xlabel('epochs')\n",
    "plt.ylabel('accuracy')\n",
    "# plt.title('BN SGDm, MLP (3HL) MNIST', fontsize=13)\n",
    "# plt.savefig(\"bn_momentum_mlp_rates_mnist.jpg\")\n",
    "plt.show()\n"
   ]
  },
  {
   "cell_type": "markdown",
   "metadata": {
    "collapsed": true
   },
   "source": [
    "## ADAGRAD"
   ]
  },
  {
   "cell_type": "code",
   "execution_count": 37,
   "metadata": {
    "collapsed": false
   },
   "outputs": [
    {
     "name": "stdout",
     "output_type": "stream",
     "text": [
      "CPU times: user 15.1 s, sys: 13.3 s, total: 28.4 s\n",
      "Wall time: 33 s\n"
     ]
    }
   ],
   "source": [
    "%%time\n",
    "make_seed(1)\n",
    "adagrad1 = main.run_method(lasagne.updates.adagrad, HL=3, num_epochs=50, alpha=1e-3)"
   ]
  },
  {
   "cell_type": "code",
   "execution_count": 38,
   "metadata": {
    "collapsed": false
   },
   "outputs": [
    {
     "name": "stdout",
     "output_type": "stream",
     "text": [
      "CPU times: user 15.4 s, sys: 12.7 s, total: 28.1 s\n",
      "Wall time: 32.6 s\n"
     ]
    }
   ],
   "source": [
    "%%time\n",
    "make_seed(1)\n",
    "adagrad2 = main.run_method(lasagne.updates.adagrad, HL=3, num_epochs=50, alpha=1e-2)"
   ]
  },
  {
   "cell_type": "code",
   "execution_count": 39,
   "metadata": {
    "collapsed": false
   },
   "outputs": [
    {
     "name": "stdout",
     "output_type": "stream",
     "text": [
      "CPU times: user 14.8 s, sys: 12.7 s, total: 27.5 s\n",
      "Wall time: 32 s\n"
     ]
    }
   ],
   "source": [
    "%%time\n",
    "make_seed(1)\n",
    "adagrad3 = main.run_method(lasagne.updates.adagrad, HL=3, num_epochs=50, alpha=1e-1)"
   ]
  },
  {
   "cell_type": "code",
   "execution_count": 40,
   "metadata": {
    "collapsed": true
   },
   "outputs": [],
   "source": [
    "# import pickle\n",
    "# with open('adagrad', 'wb') as f:\n",
    "#     pickle.dump(adagrad1, f)\n",
    "#     pickle.dump(adagrad2, f)\n",
    "#     pickle.dump(adagrad3, f)"
   ]
  },
  {
   "cell_type": "code",
   "execution_count": 11,
   "metadata": {
    "collapsed": true
   },
   "outputs": [],
   "source": [
    "import pickle\n",
    "with open('adagrad', 'rb') as f:\n",
    "    adagrad1 = pickle.load(f)\n",
    "    adagrad2 = pickle.load(f)\n",
    "    adagrad3 = pickle.load(f)"
   ]
  },
  {
   "cell_type": "code",
   "execution_count": 50,
   "metadata": {
    "collapsed": false
   },
   "outputs": [],
   "source": [
    "plt.figure(figsize=(10, 8))\n",
    "plt.plot(adagrad1['train_acc'], 'b--')\n",
    "plt.plot(adagrad1['val_acc'], 'b')\n",
    "plt.plot(adagrad2['train_acc'], 'g--')\n",
    "plt.plot(adagrad2['val_acc'], 'g')\n",
    "plt.plot(adagrad3['train_acc'], 'r--')\n",
    "plt.plot(adagrad3['val_acc'], 'r')\n",
    "plt.legend(['train, 1e-3', 'validation, 1e-3', 'train, 1e-2', 'validation, 1e-2', \n",
    "            'train, 1e-1', 'validation, 1e-1'], loc=0, fontsize=12)\n",
    "plt.ylim(ymax=101, ymin=90)\n",
    "plt.xlim(xmax=49)\n",
    "plt.xlabel('epochs')\n",
    "plt.ylabel('accuracy')\n",
    "# plt.title('Adagrad, MLP (3HL) MNIST', fontsize=13)\n",
    "# plt.savefig(\"adagrad_mlp_rates_mnist.jpg\")\n",
    "plt.show()\n"
   ]
  },
  {
   "cell_type": "code",
   "execution_count": 41,
   "metadata": {
    "collapsed": false
   },
   "outputs": [
    {
     "name": "stdout",
     "output_type": "stream",
     "text": [
      "CPU times: user 37.3 s, sys: 43.4 s, total: 1min 20s\n",
      "Wall time: 1min 29s\n"
     ]
    }
   ],
   "source": [
    "%%time\n",
    "make_seed(1)\n",
    "bn_adagrad1 = main.run_method(lasagne.updates.adagrad, HL=3, num_epochs=50, alpha=1e-3, BN=True)"
   ]
  },
  {
   "cell_type": "code",
   "execution_count": 42,
   "metadata": {
    "collapsed": false
   },
   "outputs": [
    {
     "name": "stdout",
     "output_type": "stream",
     "text": [
      "CPU times: user 35.8 s, sys: 45.5 s, total: 1min 21s\n",
      "Wall time: 1min 28s\n"
     ]
    }
   ],
   "source": [
    "%%time\n",
    "make_seed(1)\n",
    "bn_adagrad2 = main.run_method(lasagne.updates.adagrad, HL=3, num_epochs=50, alpha=1e-2, BN=True)"
   ]
  },
  {
   "cell_type": "code",
   "execution_count": 43,
   "metadata": {
    "collapsed": false
   },
   "outputs": [
    {
     "name": "stdout",
     "output_type": "stream",
     "text": [
      "CPU times: user 36.8 s, sys: 43.4 s, total: 1min 20s\n",
      "Wall time: 1min 26s\n"
     ]
    }
   ],
   "source": [
    "%%time\n",
    "make_seed(1)\n",
    "bn_adagrad3 = main.run_method(lasagne.updates.adagrad, HL=3, num_epochs=50, alpha=1e-1, BN=True)"
   ]
  },
  {
   "cell_type": "code",
   "execution_count": 44,
   "metadata": {
    "collapsed": false
   },
   "outputs": [
    {
     "name": "stdout",
     "output_type": "stream",
     "text": [
      "CPU times: user 36.8 s, sys: 44 s, total: 1min 20s\n",
      "Wall time: 1min 29s\n"
     ]
    }
   ],
   "source": [
    "%%time\n",
    "make_seed(1)\n",
    "bn_adagrad4 = main.run_method(lasagne.updates.adagrad, HL=3, num_epochs=50, alpha=1.0, BN=True)"
   ]
  },
  {
   "cell_type": "code",
   "execution_count": 45,
   "metadata": {
    "collapsed": true
   },
   "outputs": [],
   "source": [
    "# import pickle\n",
    "# with open('bn_adagrad', 'wb') as f:\n",
    "#     pickle.dump(bn_adagrad1, f)\n",
    "#     pickle.dump(bn_adagrad2, f)\n",
    "#     pickle.dump(bn_adagrad3, f)\n",
    "#     pickle.dump(bn_adagrad4, f)"
   ]
  },
  {
   "cell_type": "code",
   "execution_count": 12,
   "metadata": {
    "collapsed": true
   },
   "outputs": [],
   "source": [
    "import pickle\n",
    "with open('bn_adagrad', 'rb') as f:\n",
    "    bn_adagrad1 = pickle.load(f)\n",
    "    bn_adagrad2 = pickle.load(f)\n",
    "    bn_adagrad3 = pickle.load(f)\n",
    "    bn_adagrad4 = pickle.load(f)"
   ]
  },
  {
   "cell_type": "code",
   "execution_count": 51,
   "metadata": {
    "collapsed": false
   },
   "outputs": [],
   "source": [
    "plt.figure(figsize=(10, 8))\n",
    "plt.plot(bn_adagrad1['train_acc'], 'b--')\n",
    "plt.plot(bn_adagrad1['val_acc'], 'b')\n",
    "plt.plot(bn_adagrad2['train_acc'], 'g--')\n",
    "plt.plot(bn_adagrad2['val_acc'], 'g')\n",
    "plt.plot(bn_adagrad3['train_acc'], 'r--')\n",
    "plt.plot(bn_adagrad3['val_acc'], 'r')\n",
    "plt.plot(bn_adagrad4['train_acc'], 'k--')\n",
    "plt.plot(bn_adagrad4['val_acc'], 'k')\n",
    "plt.legend(['train, 1e-3', 'validation, 1e-3', 'train, 1e-2', 'validation, 1e-2', \n",
    "            'train, 1e-1', 'validation, 1e-1', 'train, 1.0', 'validation, 1.0'], loc=0, fontsize=12)\n",
    "plt.ylim(ymax=101, ymin=90)\n",
    "plt.xlim(xmax=49)\n",
    "plt.xlabel('epochs')\n",
    "plt.ylabel('accuracy')\n",
    "# plt.title('BN Adagrad, MLP (3HL) MNIST', fontsize=13)\n",
    "# plt.savefig(\"bn_adagrad_mlp_rates_mnist.jpg\")\n",
    "plt.show()\n"
   ]
  },
  {
   "cell_type": "markdown",
   "metadata": {},
   "source": [
    "## ADADELTA"
   ]
  },
  {
   "cell_type": "code",
   "execution_count": 46,
   "metadata": {
    "collapsed": false
   },
   "outputs": [
    {
     "name": "stdout",
     "output_type": "stream",
     "text": [
      "CPU times: user 15.7 s, sys: 13.5 s, total: 29.3 s\n",
      "Wall time: 34.2 s\n"
     ]
    }
   ],
   "source": [
    "%%time\n",
    "make_seed(1)\n",
    "adadelta1 = main.run_method(lasagne.updates.adadelta, HL=3, num_epochs=50, alpha=1e-1)"
   ]
  },
  {
   "cell_type": "code",
   "execution_count": 47,
   "metadata": {
    "collapsed": false
   },
   "outputs": [
    {
     "name": "stdout",
     "output_type": "stream",
     "text": [
      "CPU times: user 14.9 s, sys: 12.5 s, total: 27.4 s\n",
      "Wall time: 31.6 s\n"
     ]
    }
   ],
   "source": [
    "%%time\n",
    "make_seed(1)\n",
    "adadelta2 = main.run_method(lasagne.updates.adadelta, HL=3, num_epochs=50, alpha=1.0)"
   ]
  },
  {
   "cell_type": "code",
   "execution_count": 48,
   "metadata": {
    "collapsed": false
   },
   "outputs": [
    {
     "name": "stdout",
     "output_type": "stream",
     "text": [
      "CPU times: user 15.5 s, sys: 12.1 s, total: 27.6 s\n",
      "Wall time: 31 s\n"
     ]
    }
   ],
   "source": [
    "%%time\n",
    "make_seed(1)\n",
    "adadelta3 = main.run_method(lasagne.updates.adadelta, HL=3, num_epochs=50, alpha=5.0)"
   ]
  },
  {
   "cell_type": "code",
   "execution_count": 49,
   "metadata": {
    "collapsed": true
   },
   "outputs": [],
   "source": [
    "# import pickle\n",
    "# with open('adadelta', 'wb') as f:\n",
    "#     pickle.dump(adadelta1, f)\n",
    "#     pickle.dump(adadelta2, f)\n",
    "#     pickle.dump(adadelta3, f)"
   ]
  },
  {
   "cell_type": "code",
   "execution_count": 13,
   "metadata": {
    "collapsed": true
   },
   "outputs": [],
   "source": [
    "import pickle\n",
    "with open('adadelta', 'rb') as f:\n",
    "    adadelta1 = pickle.load(f)\n",
    "    adadelta2 = pickle.load(f)\n",
    "    adadelta3 = pickle.load(f)"
   ]
  },
  {
   "cell_type": "code",
   "execution_count": 52,
   "metadata": {
    "collapsed": false
   },
   "outputs": [],
   "source": [
    "plt.figure(figsize=(10, 8))\n",
    "plt.plot(adadelta1['train_acc'], 'b--')\n",
    "plt.plot(adadelta1['val_acc'], 'b')\n",
    "plt.plot(adadelta2['train_acc'], 'g--')\n",
    "plt.plot(adadelta2['val_acc'], 'g')\n",
    "plt.plot(adadelta3['train_acc'], 'r--')\n",
    "plt.plot(adadelta3['val_acc'], 'r')\n",
    "plt.legend(['train, 1e-1', 'validation, 1e-1', 'train, 1.0', 'validation, 1.0', \n",
    "            'train, 5.0', 'validation, 5.0'], loc=0, fontsize=12)\n",
    "plt.ylim(ymax=101, ymin=90)\n",
    "plt.xlim(xmax=49)\n",
    "plt.xlabel('epochs')\n",
    "plt.ylabel('accuracy')\n",
    "# plt.title('Adadelta, MLP (3HL) MNIST', fontsize=13)\n",
    "# plt.savefig(\"adadelta_mlp_rates_mnist.jpg\")\n",
    "plt.show()\n"
   ]
  },
  {
   "cell_type": "code",
   "execution_count": 50,
   "metadata": {
    "collapsed": false
   },
   "outputs": [
    {
     "name": "stdout",
     "output_type": "stream",
     "text": [
      "CPU times: user 38.2 s, sys: 42.3 s, total: 1min 20s\n",
      "Wall time: 1min 25s\n"
     ]
    }
   ],
   "source": [
    "%%time\n",
    "make_seed(1)\n",
    "bn_adadelta1 = main.run_method(lasagne.updates.adadelta, HL=3, num_epochs=50, alpha=1e-1, BN=True)"
   ]
  },
  {
   "cell_type": "code",
   "execution_count": 51,
   "metadata": {
    "collapsed": false
   },
   "outputs": [
    {
     "name": "stdout",
     "output_type": "stream",
     "text": [
      "CPU times: user 39.4 s, sys: 43.4 s, total: 1min 22s\n",
      "Wall time: 1min 30s\n"
     ]
    }
   ],
   "source": [
    "%%time\n",
    "make_seed(1)\n",
    "bn_adadelta2 = main.run_method(lasagne.updates.adadelta, HL=3, num_epochs=50, alpha=1.0, BN=True)"
   ]
  },
  {
   "cell_type": "code",
   "execution_count": 52,
   "metadata": {
    "collapsed": false
   },
   "outputs": [
    {
     "name": "stdout",
     "output_type": "stream",
     "text": [
      "CPU times: user 39.5 s, sys: 51.4 s, total: 1min 30s\n",
      "Wall time: 1min 39s\n"
     ]
    }
   ],
   "source": [
    "%%time\n",
    "make_seed(1)\n",
    "bn_adadelta3 = main.run_method(lasagne.updates.adadelta, HL=3, num_epochs=50, alpha=5.0, BN=True)"
   ]
  },
  {
   "cell_type": "code",
   "execution_count": 53,
   "metadata": {
    "collapsed": true
   },
   "outputs": [],
   "source": [
    "# import pickle\n",
    "# with open('bn_adadelta', 'wb') as f:\n",
    "#     pickle.dump(bn_adadelta1, f)\n",
    "#     pickle.dump(bn_adadelta2, f)\n",
    "#     pickle.dump(bn_adadelta3, f)"
   ]
  },
  {
   "cell_type": "code",
   "execution_count": 14,
   "metadata": {
    "collapsed": true
   },
   "outputs": [],
   "source": [
    "import pickle\n",
    "with open('bn_adadelta', 'rb') as f:\n",
    "    bn_adadelta1 = pickle.load(f)\n",
    "    bn_adadelta2 = pickle.load(f)\n",
    "    bn_adadelta3 = pickle.load(f)"
   ]
  },
  {
   "cell_type": "code",
   "execution_count": 53,
   "metadata": {
    "collapsed": false
   },
   "outputs": [],
   "source": [
    "plt.figure(figsize=(10, 8))\n",
    "plt.plot(bn_adadelta1['train_acc'], 'b--')\n",
    "plt.plot(bn_adadelta1['val_acc'], 'b')\n",
    "plt.plot(bn_adadelta2['train_acc'], 'g--')\n",
    "plt.plot(bn_adadelta2['val_acc'], 'g')\n",
    "plt.plot(bn_adadelta3['train_acc'], 'r--')\n",
    "plt.plot(bn_adadelta3['val_acc'], 'r')\n",
    "plt.legend(['train, 1e-1', 'validation, 1e-1', 'train, 1.0', 'validation, 1.0', \n",
    "            'train, 5.0', 'validation, 5.0'], loc=0, fontsize=12)\n",
    "plt.ylim(ymax=101, ymin=90)\n",
    "plt.xlim(xmax=49)\n",
    "plt.xlabel('epochs')\n",
    "plt.ylabel('accuracy')\n",
    "# plt.title('BN Adadelta, MLP (3HL) MNIST', fontsize=13)\n",
    "# plt.savefig(\"bn_adadelta_mlp_rates_mnist.jpg\")\n",
    "plt.show()\n"
   ]
  },
  {
   "cell_type": "markdown",
   "metadata": {},
   "source": [
    "## RMSPROP"
   ]
  },
  {
   "cell_type": "code",
   "execution_count": 165,
   "metadata": {
    "collapsed": false
   },
   "outputs": [
    {
     "name": "stdout",
     "output_type": "stream",
     "text": [
      "CPU times: user 11.3 s, sys: 9.65 s, total: 21 s\n",
      "Wall time: 21 s\n"
     ]
    }
   ],
   "source": [
    "%%time\n",
    "make_seed(10)\n",
    "rmsprop1 = main.run_method(lasagne.updates.rmsprop, HL=3, num_epochs=50, alpha=1e-3)"
   ]
  },
  {
   "cell_type": "code",
   "execution_count": 55,
   "metadata": {
    "collapsed": false
   },
   "outputs": [
    {
     "name": "stdout",
     "output_type": "stream",
     "text": [
      "CPU times: user 14.8 s, sys: 15.5 s, total: 30.3 s\n",
      "Wall time: 32.5 s\n"
     ]
    }
   ],
   "source": [
    "%%time\n",
    "make_seed(1)\n",
    "rmsprop2 = main.run_method(lasagne.updates.rmsprop, HL=3, num_epochs=50, alpha=1e-2)"
   ]
  },
  {
   "cell_type": "code",
   "execution_count": 56,
   "metadata": {
    "collapsed": false
   },
   "outputs": [
    {
     "name": "stdout",
     "output_type": "stream",
     "text": [
      "CPU times: user 14 s, sys: 15.3 s, total: 29.2 s\n",
      "Wall time: 30.5 s\n"
     ]
    }
   ],
   "source": [
    "%%time\n",
    "make_seed(1)\n",
    "rmsprop3 = main.run_method(lasagne.updates.rmsprop, HL=3, num_epochs=50, alpha=5e-2)"
   ]
  },
  {
   "cell_type": "code",
   "execution_count": 57,
   "metadata": {
    "collapsed": true
   },
   "outputs": [],
   "source": [
    "# import pickle\n",
    "# with open('rmsprop', 'wb') as f:\n",
    "#     pickle.dump(rmsprop1, f)\n",
    "#     pickle.dump(rmsprop2, f)\n",
    "#     pickle.dump(rmsprop3, f)"
   ]
  },
  {
   "cell_type": "code",
   "execution_count": 15,
   "metadata": {
    "collapsed": true
   },
   "outputs": [],
   "source": [
    "import pickle\n",
    "with open('rmsprop', 'rb') as f:\n",
    "    rmsprop1 = pickle.load(f)\n",
    "    rmsprop2 = pickle.load(f)\n",
    "    rmsprop3 = pickle.load(f)"
   ]
  },
  {
   "cell_type": "code",
   "execution_count": 54,
   "metadata": {
    "collapsed": false
   },
   "outputs": [],
   "source": [
    "plt.figure(figsize=(10, 8))\n",
    "plt.plot(rmsprop1['train_acc'], 'b--')\n",
    "plt.plot(rmsprop1['val_acc'], 'b')\n",
    "plt.plot(rmsprop2['train_acc'], 'g--')\n",
    "plt.plot(rmsprop2['val_acc'], 'g')\n",
    "plt.plot(rmsprop3['train_acc'], 'r--')\n",
    "plt.plot(rmsprop3['val_acc'], 'r')\n",
    "plt.legend(['train, 1e-3', 'validation, 1e-3', 'train, 1e-2', 'validation, 1e-2', \n",
    "            'train, 5e-2', 'validation, 5e-2'], loc=0, fontsize=12)\n",
    "plt.ylim(ymax=101, ymin=90)\n",
    "plt.xlim(xmax=49)\n",
    "plt.xlabel('epochs')\n",
    "plt.ylabel('accuracy')\n",
    "# plt.title('RMSprop, MLP (3HL) MNIST', fontsize=13)\n",
    "# plt.savefig(\"rmsprop_mlp_rates_mnist.jpg\")\n",
    "plt.show()\n"
   ]
  },
  {
   "cell_type": "code",
   "execution_count": 202,
   "metadata": {
    "collapsed": false
   },
   "outputs": [
    {
     "name": "stdout",
     "output_type": "stream",
     "text": [
      "CPU times: user 29.1 s, sys: 34.9 s, total: 1min 3s\n",
      "Wall time: 1min 3s\n"
     ]
    }
   ],
   "source": [
    "%%time\n",
    "make_seed(1)\n",
    "bn_rmsprop1 = main.run_method(lasagne.updates.rmsprop, HL=3, num_epochs=50, alpha=1e-3, BN=True)"
   ]
  },
  {
   "cell_type": "code",
   "execution_count": null,
   "metadata": {
    "collapsed": false
   },
   "outputs": [],
   "source": [
    "%%time\n",
    "make_seed(10)\n",
    "bn_rmsprop2 = main.run_method(lasagne.updates.rmsprop, HL=3, num_epochs=50, alpha=1e-2, BN=True)"
   ]
  },
  {
   "cell_type": "code",
   "execution_count": 60,
   "metadata": {
    "collapsed": false
   },
   "outputs": [
    {
     "name": "stdout",
     "output_type": "stream",
     "text": [
      "CPU times: user 36.3 s, sys: 46.5 s, total: 1min 22s\n",
      "Wall time: 1min 26s\n"
     ]
    }
   ],
   "source": [
    "%%time\n",
    "make_seed(1)\n",
    "bn_rmsprop3 = main.run_method(lasagne.updates.rmsprop, HL=3, num_epochs=50, alpha=1e-1, BN=True)"
   ]
  },
  {
   "cell_type": "code",
   "execution_count": 61,
   "metadata": {
    "collapsed": true
   },
   "outputs": [],
   "source": [
    "# import pickle\n",
    "# with open('bn_rmsprop', 'wb') as f:\n",
    "#     pickle.dump(bn_rmsprop1, f)\n",
    "#     pickle.dump(bn_rmsprop2, f)\n",
    "#     pickle.dump(bn_rmsprop3, f)"
   ]
  },
  {
   "cell_type": "code",
   "execution_count": 16,
   "metadata": {
    "collapsed": true
   },
   "outputs": [],
   "source": [
    "import pickle\n",
    "with open('bn_rmsprop', 'rb') as f:\n",
    "    bn_rmsprop1 = pickle.load(f)\n",
    "    bn_rmsprop2 = pickle.load(f)\n",
    "    bn_rmsprop3 = pickle.load(f)"
   ]
  },
  {
   "cell_type": "code",
   "execution_count": 55,
   "metadata": {
    "collapsed": false
   },
   "outputs": [],
   "source": [
    "plt.figure(figsize=(10, 8))\n",
    "plt.plot(bn_rmsprop1['train_acc'], 'b--')\n",
    "plt.plot(bn_rmsprop1['val_acc'], 'b')\n",
    "plt.plot(bn_rmsprop2['train_acc'], 'g--')\n",
    "plt.plot(bn_rmsprop2['val_acc'], 'g')\n",
    "plt.plot(bn_rmsprop3['train_acc'], 'r--')\n",
    "plt.plot(bn_rmsprop3['val_acc'], 'r')\n",
    "plt.legend(['train, 1e-3', 'validation, 1e-3', 'train, 1e-2', 'validation, 1e-2', \n",
    "            'train, 1e-1', 'validation, 1e-1'], loc=0, fontsize=12)\n",
    "plt.ylim(ymax=101, ymin=90)\n",
    "plt.xlim(xmax=49)\n",
    "plt.xlabel('epochs')\n",
    "plt.ylabel('accuracy')\n",
    "# plt.title('BN RMSprop, MLP (3HL) MNIST', fontsize=13)\n",
    "# plt.savefig(\"bn_rmsprop_mlp_rates_mnist.jpg\")\n",
    "plt.show()\n"
   ]
  },
  {
   "cell_type": "markdown",
   "metadata": {
    "collapsed": true
   },
   "source": [
    "## Совместные графики"
   ]
  },
  {
   "cell_type": "code",
   "execution_count": 62,
   "metadata": {
    "collapsed": false
   },
   "outputs": [],
   "source": [
    "plt.figure(figsize=(10, 8))\n",
    "plt.plot(sgd2['train_acc'], 'b--')\n",
    "plt.plot(sgd2['val_acc'], 'b')\n",
    "plt.plot(bn_sgd4['train_acc'], 'r--')\n",
    "plt.plot(bn_sgd4['val_acc'], 'r')\n",
    "plt.ylim(ymax=101)\n",
    "plt.legend(['SGD train, 1e-1', 'SGD validation, 1e-1', 'BN SGD train, 1.0', 'BN SGD validation, 1.0'], \n",
    "           loc=0, fontsize=12)\n",
    "plt.xlim(xmax=49)\n",
    "plt.xlabel('epochs')\n",
    "plt.ylabel('accuracy')\n",
    "plt.title('temp, MLP (2CL + 1HL) MNIST', fontsize=13)\n",
    "# plt.savefig(\"temp.jpg\")\n",
    "plt.show()"
   ]
  },
  {
   "cell_type": "code",
   "execution_count": null,
   "metadata": {
    "collapsed": true
   },
   "outputs": [],
   "source": []
  },
  {
   "cell_type": "code",
   "execution_count": null,
   "metadata": {
    "collapsed": true
   },
   "outputs": [],
   "source": []
  },
  {
   "cell_type": "code",
   "execution_count": 63,
   "metadata": {
    "collapsed": true
   },
   "outputs": [],
   "source": [
    "def relative(x, y):\n",
    "    return (y - x) / (100 - x)"
   ]
  },
  {
   "cell_type": "code",
   "execution_count": 111,
   "metadata": {
    "collapsed": true
   },
   "outputs": [],
   "source": [
    "def make_table(titles, lst, epochs, caption, param='val_acc', dec=2):\n",
    "    hline = \" \\\\\\\\\\\\hline\"\n",
    "    print(\"\\\\begin{table}\\n\\\\centering\\n\\\\begin{tabular}{|c|c|c|c|c|c|}\\\\hline\")\n",
    "    sepochs = \"\"\n",
    "    for x in epochs:\n",
    "        sepochs += \" & \" + str(x)\n",
    "    print(\"Номер эпохи\" + sepochs + hline + \"\\hline\")\n",
    "    \n",
    "    for i in range(len(titles) // 2):\n",
    "        s = titles[i * 2]\n",
    "        meth = lst[i * 2][param]\n",
    "        for x in epochs:\n",
    "            s += \" & \" + str(round(meth[x - 1], dec))\n",
    "        print(s + hline)\n",
    "        \n",
    "        s = titles[i * 2 + 1]\n",
    "        meth = lst[i * 2 + 1][param]\n",
    "        for x in epochs:\n",
    "            s += \" & \" + str(round(meth[x - 1], dec))\n",
    "        print(s + hline)\n",
    "        \n",
    "        s = \"Улучшение*\"\n",
    "        meth1 = lst[i * 2][param]\n",
    "        meth2 = lst[i * 2 + 1][param]\n",
    "        for x in epochs:\n",
    "            s += \" & \" + str(round(relative(meth1[x - 1], meth2[x - 1]), dec))\n",
    "        print(s + hline + \"\\hline\")\n",
    "    \n",
    "    print(\"\\\\end{tabular}\\n\\\\caption{\" + caption + \"}\\n\\\\end{table}\")"
   ]
  },
  {
   "cell_type": "code",
   "execution_count": 143,
   "metadata": {
    "collapsed": false
   },
   "outputs": [],
   "source": [
    "def map_(title, x, i, vmin=0, vmax=1):\n",
    "    plt.subplot(3, 2, i)\n",
    "    plt.pcolor(x.reshape((10, -1)), vmin=vmin, vmax=vmax)\n",
    "    plt.title(title)\n",
    "    plt.colorbar()"
   ]
  },
  {
   "cell_type": "code",
   "execution_count": 157,
   "metadata": {
    "collapsed": false
   },
   "outputs": [],
   "source": [
    "fig = plt.figure(figsize=(16, 12))\n",
    "fig.subplots_adjust(left=0.05, right=1, bottom=0.05, top=0.95)\n",
    "ind = np.arange(50)\n",
    "map_(\"SGD\", relative(sgd_new['val_acc'][ind], bn_sgd_new['val_acc'][ind]), 1)\n",
    "map_(\"Adam\", relative(adam_new['val_acc'][ind], bn_adam_new['val_acc'][ind]), 2)\n",
    "map_(\"SGDm\", relative(momentum_new['val_acc'][ind], bn_momentum_new['val_acc'][ind]), 3)\n",
    "map_(\"Adagrad\", relative(adagrad_new['val_acc'][ind], bn_adagrad_new['val_acc'][ind]), 4)\n",
    "map_(\"Adadelta\", relative(adadelta_new['val_acc'][ind], bn_adadelta_new['val_acc'][ind]), 5)\n",
    "map_(\"RMSprop\", relative(rmsprop_new['val_acc'][ind], bn_rmsprop_new['val_acc'][ind]), 6)\n",
    "plt.show()"
   ]
  },
  {
   "cell_type": "code",
   "execution_count": 112,
   "metadata": {
    "collapsed": false,
    "scrolled": false
   },
   "outputs": [
    {
     "name": "stdout",
     "output_type": "stream",
     "text": [
      "\\begin{table}\n",
      "\\centering\n",
      "\\begin{tabular}{|c|c|c|c|c|c|}\\hline\n",
      "Номер эпохи & 2 & 3 & 10 & 25 & 50 \\\\\\hline\\hline\n",
      "SGD & 10.64 & 10.64 & 19.65 & 47.38 & 90.55 \\\\\\hline\n",
      "BN SGD & 85.64 & 91.27 & 95.44 & 96.55 & 97.14 \\\\\\hline\n",
      "Улучшение* & 0.84 & 0.9 & 0.94 & 0.93 & 0.7 \\\\\\hline\\hline\n",
      "SGDm & 20.0 & 33.78 & 91.54 & 95.29 & 96.19 \\\\\\hline\n",
      "BN SGDm & 83.79 & 88.86 & 94.22 & 96.2 & 96.32 \\\\\\hline\n",
      "Улучшение* & 0.8 & 0.83 & 0.32 & 0.19 & 0.03 \\\\\\hline\\hline\n",
      "Adam & 68.01 & 81.55 & 91.83 & 95.02 & 95.86 \\\\\\hline\n",
      "BN Adam & 91.12 & 93.65 & 96.57 & 97.01 & 97.03 \\\\\\hline\n",
      "Улучшение* & 0.72 & 0.66 & 0.58 & 0.4 & 0.28 \\\\\\hline\\hline\n",
      "Adagrad & 39.39 & 53.41 & 91.85 & 94.06 & 94.69 \\\\\\hline\n",
      "BN Adagrad & 90.72 & 92.73 & 95.48 & 96.26 & 96.63 \\\\\\hline\n",
      "Улучшение* & 0.85 & 0.84 & 0.45 & 0.37 & 0.37 \\\\\\hline\\hline\n",
      "Adadelta & 41.63 & 61.98 & 93.58 & 95.83 & 96.16 \\\\\\hline\n",
      "BN Adadelta & 75.59 & 88.06 & 95.32 & 96.56 & 96.71 \\\\\\hline\n",
      "Улучшение* & 0.58 & 0.69 & 0.27 & 0.18 & 0.14 \\\\\\hline\\hline\n",
      "RMSprop & 48.66 & 65.59 & 92.09 & 95.36 & 95.85 \\\\\\hline\n",
      "BN RMSprop & 85.86 & 93.67 & 95.67 & 97.15 & 97.37 \\\\\\hline\n",
      "Улучшение* & 0.72 & 0.82 & 0.45 & 0.39 & 0.37 \\\\\\hline\\hline\n",
      "\\end{tabular}\n",
      "\\caption{Качество на MNIST + DEEP MLP, лучшие рейты}\n",
      "\\end{table}\n"
     ]
    }
   ],
   "source": [
    "make_table([\"SGD\", \"BN SGD\", \"SGDm\", \"BN SGDm\", \"Adam\", \"BN Adam\", \"Adagrad\", \"BN Adagrad\", \"Adadelta\", \"BN Adadelta\", \n",
    "           \"RMSprop\", \"BN RMSprop\"], \n",
    "           [sgd_new, bn_sgd_new, momentum_new, bn_momentum_new, adam_new, bn_adam_new, adagrad_new, bn_adagrad_new, \n",
    "            adadelta_new, bn_adadelta_new, rmsprop_new, bn_rmsprop_new], \n",
    "           [2, 3, 10, 25, 50], \"Качество на MNIST + DEEP MLP, лучшие рейты\")"
   ]
  },
  {
   "cell_type": "code",
   "execution_count": 66,
   "metadata": {
    "collapsed": false
   },
   "outputs": [],
   "source": [
    "# plt.figure(figsize=(10, 8))\n",
    "# ind = np.array([1, 2, 9, 25, 50]) - 1\n",
    "# plt.plot(ind, relative(sgd3['val_acc'][ind], bn_sgd4['val_acc'][ind]), 'k')\n",
    "# plt.plot(ind, relative(adam2['val_acc'][ind], bn_adam2['val_acc'][ind]), 'r')\n",
    "# plt.plot(ind, relative(momentum3['val_acc'][ind], bn_momentum3['val_acc'][ind]), 'y')\n",
    "# plt.plot(ind, relative(adagrad2['val_acc'][ind], bn_adagrad3['val_acc'][ind]), 'g')\n",
    "# plt.plot(ind, relative(adadelta3['val_acc'][ind], bn_adadelta3['val_acc'][ind]), 'c')\n",
    "# plt.plot(ind, relative(rmsprop1['val_acc'][ind], bn_rmsprop2['val_acc'][ind]), 'b')\n",
    "# plt.xlim(xmax=49)\n",
    "# plt.show()\n"
   ]
  },
  {
   "cell_type": "code",
   "execution_count": 65,
   "metadata": {
    "collapsed": false
   },
   "outputs": [],
   "source": [
    "# plt.figure(figsize=(10, 8))\n",
    "# ind = np.array([1, 2, 9, 25, 50]) - 1\n",
    "# plt.plot(ind, relative(sgd3['val_acc'][ind], bn_sgd4['val_acc'][ind]), 'k')\n",
    "# plt.plot(ind, relative(adam2['val_acc'][ind], bn_adam2['val_acc'][ind]), 'r')\n",
    "# plt.plot(ind, relative(momentum3['val_acc'][ind], bn_momentum3['val_acc'][ind]), 'y')\n",
    "# plt.plot(ind, relative(adagrad2['val_acc'][ind], bn_adagrad3['val_acc'][ind]), 'g')\n",
    "# plt.plot(ind, relative(adadelta3['val_acc'][ind], bn_adadelta3['val_acc'][ind]), 'c')\n",
    "# plt.plot(ind, relative(rmsprop1['val_acc'][ind], bn_rmsprop2['val_acc'][ind]), 'b')\n",
    "# plt.xlim(xmax=49)\n"
   ]
  },
  {
   "cell_type": "code",
   "execution_count": null,
   "metadata": {
    "collapsed": true
   },
   "outputs": [],
   "source": []
  },
  {
   "cell_type": "code",
   "execution_count": 29,
   "metadata": {
    "collapsed": true
   },
   "outputs": [],
   "source": [
    "# import pickle\n",
    "# with open('rmsprop_many', 'rb') as f:\n",
    "#     rmsprop = pickle.load(f)\n",
    "# with open('momentum_many', 'rb') as f:\n",
    "#     momentum = pickle.load(f)\n",
    "# with open('adadelta_many', 'rb') as f:\n",
    "#     adadelta = pickle.load(f)\n",
    "    \n",
    "# with open('bn_rmsprop_many', 'rb') as f:\n",
    "#     bn_rmsprop = pickle.load(f)\n",
    "# with open('bn_momentum_many', 'rb') as f:\n",
    "#     bn_momentum = pickle.load(f)\n",
    "# with open('bn_adadelta_many', 'rb') as f:\n",
    "#     bn_adadelta = pickle.load(f)"
   ]
  },
  {
   "cell_type": "code",
   "execution_count": 31,
   "metadata": {
    "collapsed": true
   },
   "outputs": [],
   "source": [
    "# rmsprop_new = rmsprop[9]\n",
    "# bn_rmsprop_new = bn_rmsprop[3]\n",
    "\n",
    "# adadelta_new = adadelta[14]\n",
    "# bn_adadelta_new = bn_adadelta[13]\n",
    "\n",
    "# momentum_new = momentum[11]\n",
    "# bn_momentum_new = bn_momentum[14]"
   ]
  },
  {
   "cell_type": "markdown",
   "metadata": {
    "collapsed": true
   },
   "source": [
    "sgd2, bn_sgd4(3)\n",
    "adam2, bn_adam4(2)\n",
    "momentum2, bn_momentum2(3)\n",
    "adagrad2, bn_adagrad3\n",
    "adadelta3(2), bn_adadelta3(2)\n",
    "rmsprop1, bn_rmsprop2(1)"
   ]
  },
  {
   "cell_type": "code",
   "execution_count": 156,
   "metadata": {
    "collapsed": false
   },
   "outputs": [],
   "source": [
    "sgd_new, bn_sgd_new = sgd2, bn_sgd4\n",
    "adam_new, bn_adam_new = adam2, bn_adam4\n",
    "momentum_new, bn_momentum_new = momentum2, bn_momentum3\n",
    "adagrad_new, bn_adagrad_new = adagrad2, bn_adagrad3\n",
    "adadelta_new, bn_adadelta_new = adadelta3, bn_adadelta3\n",
    "rmsprop_new, bn_rmsprop_new = rmsprop1, bn_rmsprop2"
   ]
  },
  {
   "cell_type": "code",
   "execution_count": 155,
   "metadata": {
    "collapsed": false
   },
   "outputs": [],
   "source": [
    "plt.plot(adam3['val_acc'], 'b')\n",
    "plt.plot(bn_adam4['val_acc'], 'r')\n",
    "plt.show()"
   ]
  },
  {
   "cell_type": "code",
   "execution_count": null,
   "metadata": {
    "collapsed": true
   },
   "outputs": [],
   "source": []
  }
 ],
 "metadata": {
  "kernelspec": {
   "display_name": "Python 2",
   "language": "python",
   "name": "python2"
  },
  "language_info": {
   "codemirror_mode": {
    "name": "ipython",
    "version": 2
   },
   "file_extension": ".py",
   "mimetype": "text/x-python",
   "name": "python",
   "nbconvert_exporter": "python",
   "pygments_lexer": "ipython2",
   "version": "2.7.6"
  }
 },
 "nbformat": 4,
 "nbformat_minor": 0
}

{
 "cells": [
  {
   "cell_type": "markdown",
   "metadata": {},
   "source": [
    "#### SGD: alpha = 0.1; 0.5;\n",
    "#### BN SGD: alpha = 1.0; 2.0; 5.0\n",
    "#### Adam: alpha = 0.001\n",
    "#### BN Adam: alpha = 0.01\n",
    "#### momentum: alpha = 0.1; 0.05; 0.01\n",
    "#### BN momentum: alpha = 0.5; 1.0; 0.1"
   ]
  },
  {
   "cell_type": "code",
   "execution_count": 1,
   "metadata": {
    "collapsed": false
   },
   "outputs": [],
   "source": [
    "import numpy as np\n",
    "import matplotlib.pyplot as plt\n",
    "import lasagne\n",
    "import imp\n",
    "import shallow_mnist\n",
    "from shallow_mnist import *"
   ]
  },
  {
   "cell_type": "code",
   "execution_count": 68,
   "metadata": {
    "collapsed": true
   },
   "outputs": [],
   "source": [
    "def plot2_train_val(title, l1, l2, xlabel='epochs', ylabel='accuracy', add=''):\n",
    "    plt.plot(l1['train_acc'], 'b--')\n",
    "    plt.plot(l1['val_acc'], 'b')\n",
    "    plt.plot(l2['train_acc'], 'r--')\n",
    "    plt.plot(l2['val_acc'], 'r')\n",
    "    plt.xlabel(xlabel)\n",
    "    plt.ylabel(ylabel)\n",
    "    plt.title(title + add)\n",
    "    plt.legend([title + ' train', title + ' validation', 'BN ' + title + ' train', \n",
    "                'BN ' + title + ' validation'], loc=0, fontsize=12)\n",
    "    plt.xlim([0, len(l1['train_acc']) - 1])\n",
    "    plt.ylim(ymax=101)\n",
    "    plt.show()"
   ]
  },
  {
   "cell_type": "code",
   "execution_count": 88,
   "metadata": {
    "collapsed": false
   },
   "outputs": [
    {
     "name": "stdout",
     "output_type": "stream",
     "text": [
      "CPU times: user 20min 42s, sys: 18min 36s, total: 39min 18s\n",
      "Wall time: 10min 2s\n"
     ]
    }
   ],
   "source": [
    "%%time\n",
    "many_sgd = []\n",
    "for alpha in [0.01, 0.05, 0.1, 0.5, 1.0, 2.0, 5.0]:\n",
    "    temp = run_method(lasagne.updates.sgd, num_epochs=50, alpha=alpha)\n",
    "    many_sgd.append(temp)"
   ]
  },
  {
   "cell_type": "code",
   "execution_count": 89,
   "metadata": {
    "collapsed": false
   },
   "outputs": [
    {
     "name": "stdout",
     "output_type": "stream",
     "text": [
      "CPU times: user 39min 30s, sys: 59min 36s, total: 1h 39min 6s\n",
      "Wall time: 25min 10s\n"
     ]
    }
   ],
   "source": [
    "%%time\n",
    "many_bn_sgd = []\n",
    "for alpha in [0.01, 0.05, 0.1, 0.5, 1.0, 2.0, 5.0]:\n",
    "    temp = run_method(lasagne.updates.sgd, num_epochs=50, alpha=alpha, BN=True)\n",
    "    many_bn_sgd.append(temp)"
   ]
  },
  {
   "cell_type": "code",
   "execution_count": 94,
   "metadata": {
    "collapsed": false
   },
   "outputs": [],
   "source": [
    "import pickle\n",
    "with open(\"alpha_for_sgd\", \"wb\") as file1:\n",
    "    pickle.dump(many_sgd, file1)\n",
    "    pickle.dump(many_bn_sgd, file1)"
   ]
  },
  {
   "cell_type": "code",
   "execution_count": 50,
   "metadata": {
    "collapsed": false
   },
   "outputs": [
    {
     "name": "stdout",
     "output_type": "stream",
     "text": [
      "CPU times: user 30min 24s, sys: 24min 51s, total: 55min 16s\n",
      "Wall time: 7min 10s\n"
     ]
    }
   ],
   "source": [
    "%%time\n",
    "many_adam = []\n",
    "for alpha in [1e-4, 5e-4, 1e-3, 5e-3, 1e-2, 5e-2]:\n",
    "    temp = run_method(lasagne.updates.adam, num_epochs=50, alpha=alpha)\n",
    "    many_adam.append(temp)"
   ]
  },
  {
   "cell_type": "code",
   "execution_count": 41,
   "metadata": {
    "collapsed": false
   },
   "outputs": [
    {
     "name": "stdout",
     "output_type": "stream",
     "text": [
      "CPU times: user 33min 10s, sys: 43min 33s, total: 1h 16min 43s\n",
      "Wall time: 9min 52s\n"
     ]
    }
   ],
   "source": [
    "%%time\n",
    "many_bn_adam = []\n",
    "for alpha in [1e-3, 5e-3, 1e-2, 5e-2, 1e-2]:\n",
    "    temp = run_method(lasagne.updates.adam, num_epochs=50, alpha=alpha, BN=True)\n",
    "    many_bn_adam.append(temp)"
   ]
  },
  {
   "cell_type": "code",
   "execution_count": 95,
   "metadata": {
    "collapsed": true
   },
   "outputs": [],
   "source": [
    "import pickle\n",
    "with open(\"alpha_for_adam\", \"wb\") as file1:\n",
    "    pickle.dump(many_adam, file1)\n",
    "    pickle.dump(many_bn_adam, file1)"
   ]
  },
  {
   "cell_type": "code",
   "execution_count": 91,
   "metadata": {
    "collapsed": false
   },
   "outputs": [
    {
     "name": "stdout",
     "output_type": "stream",
     "text": [
      "CPU times: user 23min 10s, sys: 25min 11s, total: 48min 21s\n",
      "Wall time: 12min 10s\n"
     ]
    }
   ],
   "source": [
    "%%time\n",
    "many_momentum = []\n",
    "for alpha in [0.01, 0.05, 0.1, 0.5, 1.0, 2.0, 5.0]:\n",
    "    temp = run_method(lasagne.updates.momentum, num_epochs=50, alpha=alpha)\n",
    "    many_momentum.append(temp)"
   ]
  },
  {
   "cell_type": "code",
   "execution_count": 92,
   "metadata": {
    "collapsed": false
   },
   "outputs": [
    {
     "name": "stdout",
     "output_type": "stream",
     "text": [
      "CPU times: user 40min 58s, sys: 1h 3min 52s, total: 1h 44min 51s\n",
      "Wall time: 26min 40s\n"
     ]
    }
   ],
   "source": [
    "%%time\n",
    "many_bn_momentum = []\n",
    "for alpha in [0.01, 0.05, 0.1, 0.5, 1.0, 2.0, 5.0]:\n",
    "    temp = run_method(lasagne.updates.momentum, num_epochs=50, alpha=alpha, BN=True)\n",
    "    many_bn_momentum.append(temp)"
   ]
  },
  {
   "cell_type": "code",
   "execution_count": 96,
   "metadata": {
    "collapsed": true
   },
   "outputs": [],
   "source": [
    "import pickle\n",
    "with open(\"alpha_for_momentum\", \"wb\") as file1:\n",
    "    pickle.dump(many_momentum, file1)\n",
    "    pickle.dump(many_bn_momentum, file1)"
   ]
  },
  {
   "cell_type": "markdown",
   "metadata": {},
   "source": [
    "### Выгрузка данных и графики"
   ]
  },
  {
   "cell_type": "code",
   "execution_count": 37,
   "metadata": {
    "collapsed": false
   },
   "outputs": [],
   "source": [
    "def plot1_through_alphas(lst, alphas, param='val_acc', begin=0):\n",
    "    for i in range(begin, len(alphas)):\n",
    "        plt.plot(lst[i][param])\n",
    "    plt.xlim([0, len(lst[0][param]) - 1])\n",
    "    plt.legend(alphas[begin:], loc=0, fontsize=10)\n",
    "    plt.show()"
   ]
  },
  {
   "cell_type": "markdown",
   "metadata": {},
   "source": [
    "### SGD plots"
   ]
  },
  {
   "cell_type": "code",
   "execution_count": 6,
   "metadata": {
    "collapsed": false
   },
   "outputs": [],
   "source": [
    "import pickle\n",
    "with open(\"alpha_for_sgd\", \"rb\") as file2:\n",
    "    many_sgd = pickle.load(file2)\n",
    "    many_bn_sgd = pickle.load(file2)"
   ]
  },
  {
   "cell_type": "code",
   "execution_count": 100,
   "metadata": {
    "collapsed": true
   },
   "outputs": [],
   "source": [
    "plot1_through_alphas(many_sgd, [0.01, 0.05, 0.1, 0.5, 1.0, 2.0, 5.0])"
   ]
  },
  {
   "cell_type": "code",
   "execution_count": 101,
   "metadata": {
    "collapsed": true
   },
   "outputs": [],
   "source": [
    "plot1_through_alphas(many_bn_sgd, [0.01, 0.05, 0.1, 0.5, 1.0, 2.0, 5.0])"
   ]
  },
  {
   "cell_type": "code",
   "execution_count": 102,
   "metadata": {
    "collapsed": true
   },
   "outputs": [],
   "source": [
    "plot2_train_val('SGD', many_sgd[2], many_bn_sgd[4], add=', $\\\\alpha_{0} = 0.1,\\ \\\\alpha_{BN} = 1.0$')"
   ]
  },
  {
   "cell_type": "code",
   "execution_count": 103,
   "metadata": {
    "collapsed": true
   },
   "outputs": [],
   "source": [
    "plot2_train_val('SGD', many_sgd[2], many_bn_sgd[2], add=', $\\\\alpha_{0} = 0.1,\\ \\\\alpha_{BN} = 0.1$')"
   ]
  },
  {
   "cell_type": "markdown",
   "metadata": {},
   "source": [
    "### Adam plots"
   ]
  },
  {
   "cell_type": "code",
   "execution_count": 25,
   "metadata": {
    "collapsed": true
   },
   "outputs": [],
   "source": [
    "import pickle\n",
    "with open(\"alpha_for_adam\", \"rb\") as file2:\n",
    "    many_adam = pickle.load(file2)\n",
    "    many_bn_adam = pickle.load(file2)"
   ]
  },
  {
   "cell_type": "code",
   "execution_count": 104,
   "metadata": {
    "collapsed": true
   },
   "outputs": [],
   "source": [
    "plot1_through_alphas(many_adam, [1e-4, 5e-4, 1e-3, 5e-3, 1e-2, 5e-2])"
   ]
  },
  {
   "cell_type": "code",
   "execution_count": 106,
   "metadata": {
    "collapsed": true
   },
   "outputs": [],
   "source": [
    "plot1_through_alphas(many_bn_adam, [1e-3, 5e-3, 1e-2, 5e-2, 1e-2])"
   ]
  },
  {
   "cell_type": "code",
   "execution_count": 82,
   "metadata": {
    "collapsed": false
   },
   "outputs": [],
   "source": [
    "plot2_train_val('Adam', many_adam[2], many_bn_adam[0], add=', $\\\\alpha_{0} = 10^{-3},\\ \\\\alpha_{BN} = 10^{-3}$')"
   ]
  },
  {
   "cell_type": "code",
   "execution_count": 83,
   "metadata": {
    "collapsed": true
   },
   "outputs": [],
   "source": [
    "plot2_train_val('Adam', many_adam[2], many_bn_adam[1], add=', $\\\\alpha_{0} = 10^{-3},\\ \\\\alpha_{BN} = 5\\cdot 10^{-3}$')"
   ]
  },
  {
   "cell_type": "code",
   "execution_count": 84,
   "metadata": {
    "collapsed": true
   },
   "outputs": [],
   "source": [
    "plot2_train_val('Adam', many_adam[2], many_bn_adam[2], add=', $\\\\alpha_{0} = 10^{-3},\\ \\\\alpha_{BN} = 10^{-2}$')"
   ]
  },
  {
   "cell_type": "markdown",
   "metadata": {},
   "source": [
    "### Momentum plots"
   ]
  },
  {
   "cell_type": "code",
   "execution_count": 108,
   "metadata": {
    "collapsed": true
   },
   "outputs": [],
   "source": [
    "import pickle\n",
    "with open(\"alpha_for_momentum\", \"rb\") as file2:\n",
    "    many_momentum = pickle.load(file2)\n",
    "    many_bn_momentum = pickle.load(file2)"
   ]
  },
  {
   "cell_type": "code",
   "execution_count": 111,
   "metadata": {
    "collapsed": true
   },
   "outputs": [],
   "source": [
    "plot1_through_alphas(many_momentum, [0.01, 0.05, 0.1, 0.5, 1.0, 2.0, 5.0])"
   ]
  },
  {
   "cell_type": "code",
   "execution_count": 112,
   "metadata": {
    "collapsed": true
   },
   "outputs": [],
   "source": [
    "plot1_through_alphas(many_bn_momentum, [0.01, 0.05, 0.1, 0.5, 1.0, 2.0, 5.0])"
   ]
  },
  {
   "cell_type": "code",
   "execution_count": 113,
   "metadata": {
    "collapsed": true
   },
   "outputs": [],
   "source": [
    "plot2_train_val('Momentum', many_momentum[2], many_bn_momentum[3], add=', $\\\\alpha_{0} = 0.1,\\ \\\\alpha_{BN} = 0.5$')"
   ]
  },
  {
   "cell_type": "code",
   "execution_count": 114,
   "metadata": {
    "collapsed": true
   },
   "outputs": [],
   "source": [
    "plot2_train_val('Momentum', many_momentum[2], many_bn_momentum[2], add=', $\\\\alpha_{0} = 0.1,\\ \\\\alpha_{BN} = 0.1$')"
   ]
  }
 ],
 "metadata": {
  "kernelspec": {
   "display_name": "Python 2",
   "language": "python",
   "name": "python2"
  },
  "language_info": {
   "codemirror_mode": {
    "name": "ipython",
    "version": 2
   },
   "file_extension": ".py",
   "mimetype": "text/x-python",
   "name": "python",
   "nbconvert_exporter": "python",
   "pygments_lexer": "ipython2",
   "version": "2.7.6"
  }
 },
 "nbformat": 4,
 "nbformat_minor": 0
}

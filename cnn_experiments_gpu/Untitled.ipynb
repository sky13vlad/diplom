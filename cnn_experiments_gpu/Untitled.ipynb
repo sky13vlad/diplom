{
 "cells": [
  {
   "cell_type": "code",
   "execution_count": 5,
   "metadata": {
    "collapsed": false
   },
   "outputs": [],
   "source": [
    "import numpy as np\n",
    "import sys\n",
    "# sys.path.append(\"/home/vlad/Documents\")\n",
    "# import MAIN_FILE\n",
    "import lasagne\n",
    "import theano\n",
    "import theano.tensor as T\n",
    "import pickle\n",
    "import matplotlib.pyplot as plt"
   ]
  },
  {
   "cell_type": "code",
   "execution_count": 18,
   "metadata": {
    "collapsed": true
   },
   "outputs": [],
   "source": [
    "with open('sgd_new', 'rb') as f:\n",
    "    sgd = pickle.load(f)\n",
    "    bn_sgd1 = pickle.load(f)\n",
    "    bn_sgd2 = pickle.load(f)"
   ]
  },
  {
   "cell_type": "code",
   "execution_count": 20,
   "metadata": {
    "collapsed": true
   },
   "outputs": [],
   "source": [
    "import pickle\n",
    "with open('adam_new', 'rb') as f:\n",
    "    adam1 = pickle.load(f)\n",
    "    bn_adam1 = pickle.load(f)\n",
    "    bn_adam2 = pickle.load(f)"
   ]
  },
  {
   "cell_type": "code",
   "execution_count": 23,
   "metadata": {
    "collapsed": true
   },
   "outputs": [],
   "source": [
    "import pickle\n",
    "with open('bnAdamEpsilon_new', 'rb') as f:\n",
    "    bn_adam_eps1 = pickle.load(f)\n",
    "    bn_adam_eps2 = pickle.load(f)"
   ]
  },
  {
   "cell_type": "code",
   "execution_count": 24,
   "metadata": {
    "collapsed": true
   },
   "outputs": [],
   "source": [
    "import pickle\n",
    "with open('momentum_new', 'rb') as f:\n",
    "    momentum1 = pickle.load(f)\n",
    "    momentum2 = pickle.load(f)\n",
    "    bn_momentum1 = pickle.load(f)\n",
    "    bn_momentum2 = pickle.load(f)"
   ]
  },
  {
   "cell_type": "code",
   "execution_count": 25,
   "metadata": {
    "collapsed": true
   },
   "outputs": [],
   "source": [
    "import pickle\n",
    "with open('adagrad_new', 'rb') as f:\n",
    "    adagrad1 = pickle.load(f)\n",
    "    adagrad2 = pickle.load(f)\n",
    "    bn_adagrad1 = pickle.load(f)\n",
    "    bn_adagrad2 = pickle.load(f)"
   ]
  },
  {
   "cell_type": "code",
   "execution_count": 26,
   "metadata": {
    "collapsed": true
   },
   "outputs": [],
   "source": [
    "import pickle\n",
    "with open('adadelta_new', 'rb') as f:\n",
    "    adadelta1 = pickle.load(f)\n",
    "    adadelta2 = pickle.load(f)\n",
    "    bn_adadelta1 = pickle.load(f)\n",
    "    bn_adadelta2 = pickle.load(f)"
   ]
  },
  {
   "cell_type": "code",
   "execution_count": 61,
   "metadata": {
    "collapsed": false
   },
   "outputs": [],
   "source": [
    "k = 50\n",
    "plt.plot(adadelta2['train_acc'][:k], 'b--')\n",
    "plt.plot(adadelta2['val_acc'][:k], 'b')\n",
    "plt.plot(bn_adadelta2['train_acc'][:k], 'r--')\n",
    "plt.plot(bn_adadelta2['val_acc'][:k], 'r')\n",
    "plt.xlim(xmax=k - 1)\n",
    "plt.ylim(ymax=101)\n",
    "plt.xlabel('epochs')\n",
    "plt.ylabel('accuracy')\n",
    "plt.title('CNN Adadelta')\n",
    "plt.legend(['Adadelta train, 5.0', 'Adadelta validation, 5.0', \n",
    "            'BN Adadelta train, 5.0', 'BN Adadelta validation, 5.0'], loc=0, fontsize=12)\n",
    "plt.show()"
   ]
  },
  {
   "cell_type": "code",
   "execution_count": 65,
   "metadata": {
    "collapsed": true
   },
   "outputs": [],
   "source": [
    "plt.plot(bn_adam2['train_acc'], 'b--')\n",
    "plt.plot(bn_adam2['val_acc'], 'b')\n",
    "plt.plot(bn_adam_eps2['train_acc'], 'r--')\n",
    "plt.plot(bn_adam_eps2['val_acc'], 'r')\n",
    "plt.xlim(xmax=49)\n",
    "plt.ylim(ymax=101)\n",
    "plt.xlabel('epochs')\n",
    "plt.ylabel('accuracy')\n",
    "plt.title('CNN BN Adam, different epsilon, alpha=5e-3')\n",
    "plt.legend(['BN Adam train, 1e-8', 'BN Adam validation, 1e-8', \n",
    "            'BN Adam train, 1e-4', 'BN Adam validation, 1e-4'], loc=0, fontsize=12)\n",
    "plt.show()"
   ]
  },
  {
   "cell_type": "code",
   "execution_count": null,
   "metadata": {
    "collapsed": true
   },
   "outputs": [],
   "source": []
  }
 ],
 "metadata": {
  "kernelspec": {
   "display_name": "Python 2",
   "language": "python",
   "name": "python2"
  },
  "language_info": {
   "codemirror_mode": {
    "name": "ipython",
    "version": 2
   },
   "file_extension": ".py",
   "mimetype": "text/x-python",
   "name": "python",
   "nbconvert_exporter": "python",
   "pygments_lexer": "ipython2",
   "version": "2.7.6"
  }
 },
 "nbformat": 4,
 "nbformat_minor": 0
}
